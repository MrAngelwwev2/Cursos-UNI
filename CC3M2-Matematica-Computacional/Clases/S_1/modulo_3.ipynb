{
  "nbformat": 4,
  "nbformat_minor": 0,
  "metadata": {
    "colab": {
      "name": "modulo_3.ipynb",
      "provenance": [],
      "collapsed_sections": [
        "PErRVR2zxJqT",
        "GSixgGCmxQMt",
        "wv3GnyTWxTWs"
      ],
      "toc_visible": true
    },
    "kernelspec": {
      "name": "python3",
      "display_name": "Python 3"
    }
  },
  "cells": [
    {
      "cell_type": "markdown",
      "metadata": {
        "id": "YeST-4XNrJl-"
      },
      "source": [
        "# Módulo 3:\n",
        "### Valores booleanos, ejecución condicional, bucles, listas y su procesamiento. "
      ]
    },
    {
      "cell_type": "markdown",
      "metadata": {
        "id": "wCDDHIQl0_0Y"
      },
      "source": [
        "En este módulo, aprenderás acerca de:\n",
        "\n",
        "- Valores booleanos.\n",
        "- Instrucciones if-elif-else.\n",
        "- Bucles while y for.\n",
        "- Control de flujo.\n",
        "- Operaciones lógicas y bit a bit.\n",
        "- Listas y arreglos."
      ]
    },
    {
      "cell_type": "markdown",
      "metadata": {
        "id": "DDvUkyPfxEq7"
      },
      "source": [
        "## 2.1 Valores booleanos"
      ]
    },
    {
      "cell_type": "code",
      "metadata": {
        "id": "xWHI5TiZfoWk",
        "colab": {
          "base_uri": "https://localhost:8080/"
        },
        "outputId": "8d6e0dc8-14cc-4619-c73f-2354bfcc6641"
      },
      "source": [
        "a = True\n",
        "b = False\n",
        "print(a,\"and\",b,\"\\t:\",a and b)\n",
        "print(a,\"or\",b,\"\\t:\",a or b)\n",
        "print(\"not\",a,\"\\t:\",not a)"
      ],
      "execution_count": null,
      "outputs": [
        {
          "output_type": "stream",
          "text": [
            "True and False \t: False\n",
            "True or False \t: True\n",
            "not True \t: False\n"
          ],
          "name": "stdout"
        }
      ]
    },
    {
      "cell_type": "markdown",
      "metadata": {
        "id": "PErRVR2zxJqT"
      },
      "source": [
        "## 2.2 Condicional"
      ]
    },
    {
      "cell_type": "markdown",
      "metadata": {
        "id": "eyt-ZmluiBqp"
      },
      "source": [
        "En Python la indentación es obligatoria y tiene significado de anidamiento"
      ]
    },
    {
      "cell_type": "code",
      "metadata": {
        "id": "Y9-Mymr_xHrU",
        "colab": {
          "base_uri": "https://localhost:8080/"
        },
        "outputId": "87ec7e46-f79b-4b00-a26e-a7187a8f83e1"
      },
      "source": [
        "a = 4\n",
        "b = 3\n",
        "if a < b: \n",
        "    print(a,\"es menor que\",b)\n",
        "elif a == b: # ¡'else if' es un error!  \n",
        "    print(a,\"es igual a\",b)\n",
        "else:\n",
        "    print(a,\"es mayor que\",b)"
      ],
      "execution_count": null,
      "outputs": [
        {
          "output_type": "stream",
          "text": [
            "4 es mayor que 3\n"
          ],
          "name": "stdout"
        }
      ]
    },
    {
      "cell_type": "markdown",
      "metadata": {
        "id": "GSixgGCmxQMt"
      },
      "source": [
        "## 2.3 Bucles"
      ]
    },
    {
      "cell_type": "markdown",
      "metadata": {
        "id": "-oP3G9GuiSPY"
      },
      "source": [
        "¡`range` es una clase!"
      ]
    },
    {
      "cell_type": "code",
      "metadata": {
        "id": "c0umSizciBOD",
        "colab": {
          "base_uri": "https://localhost:8080/"
        },
        "outputId": "6c59c2b2-06e1-4c52-d132-8c3d418e4732"
      },
      "source": [
        "obj = range(0,10,2)\n",
        "print(obj)\n",
        "print(\"type(obj):\",type(obj))"
      ],
      "execution_count": null,
      "outputs": [
        {
          "output_type": "stream",
          "text": [
            "range(0, 10, 2)\n",
            "type(obj): <class 'range'>\n"
          ],
          "name": "stdout"
        }
      ]
    },
    {
      "cell_type": "code",
      "metadata": {
        "id": "AopRT2ZCxITU",
        "colab": {
          "base_uri": "https://localhost:8080/"
        },
        "outputId": "e1b43817-a63e-4c2e-dee2-4dd8232882e8"
      },
      "source": [
        "import time\n",
        "for j in range(10): # range(10) = range(0,10,1)\n",
        "    time.sleep(1)\n",
        "    print(j,end=\"\\t\")"
      ],
      "execution_count": null,
      "outputs": [
        {
          "output_type": "stream",
          "text": [
            "0\t1\t2\t3\t4\t5\t6\t7\t8\t9\t"
          ],
          "name": "stdout"
        }
      ]
    },
    {
      "cell_type": "code",
      "metadata": {
        "id": "wsddCMSkYri4",
        "colab": {
          "base_uri": "https://localhost:8080/"
        },
        "outputId": "69de339d-a21d-4b79-dac2-c7c4a032b072"
      },
      "source": [
        "j = 0\n",
        "nota = 0\n",
        "promedio = 0\n",
        "while True:\n",
        "    nota = int(input(\"Ingrese la nota de estudiante \"+str(j+1)+\": \"))\n",
        "    if nota < 0: break\n",
        "    j += 1\n",
        "    promedio += nota # promedio = promedio + nota\n",
        "print(\"El promedio es\",round(promedio/j,2))"
      ],
      "execution_count": null,
      "outputs": [
        {
          "output_type": "stream",
          "text": [
            "Ingrese la nota de estudiante 1: 1\n",
            "Ingrese la nota de estudiante 2: 2\n",
            "Ingrese la nota de estudiante 3: -3\n",
            "El promedio es 1.5\n"
          ],
          "name": "stdout"
        }
      ]
    },
    {
      "cell_type": "markdown",
      "metadata": {
        "id": "fKtxKeKOJuCs"
      },
      "source": [
        "`continue`: Se comporta como si el programa hubiera llegado repentinamente al final del cuerpo; el siguiente turno se inicia y la expresión de condición se prueba de inmediato. Utilizar `continue` para omitir la iteración actual, y continuar con la siguiente iteración."
      ]
    },
    {
      "cell_type": "code",
      "metadata": {
        "id": "0P1vtb3QkNz6",
        "colab": {
          "base_uri": "https://localhost:8080/"
        },
        "outputId": "e34cd0d0-42af-4a09-b906-3ede231d4c46"
      },
      "source": [
        "for letra in 'Python':\n",
        "   if letra == 'h': \n",
        "       continue\n",
        "   print('Letra actual :', letra)"
      ],
      "execution_count": null,
      "outputs": [
        {
          "output_type": "stream",
          "text": [
            "Letra actual : P\n",
            "Letra actual : y\n",
            "Letra actual : t\n",
            "Letra actual : o\n",
            "Letra actual : n\n"
          ],
          "name": "stdout"
        }
      ]
    },
    {
      "cell_type": "code",
      "metadata": {
        "id": "vZkBhGxKmPdY",
        "colab": {
          "base_uri": "https://localhost:8080/"
        },
        "outputId": "37cc67d5-2543-47cc-a3f8-d7faa65be50f"
      },
      "source": [
        "var = 5\n",
        "while var > 0:              \n",
        "   var = var -1\n",
        "   if var == 3: continue\n",
        "   print('var :', var)\n",
        "print(\"Fin\")"
      ],
      "execution_count": null,
      "outputs": [
        {
          "output_type": "stream",
          "text": [
            "var : 4\n",
            "var : 2\n",
            "var : 1\n",
            "var : 0\n",
            "Fin\n"
          ],
          "name": "stdout"
        }
      ]
    },
    {
      "cell_type": "markdown",
      "metadata": {
        "id": "Tv-gFhkJm7zs"
      },
      "source": [
        "Los ciclos `while` y `for` también pueden tener una cláusula `else` en Python. La cláusula `else` se ejecuta después de que el ciclo finalice su ejecución siempre y cuando no haya terminado con `break`."
      ]
    },
    {
      "cell_type": "code",
      "metadata": {
        "id": "eiU2H5M7KWL4",
        "colab": {
          "base_uri": "https://localhost:8080/"
        },
        "outputId": "f986ad6e-aa4a-4c54-8e1d-07a90297ab50"
      },
      "source": [
        "i = 1\n",
        "while i < 5:\n",
        "    print (i)\n",
        "    i += 1\n",
        "else:\n",
        "    print(\"else:\", i)"
      ],
      "execution_count": null,
      "outputs": [
        {
          "output_type": "stream",
          "text": [
            "1\n",
            "2\n",
            "3\n",
            "4\n",
            "else: 5\n"
          ],
          "name": "stdout"
        }
      ]
    },
    {
      "cell_type": "code",
      "metadata": {
        "id": "6U1xF_NXKiu4",
        "colab": {
          "base_uri": "https://localhost:8080/"
        },
        "outputId": "13a317a4-ffe9-49d4-fa9f-c4edfc37af08"
      },
      "source": [
        "for i in range(5):\n",
        "    print(i)\n",
        "else:\n",
        "    print(\"else:\", i)"
      ],
      "execution_count": null,
      "outputs": [
        {
          "output_type": "stream",
          "text": [
            "0\n",
            "1\n",
            "2\n",
            "3\n",
            "4\n",
            "else: 4\n"
          ],
          "name": "stdout"
        }
      ]
    },
    {
      "cell_type": "code",
      "metadata": {
        "id": "CfKT_D3uLRWM",
        "colab": {
          "base_uri": "https://localhost:8080/"
        },
        "outputId": "761e6a73-aa19-4ef4-f5cb-ef1f0e6c4054"
      },
      "source": [
        "i = 111\n",
        "for i in range(2, 1): # range(2,1) = range(2,1,1)\n",
        "    print(i)\n",
        "else:\n",
        "    print(\"else:\", i) "
      ],
      "execution_count": null,
      "outputs": [
        {
          "output_type": "stream",
          "text": [
            "else: 111\n"
          ],
          "name": "stdout"
        }
      ]
    },
    {
      "cell_type": "markdown",
      "metadata": {
        "id": "wv3GnyTWxTWs"
      },
      "source": [
        "## 2.4 Listas"
      ]
    },
    {
      "cell_type": "markdown",
      "metadata": {
        "id": "r3UspgF5SNpj"
      },
      "source": [
        "La **lista** es un tipo de dato en Python que se utiliza para **almacenar múltiples objetos**. Es una **colección ordenada y mutable** de elementos separados por comas entre corchetes, por ejemplo:\n",
        "`mi_lista = [1, None, True, \"Soy una cadena\", 256, 0]`.\n",
        "\n",
        "Las listas se pueden **indexar** y **actualizar**.\n",
        "\n",
        "Las listas pueden estar **anidadas**, por ejemplo: \n",
        "`mi_lista = [1, 'a', [\"lista\", 64, [0, 1], False]]`.\n",
        "\n",
        "Las listas pueden ser **iteradas** mediante el uso del bucle `for`, por ejemplo:"
      ]
    },
    {
      "cell_type": "code",
      "metadata": {
        "id": "pqjzZbSnnZqk",
        "colab": {
          "base_uri": "https://localhost:8080/"
        },
        "outputId": "ed77d9dd-3874-4451-9dbd-870cfb053689"
      },
      "source": [
        "mi_lista = [\"blanco\", \"púrpura\", \"azul\", \"amarillo\", \"verde\"]\n",
        "\n",
        "for color in mi_lista :\n",
        "    print(color) "
      ],
      "execution_count": null,
      "outputs": [
        {
          "output_type": "stream",
          "text": [
            "blanco\n",
            "púrpura\n",
            "azul\n",
            "amarillo\n",
            "verde\n"
          ],
          "name": "stdout"
        }
      ]
    },
    {
      "cell_type": "code",
      "metadata": {
        "id": "9kf7ezqjYb4z",
        "colab": {
          "base_uri": "https://localhost:8080/"
        },
        "outputId": "3ab009b4-fe46-40c1-9036-5534a2199900"
      },
      "source": [
        "# Copiando toda la lista\n",
        "lista1 = [1]\n",
        "print('id(lista1):',id(lista1))\n",
        "lista2 = lista1[:]\n",
        "print(lista2)\n",
        "print('id(lista2):',id(lista2))\n",
        "## lista1 y lista2 tienen los mismos elementos, el mismo nombre, pero SON OBJETOS DIFERENTES."
      ],
      "execution_count": null,
      "outputs": [
        {
          "output_type": "stream",
          "text": [
            "id(lista1): 140267563914184\n",
            "[1]\n",
            "id(lista2): 140267564374792\n"
          ],
          "name": "stdout"
        }
      ]
    },
    {
      "cell_type": "code",
      "metadata": {
        "id": "xdeuNqF58ZkQ",
        "colab": {
          "base_uri": "https://localhost:8080/"
        },
        "outputId": "56103808-61d8-4146-d965-43eac7bf032e"
      },
      "source": [
        "lista = []\n",
        "print(\"type(lista):\",type(lista))\n",
        "print('lista:',lista)\n",
        "lista = list(range(0,3))\n",
        "print('lista:',lista)"
      ],
      "execution_count": null,
      "outputs": [
        {
          "output_type": "stream",
          "text": [
            "type(lista): <class 'list'>\n",
            "lista: []\n",
            "lista: [0, 1, 2]\n"
          ],
          "name": "stdout"
        }
      ]
    },
    {
      "cell_type": "code",
      "metadata": {
        "id": "YB95qNqA9DCd",
        "colab": {
          "base_uri": "https://localhost:8080/"
        },
        "outputId": "4e452aea-7cb3-4771-80c8-37919c970111"
      },
      "source": [
        "# accedediento a los elementos de una lista\n",
        "\n",
        "lista = [16,18,'no rindió',19]\n",
        "print(\"lista:\",lista)\n",
        "print(\"lista[2]:\",lista[2])\n",
        "print(\"lista[0]:\",lista[0])\n",
        "print(\"lista[-1]:\",lista[-1])\n",
        "print(\"len(lista):\",len(lista),'\\n')\n",
        "\n",
        "lista[1] += 2; print(\"sentencia lista[1] += 2 ejecutada...\")\n",
        "print(\"lista:\",lista,'\\n')\n",
        "\n",
        "print(\"lista[0:2]:\",lista[0:2])\n",
        "if (20 in lista):\n",
        "    print('Nota 20 está en la lista.')\n",
        "if (15 not in lista): \n",
        "    print('Nota 15 no está en la lista.')"
      ],
      "execution_count": null,
      "outputs": [
        {
          "output_type": "stream",
          "text": [
            "lista: [16, 18, 'no rindió', 19]\n",
            "lista[2]: no rindió\n",
            "lista[0]: 16\n",
            "lista[-1]: 19\n",
            "len(lista): 4 \n",
            "\n",
            "sentencia lista[1] += 2 ejecutada...\n",
            "lista: [16, 20, 'no rindió', 19] \n",
            "\n",
            "lista[0:2]: [16, 20]\n",
            "Nota 20 está en la lista.\n",
            "Nota 15 no está en la lista.\n"
          ],
          "name": "stdout"
        }
      ]
    },
    {
      "cell_type": "markdown",
      "metadata": {
        "id": "_VdjUmwLo2rb"
      },
      "source": [
        "Una misma lista con dos identificadores distintos."
      ]
    },
    {
      "cell_type": "code",
      "metadata": {
        "id": "LrYcXaU8LVla",
        "colab": {
          "base_uri": "https://localhost:8080/"
        },
        "outputId": "73980e68-727e-427b-eef3-4dbedcc42628"
      },
      "source": [
        "lista1 = [1,2]\n",
        "lista2 = lista1\n",
        "print('id(lista1):',id(lista1))\n",
        "print('id(lista2):',id(lista2))\n",
        "del lista2[:]\n",
        "print(lista1)\n",
        "print(lista2)"
      ],
      "execution_count": null,
      "outputs": [
        {
          "output_type": "stream",
          "text": [
            "id(lista1): 140316849522240\n",
            "id(lista2): 140316849522240\n",
            "[]\n",
            "[]\n"
          ],
          "name": "stdout"
        }
      ]
    },
    {
      "cell_type": "markdown",
      "metadata": {
        "id": "ghwxK7nGRLkY"
      },
      "source": [
        "**Funciones vs. métodos**\n",
        "\n",
        "Un método es un tipo específico de función: se comporta como una función y se parece a una función, pero difiere en la forma en que actúa y en su estilo de invocación.\n",
        "\n",
        "Una **función** no pertenece a ningún dato: obtiene datos, puede crear nuevos datos y (generalmente) produce un resultado.\n",
        "\n",
        "Un **método** hace todas estas cosas, pero también puede cambiar el estado de una entidad seleccionada. Un método es propiedad de los datos para los que trabaja, mientras que una función es propiedad de todo el código."
      ]
    },
    {
      "cell_type": "markdown",
      "metadata": {
        "id": "2e6efK3DqDCZ"
      },
      "source": [
        "**Métodos de la clase** `list`"
      ]
    },
    {
      "cell_type": "code",
      "metadata": {
        "id": "ZiXb-ReIxSvr",
        "colab": {
          "base_uri": "https://localhost:8080/"
        },
        "outputId": "92bd5c25-ee66-4770-dfec-4340f19f0a57"
      },
      "source": [
        "lista = [20,18,'no rindió',19]\n",
        "print(\"lista:\",lista,'\\n')\n",
        "\n",
        "lista.append(17); print(\"sentencia lista.append(17) ejecutada...\") \n",
        "print(\"lista:\",lista,'\\n')\n",
        "\n",
        "lista.insert(1,16); print(\"sentencia lista.insert(1,16) ejecutada...\")\n",
        "print(\"lista:\",lista,'\\n')\n",
        "\n",
        "lista.remove('no rindió'); print(\"sentencia lista.remove('no rindió') ejecutada...\")\n",
        "#del(lista[3]); print(\"sentencia del(lista[3]) ejecutada...\")\n",
        "print(\"lista:\",lista,'\\n')\n",
        "\n",
        "lista.reverse(); print(\"sentencia lista.reverse() jecutada...\")\n",
        "print(\"lista:\",lista,'\\n')\n",
        "\n",
        "lista.sort(); print(\"sentencia lista.sort ejecutada...\")\n",
        "print(\"lista:\",lista,'\\n')\n",
        "\n",
        "lista.sort(reverse=True); print(\"sentencia lista.sort(reverse=True) ejecutada...\")\n",
        "print(\"lista:\",lista,'\\n')"
      ],
      "execution_count": null,
      "outputs": [
        {
          "output_type": "stream",
          "text": [
            "lista: [20, 18, 'no rindió', 19] \n",
            "\n",
            "sentencia lista.append(17) ejecutada...\n",
            "lista: [20, 18, 'no rindió', 19, 17] \n",
            "\n",
            "sentencia lista.insert(1,16) ejecutada...\n",
            "lista: [20, 16, 18, 'no rindió', 19, 17] \n",
            "\n",
            "sentencia lista.remove('no rindió') ejecutada...\n",
            "lista: [20, 16, 18, 19, 17] \n",
            "\n",
            "sentencia lista.reverse() jecutada...\n",
            "lista: [17, 19, 18, 16, 20] \n",
            "\n",
            "sentencia lista.sort ejecutada...\n",
            "lista: [16, 17, 18, 19, 20] \n",
            "\n",
            "sentencia lista.sort(reverse=True) ejecutada...\n",
            "lista: [20, 19, 18, 17, 16] \n",
            "\n"
          ],
          "name": "stdout"
        }
      ]
    },
    {
      "cell_type": "markdown",
      "metadata": {
        "id": "kmSU9ezDaaa7"
      },
      "source": [
        "Si tienes una lista `l1`, la siguiente asignación: `l2 = l1` no hace una copia de la lista `l1`, sino hace que las variables `l1` y `l2` apunten a la misma lista en la memoria.\n",
        "\n",
        "Si deseas copiar una lista o parte de la lista, puedes hacerlo haciendo uso de **rodajas (slicing)**.\n",
        "\n",
        "Puedes eliminar rodajas utilizando la instrucción `del`:"
      ]
    },
    {
      "cell_type": "code",
      "metadata": {
        "id": "LSlBhClrcCIO",
        "colab": {
          "base_uri": "https://localhost:8080/"
        },
        "outputId": "c4ddcf1d-3e9d-4a8c-cd88-7c0800b68659"
      },
      "source": [
        "mi_lista = [1, 2, 3, 4, 5]\n",
        "del mi_lista [0:2]\n",
        "print(mi_lista) # salida: [3, 4, 5]\n",
        "\n",
        "del mi_lista[:]\n",
        "print(mi_lista) # elimina el contenido de la lista, genera: []"
      ],
      "execution_count": null,
      "outputs": [
        {
          "output_type": "stream",
          "text": [
            "[3, 4, 5]\n",
            "[]\n"
          ],
          "name": "stdout"
        }
      ]
    },
    {
      "cell_type": "markdown",
      "metadata": {
        "id": "Wtwj6d2EgcoE"
      },
      "source": [
        "Una **comprensión de lista** es en realidad una **lista**, pero se creó sobre la marcha durante la ejecución del programa, y no se describe de forma estática."
      ]
    },
    {
      "cell_type": "code",
      "metadata": {
        "id": "QuVr0zhde0WN",
        "colab": {
          "base_uri": "https://localhost:8080/"
        },
        "outputId": "3857cac5-744e-4697-e357-43248b504c8e"
      },
      "source": [
        "cuadrados = [x ** 2 for x in range(10)]\n",
        "print(\"cuadrados:\",cuadrados)\n",
        "\n",
        "dos = [2 ** i for i in range(8)]\n",
        "print('dos:',dos)\n",
        "\n",
        "probabilidades = [x for x in cuadrados if x % 2 != 0] \n",
        "print('probabilidades:',probabilidades)"
      ],
      "execution_count": null,
      "outputs": [
        {
          "output_type": "stream",
          "text": [
            "cuadrados: [0, 1, 4, 9, 16, 25, 36, 49, 64, 81]\n",
            "dos: [1, 2, 4, 8, 16, 32, 64, 128]\n",
            "probabilidades: [1, 9, 25, 49, 81]\n"
          ],
          "name": "stdout"
        }
      ]
    },
    {
      "cell_type": "code",
      "metadata": {
        "id": "kfX6GHwjhT6s",
        "colab": {
          "base_uri": "https://localhost:8080/"
        },
        "outputId": "6c26bb0d-fc57-47b7-f319-72ac9c404308"
      },
      "source": [
        "habitaciones = [[[False for r in range(1)] for f in range(2)] for t in range(3)]\n",
        "print(habitaciones) "
      ],
      "execution_count": null,
      "outputs": [
        {
          "output_type": "stream",
          "text": [
            "[[[False], [False]], [[False], [False]], [[False], [False]]]\n"
          ],
          "name": "stdout"
        }
      ]
    },
    {
      "cell_type": "markdown",
      "metadata": {
        "id": "apYw1OQviTJN"
      },
      "source": [
        "La **comprensión de listas** permite crear nuevas listas a partir de las existentes de una manera concisa y elegante. La sintaxis de una lista de comprensión es la siguiente:\n",
        "\n",
        "`[expresión for elemento in lista if condicional]`\n",
        "\n",
        "El cual es un equivalente del siguiente código:\n",
        "\n",
        "`for elemento in lista:\n",
        "    if condicional:\n",
        "        expresión`"
      ]
    },
    {
      "cell_type": "code",
      "metadata": {
        "id": "SSzHdhXJjBed",
        "colab": {
          "base_uri": "https://localhost:8080/"
        },
        "outputId": "38e29c6b-f2bd-4967-fa0a-937038a7612f"
      },
      "source": [
        "cubos = [num ** 3 for num in range (5)]\n",
        "print(cubos)"
      ],
      "execution_count": null,
      "outputs": [
        {
          "output_type": "stream",
          "text": [
            "[0, 1, 8, 27, 64]\n"
          ],
          "name": "stdout"
        }
      ]
    },
    {
      "cell_type": "markdown",
      "metadata": {
        "id": "hCEC3uCUjLVy"
      },
      "source": [
        "Puedes usar listas anidadas en Python para crear matrices (es decir, listas bidimensionales). Por ejemplo:"
      ]
    },
    {
      "cell_type": "code",
      "metadata": {
        "id": "knOZh6WhjNLh",
        "colab": {
          "base_uri": "https://localhost:8080/"
        },
        "outputId": "b2601335-4abc-4cf7-8c58-1d552d8e1392"
      },
      "source": [
        "# Una tabla de cuatro columnas y cuatro filas: un arreglo bidimensional (4x4)\n",
        "\n",
        "tabla = [[\":(\", \":)\", \":(\", \":)\"],\n",
        "         [\":)\", \":(\", \":)\", \":)\"],\n",
        "         [\":(\", \":)\", \":)\", \":(\"],\n",
        "         [\":)\", \":)\", \":)\", \":(\"]]\n",
        "\n",
        "print(tabla)\n",
        "print(tabla[0][0]) # salida: ':('\n",
        "print(tabla[0][3]) # salida: ':)'"
      ],
      "execution_count": null,
      "outputs": [
        {
          "output_type": "stream",
          "text": [
            "[[':(', ':)', ':(', ':)'], [':)', ':(', ':)', ':)'], [':(', ':)', ':)', ':('], [':)', ':)', ':)', ':(']]\n",
            ":(\n",
            ":)\n"
          ],
          "name": "stdout"
        }
      ]
    },
    {
      "cell_type": "code",
      "metadata": {
        "id": "E3biNouJrph_",
        "colab": {
          "base_uri": "https://localhost:8080/"
        },
        "outputId": "18a0212c-1b9d-461f-bb68-30b4669001fd"
      },
      "source": [
        "numeros = [1,2,3,4]\n",
        "lista = [numeros for i in range(2)]\n",
        "print(lista)\n",
        "print(lista[1][2])"
      ],
      "execution_count": null,
      "outputs": [
        {
          "output_type": "stream",
          "text": [
            "[[1, 2, 3, 4], [1, 2, 3, 4]]\n",
            "3\n"
          ],
          "name": "stdout"
        }
      ]
    }
  ]
}