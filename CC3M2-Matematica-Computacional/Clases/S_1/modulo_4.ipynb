{
  "nbformat": 4,
  "nbformat_minor": 0,
  "metadata": {
    "colab": {
      "name": "modulo_4.ipynb",
      "provenance": [],
      "collapsed_sections": [
        "-3LomXbnvuo9",
        "rdr49I7ukCd8"
      ],
      "toc_visible": true
    },
    "kernelspec": {
      "name": "python3",
      "display_name": "Python 3"
    }
  },
  "cells": [
    {
      "cell_type": "markdown",
      "metadata": {
        "id": "JTLZJXfir_VW"
      },
      "source": [
        "# Módulo 4:\n",
        "### Funciones, tuplas, diccionarios y procesamiento de datos."
      ]
    },
    {
      "cell_type": "markdown",
      "metadata": {
        "id": "wCDDHIQl0_0Y"
      },
      "source": [
        "En este módulo, aprenderás acerca de:\n",
        "\n",
        "- Cómo definir y utilizar funciones.\n",
        "- Cómo pasar argumentos y las distintas formas de hacerlo.\n",
        "- El alcance de los nombres.\n",
        "- Tuplas y diccionarios.\n",
        "- Procesamiento de datos."
      ]
    },
    {
      "cell_type": "markdown",
      "metadata": {
        "id": "-3LomXbnvuo9"
      },
      "source": [
        "## 3.1 Funciones"
      ]
    },
    {
      "cell_type": "markdown",
      "metadata": {
        "id": "3zWIWkNI1Hvb"
      },
      "source": [
        "### 3.1.1 Introducción"
      ]
    },
    {
      "cell_type": "markdown",
      "metadata": {
        "id": "kur3OK1Cx_PK"
      },
      "source": [
        "Muy a menudo ocurre que un cierto fragmento de código **se repite muchas veces en un programa**. Algunos dicen que una función bien escrita debe ser comprensible con tan solo una mirada. Un buen desarrollador divide el código (o mejor dicho: el problema) en piezas aisladas, y codifica cada una de ellas en la forma de una función.\n",
        "\n",
        "En general, las funciones provienen de los siguientes lugares:\n",
        "\n",
        "- De Python mismo: varias funciones (como `print()`) son una parte integral de Python, y siempre están disponibles sin algún esfuerzo adicional del programador; se les llama a estas funciones **funciones integradas**. Puedes ver una lista completa de las funciones integradas de Python en la siguiente liga: https://docs.python.org/3/library/functions.html.\n",
        "- De los **módulos preinstalados** de Python: muchas de las funciones, las cuales comúnmente son menos utilizadas que las integradas, están disponibles en módulos instalados juntamente con Python; para poder utilizar estas funciones el programador debe realizar algunos pasos adicionales (se hablará acerca de ellas en la Unidad de aprendizaje 2.)\n",
        "- **Directamente del código**: tú puedes escribir tus propias funciones, colocarlas dentro del código, y usarlas libremente. Son llamadas de **funciones definidas por el usuario** y son escritas por los programadores para los programadores.\n",
        "- Las funciones `lambda` (aprenderás acerca de ellas en la Unidad de aprendizaje 3.)\n",
        "- Existe una posibilidad más, pero se relaciona con clases, se omitirá por ahora.\n",
        "\n",
        "Así es como se ve la definición más simple de una función:"
      ]
    },
    {
      "cell_type": "code",
      "metadata": {
        "id": "IGC-dKuR7sU_"
      },
      "source": [
        "def nombre_funcion():\n",
        "    cuerpo_funcion"
      ],
      "execution_count": null,
      "outputs": []
    },
    {
      "cell_type": "markdown",
      "metadata": {
        "id": "XgIDIIPj7vMH"
      },
      "source": [
        "- Siempre comienza con la palabra reservada `def` (que significa definir)\n",
        "- Después de `def` va el **nombre de la función** (las reglas para darle nombre a las funciones son las mismas que para las variables).\n",
        "- Después del nombre de la función, hay un espacio para un par de paréntesis (ahora no contienen algo, pero eso cambiará pronto).\n",
        "- La línea debe de terminar con dos puntos.\n",
        "- La línea inmediatamente después de def marca el comienzo del cuerpo de la función, donde varias o (al menos una) instrucción anidada será ejecutada cada vez que la función sea invocada. \n",
        "\n",
        "Nota: \n",
        "- **la función termina donde el anidamiento termina**, se debe ser cauteloso.\n",
        "- No se debe invocar una función antes de que se haya definido."
      ]
    },
    {
      "cell_type": "code",
      "metadata": {
        "id": "UpUOiUh2xM2T",
        "colab": {
          "base_uri": "https://localhost:8080/",
          "height": 119
        },
        "outputId": "b013e0d7-b804-4311-b052-c6f4e134f7e5"
      },
      "source": [
        "def msj(): print('uno'); print('dos\\n')\n",
        "msj()\n",
        "msj()"
      ],
      "execution_count": null,
      "outputs": [
        {
          "output_type": "stream",
          "text": [
            "uno\n",
            "dos\n",
            "\n",
            "uno\n",
            "dos\n",
            "\n"
          ],
          "name": "stdout"
        }
      ]
    },
    {
      "cell_type": "code",
      "metadata": {
        "id": "mWJK1mwIfe6R",
        "colab": {
          "base_uri": "https://localhost:8080/",
          "height": 153
        },
        "outputId": "2c6ae779-14a9-4ff4-919a-aee6eed06e17"
      },
      "source": [
        "def msj(): \n",
        "    print('uno'); print('dos')\n",
        "    print('tres\\n')\n",
        "msj()\n",
        "msj()"
      ],
      "execution_count": null,
      "outputs": [
        {
          "output_type": "stream",
          "text": [
            "uno\n",
            "dos\n",
            "tres\n",
            "\n",
            "uno\n",
            "dos\n",
            "tres\n",
            "\n"
          ],
          "name": "stdout"
        }
      ]
    },
    {
      "cell_type": "code",
      "metadata": {
        "id": "zdlcbwYz8xnm",
        "colab": {
          "base_uri": "https://localhost:8080/",
          "height": 248
        },
        "outputId": "16312556-658b-4fa3-a104-742d12f12b62"
      },
      "source": [
        "def mensaje():\n",
        "    print(\"Ingresa un valor: \")\n",
        "print('id(mensaje): ',id(mensaje))\n",
        "mensaje = 1 # perdemos la función mensaje\n",
        "#mensaje()\n",
        "print('mensaje: ',mensaje)\n",
        "print('id(mensaje): ',id(mensaje))"
      ],
      "execution_count": null,
      "outputs": [
        {
          "output_type": "stream",
          "text": [
            "id(mensaje):  140118226317968\n"
          ],
          "name": "stdout"
        },
        {
          "output_type": "error",
          "ename": "TypeError",
          "evalue": "ignored",
          "traceback": [
            "\u001b[0;31m---------------------------------------------------------------------------\u001b[0m",
            "\u001b[0;31mTypeError\u001b[0m                                 Traceback (most recent call last)",
            "\u001b[0;32m<ipython-input-2-659425643569>\u001b[0m in \u001b[0;36m<module>\u001b[0;34m()\u001b[0m\n\u001b[1;32m      3\u001b[0m \u001b[0mprint\u001b[0m\u001b[0;34m(\u001b[0m\u001b[0;34m'id(mensaje): '\u001b[0m\u001b[0;34m,\u001b[0m\u001b[0mid\u001b[0m\u001b[0;34m(\u001b[0m\u001b[0mmensaje\u001b[0m\u001b[0;34m)\u001b[0m\u001b[0;34m)\u001b[0m\u001b[0;34m\u001b[0m\u001b[0;34m\u001b[0m\u001b[0m\n\u001b[1;32m      4\u001b[0m \u001b[0mmensaje\u001b[0m \u001b[0;34m=\u001b[0m \u001b[0;36m1\u001b[0m \u001b[0;31m# perdemos la función mensaje\u001b[0m\u001b[0;34m\u001b[0m\u001b[0;34m\u001b[0m\u001b[0m\n\u001b[0;32m----> 5\u001b[0;31m \u001b[0mmensaje\u001b[0m\u001b[0;34m(\u001b[0m\u001b[0;34m)\u001b[0m\u001b[0;34m\u001b[0m\u001b[0;34m\u001b[0m\u001b[0m\n\u001b[0m\u001b[1;32m      6\u001b[0m \u001b[0mprint\u001b[0m\u001b[0;34m(\u001b[0m\u001b[0;34m'mensaje: '\u001b[0m\u001b[0;34m,\u001b[0m\u001b[0mmensaje\u001b[0m\u001b[0;34m)\u001b[0m\u001b[0;34m\u001b[0m\u001b[0;34m\u001b[0m\u001b[0m\n\u001b[1;32m      7\u001b[0m \u001b[0mprint\u001b[0m\u001b[0;34m(\u001b[0m\u001b[0;34m'id(mensaje): '\u001b[0m\u001b[0;34m,\u001b[0m\u001b[0mid\u001b[0m\u001b[0;34m(\u001b[0m\u001b[0mmensaje\u001b[0m\u001b[0;34m)\u001b[0m\u001b[0;34m)\u001b[0m\u001b[0;34m\u001b[0m\u001b[0;34m\u001b[0m\u001b[0m\n",
            "\u001b[0;31mTypeError\u001b[0m: 'int' object is not callable"
          ]
        }
      ]
    },
    {
      "cell_type": "markdown",
      "metadata": {
        "id": "_Q9f-9VxcXpn"
      },
      "source": [
        "### 3.1.2 Funciones con parámetros"
      ]
    },
    {
      "cell_type": "markdown",
      "metadata": {
        "id": "f0vBeb1DWDP_"
      },
      "source": [
        "Un **parámetro** es una variable, pero existen dos factores que hacen a un parámetro diferente:\n",
        "\n",
        "- **Los parámetros sólo existen dentro de las funciones en donde han sido definidos**, y el único lugar donde un parámetro puede ser definido es entre los paréntesis después del nombre de la función, donde se encuentra la palabra reservada `def`.\n",
        "- **La asignación de un valor a un parámetro de una función se hace en el momento en que la función se manda llamar o se invoca**, especificando el argumento correspondiente.\n",
        "\n",
        "Recuerda que:\n",
        "\n",
        "- **Los parámetros solo existen dentro de las funciones** (este es su entorno natural).\n",
        "- **Los argumentos existen fuera de las funciones**, y son los que pasan los valores a los parámetros correspondientes.\n",
        "\n",
        "Tipos de paso de parámetros:\n",
        "\n",
        "- Paso de parámetros posicionales\n",
        "\n",
        "La técnica que asigna cada argumento al parámetro correspondiente, es llamada **paso de parámetros posicionales**, los argumentos pasados de esta manera son llamados **argumentos posicionales**.\n",
        "\n",
        "- Paso de argumentos con palabras clave\n",
        "\n",
        "Python ofrece otra manera de pasar argumentos, donde **el significado del argumento esta definido por su nombre**, no su posición, a esto se le denomina **paso de argumentos con palabras clave**.\n",
        "\n",
        "- El combinar argumentos posicionales y de palabras clave\n",
        "\n",
        "Es posible combinar ambos tipos si se desea, solo hay una regla inquebrantable: se deben **colocar primero los argumentos posicionales y después los de palabras clave**."
      ]
    },
    {
      "cell_type": "code",
      "metadata": {
        "id": "CRYzU9o5Ya95",
        "colab": {
          "base_uri": "https://localhost:8080/",
          "height": 248
        },
        "outputId": "baa276ac-6627-4784-8c89-da9b28bb1ed2"
      },
      "source": [
        "def suma(a, b, c):\n",
        "    print(a, \"+\", b, \"+\", c, \"=\", a + b + c)\n",
        "suma(1, 2, 3)\n",
        "suma(c = 1, a = 2, b = 3)\n",
        "suma(3, c = 1, b = 2)\n",
        "suma(3, a = 1, b = 2)"
      ],
      "execution_count": null,
      "outputs": [
        {
          "output_type": "stream",
          "text": [
            "1 + 2 + 3 = 6\n",
            "2 + 3 + 1 = 6\n",
            "3 + 2 + 1 = 6\n"
          ],
          "name": "stdout"
        },
        {
          "output_type": "error",
          "ename": "TypeError",
          "evalue": "ignored",
          "traceback": [
            "\u001b[0;31m---------------------------------------------------------------------------\u001b[0m",
            "\u001b[0;31mTypeError\u001b[0m                                 Traceback (most recent call last)",
            "\u001b[0;32m<ipython-input-5-eb0e52c34ffc>\u001b[0m in \u001b[0;36m<module>\u001b[0;34m()\u001b[0m\n\u001b[1;32m      4\u001b[0m \u001b[0msuma\u001b[0m\u001b[0;34m(\u001b[0m\u001b[0mc\u001b[0m \u001b[0;34m=\u001b[0m \u001b[0;36m1\u001b[0m\u001b[0;34m,\u001b[0m \u001b[0ma\u001b[0m \u001b[0;34m=\u001b[0m \u001b[0;36m2\u001b[0m\u001b[0;34m,\u001b[0m \u001b[0mb\u001b[0m \u001b[0;34m=\u001b[0m \u001b[0;36m3\u001b[0m\u001b[0;34m)\u001b[0m\u001b[0;34m\u001b[0m\u001b[0;34m\u001b[0m\u001b[0m\n\u001b[1;32m      5\u001b[0m \u001b[0msuma\u001b[0m\u001b[0;34m(\u001b[0m\u001b[0;36m3\u001b[0m\u001b[0;34m,\u001b[0m \u001b[0mc\u001b[0m \u001b[0;34m=\u001b[0m \u001b[0;36m1\u001b[0m\u001b[0;34m,\u001b[0m \u001b[0mb\u001b[0m \u001b[0;34m=\u001b[0m \u001b[0;36m2\u001b[0m\u001b[0;34m)\u001b[0m\u001b[0;34m\u001b[0m\u001b[0;34m\u001b[0m\u001b[0m\n\u001b[0;32m----> 6\u001b[0;31m \u001b[0msuma\u001b[0m\u001b[0;34m(\u001b[0m\u001b[0;36m3\u001b[0m\u001b[0;34m,\u001b[0m \u001b[0ma\u001b[0m \u001b[0;34m=\u001b[0m \u001b[0;36m1\u001b[0m\u001b[0;34m,\u001b[0m \u001b[0mb\u001b[0m \u001b[0;34m=\u001b[0m \u001b[0;36m2\u001b[0m\u001b[0;34m)\u001b[0m\u001b[0;34m\u001b[0m\u001b[0;34m\u001b[0m\u001b[0m\n\u001b[0m",
            "\u001b[0;31mTypeError\u001b[0m: suma() got multiple values for argument 'a'"
          ]
        }
      ]
    },
    {
      "cell_type": "markdown",
      "metadata": {
        "id": "Y30pG5dlYv2N"
      },
      "source": [
        "En ocasiones ocurre que algunos valores de ciertos argumentos son más utilizados que otros. Dichos argumentos tienen **valores predefinidos** los cuales pueden ser considerados cuando los argumentos correspondientes han sido omitidos."
      ]
    },
    {
      "cell_type": "code",
      "metadata": {
        "id": "dkVxzPCeWCWt",
        "colab": {
          "base_uri": "https://localhost:8080/"
        },
        "outputId": "306f8794-067e-4cc3-e3b2-cc57ee478c8a"
      },
      "source": [
        "def presentar(primer_nombre, segundo_nombre=\"González\"):\n",
        "    print(\"Hola, mi nombre es\", primer_nombre, segundo_nombre)\n",
        "presentar(\"Jorge\", \"Pérez\")\n",
        "presentar(\"Jorge\")\n",
        "presentar(primer_nombre='Juan')"
      ],
      "execution_count": null,
      "outputs": [
        {
          "output_type": "stream",
          "text": [
            "Hola, mi nombre es Jorge Pérez\n",
            "Hola, mi nombre es Jorge González\n",
            "Hola, mi nombre es Juan González\n"
          ],
          "name": "stdout"
        }
      ]
    },
    {
      "cell_type": "markdown",
      "metadata": {
        "id": "hOquGsMWmlPt"
      },
      "source": [
        "### 3.1.3 Funciones con parámetros variables\n",
        "\n"
      ]
    },
    {
      "cell_type": "code",
      "metadata": {
        "id": "cXtA7px9mrBu",
        "colab": {
          "base_uri": "https://localhost:8080/"
        },
        "outputId": "96e6babb-bcec-4a57-c2b3-dab949514e7f"
      },
      "source": [
        "def suma(*args):\n",
        "    sum = 0\n",
        "    print('type(args):',type(args))\n",
        "    print('len(args):',len(args))\n",
        "    for j in range(len(args)):\n",
        "        sum += args[j]\n",
        "    return sum\n",
        "\n",
        "print('suma(1):',suma(1),'\\n')\n",
        "print('suma(1,2):',suma(1,2),'\\n')\n",
        "print('suma(1,2,3):',suma(1,2,3),'\\n') # lista1 = [1,2,3]  tupla1 = (1,2,3)"
      ],
      "execution_count": null,
      "outputs": [
        {
          "output_type": "stream",
          "text": [
            "type(args): <class 'tuple'>\n",
            "len(args): 1\n",
            "suma(1): 1 \n",
            "\n",
            "type(args): <class 'tuple'>\n",
            "len(args): 2\n",
            "suma(1,2): 3 \n",
            "\n",
            "type(args): <class 'tuple'>\n",
            "len(args): 3\n",
            "suma(1,2,3): 6 \n",
            "\n"
          ],
          "name": "stdout"
        }
      ]
    },
    {
      "cell_type": "markdown",
      "metadata": {
        "id": "FHM0zZZSwI5S"
      },
      "source": [
        "**¡Python NO soporta sobrecarga de funciones!**"
      ]
    },
    {
      "cell_type": "markdown",
      "metadata": {
        "id": "TiMLe-HPd5l2"
      },
      "source": [
        "### 3.1.4 Efectos y resultados: la instrucción `return`\n"
      ]
    },
    {
      "cell_type": "markdown",
      "metadata": {
        "id": "aZ0dYGCtZj9A"
      },
      "source": [
        "Todas las funciones presentadas anteriormente tienen algún tipo de efecto: producen un texto y lo envían a la consola. Por supuesto, las funciones, al igual que las funciones matemáticas, pueden tener resultados.\n",
        "\n",
        "Para lograr que las funciones devuelvan un valor (pero no solo para ese propósito) se utiliza la instrucción `return` (regresar o retornar). Esta palabra nos da una idea completa de sus capacidades. \n",
        "\n",
        "Nota: es una **palabra reservada** de Python. La instrucción `return` tiene **dos variantes diferentes**: considerémoslas por separado.\n",
        "\n",
        "- `return` sin una expresión\n",
        "\n",
        "La primera consiste en la palabra reservada en sí, sin nada que la siga. Cuando se emplea dentro de una función, provoca la **terminación inmediata de la ejecución de la función, y un retorno instantáneo (de ahí el nombre) al punto de invocación**.\n",
        "\n",
        "Nota: si una función no está destinada a producir un resultado, **emplear la instrucción** `return` **no es obligatorio**, se ejecutará implícitamente al final de la función. De cualquier manera, se puede emplear para terminar las actividades de una función, antes de que el control llegue a la última línea de la función.\n",
        "\n",
        "- `return` con una expresión\n",
        "\n",
        "La segunda variante de `return` está extendida con una expresión. Hay dos consecuencias de usarla:\n",
        "\n",
        "- Provoca la **terminación inmediata de la ejecución de la función** (nada nuevo en comparación con la primer variante).\n",
        "- Además, la función **evaluará el valor de la expresión y lo devolverá (de ahí el nombre una vez más) como el resultado de la función**.\n",
        "\n",
        "Unas pocas palabras acerca de `None`\n",
        "\n",
        "Permítenos presentarte un valor muy curioso (para ser honestos, un valor que es ninguno) llamado `None`. Sus datos no representan valor razonable alguno; en realidad, no es un valor en lo absoluto; por lo tanto, **no debe participar en ninguna expresión**.\n",
        "\n",
        "Solo hay dos tipos de circunstancias en las que None se puede usar de manera segura:\n",
        "\n",
        "- Cuando **se le asigna a una variable** (o se devuelve como **el resultado de una función**).\n",
        "- Cuando **se compara con una variable** para diagnosticar su estado interno.\n",
        "\n",
        "N.B.: si una función no devuelve un cierto valor utilizando una cláusula de expresión `return`, se asume que **devuelve implícitamente** `None`."
      ]
    },
    {
      "cell_type": "code",
      "metadata": {
        "id": "7cI8vyFucUer",
        "colab": {
          "base_uri": "https://localhost:8080/",
          "height": 102
        },
        "outputId": "5189f7b2-261f-451c-d0bd-4a51db39f1b4"
      },
      "source": [
        "def fun(n):\n",
        "    if(n % 2 == 0):\n",
        "        return True\n",
        "print('fun(2):',fun(2))\n",
        "print('fun(1):',fun(1)) \n",
        "a = print('hello')\n",
        "print('b:',a)\n",
        "print('type(b)',type(a))"
      ],
      "execution_count": null,
      "outputs": [
        {
          "output_type": "stream",
          "text": [
            "fun(2): True\n",
            "fun(1): None\n",
            "hello\n",
            "b: None\n",
            "type(b) <class 'NoneType'>\n"
          ],
          "name": "stdout"
        }
      ]
    },
    {
      "cell_type": "markdown",
      "metadata": {
        "id": "TRgVUrbBeklW"
      },
      "source": [
        "### 3.1.5 Efectos y resultados: listas y funciones"
      ]
    },
    {
      "cell_type": "markdown",
      "metadata": {
        "id": "LXsjdzrMcxls"
      },
      "source": [
        "¿Se puede enviar una lista a una función como un argumento?\n",
        "\n",
        "¡Por supuesto que se puede! Cualquier entidad reconocible por Python puede desempeñar el papel de un argumento de función, aunque debes asegurarte de que la función sea capaz de hacer uso de él. Entonces, si pasas una lista a una función, la función tiene que manejarla como una lista."
      ]
    },
    {
      "cell_type": "code",
      "metadata": {
        "id": "mIN6IGCjc_Bg",
        "colab": {
          "base_uri": "https://localhost:8080/"
        },
        "outputId": "ccc07c69-f4a3-415c-a995-3cb2e8ca47e5"
      },
      "source": [
        "def suma_de_lista(lst):\n",
        "    sum = 0\n",
        "    for elem in lst:\n",
        "        sum += elem\n",
        "    return sum\n",
        "print(suma_de_lista([3,2,1]))\n",
        "print(suma_de_lista(1))"
      ],
      "execution_count": null,
      "outputs": [
        {
          "output_type": "stream",
          "text": [
            "6\n"
          ],
          "name": "stdout"
        }
      ]
    },
    {
      "cell_type": "markdown",
      "metadata": {
        "id": "vECewKz4dSM1"
      },
      "source": [
        "¿Puede una lista ser el resultado de una función?\n",
        "\n",
        "¡Sí, por supuesto! Cualquier entidad reconocible por Python puede ser un resultado de función."
      ]
    },
    {
      "cell_type": "code",
      "metadata": {
        "id": "0kMsXY1Tdajz",
        "colab": {
          "base_uri": "https://localhost:8080/",
          "height": 34
        },
        "outputId": "c41823d4-fa28-4d2c-f123-5fd809b3ff87"
      },
      "source": [
        "def fun(n):\n",
        "    lista = []\n",
        "    for j in range(n):\n",
        "        lista.insert(0,j)\n",
        "    return lista\n",
        "print(fun(5))"
      ],
      "execution_count": null,
      "outputs": [
        {
          "output_type": "stream",
          "text": [
            "[4, 3, 2, 1, 0]\n"
          ],
          "name": "stdout"
        }
      ]
    },
    {
      "cell_type": "code",
      "metadata": {
        "id": "LBXhI-EW5gFe",
        "colab": {
          "base_uri": "https://localhost:8080/",
          "height": 34
        },
        "outputId": "c8804c87-3db4-478b-b30d-bd738e9aa580"
      },
      "source": [
        "def fun(argumento1=2, argumento2=3):\n",
        "    return argumento1*argumento2\n",
        "print(fun(4))"
      ],
      "execution_count": null,
      "outputs": [
        {
          "output_type": "stream",
          "text": [
            "12\n"
          ],
          "name": "stdout"
        }
      ]
    },
    {
      "cell_type": "markdown",
      "metadata": {
        "id": "bVHFenoP0vL2"
      },
      "source": [
        "Las funciones y sus alcances\n",
        "\n",
        "Comencemos con una definición: el **alcance de un nombre** (por ejemplo, el nombre de una variable) es la parte del código donde el nombre es reconocido correctamente, e.g., el alcance del parámetro de una función es la función en sí misma. El parámetro es inaccesible fuera de la función.\n",
        "\n",
        "Una variable que existe fuera de una función tiene un alcance dentro del cuerpo de la función, excluyendo a aquellas que tienen el mismo nombre. También significa que el alcance de una variable existente fuera de una función solo se puede implementar dentro de una función cuando su valor es leído. El asignar un valor hace que la función cree su propia variable."
      ]
    },
    {
      "cell_type": "markdown",
      "metadata": {
        "id": "Yi5l98NjeBAb"
      },
      "source": [
        "La palabra reservada `global`\n",
        "\n",
        "Al llegar a este punto, debemos hacernos la siguiente pregunta: ¿Una función es capaz de modificar una variable que fue definida fuera de ella? Esto sería muy incomodo. Afortunadamente, la respuesta es no.\n",
        "\n",
        "Existe un método especial en Python el cual puede extender el alcance de una variable incluyendo el cuerpo de las funciones para poder no solo leer los valores de las variables sino también modificarlos. Se puede emplear la palabra reservada `global` seguida por el nombre de una variable para que el alcance de la variable sea global."
      ]
    },
    {
      "cell_type": "code",
      "metadata": {
        "id": "wrAhai-w3_oi",
        "colab": {
          "base_uri": "https://localhost:8080/"
        },
        "outputId": "ba9c27c6-9ea6-4d02-ed39-6d61f4758da0"
      },
      "source": [
        "def f():\n",
        "    #global var\n",
        "    var = 7\n",
        "    print(var+1,end='\\t')\n",
        "    #var = 7\n",
        "    print(var)\n",
        "var = 5\n",
        "f()\n",
        "print(var)"
      ],
      "execution_count": null,
      "outputs": [
        {
          "output_type": "stream",
          "text": [
            "8\t7\n",
            "5\n"
          ],
          "name": "stdout"
        }
      ]
    },
    {
      "cell_type": "code",
      "metadata": {
        "id": "x6SCKzh5fK6i",
        "colab": {
          "base_uri": "https://localhost:8080/",
          "height": 51
        },
        "outputId": "0655647b-456c-4c14-be06-9114244835fa"
      },
      "source": [
        "def fun():\n",
        "    global var\n",
        "    var = 2\n",
        "    print(\"¿Conozco a aquella variable?\", var)\n",
        "var = 1\n",
        "fun()\n",
        "print('var:',var)"
      ],
      "execution_count": null,
      "outputs": [
        {
          "output_type": "stream",
          "text": [
            "¿Conozco a aquella variable? 2\n",
            "var: 2\n"
          ],
          "name": "stdout"
        }
      ]
    },
    {
      "cell_type": "markdown",
      "metadata": {
        "id": "ZnRyfKL4fr_o"
      },
      "source": [
        "**Al cambiar el valor del parámetro este no se propaga fuera de la función** (más específicamente, no cuando la variable es un valor escalar, como en el ejemplo). Esto también significa que **una función recibe el valor del argumento, no el argumento en sí**. Esto es cierto para los valores escalares."
      ]
    },
    {
      "cell_type": "markdown",
      "metadata": {
        "id": "txWf5xGggkgA"
      },
      "source": [
        "Si el argumento es una lista, el cambiar el valor del parámetro correspondiente no afecta la lista (Recuerda: las variables que contienen listas son almacenadas de manera diferente que las escalares). Pero si se modifica la lista identificada por el parámetro (Nota: ¡La lista no el parámetro!), la lista reflejará el cambio."
      ]
    },
    {
      "cell_type": "code",
      "metadata": {
        "id": "Ft5krYr94hvC",
        "colab": {
          "base_uri": "https://localhost:8080/"
        },
        "outputId": "99e1e469-dcf5-4b28-e3cf-d30a543a5986"
      },
      "source": [
        "def f(lista1):\n",
        "    print(lista1)\n",
        "    del lista1[0]\n",
        "lista2 = [2, 3]\n",
        "f(lista2)\n",
        "print(lista2)"
      ],
      "execution_count": null,
      "outputs": [
        {
          "output_type": "stream",
          "text": [
            "[2, 3]\n",
            "[3]\n"
          ],
          "name": "stdout"
        }
      ]
    },
    {
      "cell_type": "markdown",
      "metadata": {
        "id": "e2I-a1384o_z"
      },
      "source": [
        "Si se termina una línea de código con el símbolo de **diagonal invertida** (`\\`), Python entenderá que la línea continua en la siguiente. Esto puede ser útil cuando se tienen largas líneas de código y se desea que sean más legibles."
      ]
    },
    {
      "cell_type": "markdown",
      "metadata": {
        "id": "Ri7U9vTH06vN"
      },
      "source": [
        "Recursividad\n",
        "\n",
        "La recursividad puede describir muchos conceptos distintos, pero uno de ellos, hace referencia a la programación computacional. Aquí, la recursividad es una **técnica donde una función se invoca a si misma**.\n",
        "\n",
        "N.B.: **Si no se considera una condición que detenga las invocaciones recursivas, el programa puede entrar en un bucle infinito**. Se debe ser cuidadoso. Además, las funciones recursivas consumen mucha memoria, y por lo tanto pueden ser en ocasiones ineficiente."
      ]
    },
    {
      "cell_type": "markdown",
      "metadata": {
        "id": "rdr49I7ukCd8"
      },
      "source": [
        "## 3.2 Tuplas y diccionarios"
      ]
    },
    {
      "cell_type": "markdown",
      "metadata": {
        "id": "MJvyRJ9v45Xc"
      },
      "source": [
        "### 3.2.1 Tipos de secuencias y mutabilidad"
      ]
    },
    {
      "cell_type": "markdown",
      "metadata": {
        "id": "2mkFM_tpj6Zn"
      },
      "source": [
        "Antes de comenzar a hablar acerca de tuplas y diccionarios, se deben introducir dos conceptos importantes: tipos de secuencia y mutabilidad.\n",
        "\n",
        "Un **tipo de secuencia es un tipo de dato en Python el cual es capaz de almacenar más de un valor (o ninguno si la secuencia esta vacía), los cuales pueden ser secuencialmente (de ahí el nombre) examinados**, elemento por elemento.\n",
        "\n",
        "Debido a que el bucle `for` es una herramienta especialmente diseñada para iterar a través de las secuencias, podemos definirlas de la siguiente manera: **una secuencia es un tipo de dato que puede ser escaneado por el bucle** `for`.\n",
        "\n",
        "Hasta ahora, has trabajado con una secuencia en Python: la lista. La lista es un clásico ejemplo de una secuencia de Python. Aunque existen otras secuencias dignas de mencionar, las cuales se presentaran a continuación.\n",
        "\n",
        "La segunda noción -la **mutabilidad**- es una propiedad de cualquier tipo de dato en Python que describe su disponibilidad para poder cambiar libremente durante la ejecución de un programa. Existen dos tipos de datos en Python: **mutables** e **inmutables**. \n",
        "\n",
        "**Los datos mutables pueden ser actualizados libremente en cualquier momento**, a esta operación se le denomina **in situ**. Esta es una expresión en Latín que se traduce literalmente como *en posición, en el lugar o momento*. Por ejemplo, la siguiente instrucción modifica los datos **in situ**: \n",
        "`lista.append(1)`\n",
        "\n",
        "**Los datos inmutables no pueden ser modificados de esta manera**. Imagina que una lista solo puede ser asignada y leída. No podrías adjuntar ni remover un elemento de la lista. Si se agrega un elemento al final de la lista provocaría que la lista se cree desde cero. Se tendría que crear una lista completamente nueva, la cual contenga los elementos ya existentes más el nuevo elemento.\n",
        "\n",
        "El tipo de dato que se desea tratar ahora se llama **tupla**. **Una tupla es una secuencia inmutable**. **Se puede comportar como una lista pero no puede ser modificada en el momento**."
      ]
    },
    {
      "cell_type": "markdown",
      "metadata": {
        "id": "ycYgTEgp5Dnt"
      },
      "source": [
        "### 3.2.2 Tuplas"
      ]
    },
    {
      "cell_type": "markdown",
      "metadata": {
        "id": "47gc_C31Mf_c"
      },
      "source": [
        "Lo primero que distingue una lista de una tupla es la sintaxis empleada para crearlas. Las tuplas utilizan paréntesis, mientras que las listas usan corchetes, aunque también es posible crear una tupla tan solo separando los valores por comas:"
      ]
    },
    {
      "cell_type": "code",
      "metadata": {
        "id": "_vVCk1Nel4Np",
        "colab": {
          "base_uri": "https://localhost:8080/",
          "height": 51
        },
        "outputId": "7e47965a-5ee2-40ec-99b2-d2bd8b234e3b"
      },
      "source": [
        "tupla1 = (1, 2, 4, 8)\n",
        "tupla2 = 1., .5, .25, .125\n",
        "print('tupla1:',tupla1)\n",
        "print('tupla2:',tupla2)"
      ],
      "execution_count": null,
      "outputs": [
        {
          "output_type": "stream",
          "text": [
            "tupla1: (1, 2, 4, 8)\n",
            "tupla2: (1.0, 0.5, 0.25, 0.125)\n"
          ],
          "name": "stdout"
        }
      ]
    },
    {
      "cell_type": "markdown",
      "metadata": {
        "id": "VB5g-848mZ_i"
      },
      "source": [
        "N.B.: cada elemento de una tupla puede ser de distinto tipo (punto flotante, entero, cadena, etc.). Se puede pensar en ellas como listas inmutables. Las tuplas pueden contener otras tuplas o listas (y viceversa).\n",
        "\n",
        "Es posible crear una tupla vacía: `tupla_vacía = ()`\n",
        "\n",
        "Si se desea crear una tupla de un solo elemento, se debe de considerar el hecho de que, debido a la sintaxis (una tupla debe de poder distinguirse de un valor entero ordinario), se debe de colocar una coma al final:"
      ]
    },
    {
      "cell_type": "code",
      "metadata": {
        "id": "Ha7lMSTGlGf8",
        "colab": {
          "base_uri": "https://localhost:8080/",
          "height": 51
        },
        "outputId": "e867cf9a-8cca-4068-8c92-2fbd180a85c4"
      },
      "source": [
        "tupla1 = (1, )\n",
        "tupla2 = 1., \n",
        "print('tupla1:',tupla1)\n",
        "print('tupla2:',tupla2)"
      ],
      "execution_count": null,
      "outputs": [
        {
          "output_type": "stream",
          "text": [
            "tupla1: (1,)\n",
            "tupla2: (1.0,)\n"
          ],
          "name": "stdout"
        }
      ]
    },
    {
      "cell_type": "code",
      "metadata": {
        "id": "e_cGa5wLnK6-",
        "colab": {
          "base_uri": "https://localhost:8080/",
          "height": 153
        },
        "outputId": "2837e558-152a-4453-b148-d387a5ab0cbd"
      },
      "source": [
        "mi_tupla = (1, 10, 100, 1000)\n",
        "\n",
        "print(mi_tupla[0])\n",
        "print(mi_tupla[-1])\n",
        "print(mi_tupla[1:])\n",
        "print(mi_tupla[:-2])\n",
        "\n",
        "for elem in mi_tupla:\n",
        "    print(elem)"
      ],
      "execution_count": null,
      "outputs": [
        {
          "output_type": "stream",
          "text": [
            "1\n",
            "1000\n",
            "(10, 100, 1000)\n",
            "(1, 10)\n",
            "1\n",
            "10\n",
            "100\n",
            "1000\n"
          ],
          "name": "stdout"
        }
      ]
    },
    {
      "cell_type": "code",
      "metadata": {
        "id": "fc-bXxfM-gHX",
        "colab": {
          "base_uri": "https://localhost:8080/",
          "height": 248
        },
        "outputId": "5904288d-d55b-4208-c583-29edc4d06664"
      },
      "source": [
        "tupla = 1,2,\n",
        "print(tupla)\n",
        "print(tupla[0])\n",
        "tupla[1] = tupla[1] + tupla[0] # produce un error por el carcater inmutable de las tuplas\n",
        "print(tupla) "
      ],
      "execution_count": null,
      "outputs": [
        {
          "output_type": "stream",
          "text": [
            "(1, 2)\n",
            "1\n"
          ],
          "name": "stdout"
        },
        {
          "output_type": "error",
          "ename": "TypeError",
          "evalue": "ignored",
          "traceback": [
            "\u001b[0;31m---------------------------------------------------------------------------\u001b[0m",
            "\u001b[0;31mTypeError\u001b[0m                                 Traceback (most recent call last)",
            "\u001b[0;32m<ipython-input-21-1c8c4156e4db>\u001b[0m in \u001b[0;36m<module>\u001b[0;34m()\u001b[0m\n\u001b[1;32m      2\u001b[0m \u001b[0mprint\u001b[0m\u001b[0;34m(\u001b[0m\u001b[0mtupla\u001b[0m\u001b[0;34m)\u001b[0m\u001b[0;34m\u001b[0m\u001b[0;34m\u001b[0m\u001b[0m\n\u001b[1;32m      3\u001b[0m \u001b[0mprint\u001b[0m\u001b[0;34m(\u001b[0m\u001b[0mtupla\u001b[0m\u001b[0;34m[\u001b[0m\u001b[0;36m0\u001b[0m\u001b[0;34m]\u001b[0m\u001b[0;34m)\u001b[0m\u001b[0;34m\u001b[0m\u001b[0;34m\u001b[0m\u001b[0m\n\u001b[0;32m----> 4\u001b[0;31m \u001b[0mtupla\u001b[0m\u001b[0;34m[\u001b[0m\u001b[0;36m1\u001b[0m\u001b[0;34m]\u001b[0m \u001b[0;34m=\u001b[0m \u001b[0mtupla\u001b[0m\u001b[0;34m[\u001b[0m\u001b[0;36m1\u001b[0m\u001b[0;34m]\u001b[0m \u001b[0;34m+\u001b[0m \u001b[0mtupla\u001b[0m\u001b[0;34m[\u001b[0m\u001b[0;36m0\u001b[0m\u001b[0;34m]\u001b[0m \u001b[0;31m# produce un error por el carcater inmutable de las tuplas\u001b[0m\u001b[0;34m\u001b[0m\u001b[0;34m\u001b[0m\u001b[0m\n\u001b[0m\u001b[1;32m      5\u001b[0m \u001b[0mprint\u001b[0m\u001b[0;34m(\u001b[0m\u001b[0mtupla\u001b[0m\u001b[0;34m)\u001b[0m\u001b[0;34m\u001b[0m\u001b[0;34m\u001b[0m\u001b[0m\n",
            "\u001b[0;31mTypeError\u001b[0m: 'tuple' object does not support item assignment"
          ]
        }
      ]
    },
    {
      "cell_type": "code",
      "metadata": {
        "id": "qfTq6OlKL9Ge",
        "colab": {
          "base_uri": "https://localhost:8080/",
          "height": 85
        },
        "outputId": "b7105685-8c03-439c-b8cc-d0574077c75d"
      },
      "source": [
        "# misma tupla con diferentes nombres\n",
        "\n",
        "t1 = (1,2)\n",
        "t2 = t1\n",
        "print('id(t1):',id(t1))\n",
        "print('id(t2):',id(t2))\n",
        "print(t1)\n",
        "print(t2)"
      ],
      "execution_count": null,
      "outputs": [
        {
          "output_type": "stream",
          "text": [
            "id(t1): 140031578806344\n",
            "id(t2): 140031578806344\n",
            "(1, 2)\n",
            "(1, 2)\n"
          ],
          "name": "stdout"
        }
      ]
    },
    {
      "cell_type": "markdown",
      "metadata": {
        "id": "rzTVtUcknpeR"
      },
      "source": [
        "- La función `len()` acepta tuplas, y regresa el número de elementos contenidos dentro.\n",
        "- El operador `+` puede unir tuplas (ya se ha mostrado esto antes).\n",
        "- El operador `*` puede multiplicar las tuplas, así como las listas.\n",
        "- Los operadores `in` y `not in` funcionan de la misma manera que en las listas."
      ]
    },
    {
      "cell_type": "code",
      "metadata": {
        "id": "swXJ4cqRn8-Y",
        "colab": {
          "base_uri": "https://localhost:8080/",
          "height": 119
        },
        "outputId": "8a7afb65-dc4f-4b19-e4ab-c8bd68f3a38c"
      },
      "source": [
        "mi_tupla = (1, 10, 100)\n",
        "\n",
        "t1 = mi_tupla + (1000, 10000)\n",
        "t2 = mi_tupla * 3\n",
        "\n",
        "print(len(t2))\n",
        "print('mi_tupla:',mi_tupla)\n",
        "print('t1:',t1)\n",
        "print('t2:',t2)\n",
        "print(10 in miTupla)\n",
        "print(-10 not in miTupla)"
      ],
      "execution_count": null,
      "outputs": [
        {
          "output_type": "stream",
          "text": [
            "9\n",
            "mi_tupla: (1, 10, 100)\n",
            "t1: (1, 10, 100, 1000, 10000)\n",
            "t2: (1, 10, 100, 1, 10, 100, 1, 10, 100)\n",
            "True\n",
            "True\n"
          ],
          "name": "stdout"
        }
      ]
    },
    {
      "cell_type": "markdown",
      "metadata": {
        "id": "DIw3JoAWogbf"
      },
      "source": [
        "Una de las propiedades de las tuplas mas útiles es que pueden aparecer en el lado izquierdo del operador de asignación. Este fenómeno ya se vio con anterioridad, cuando fue necesario encontrar una manera de intercambiar los valores entre dos variables."
      ]
    },
    {
      "cell_type": "code",
      "metadata": {
        "id": "pvTI_8liok9Y",
        "colab": {
          "base_uri": "https://localhost:8080/"
        },
        "outputId": "71086cac-ef58-47e4-bc79-e95bc6bcef3e"
      },
      "source": [
        "var = 123\n",
        "\n",
        "t1 = (1, )\n",
        "t2 = (2, )\n",
        "t3 = (3, var)\n",
        "\n",
        "t1, t2, t3 = t2, t3, t1 # re-bautizando las tuplas t1, t2 y t3; la asignación de cada tupla se da independientemente\n",
        "\n",
        "print(t1, t2, t3)"
      ],
      "execution_count": null,
      "outputs": [
        {
          "output_type": "stream",
          "text": [
            "(2,) (3, 123) (1,)\n"
          ],
          "name": "stdout"
        }
      ]
    },
    {
      "cell_type": "markdown",
      "metadata": {
        "id": "9vdJ_gAg1cFQ"
      },
      "source": [
        "También se puede crear una tupla utilizando la función integrada de Python `tuple()`. Esto es particularmente útil cuando se desea convertir un iterable (por ejemplo, una lista, rango, cadena, etcétera) en una tupla:"
      ]
    },
    {
      "cell_type": "code",
      "metadata": {
        "id": "dEzyNONS1gh5",
        "colab": {
          "base_uri": "https://localhost:8080/",
          "height": 85
        },
        "outputId": "e99409c1-6f42-4458-ebce-991ec73eb2eb"
      },
      "source": [
        "lst = [2, 4, 6]\n",
        "print(lst)    # salida: [2, 4, 6]\n",
        "print(type(lst))    # salida: <class 'list'>\n",
        "tup = tuple(lst)\n",
        "print(tup)    # outputs: (2, 4, 6)\n",
        "print(type(tup))    # salida: <class 'tuple'>"
      ],
      "execution_count": null,
      "outputs": [
        {
          "output_type": "stream",
          "text": [
            "[2, 4, 6]\n",
            "<class 'list'>\n",
            "(2, 4, 6)\n",
            "<class 'tuple'>\n"
          ],
          "name": "stdout"
        }
      ]
    },
    {
      "cell_type": "markdown",
      "metadata": {
        "id": "7DbbKami1-gd"
      },
      "source": [
        "De la misma manera, cuando se desea convertir un iterable en una lista, se puede emplear la función integrada de Python denominada `list()`:"
      ]
    },
    {
      "cell_type": "code",
      "metadata": {
        "id": "r7V_Q7-81-AJ",
        "colab": {
          "base_uri": "https://localhost:8080/",
          "height": 34
        },
        "outputId": "d2225f78-f31a-4141-82b1-ab62ef4ddc11"
      },
      "source": [
        "tup = 1, 2, 3, \n",
        "lst = list(tup)\n",
        "print(type(lst))    # outputs: <class 'list'>"
      ],
      "execution_count": null,
      "outputs": [
        {
          "output_type": "stream",
          "text": [
            "<class 'list'>\n"
          ],
          "name": "stdout"
        }
      ]
    },
    {
      "cell_type": "code",
      "metadata": {
        "id": "qxZZauaG6KfA",
        "colab": {
          "base_uri": "https://localhost:8080/",
          "height": 34
        },
        "outputId": "4ec00137-c40b-47a4-a512-60be6d9d30fd"
      },
      "source": [
        "tup = 1,\n",
        "tup = tup + tup\n",
        "print(tup)"
      ],
      "execution_count": null,
      "outputs": [
        {
          "output_type": "stream",
          "text": [
            "(1, 1)\n"
          ],
          "name": "stdout"
        }
      ]
    },
    {
      "cell_type": "markdown",
      "metadata": {
        "id": "YIoqesIguM5g"
      },
      "source": [
        "### 3.2.3 Diccionarios"
      ]
    },
    {
      "cell_type": "markdown",
      "metadata": {
        "id": "Kz1h18UCp4h9"
      },
      "source": [
        "El **diccionario** es otro tipo de estructura de datos de Python. No es una secuencia (pero puede adaptarse fácilmente a un procesamiento secuencial) y además es **mutable**.\n",
        "\n",
        "Para explicar lo que es un diccionario en Python, es importante comprender de manera literal lo que es un diccionario. Un diccionario en Python funciona de la misma manera que un diccionario bilingüe, e.g., se tiene la palabra en español \"gato\" y se necesita su equivalente en francés. Lo que se haría es buscar en el diccionario para encontrar la palabra \"gato\". Eventualmente la encontrarás, y sabrás que la palabra equivalente en francés es \"chat\".\n",
        "\n",
        "En el mundo de Python, la palabra que se esta buscando se denomina **clave(key)**. La palabra que se obtiene del diccionario es denominada **valor**. Esto significa que un diccionario es un conjunto de pares de claves y valores:\n",
        "\n",
        "- Cada clave debe de ser **única**. No es posible tener una clave duplicada.\n",
        "- Una clave puede ser un **tipo de dato de cualquier tipo**: puede ser un número (entero o flotante), o incluso una cadena.\n",
        "- Un diccionario no es una lista. Una lista contiene un conjunto de valores numerados, mientras que **un diccionario almacena pares de valores**.\n",
        "- La función `len()` aplica también para los diccionarios, regresa la cantidad de pares (clave-valor) en el diccionario.\n",
        "- Un diccionario es una **herramienta de un solo sentido**. Si fuese un diccionario español-francés, podríamos buscar en español para encontrar su contraparte en francés mas no viceversa."
      ]
    },
    {
      "cell_type": "code",
      "metadata": {
        "id": "-R5Wr9G9rJ0K",
        "colab": {
          "base_uri": "https://localhost:8080/",
          "height": 68
        },
        "outputId": "b2ffabca-db34-4255-db5d-3ef610dea0d4"
      },
      "source": [
        "dic = {\"gato\" : \"chat\", \"perro\" : \"chien\", \"caballo\" : \"cheval\"}\n",
        "numeros_telefono = {'jefe' : 5551234567, 'Suzy' : 22657854310}\n",
        "diccionario_vacío = {}\n",
        "\n",
        "print(dic)\n",
        "print(numeros_telefono)\n",
        "print(diccionario_vacío)"
      ],
      "execution_count": null,
      "outputs": [
        {
          "output_type": "stream",
          "text": [
            "{'gato': 'chat', 'perro': 'chien', 'caballo': 'cheval'}\n",
            "{'jefe': 5551234567, 'Suzy': 22657854310}\n",
            "{}\n"
          ],
          "name": "stdout"
        }
      ]
    },
    {
      "cell_type": "markdown",
      "metadata": {
        "id": "P6ZXTyN9r5go"
      },
      "source": [
        "La lista de todos los pares es encerrada con **llaves**, mientras que los pares son separados por **comas**, y las claves y valores por **dos puntos**.\n",
        "\n",
        "N.B.: Los diccionarios no son listas - no guardan el orden de sus datos, el orden no tiene significado (a diferencia de los diccionarios reales). El orden en que un diccionario almacena sus datos esta fuera de nuestro control. Esto es normal. Sin embargo, en Python 3.6x los diccionarios se han convertido en colecciones ordenadas de manera predeterminada. Tu resultado puede variar dependiendo en la versión de Python que se este utilizando.\n",
        "\n",
        "El obtener el valor de un diccionario es semejante a la indexación, gracias a los corchetes alrededor del valor de la clave. Recordar que\n",
        "\n",
        "- si una clave es una cadena, se tiene que especificar como una cadena.\n",
        "- las claves son sensibles a las mayúsculas y minúsculas: 'Suzy' sería diferente a 'suzy'.\n",
        "- no se puede utilizar una clave que no exista. Afortunadamente, existe una manera simple de evitar dicha situación: el operador `in`, junto con su acompañante, `not in`, pueden salvarnos de esta situación:"
      ]
    },
    {
      "cell_type": "code",
      "metadata": {
        "id": "tA-SRiJZszvb",
        "colab": {
          "base_uri": "https://localhost:8080/",
          "height": 136
        },
        "outputId": "464060f0-f144-4ded-b7fa-20b6e96cfb84"
      },
      "source": [
        "dic = {\"gato\" : \"chat\", \"perro\" : \"chien\", \"caballo\" : \"cheval\"}\n",
        "palabras = ['gato', 'leon', 'caballo']\n",
        "\n",
        "for palabra in palabras:\n",
        "    if palabra in dic:\n",
        "        print(palabra, \"->\", dic[palabra])\n",
        "    else:\n",
        "        print(palabra, \"no está en el diccionario\")\n",
        "print()\n",
        "\n",
        "## también se puede acceder utilizando el método get()\n",
        "for palabra in palabras:\n",
        "    if palabra in dic:\n",
        "        print(palabra, \"->\", dic.get(palabra))\n",
        "    else:\n",
        "        print(palabra, \"no está en el diccionario\")"
      ],
      "execution_count": null,
      "outputs": [
        {
          "output_type": "stream",
          "text": [
            "gato -> chat\n",
            "leon no está en el diccionario\n",
            "caballo -> cheval\n",
            "\n",
            "gato -> chat\n",
            "leon no está en el diccionario\n",
            "caballo -> cheval\n"
          ],
          "name": "stdout"
        }
      ]
    },
    {
      "cell_type": "markdown",
      "metadata": {
        "id": "kGDrTrl85OZ0"
      },
      "source": [
        "### 3.2.4 ¿Cómo utilizar un diccionario? El método `keys()`"
      ]
    },
    {
      "cell_type": "markdown",
      "metadata": {
        "id": "Ok9t_DrJtLx2"
      },
      "source": [
        "¿Pueden los diccionarios ser examinados utilizando el bucle for, como las listas o tuplas? Rpta.: No y sí.\n",
        "\n",
        "No, porque un diccionario no es un tipo de dato secuencial -el bucle `for` no es útil aquí.\n",
        "\n",
        "Sí, porque hay herramientas simples y muy efectivas que pueden adaptar cualquier diccionario a los requerimientos del bucle `for` (en otras palabras, se construye un enlace intermedio entre el diccionario y una entidad secuencial temporal).\n",
        "\n",
        "El primero de ellos es un método denominado `keys(), el cual es parte de todo diccionario. El método retorna o regresa una lista de todas las claves dentro del diccionario. Al tener una lista de claves se puede acceder a todo el diccionario de una manera fácil y útil."
      ]
    },
    {
      "cell_type": "code",
      "metadata": {
        "id": "T22XKzyytgZ4",
        "colab": {
          "base_uri": "https://localhost:8080/",
          "height": 136
        },
        "outputId": "5c059dbf-4835-4f41-b767-b3a7246b1fa5"
      },
      "source": [
        "dic = {\"gato\" : \"chat\", \"perro\" : \"chien\", \"caballo\" : \"cheval\"}\n",
        "\n",
        "for key in dic.keys():\n",
        "    print(key, \"->\", dic[key])\n",
        "print()\n",
        "# ¿Deseas que la salida este ordenada?\n",
        "for key in sorted(dic.keys()):\n",
        "    print(key, \"->\", dic[key])"
      ],
      "execution_count": null,
      "outputs": [
        {
          "output_type": "stream",
          "text": [
            "gato -> chat\n",
            "perro -> chien\n",
            "caballo -> cheval\n",
            "\n",
            "caballo -> cheval\n",
            "gato -> chat\n",
            "perro -> chien\n"
          ],
          "name": "stdout"
        }
      ]
    },
    {
      "cell_type": "markdown",
      "metadata": {
        "id": "-0WS0qHI5YdX"
      },
      "source": [
        "### 3.2.5 ¿Cómo utilizar un diccionario? Los métodos `items()` y `values()`"
      ]
    },
    {
      "cell_type": "markdown",
      "metadata": {
        "id": "__fOJcxMuKAF"
      },
      "source": [
        "Otra manera de hacerlo es utilizar el método `items()`. Este método **regresa una lista de tuplas** (este es el primer ejemplo en el que las tuplas son más que un ejemplo de sí mismas) **donde cada tupla es un par de cada clave con su valor**."
      ]
    },
    {
      "cell_type": "code",
      "metadata": {
        "id": "zJ7OlQf4ugSD",
        "colab": {
          "base_uri": "https://localhost:8080/",
          "height": 68
        },
        "outputId": "8119c475-e8b5-4125-f838-08586e727c43"
      },
      "source": [
        "dic = {\"gato\" : \"chat\", \"perro\" : \"chien\", \"caballo\" : \"cheval\"}\n",
        "\n",
        "for spanish,french in dic.items():\n",
        "    print(spanish, \"->\", french)\n"
      ],
      "execution_count": null,
      "outputs": [
        {
          "output_type": "stream",
          "text": [
            "gato -> chat\n",
            "perro -> chien\n",
            "caballo -> cheval\n"
          ],
          "name": "stdout"
        }
      ]
    },
    {
      "cell_type": "markdown",
      "metadata": {
        "id": "ZL_nNiZQvEgp"
      },
      "source": [
        "También existe un método denominado `values()`, funciona de manera muy similar al de `keys()`, pero regresa una lista de valores."
      ]
    },
    {
      "cell_type": "code",
      "metadata": {
        "id": "HkSkO8s4xh54",
        "colab": {
          "base_uri": "https://localhost:8080/",
          "height": 68
        },
        "outputId": "1d388995-4fad-452f-c263-5ee0d52e7a4a"
      },
      "source": [
        "dic = {\"gato\" : \"chat\", \"perro\" : \"chien\", \"caballo\" : \"cheval\"}\n",
        "\n",
        "for french in dic.values():\n",
        "    print(french)"
      ],
      "execution_count": null,
      "outputs": [
        {
          "output_type": "stream",
          "text": [
            "chat\n",
            "chien\n",
            "cheval\n"
          ],
          "name": "stdout"
        }
      ]
    },
    {
      "cell_type": "markdown",
      "metadata": {
        "id": "sDWSKz4k5jJs"
      },
      "source": [
        "### 3.2.6 Modificando valores"
      ]
    },
    {
      "cell_type": "markdown",
      "metadata": {
        "id": "1JtjX_cPxxIc"
      },
      "source": [
        "El asignar un nuevo valor a una clave existente es sencillo, debido a que los diccionarios son completamente **mutables**, no existen obstáculos para modificarlos."
      ]
    },
    {
      "cell_type": "code",
      "metadata": {
        "id": "HFIBVmXMx562",
        "colab": {
          "base_uri": "https://localhost:8080/",
          "height": 34
        },
        "outputId": "04628dfc-d3a6-44c1-97c2-b7043ff60cdc"
      },
      "source": [
        "dic = {\"gato\" : \"perro\", \"dog\" : \"chien\", \"caballo\" : \"cheval\"}\n",
        "\n",
        "dic['gato'] = 'minou'\n",
        "print(dic)"
      ],
      "execution_count": null,
      "outputs": [
        {
          "output_type": "stream",
          "text": [
            "{'gato': 'minou', 'dog': 'chien', 'caballo': 'cheval'}\n"
          ],
          "name": "stdout"
        }
      ]
    },
    {
      "cell_type": "markdown",
      "metadata": {
        "id": "RgnNbrGsyKIv"
      },
      "source": [
        "### 3.2.7 Agregando nuevas claves\n",
        "\n",
        "El agregar una nueva clave con su valor a un diccionario es tan simple como cambiar un valor. Solo se tiene que asignar un valor a una nueva **clave que no haya existido antes**.\n",
        "\n",
        "N.B.: este es un comportamiento muy diferente comparado a las listas, las cuales no permiten asignar valores a índices no existentes."
      ]
    },
    {
      "cell_type": "code",
      "metadata": {
        "id": "g4DOBXaSyYzA",
        "colab": {
          "base_uri": "https://localhost:8080/",
          "height": 68
        },
        "outputId": "eae3935b-94bc-4d93-d73b-7b2b8f148782"
      },
      "source": [
        "dic = {\"gato\" : \"chat\", \"perro\" : \"chien\", \"caballo\" : \"cheval\"}\n",
        "print(dic)\n",
        "dic['cisne'] = 'cygne'\n",
        "print(dic)\n",
        "\n",
        "# También es posible insertar un elemento al diccionario utilizando el método update()\n",
        "dic.update({\"pato\" : \"canard\"})\n",
        "print(dic)"
      ],
      "execution_count": null,
      "outputs": [
        {
          "output_type": "stream",
          "text": [
            "{'gato': 'chat', 'perro': 'chien', 'caballo': 'cheval'}\n",
            "{'gato': 'chat', 'perro': 'chien', 'caballo': 'cheval', 'cisne': 'cygne'}\n",
            "{'gato': 'chat', 'perro': 'chien', 'caballo': 'cheval', 'cisne': 'cygne', 'pato': 'canard'}\n"
          ],
          "name": "stdout"
        }
      ]
    },
    {
      "cell_type": "markdown",
      "metadata": {
        "id": "brBpC71-5wAH"
      },
      "source": [
        "### 3.2.8 Eliminado claves"
      ]
    },
    {
      "cell_type": "markdown",
      "metadata": {
        "id": "uDt_vciCy3Fg"
      },
      "source": [
        "Al eliminar la clave también se removerá el valor asociado. Los valores no pueden existir sin sus claves. Esto se logra con la instrucción `del`."
      ]
    },
    {
      "cell_type": "code",
      "metadata": {
        "id": "efaKOjT6zCcQ",
        "colab": {
          "base_uri": "https://localhost:8080/",
          "height": 51
        },
        "outputId": "eaa4e4e7-5b5d-4220-f266-13d43957257c"
      },
      "source": [
        "dic = {\"gato\" : \"chat\", \"perro\" : \"chien\", \"caballo\" : \"cheval\"}\n",
        "print(dic)\n",
        "del dic['perro']\n",
        "print(dic)"
      ],
      "execution_count": null,
      "outputs": [
        {
          "output_type": "stream",
          "text": [
            "{'gato': 'chat', 'perro': 'chien', 'caballo': 'cheval'}\n",
            "{'gato': 'chat', 'caballo': 'cheval'}\n"
          ],
          "name": "stdout"
        }
      ]
    },
    {
      "cell_type": "markdown",
      "metadata": {
        "id": "B4-h0VDUzOMQ"
      },
      "source": [
        "N.B.: el eliminar una clave no existente, provocará un error.\n",
        "\n",
        "Para eliminar el ultimo elemento del diccionario, se puede emplear el método `popitem()`:"
      ]
    },
    {
      "cell_type": "code",
      "metadata": {
        "id": "E90BqhgozXC6",
        "colab": {
          "base_uri": "https://localhost:8080/",
          "height": 51
        },
        "outputId": "fc9a43b6-63fd-4944-a572-c74f84ea1f8d"
      },
      "source": [
        "dic = {\"gato\" : \"chat\", \"perro\" : \"chien\", \"caballo\" : \"cheval\"}\n",
        "print(dic)\n",
        "dic.popitem()\n",
        "print(dic)\n",
        "\n",
        "# En versiones anteriores de Python, e.g., antes de la 3.6.7, el método popitem() elimina un elemento al azar del diccionario."
      ],
      "execution_count": null,
      "outputs": [
        {
          "output_type": "stream",
          "text": [
            "{'gato': 'chat', 'perro': 'chien', 'caballo': 'cheval'}\n",
            "{'gato': 'chat', 'perro': 'chien'}\n"
          ],
          "name": "stdout"
        }
      ]
    },
    {
      "cell_type": "markdown",
      "metadata": {
        "id": "e6HXeMs83Wib"
      },
      "source": [
        "Se puede emplear la palabra reservada `del` para eliminar un elemento, o un diccionario entero. Para eliminar todos los elementos de un diccionario se debe emplear el método `clear()`:"
      ]
    },
    {
      "cell_type": "code",
      "metadata": {
        "id": "lEJzdnoB3iNK",
        "colab": {
          "base_uri": "https://localhost:8080/",
          "height": 248
        },
        "outputId": "035d02ff-5e90-45e3-9a2b-9899efb855a4"
      },
      "source": [
        "polEspDict = {\n",
        "    \"zamek\" : \"castillo\",\n",
        "    \"woda\"  : \"agua\",\n",
        "    \"gleba\" : \"tierra\"\n",
        "    }\n",
        "\n",
        "print(len(polEspDict))    # salida: 3\n",
        "del polEspDict[\"zamek\"]    # elimina un elemento\n",
        "print(len(polEspDict))    # salida: 2\n",
        "\n",
        "polEspDict.clear()   # elimina todos los elementos\n",
        "print(len(polEspDict))    # salida: 0\n",
        "\n",
        "del polEspDict    # elimina el diccionario\n",
        "#print(len(polEspDict))    # error!"
      ],
      "execution_count": null,
      "outputs": [
        {
          "output_type": "stream",
          "text": [
            "3\n",
            "2\n",
            "0\n"
          ],
          "name": "stdout"
        },
        {
          "output_type": "error",
          "ename": "NameError",
          "evalue": "ignored",
          "traceback": [
            "\u001b[0;31m---------------------------------------------------------------------------\u001b[0m",
            "\u001b[0;31mNameError\u001b[0m                                 Traceback (most recent call last)",
            "\u001b[0;32m<ipython-input-24-54d28facf338>\u001b[0m in \u001b[0;36m<module>\u001b[0;34m()\u001b[0m\n\u001b[1;32m     13\u001b[0m \u001b[0;34m\u001b[0m\u001b[0m\n\u001b[1;32m     14\u001b[0m \u001b[0;32mdel\u001b[0m \u001b[0mpolEspDict\u001b[0m    \u001b[0;31m# elimina el diccionario\u001b[0m\u001b[0;34m\u001b[0m\u001b[0;34m\u001b[0m\u001b[0m\n\u001b[0;32m---> 15\u001b[0;31m \u001b[0mprint\u001b[0m\u001b[0;34m(\u001b[0m\u001b[0mlen\u001b[0m\u001b[0;34m(\u001b[0m\u001b[0mpolEspDict\u001b[0m\u001b[0;34m)\u001b[0m\u001b[0;34m)\u001b[0m    \u001b[0;31m#\u001b[0m\u001b[0;34m\u001b[0m\u001b[0;34m\u001b[0m\u001b[0m\n\u001b[0m",
            "\u001b[0;31mNameError\u001b[0m: name 'polEspDict' is not defined"
          ]
        }
      ]
    },
    {
      "cell_type": "markdown",
      "metadata": {
        "id": "i0vjMXAY3s0E"
      },
      "source": [
        "Para copiar un diccionario, emplea el método `copy()`:"
      ]
    },
    {
      "cell_type": "code",
      "metadata": {
        "id": "z3WmlwL43uV6",
        "colab": {
          "base_uri": "https://localhost:8080/",
          "height": 51
        },
        "outputId": "dc97ee6f-e4d0-4160-888f-bc2a526d7aae"
      },
      "source": [
        "polEspDic = {\n",
        "    \"zamek\" : \"castillo\",\n",
        "    \"woda\"  : \"agua\",\n",
        "    \"gleba\" : \"tierra\"\n",
        "    }\n",
        "print('id(polEspDic):',id(polEspDic))\n",
        "copyDic = polEspDic.copy()\n",
        "print('id(copyDic):',id(copyDic))"
      ],
      "execution_count": null,
      "outputs": [
        {
          "output_type": "stream",
          "text": [
            "id(polEspDic): 140031568368552\n",
            "id(copyDic): 140031568115968\n"
          ],
          "name": "stdout"
        }
      ]
    },
    {
      "cell_type": "markdown",
      "metadata": {
        "id": "gBzjyTX2zrf8"
      },
      "source": [
        "### 3.2.9 Las tuplas y los diccionarios pueden trabajar juntos"
      ]
    },
    {
      "cell_type": "code",
      "metadata": {
        "id": "YqJEnn9Lzsxm",
        "colab": {
          "base_uri": "https://localhost:8080/",
          "height": 204
        },
        "outputId": "3a2f7b8f-3efb-4dbb-b0f5-c347dd2a2bb9"
      },
      "source": [
        "grupo = {}\n",
        "\n",
        "while True:\n",
        "    nombre = input(\"Ingresa el nombre del estudiante (o salir para detenerse): \")\n",
        "    if nombre == 'salir':\n",
        "        break\n",
        "    \n",
        "    calif = int(input(\"Ingresa la calificación del alumno (0-20): \"))\n",
        "    \n",
        "    if nombre in grupo:\n",
        "        grupo[nombre] += (calif,)\n",
        "    else:\n",
        "        grupo[nombre] = calif,\n",
        "        \n",
        "for nombre in sorted(grupo.keys()):\n",
        "    sum = 0\n",
        "    contador = 0\n",
        "    for calif in grupo[nombre]:\n",
        "        sum += calif\n",
        "        contador += 1\n",
        "    print(nombre, \":\", sum / contador)"
      ],
      "execution_count": null,
      "outputs": [
        {
          "output_type": "stream",
          "text": [
            "Ingresa el nombre del estudiante (o exit para detenerse): JC\n",
            "Ingresa la calificación del alumno (0-20): 20\n",
            "Ingresa el nombre del estudiante (o exit para detenerse): JC\n",
            "Ingresa la calificación del alumno (0-20): 19\n",
            "Ingresa el nombre del estudiante (o exit para detenerse): A\n",
            "Ingresa la calificación del alumno (0-20): 18\n",
            "Ingresa el nombre del estudiante (o exit para detenerse): A\n",
            "Ingresa la calificación del alumno (0-20): 17\n",
            "Ingresa el nombre del estudiante (o exit para detenerse): exit\n",
            "A : 17.5\n",
            "JC : 19.5\n"
          ],
          "name": "stdout"
        }
      ]
    }
  ]
}