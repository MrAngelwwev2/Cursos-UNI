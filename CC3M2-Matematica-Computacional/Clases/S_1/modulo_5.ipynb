{
  "nbformat": 4,
  "nbformat_minor": 0,
  "metadata": {
    "colab": {
      "name": "modulo_5.ipynb",
      "provenance": [],
      "collapsed_sections": [
        "1QpLI2AV0VsP",
        "3RSVw-FUDePh",
        "Rd8kCoTCHI1o",
        "-gp66UBzLr2L",
        "9U67pVG6zwtI",
        "n5sPh5yAhLAo"
      ],
      "toc_visible": true
    },
    "kernelspec": {
      "name": "python3",
      "display_name": "Python 3"
    }
  },
  "cells": [
    {
      "cell_type": "markdown",
      "metadata": {
        "id": "akcDz2QO0Mha"
      },
      "source": [
        "# Módulo 5:\n",
        "### Módulos, paquetes, cadenas, métodos de listas y excepciones."
      ]
    },
    {
      "cell_type": "markdown",
      "metadata": {
        "id": "wCDDHIQl0_0Y"
      },
      "source": [
        "En este módulo, aprenderás acerca de:\n",
        "\n",
        "- Módulos de Python: su lógica, su función, cómo importarlos de diferentes maneras y presentar el contenido de algunos módulos estándar proporcionados por Python.\n",
        "- La forma en que los módulos se unen para formar paquetes.\n",
        "- El concepto de una excepción y su implementación en Python, incluida la instrucción `try`-`except`, con sus aplicaciones y la instrucción `raise`.\n",
        "- Cadenas y sus métodos específicos, junto con sus similitudes y diferencias en comparación con las listas."
      ]
    },
    {
      "cell_type": "markdown",
      "metadata": {
        "id": "1QpLI2AV0VsP"
      },
      "source": [
        "## 4.1 Módulos"
      ]
    },
    {
      "cell_type": "markdown",
      "metadata": {
        "id": "PZsJqJf01dkG"
      },
      "source": [
        "Si se desea que un proyecto de software se complete con éxito, se deben tener los medios que le permitan:\n",
        "\n",
        "- Se deben dividir todas las tareas entre los desarrolladores.\n",
        "- Después, unir todas las partes creadas en un todo funcional.\n",
        "\n",
        "Por ejemplo, un determinado proyecto se puede dividir en dos partes principales:\n",
        "\n",
        "- La interfaz de usuario (la parte que se comunica con el usuario mediante widgets y una pantalla gráfica).\n",
        "- La lógica (la parte que procesa los datos y produce resultados).\n",
        "\n",
        "Cada una de estas partes se puede (muy probablemente) dividir en otras más pequeñas, y así sucesivamente. Tal proceso a menudo se denomina **descomposición**. \n",
        "\n",
        "El manejo de los módulos consta de dos cuestiones diferentes:\n",
        "\n",
        "- El primero (probablemente el más común) ocurre cuando se desea utilizar un módulo ya existente, escrito por otra persona o creado por el programador mismo en algún proyecto complejo: en este caso, se considera al programador como el **usuario** del módulo.\n",
        "- El segundo ocurre cuando se desea crear un nuevo módulo, ya sea para uso propio o para facilitar la vida de otros programadores: aquí eres el **proveedor** del módulo.\n",
        "\n",
        "En primer lugar, un módulo se identifica por su **nombre**. Si se desea utilizar cualquier módulo, se necesita saber su nombre. Se entrega una cantidad (bastante grande) de módulos junto con Python. Se puede pensar en ellos como una especie de \"equipo extra de Python\".\n",
        "\n",
        "Todos estos módulos, junto con las funciones integradas, forman la **Biblioteca estándar de Python** - un tipo especial de biblioteca donde los módulos desempeñan el papel de libros (incluso podemos decir que las carpetas desempeñan el papel de estanterías). Si deseas ver la lista completa de todos los \"volúmenes\" recopilados en esa biblioteca, se puede encontrar aquí: https://docs.python.org/3/library/index.html.\n",
        "\n",
        "Cada módulo consta de entidades (como un libro consta de capítulos). Estas entidades pueden ser funciones, variables, constantes, clases y objetos. Si se sabe cómo acceder a un módulo en particular, se puede utilizar cualquiera de las entidades que almacena."
      ]
    },
    {
      "cell_type": "markdown",
      "metadata": {
        "id": "aTBIM84w85Vs"
      },
      "source": [
        "### 4.1.1 Importando un módulo"
      ]
    },
    {
      "cell_type": "markdown",
      "metadata": {
        "id": "3RSVw-FUDePh"
      },
      "source": [
        "#### Primer método"
      ]
    },
    {
      "cell_type": "markdown",
      "metadata": {
        "id": "3WL-oylo9ALo"
      },
      "source": [
        "Para que un módulo sea utilizable, hay que importarlo (piensa en ello como sacar un libro del estante). La importación de un módulo se realiza mediante una instrucción llamada `import`. N.B.: `import` es también una palabra reservada (con todas sus implicaciones)."
      ]
    },
    {
      "cell_type": "code",
      "metadata": {
        "id": "ZohIRRxf7BZ4"
      },
      "source": [
        "import math # importando el módulo math\n",
        "import math, sys ## importando los módulos math y sys"
      ],
      "execution_count": null,
      "outputs": []
    },
    {
      "cell_type": "markdown",
      "metadata": {
        "id": "IIVd1gZR_aK8"
      },
      "source": [
        "Un **namespace** es un espacio (entendido en un contexto no físico) en el que existen algunos nombres y los nombres no entran en conflicto entre sí (es decir, no hay dos objetos diferentes con el mismo nombre). Podemos decir que cada grupo social es un namespace - el grupo tiende a nombrar a cada uno de sus miembros de una manera única (por ejemplo, los padres no darán a sus hijos los mismos nombres).\n",
        "\n",
        "**Dentro de un determinado namespace, cada nombre debe permanecer único**. Esto puede significar que algunos nombres pueden desaparecer cuando cualquier otra entidad de un nombre ya conocido ingresa al namespace. Mostraremos cómo funciona y cómo controlarlo, pero primero, volvamos a las importaciones.\n",
        "\n",
        "Si el módulo de un nombre especificado **existe y es accesible** (**un módulo es de hecho un archivo fuente de Python**), **Python importa su contenido, se hacen conocidos todos los nombres definidos en el módulo, pero no ingresan al namespace del código**."
      ]
    },
    {
      "cell_type": "code",
      "metadata": {
        "id": "aDJ4LF11z9Pu",
        "colab": {
          "base_uri": "https://localhost:8080/",
          "height": 68
        },
        "outputId": "234f2643-cca0-46d0-9267-86a0d81cc065"
      },
      "source": [
        "print('math.pi:',math.pi)\n",
        "print('math.sin(0):',math.sin(0))\n",
        "print('math.sin(math.pi):',math.sin(math.pi))"
      ],
      "execution_count": null,
      "outputs": [
        {
          "output_type": "stream",
          "text": [
            "math.pi: 3.141592653589793\n",
            "math.sin(0): 0.0\n",
            "math.sin(math.pi): 1.2246467991473532e-16\n"
          ],
          "name": "stdout"
        }
      ]
    },
    {
      "cell_type": "code",
      "metadata": {
        "id": "WZGs-jvhB46S",
        "colab": {
          "base_uri": "https://localhost:8080/",
          "height": 51
        },
        "outputId": "1ea5542d-1885-4b73-8d10-f5e8bfaa5612"
      },
      "source": [
        "import math\n",
        "pi = 3.14 \n",
        "print('pi\\t:\\t', pi) # ¡atención aquí!\n",
        "print('math.pi\\t:\\t', math.pi)"
      ],
      "execution_count": null,
      "outputs": [
        {
          "output_type": "stream",
          "text": [
            "pi\t:\t 3.14\n",
            "math.pi\t:\t 3.141592653589793\n"
          ],
          "name": "stdout"
        }
      ]
    },
    {
      "cell_type": "markdown",
      "metadata": {
        "id": "SCa3CWnKDosN"
      },
      "source": [
        "#### Segundo método"
      ]
    },
    {
      "cell_type": "markdown",
      "metadata": {
        "id": "qBz-9Xs3AwSk"
      },
      "source": [
        "En el segundo método, la sintaxis del `import` señala con precisión qué entidad (o entidades) del módulo son aceptables en el código:"
      ]
    },
    {
      "cell_type": "code",
      "metadata": {
        "id": "qrlH4A54BFPM",
        "colab": {
          "base_uri": "https://localhost:8080/",
          "height": 51
        },
        "outputId": "164a64a4-705c-436f-acec-74df09a3ec4b"
      },
      "source": [
        "from math import pi\n",
        "print('pi:',pi)\n",
        "\n",
        "from math import sin, pi\n",
        "print('sin(pi/2):',sin(pi/2))"
      ],
      "execution_count": null,
      "outputs": [
        {
          "output_type": "stream",
          "text": [
            "pi: 3.141592653589793\n",
            "sin(pi/2): 1.0\n"
          ],
          "name": "stdout"
        }
      ]
    },
    {
      "cell_type": "code",
      "metadata": {
        "id": "n1n9h-DLCivd",
        "colab": {
          "base_uri": "https://localhost:8080/",
          "height": 214
        },
        "outputId": "1c077219-8c41-4381-ae24-16559bac2a07"
      },
      "source": [
        "# Restart runtime\n",
        "from math import pi # solo importa pi de math \n",
        "pi = 3.14 \n",
        "print('pi\\t:\\t', pi) \n",
        "print('math.pi\\t:\\t', math.pi) # ¡atención aquí!"
      ],
      "execution_count": null,
      "outputs": [
        {
          "output_type": "stream",
          "text": [
            "pi\t:\t 3.14\n"
          ],
          "name": "stdout"
        },
        {
          "output_type": "error",
          "ename": "NameError",
          "evalue": "ignored",
          "traceback": [
            "\u001b[0;31m---------------------------------------------------------------------------\u001b[0m",
            "\u001b[0;31mNameError\u001b[0m                                 Traceback (most recent call last)",
            "\u001b[0;32m<ipython-input-1-088107220732>\u001b[0m in \u001b[0;36m<module>\u001b[0;34m()\u001b[0m\n\u001b[1;32m      3\u001b[0m \u001b[0mpi\u001b[0m \u001b[0;34m=\u001b[0m \u001b[0;36m3.14\u001b[0m\u001b[0;34m\u001b[0m\u001b[0;34m\u001b[0m\u001b[0m\n\u001b[1;32m      4\u001b[0m \u001b[0mprint\u001b[0m\u001b[0;34m(\u001b[0m\u001b[0;34m'pi\\t:\\t'\u001b[0m\u001b[0;34m,\u001b[0m \u001b[0mpi\u001b[0m\u001b[0;34m)\u001b[0m\u001b[0;34m\u001b[0m\u001b[0;34m\u001b[0m\u001b[0m\n\u001b[0;32m----> 5\u001b[0;31m \u001b[0mprint\u001b[0m\u001b[0;34m(\u001b[0m\u001b[0;34m'math.pi\\t:\\t'\u001b[0m\u001b[0;34m,\u001b[0m \u001b[0mmath\u001b[0m\u001b[0;34m.\u001b[0m\u001b[0mpi\u001b[0m\u001b[0;34m)\u001b[0m \u001b[0;31m# ¡atención aquí!\u001b[0m\u001b[0;34m\u001b[0m\u001b[0;34m\u001b[0m\u001b[0m\n\u001b[0m",
            "\u001b[0;31mNameError\u001b[0m: name 'math' is not defined"
          ]
        }
      ]
    },
    {
      "cell_type": "markdown",
      "metadata": {
        "id": "3biadIpADxsL"
      },
      "source": [
        "#### Tercer método"
      ]
    },
    {
      "cell_type": "markdown",
      "metadata": {
        "id": "szzQZJvRCtus"
      },
      "source": [
        "En el tercer método, la sintaxis del `import` es una forma más agresiva que la presentada anteriormente: `from module import *`\n",
        "\n",
        "Como puedes ver, el nombre de una entidad (o la lista de nombres de entidades) se reemplaza con un sólo asterisco (*). Tal instrucción importa todas las entidades del módulo indicado.\n",
        "\n",
        "- ¿Es conveniente? Sí, lo es, ya que libera del deber de enumerar todos los nombres que se necesiten.\n",
        "- ¿Es inseguro? Sí, a menos que conozca todos los nombres proporcionados por el módulo, es posible que no puedas evitar conflictos de nombres. Trata esto como una solución temporal e intenta no usarlo en un código regular.\n"
      ]
    },
    {
      "cell_type": "markdown",
      "metadata": {
        "id": "0lneVGJLD22q"
      },
      "source": [
        "#### Cuarto método"
      ]
    },
    {
      "cell_type": "markdown",
      "metadata": {
        "id": "nF4oP1n9DDWL"
      },
      "source": [
        "Si se importa un módulo y no se está conforme con el nombre del módulo en particular (por ejemplo, sí es el mismo que el de una de sus entidades ya definidas) puede dársele otro nombre: esto se llama **aliasing** o **renombrado**. Aliasing (renombrado) **hace que el módulo se identifique con un nombre diferente al original**.\n",
        "\n",
        "La creación de un alias se realiza junto con la importación del módulo, y exige la siguiente forma de la instrucción `import`."
      ]
    },
    {
      "cell_type": "code",
      "metadata": {
        "id": "lnwxJNdhJ462"
      },
      "source": [
        "import module as alias"
      ],
      "execution_count": null,
      "outputs": []
    },
    {
      "cell_type": "markdown",
      "metadata": {
        "id": "knTHPE73KAGx"
      },
      "source": [
        "El \"module\" identifica el nombre del módulo original mientras que el \"alias\" es el nombre que se desea usar en lugar del original. N.B.: `as` es una palabra reservada; después de la ejecución exitosa de una importación con alias, el nombre original del módulo se vuelve inaccesible y no debe ser utilizado.\n",
        "\n",
        "A su vez, cuando usa la variante `from module import name` y se necesita cambiar el nombre de la entidad, se crea un alias para la entidad. Esto hará que el nombre sea reemplazado por el alias que se elija. Así es como se puede hacer:"
      ]
    },
    {
      "cell_type": "code",
      "metadata": {
        "id": "OR6UJYigKlJL"
      },
      "source": [
        "from module import nombre as alias"
      ],
      "execution_count": null,
      "outputs": []
    },
    {
      "cell_type": "markdown",
      "metadata": {
        "id": "_5SRDLWhKsKq"
      },
      "source": [
        "Como anteriormente, el nombre original (sin alias) se vuelve inaccesible. La frase `nombre as alias` puede repetirse: emplea comas para separar las frases, como a continuación:"
      ]
    },
    {
      "cell_type": "code",
      "metadata": {
        "id": "8zybTF5FJmQ8",
        "colab": {
          "base_uri": "https://localhost:8080/"
        },
        "outputId": "babb30ed-258f-4577-c387-8b6684216c97"
      },
      "source": [
        "from math import pi as PI, sin as seno\n",
        "print('seno(PI/2):',seno(PI/2))"
      ],
      "execution_count": null,
      "outputs": [
        {
          "output_type": "stream",
          "text": [
            "sine(PI/2): 1.0\n"
          ],
          "name": "stdout"
        }
      ]
    },
    {
      "cell_type": "markdown",
      "metadata": {
        "id": "Rd8kCoTCHI1o"
      },
      "source": [
        "### 4.1.2 Módulos estándar"
      ]
    },
    {
      "cell_type": "markdown",
      "metadata": {
        "id": "DsQu6_XcH9nY"
      },
      "source": [
        "Antes de comenzar a revisar algunos módulos estándar de Python, veamos la función `dir()`. No tiene nada que ver con el comando `dir` de las terminales de Windows o Unix. El comando `dir()` no muestra el contenido de un directorio o carpeta de disco, pero no se puede negar que hace algo similar: puede revelar todos los nombres proporcionados a través de un módulo en particular.\n",
        "\n",
        "Hay una condición: el módulo debe haberse importado previamente como un todo (es decir, utilizar la instrucción `import module` - `from module` no es suficiente).\n",
        "\n",
        "La función devuelve una **lista ordenada alfabéticamente** la cual contiene todos los nombres de las entidades disponibles en el módulo: `dir(module)`\n",
        "\n",
        "N.B: Si el nombre del módulo tiene un alias, debe usar el alias, no el nombre original. \n",
        "\n",
        "Usar la función dentro de un script normal no tiene mucho sentido, pero aún así, es posible. Por ejemplo, se puede ejecutar el siguiente código para imprimir los nombres de todas las entidades dentro del módulo `math`:"
      ]
    },
    {
      "cell_type": "code",
      "metadata": {
        "id": "IhC4-dnqI8Pa",
        "colab": {
          "base_uri": "https://localhost:8080/",
          "height": 54
        },
        "outputId": "008de73b-8f4c-4a78-8f90-c8d6a4ef4c95"
      },
      "source": [
        "import math\n",
        "\n",
        "for name in dir(math):\n",
        "    print(name, end=\"\\t\")"
      ],
      "execution_count": null,
      "outputs": [
        {
          "output_type": "stream",
          "text": [
            "__doc__\t__loader__\t__name__\t__package__\t__spec__\tacos\tacosh\tasin\tasinh\tatan\tatan2\tatanh\tceil\tcopysign\tcos\tcosh\tdegrees\te\terf\terfc\texp\texpm1\tfabs\tfactorial\tfloor\tfmod\tfrexp\tfsum\tgamma\tgcd\thypot\tinf\tisclose\tisfinite\tisinf\tisnan\tldexp\tlgamma\tlog\tlog10\tlog1p\tlog2\tmodf\tnan\tpi\tpow\tradians\tsin\tsinh\tsqrt\ttan\ttanh\ttau\ttrunc\t"
          ],
          "name": "stdout"
        }
      ]
    },
    {
      "cell_type": "markdown",
      "metadata": {
        "id": "rI5IUwB1JFmJ"
      },
      "source": [
        "¿Has notado los nombres extraños que comienzan con `__` al inicio de la lista? Se hablará más sobre ellos cuando hablemos sobre los problemas relacionados con la escritura de módulos propios.\n",
        "\n",
        "Algunos de los nombres pueden traer recuerdos de las lecciones de matemáticas, y probablemente no tendrás ningún problema en adivinar su significado.\n",
        "\n",
        "El emplear la función `dir()` dentro de un código puede no parecer muy útil; por lo general, se desea conocer el contenido de un módulo en particular antes de escribir y ejecutar el código.\n",
        "\n",
        "Afortunadamente, se puede ejecutar la función directamente en la consola de Python (IDLE), sin necesidad de escribir y ejecutar un script por separado.\n",
        "\n",
        "Así es como se puede hacer:"
      ]
    },
    {
      "cell_type": "code",
      "metadata": {
        "id": "AlrAzjHcHNER",
        "colab": {
          "base_uri": "https://localhost:8080/",
          "height": 935
        },
        "outputId": "c320fd40-79b3-49f3-dcab-1c8dd090d843"
      },
      "source": [
        "import math\n",
        "dir(math)"
      ],
      "execution_count": null,
      "outputs": [
        {
          "output_type": "execute_result",
          "data": {
            "text/plain": [
              "['__doc__',\n",
              " '__loader__',\n",
              " '__name__',\n",
              " '__package__',\n",
              " '__spec__',\n",
              " 'acos',\n",
              " 'acosh',\n",
              " 'asin',\n",
              " 'asinh',\n",
              " 'atan',\n",
              " 'atan2',\n",
              " 'atanh',\n",
              " 'ceil',\n",
              " 'copysign',\n",
              " 'cos',\n",
              " 'cosh',\n",
              " 'degrees',\n",
              " 'e',\n",
              " 'erf',\n",
              " 'erfc',\n",
              " 'exp',\n",
              " 'expm1',\n",
              " 'fabs',\n",
              " 'factorial',\n",
              " 'floor',\n",
              " 'fmod',\n",
              " 'frexp',\n",
              " 'fsum',\n",
              " 'gamma',\n",
              " 'gcd',\n",
              " 'hypot',\n",
              " 'inf',\n",
              " 'isclose',\n",
              " 'isfinite',\n",
              " 'isinf',\n",
              " 'isnan',\n",
              " 'ldexp',\n",
              " 'lgamma',\n",
              " 'log',\n",
              " 'log10',\n",
              " 'log1p',\n",
              " 'log2',\n",
              " 'modf',\n",
              " 'nan',\n",
              " 'pi',\n",
              " 'pow',\n",
              " 'radians',\n",
              " 'sin',\n",
              " 'sinh',\n",
              " 'sqrt',\n",
              " 'tan',\n",
              " 'tanh',\n",
              " 'tau',\n",
              " 'trunc']"
            ]
          },
          "metadata": {
            "tags": []
          },
          "execution_count": 4
        }
      ]
    },
    {
      "cell_type": "markdown",
      "metadata": {
        "id": "U03R9ugDJjVo"
      },
      "source": [
        "#### El módulo `math`"
      ]
    },
    {
      "cell_type": "markdown",
      "metadata": {
        "id": "XJUxuohzJmME"
      },
      "source": [
        "Comencemos con una vista previa de algunas de las funciones proporcionadas por el módulo `math`. El primer grupo de ellas están relacionadas con trigonometría:\n",
        "\n",
        "- `sin(x)` → el seno de x.\n",
        "- `cos(x)` → el coseno de x.\n",
        "- `tan(x)` → la tangente de x.\n",
        "\n",
        "Todas estas funciones toman un argumento (una medida de ángulo expresada en radianes) y devuelven el resultado apropiado (ten cuidado con `tan()` - no todos los argumentos son aceptados).\n",
        "\n",
        "También están sus versiones inversas:\n",
        "\n",
        "- `asin(x)` → el arcoseno de x.\n",
        "- `acos(x)` → el arcocoseno de x.\n",
        "- `atan(x)` → el arcotangente de x.\n",
        "\n",
        "Estas funciones toman un argumento (verifica que sea correcto) y devuelven una medida de un ángulo en radianes.\n",
        "\n",
        "Para trabajar eficazmente con mediciones de ángulos, el módulo `math` proporciona las siguientes entidades:\n",
        "\n",
        "- `pi` → una constante con un valor que es una aproximación de π.\n",
        "- `radians(x)` → una función que convierte x de grados a radianes.\n",
        "- `degrees(x)` → actuando en el otro sentido (de radianes a grados).\n",
        "\n",
        "Además de las funciones circulares (enumeradas anteriormente), el módulo `math` también contiene un conjunto de sus análogos hiperbólicos:\n",
        "\n",
        "- `sinh(x)` → el seno hiperbólico.\n",
        "- `cosh(x)` → el coseno hiperbólico.\n",
        "- `tanh(x)` → la tangente hiperbólico.\n",
        "- `asinh(x)` → el arcoseno hiperbólico.\n",
        "- `acosh(x)` → el arcocoseno hiperbólico.\n",
        "- `atanh(x)` → el arcotangente hiperbólico.\n",
        "\n",
        "Existe otro grupo de las funciones `math` relacionadas con la exponenciación:\n",
        "\n",
        "- `e` → una constante con un valor que es una aproximación del número de Euler (e).\n",
        "- `exp(x)` → encontrar el valor de $e^x$.\n",
        "- `log(x)` → el logaritmo natural de x.\n",
        "- `log(x, b)` → el logaritmo de x con base b.\n",
        "- `log10(x)` → el logaritmo decimal de x (más preciso que `log(x, 10)`).\n",
        "- `log2(x)` → el logaritmo binario de x (más preciso que `log(x, 2)`).\n",
        "\n",
        "N.B: la función `pow()`:\n",
        "\n",
        "- `pow(x, y)` → encontrar el valor de $x^y$ (toma en cuenta los dominios).\n",
        "Esta es una función incorporada y no se tiene que importar.\n",
        "\n",
        "El último grupo consta de algunas funciones de propósito general como:\n",
        "\n",
        "- `ceil(x)` → devuelve el entero más pequeño mayor o igual que x.\n",
        "- `floor(x)` → el entero más grande menor o igual que x.\n",
        "- `trunc(x)` → el valor de x truncado a un entero (ten cuidado, no es equivalente a ceil o floor).\n",
        "- `factorial(x)` → devuelve $x!$ (x tiene que ser un valor entero y no negativo.\n",
        "- `hypot(x, y)` → devuelve la longitud de la hipotenusa de un triángulo rectángulo con las longitudes de los catetos iguales a x e y (lo mismo que `sqrt(pow(x, 2) + pow(y, 2)`) pero más preciso)."
      ]
    },
    {
      "cell_type": "markdown",
      "metadata": {
        "id": "-gp66UBzLr2L"
      },
      "source": [
        "#### El módulo `random`"
      ]
    },
    {
      "cell_type": "markdown",
      "metadata": {
        "id": "iWv_Vz87Lz-S"
      },
      "source": [
        "Otro módulo que vale la pena mencionar es el que se llama `random`. El cual ofrece algunos mecanismos que permiten operar con **números pseudoaleatorios**.\n",
        "\n",
        "Toma en cuenta el prefijo **pseudo** - los números generados por los módulos pueden parecer aleatorios en el sentido de que no se pueden predecir, pero no hay que olvidar que todos se calculan utilizando algoritmos muy refinados.\n",
        "\n",
        "Los algoritmos no son aleatorios, son deterministas y predecibles. Solo aquellos procesos físicos que se salgan completamente de nuestro control (como la intensidad de la radiación cósmica) pueden usarse como fuente de datos aleatorios reales. Los datos producidos por computadoras deterministas no pueden ser aleatorios de ninguna manera.\n",
        "\n",
        "Un generador de números aleatorios toma un valor llamado **semilla**, lo trata como un valor de entrada, calcula un número \"aleatorio\" basado en él (el método depende de un algoritmo elegido) y produce una **nueva semilla**.\n",
        "\n",
        "La duración de un ciclo en el que todos los valores semilla son únicos puede ser muy largo, pero no es infinito: tarde o temprano los valores iniciales comenzarán a repetirse y los valores generadores también se repetirán. Esto es normal. Es una característica, no un error.\n",
        "\n",
        "El valor de la semilla inicial, establecido durante el inicio del programa, determina el orden en que aparecerán los valores generados.\n",
        "\n",
        "El factor aleatorio del proceso puede ser aumentado al establecer la semilla tomando un número de la hora actual - esto puede garantizar que cada lanzamiento del programa comience desde un valor semilla diferente (por lo tanto, usará diferentes números aleatorios). Afortunadamente, Python realiza dicha inicialización al importar el módulo.\n",
        "\n",
        "La función general llamada `random()` (no debe confundirse con el nombre del módulo) produce un número flotante `x` entre el rango `(0.0, 1.0)` - en otras palabras: (0.0 <= x < 1.0).\n",
        "\n",
        "El sgte. programa producirá cinco valores pseudoaleatorios, ya que sus valores están determinados por el valor semilla (un valor impredecible) actual, no se pueden adivinar."
      ]
    },
    {
      "cell_type": "code",
      "metadata": {
        "id": "2h0_EU8yM9Tm",
        "colab": {
          "base_uri": "https://localhost:8080/",
          "height": 102
        },
        "outputId": "e87ec691-f2fb-46b1-b06c-d313bd3633fe"
      },
      "source": [
        "from random import random\n",
        "\n",
        "for i in range(5):\n",
        "    print(random())"
      ],
      "execution_count": null,
      "outputs": [
        {
          "output_type": "stream",
          "text": [
            "0.32015836040826195\n",
            "0.2846077334072499\n",
            "0.7624767762048694\n",
            "0.24494027249722494\n",
            "0.9478414048917418\n"
          ],
          "name": "stdout"
        }
      ]
    },
    {
      "cell_type": "markdown",
      "metadata": {
        "id": "Kqi3PNbOM_pp"
      },
      "source": [
        "La función `seed()` es capaz de establecer la semilla del generador. Te mostraremos dos de sus variantes:\n",
        "\n",
        "- `seed()` - establece la semilla con la hora actual.\n",
        "- `seed(int_value)` - establece la semilla con el valor entero int_value.\n",
        "\n",
        "Hemos modificado el programa anterior; de hecho, hemos eliminado cualquier rastro de aleatoriedad del código:"
      ]
    },
    {
      "cell_type": "code",
      "metadata": {
        "id": "fSjIVE_FNQPy",
        "colab": {
          "base_uri": "https://localhost:8080/",
          "height": 102
        },
        "outputId": "38bd8662-fb20-426d-d2e2-99a55e46021f"
      },
      "source": [
        "from random import random, seed\n",
        "\n",
        "seed(0)\n",
        "\n",
        "for i in range(5):\n",
        "    print(random())"
      ],
      "execution_count": null,
      "outputs": [
        {
          "output_type": "stream",
          "text": [
            "0.8444218515250481\n",
            "0.7579544029403025\n",
            "0.420571580830845\n",
            "0.25891675029296335\n",
            "0.5112747213686085\n"
          ],
          "name": "stdout"
        }
      ]
    },
    {
      "cell_type": "markdown",
      "metadata": {
        "id": "vB1okNBONSk_"
      },
      "source": [
        "Debido al hecho de que la semilla siempre se establece con el mismo valor, la secuencia de valores generados siempre se ve igual. Ejecuta el programa. Esto es lo que tenemos:\n",
        "\n",
        "`0.844421851525\n",
        "0.75795440294\n",
        "0.420571580831\n",
        "0.258916750293\n",
        "0.511274721369`\n",
        "\n",
        "N.B.: sus valores pueden ser ligeramente diferentes si tu sistema utiliza aritmética de punto flotante más precisa o menos precisa, pero la diferencia se verá bastante lejos del punto decimal.\n",
        "\n",
        "Si deseas valores aleatorios enteros, una de las siguientes funciones encajaría mejor:\n",
        "\n",
        "- `randrange(fin)`\n",
        "- `randrange(inico, fin)`\n",
        "- `randrange(inicio, fin, incremento)`\n",
        "- `randint(izquierda, derecha)`\n",
        "\n",
        "Las primeras tres invocaciones generarán un número entero tomado (pseudoaleatoriamente) del rango:\n",
        "\n",
        "- `range(fin)`\n",
        "- `range(inicio, fin)`\n",
        "- `range(inicio, fin, incremento)`\n",
        "\n",
        "Toma en cuenta la **exclusión implícita del lado derecho**.\n",
        "\n",
        "La última función es equivalente a `randrange(izquierda, derecha+1)` - genera el valor entero `i`, el cual cae en el rango [izquierda, derecha] (sin exclusión en el lado derecho).\n",
        "\n",
        "Observa el código en el editor. Este programa generará una línea que consta de tres ceros y un cero o un uno en el cuarto lugar."
      ]
    },
    {
      "cell_type": "code",
      "metadata": {
        "id": "LXzARlUfOTuP",
        "colab": {
          "base_uri": "https://localhost:8080/"
        },
        "outputId": "e4ee4417-8d95-4423-eee7-b0084e346f19"
      },
      "source": [
        "from random import randrange, randint\n",
        "\n",
        "print(randrange(1), end=' ')\n",
        "print(randrange(0, 1), end=' ')\n",
        "print(randrange(0, 1, 1), end=' ')\n",
        "print(randint(0, 1))"
      ],
      "execution_count": null,
      "outputs": [
        {
          "output_type": "stream",
          "text": [
            "0 0 0 1\n"
          ],
          "name": "stdout"
        }
      ]
    },
    {
      "cell_type": "markdown",
      "metadata": {
        "id": "tOCx17nMOkOD"
      },
      "source": [
        "Las funciones anteriores tienen una desventaja importante: pueden producir valores repetidos incluso si el número de invocaciones posteriores no es mayor que el rango especificado.\n",
        "\n",
        "Observa el código en el editor. Es muy probable que el programa genere un conjunto de números en el que algunos elementos no sean únicos."
      ]
    },
    {
      "cell_type": "code",
      "metadata": {
        "id": "Uh_vBQOiOx6g",
        "colab": {
          "base_uri": "https://localhost:8080/",
          "height": 34
        },
        "outputId": "9b97057d-f18f-4ae8-c1a6-2fe60e5665cf"
      },
      "source": [
        "for i in range(10):\n",
        "    print(randint(1, 10), end=',')"
      ],
      "execution_count": null,
      "outputs": [
        {
          "output_type": "stream",
          "text": [
            "10,4,9,3,5,3,2,10,5,9,"
          ],
          "name": "stdout"
        }
      ]
    },
    {
      "cell_type": "markdown",
      "metadata": {
        "id": "TNkjRPsAO2re"
      },
      "source": [
        "Como puedes ver, esta no es una buena herramienta para generar números para la lotería. Afortunadamente, existe una mejor solución que escribir tu propio código para verificar la singularidad de los números \"sorteados\". Es una función con el nombre de `choice`:\n",
        "\n",
        "- `choice(secuencia)`\n",
        "- `sample(secuencia, elementos_a_elegir=1)`\n",
        "\n",
        "La primera variante elige un elemento \"aleatorio\" de la secuencia de entrada y lo devuelve. El segundo crea una lista (una muestra) que consta del elemento `elementos_a_elegir` (que por defecto es 1) \"sorteado\" de la secuencia de entrada.\n",
        "\n",
        "En otras palabras, la función elige algunos de los elementos de entrada, devolviendo una lista con la elección. Los elementos de la muestra se colocan en orden aleatorio. Nota que `elementos_a_elegir` no debe ser mayor que la longitud de la secuencia de entrada.\n",
        "\n",
        "Observa el código a continuación:"
      ]
    },
    {
      "cell_type": "code",
      "metadata": {
        "id": "W5gibOJmPVJu",
        "colab": {
          "base_uri": "https://localhost:8080/",
          "height": 68
        },
        "outputId": "d774e9ab-4a47-4eca-96bd-1a325f2f96d1"
      },
      "source": [
        "from random import choice, sample\n",
        "\n",
        "lst = [1, 2, 3, 4, 5, 6, 7, 8, 9, 10]\n",
        "\n",
        "print(choice(lst))\n",
        "print(sample(lst, 5))\n",
        "print(sample(lst, 10))"
      ],
      "execution_count": null,
      "outputs": [
        {
          "output_type": "stream",
          "text": [
            "10\n",
            "[3, 5, 2, 6, 1]\n",
            "[6, 8, 2, 3, 4, 7, 9, 5, 10, 1]\n"
          ],
          "name": "stdout"
        }
      ]
    },
    {
      "cell_type": "markdown",
      "metadata": {
        "id": "M5LAVON6PWvT"
      },
      "source": [
        "Nuevamente, la salida del programa no es predecible."
      ]
    },
    {
      "cell_type": "markdown",
      "metadata": {
        "id": "b1QPjAPZQN_m"
      },
      "source": [
        "#### El módulo `platform`"
      ]
    },
    {
      "cell_type": "markdown",
      "metadata": {
        "id": "a7C2gysQQQ5T"
      },
      "source": [
        "A veces, puede ser necesario encontrar información no relacionada con Python. Por ejemplo, es posible que necesites conocer la ubicación de tu programa dentro del entorno de la computadora.\n",
        "\n",
        "Imagina el entorno de tu programa como una pirámide que consta de varias capas o plataformas.\n",
        "\n",
        "Las capas son:\n",
        "\n",
        "- El código (en ejecución) se encuentra en la parte superior.\n",
        "- Python (mejor dicho, su entorno de ejecución) se encuentra directamente debajo de él.\n",
        "- La siguiente capa de la pirámide se llena con el SO (sistema operativo): el entorno de Python proporciona algunas de sus funcionalidades utilizando los servicios del sistema operativo. Python, aunque es muy potente, no es omnipotente: se ve obligado a usar muchos ayudantes si va a procesar archivos o comunicarse con dispositivos físicos.\n",
        "- La capa más inferior es el hardware: el procesador (o procesadores), las interfaces de red, los dispositivos de interfaz humana (ratones, teclados, etc.) y toda otra maquinaria necesaria para hacer funcionar la computadora: el sistema operativo sabe cómo emplearlos y utiliza muchos trucos para trabajar con todas las partes en un ritmo constante.\n",
        "\n",
        "Esto significa que algunas de las acciones del programa tienen que recorrer un largo camino para ejecutarse con éxito, imagina que:\n",
        "\n",
        "- **Tu código** quiere crear un archivo, por lo que invoca una de las funciones de Python.\n",
        "- **Python** acepta la orden, la reorganiza para cumplir con los requisitos del sistema operativo local (es como poner el sello \"aprobado\" en una solicitud) y lo envía.\n",
        "- El **SO** comprueba si la solicitud es razonable y válida (por ejemplo, si el nombre del archivo se ajusta a algunas reglas de sintaxis) e intenta crear el archivo. Tal operación, aparentemente es muy simple, no es atómica: consiste de muchos pasos menores tomados por...\n",
        "- El **hardware**, el cual es responsable de activar los dispositivos de almacenamiento (disco duro, dispositivos de estado sólido, etc.) para satisfacer las necesidades del sistema operativo.\n",
        "\n",
        "Por lo general, no eres consciente de todo ese alboroto: quieres que se cree el archivo y eso es todo.\n",
        "\n",
        "Pero a veces quieres saber más, por ejemplo, el nombre del sistema operativo que aloja Python y algunas características que describen el hardware que aloja el sistema operativo.\n",
        "\n",
        "Hay un módulo que proporciona algunos medios para permitir saber dónde se encuentra y qué componentes funcionan. El módulo se llama `platform`. Veamos algunas de las funciones que brinda.\n",
        "\n",
        "El módulo `platform` permite acceder a los datos de la plataforma subyacente, es decir, hardware, sistema operativo e información sobre la versión del intérprete.\n",
        "\n",
        "Existe también una función que puede mostrar todas las capas subyacentes en un solo vistazo, llamada `platform`. Simplemente devuelve una cadena que describe el entorno; por lo tanto, su salida está más dirigida a los humanos que al procesamiento automatizado (lo veremos pronto).\n",
        "\n",
        "Así es como se puede invocar: `platform(aliased = False, terse = False)`.\n",
        "\n",
        "Ahora:\n",
        "\n",
        "- `aliased` → cuando se establece a True (o cualquier valor distinto de cero) puede hacer que la función presente los nombres de capa subyacentes alternativos en lugar de los comunes.\n",
        "- `terse` → cuando se establece a True (o cualquier valor distinto de cero) puede convencer a la función de presentar una forma más breve del resultado (si lo fuera posible)."
      ]
    },
    {
      "cell_type": "code",
      "metadata": {
        "id": "8r7zIJg1RfKt",
        "colab": {
          "base_uri": "https://localhost:8080/",
          "height": 68
        },
        "outputId": "217fc3be-9869-4f59-a1e3-d44a18d8de4a"
      },
      "source": [
        "from platform import platform\n",
        "\n",
        "print(platform())\n",
        "print(platform(1))\n",
        "print(platform(0, 1))"
      ],
      "execution_count": null,
      "outputs": [
        {
          "output_type": "stream",
          "text": [
            "Linux-4.19.104+-x86_64-with-Ubuntu-18.04-bionic\n",
            "Linux-4.19.104+-x86_64-with-Ubuntu-18.04-bionic\n",
            "Linux-4.19.104+-x86_64-with-glibc2.25\n"
          ],
          "name": "stdout"
        }
      ]
    },
    {
      "cell_type": "markdown",
      "metadata": {
        "id": "c_A8Jb_uRowe"
      },
      "source": [
        "A veces, es posible que solo se desee conocer el nombre genérico del procesador que ejecuta el sistema operativo junto con Python y el código, una función llamada `machine()` te lo dirá. Como anteriormente, la función devuelve una cadena."
      ]
    },
    {
      "cell_type": "code",
      "metadata": {
        "id": "n2tzuSGyRti8",
        "colab": {
          "base_uri": "https://localhost:8080/",
          "height": 34
        },
        "outputId": "a3119568-860e-4b32-85bf-d20dd3031151"
      },
      "source": [
        "from platform import machine\n",
        "\n",
        "print(machine())"
      ],
      "execution_count": null,
      "outputs": [
        {
          "output_type": "stream",
          "text": [
            "x86_64\n"
          ],
          "name": "stdout"
        }
      ]
    },
    {
      "cell_type": "markdown",
      "metadata": {
        "id": "dhd6luRhRv6J"
      },
      "source": [
        "La función `processor()` devuelve una cadena con el nombre real del procesador (si lo fuese posible)."
      ]
    },
    {
      "cell_type": "code",
      "metadata": {
        "id": "P15SMjiBSKFt",
        "colab": {
          "base_uri": "https://localhost:8080/",
          "height": 34
        },
        "outputId": "786658a6-3af1-4083-88fe-d382e480d40b"
      },
      "source": [
        "from platform import processor\n",
        "\n",
        "print(processor())"
      ],
      "execution_count": null,
      "outputs": [
        {
          "output_type": "stream",
          "text": [
            "x86_64\n"
          ],
          "name": "stdout"
        }
      ]
    },
    {
      "cell_type": "markdown",
      "metadata": {
        "id": "CbT6rSwJSMrb"
      },
      "source": [
        "Una función llamada `system()` devuelve el nombre genérico del sistema operativo en una cadena."
      ]
    },
    {
      "cell_type": "code",
      "metadata": {
        "id": "pld6NddhSUwL",
        "colab": {
          "base_uri": "https://localhost:8080/",
          "height": 34
        },
        "outputId": "84c48df9-f198-4f77-97e5-8807085236ef"
      },
      "source": [
        "from platform import system\n",
        "\n",
        "print(system())"
      ],
      "execution_count": null,
      "outputs": [
        {
          "output_type": "stream",
          "text": [
            "Linux\n"
          ],
          "name": "stdout"
        }
      ]
    },
    {
      "cell_type": "markdown",
      "metadata": {
        "id": "y_PodPtBSXak"
      },
      "source": [
        "La versión del sistema operativo se proporciona como una cadena por la función `version()`."
      ]
    },
    {
      "cell_type": "code",
      "metadata": {
        "id": "iUPC6F3VSW_v",
        "colab": {
          "base_uri": "https://localhost:8080/",
          "height": 34
        },
        "outputId": "ecdee38a-439f-460f-d491-d3f509b48b68"
      },
      "source": [
        "from platform import version\n",
        "\n",
        "print(version())"
      ],
      "execution_count": null,
      "outputs": [
        {
          "output_type": "stream",
          "text": [
            "#1 SMP Wed Feb 19 05:26:34 PST 2020\n"
          ],
          "name": "stdout"
        }
      ]
    },
    {
      "cell_type": "markdown",
      "metadata": {
        "id": "xdKviaKBSn-W"
      },
      "source": [
        "Si necesitas saber qué versión de Python está ejecutando tu código, puedes verificarlo utilizando una serie de funciones dedicadas, aquí hay dos de ellas:\n",
        "\n",
        "- `python_implementation()` → devuelve una cadena que denota la implementación de Python (espera CPython aquí, a menos que decidas utilizar cualquier rama de Python no canónica).\n",
        "- `python_version_tuple()` → devuelve una tupla de tres elementos la cual contiene:\n",
        " - la parte **mayor** de la versión de Python.\n",
        " - la parte **menor**,\n",
        " - el número de nivel del **patch**."
      ]
    },
    {
      "cell_type": "code",
      "metadata": {
        "id": "qvvy8k8cS49s",
        "colab": {
          "base_uri": "https://localhost:8080/",
          "height": 85
        },
        "outputId": "75db22f5-ca25-4f3a-acb2-52d958d14a11"
      },
      "source": [
        "from platform import python_implementation, python_version_tuple\n",
        "\n",
        "print(python_implementation())\n",
        "\n",
        "for atr in python_version_tuple():\n",
        "    print(atr)"
      ],
      "execution_count": null,
      "outputs": [
        {
          "output_type": "stream",
          "text": [
            "CPython\n",
            "3\n",
            "6\n",
            "9\n"
          ],
          "name": "stdout"
        }
      ]
    },
    {
      "cell_type": "markdown",
      "metadata": {
        "id": "IcxwGBpgTBP9"
      },
      "source": [
        "#### Índice del módulo de Python"
      ]
    },
    {
      "cell_type": "markdown",
      "metadata": {
        "id": "anINjKMdTIfI"
      },
      "source": [
        "Aquí solo hemos cubierto los conceptos básicos de los módulos de Python. Los módulos de Python conforman su propio universo, en el que Python es solo una galaxia, y nos aventuraríamos a decir que explorar las profundidades de estos módulos puede llevar mucho más tiempo que familiarizarse con Python \"puro\".\n",
        "\n",
        "Además, la comunidad de Python en todo el mundo crea y mantiene cientos de módulos adicionales utilizados en aplicaciones muy específicas como la genética, la psicología o incluso la astrología.\n",
        "\n",
        "Estos módulos no están (y no serán) distribuidos junto con Python, o a través de canales oficiales, lo que hace que el universo de Python sea más amplio, casi infinito.\n",
        "\n",
        "Puedes leer sobre todos los módulos estándar de Python aquí: https://docs.python.org/3/py-modindex.html.\n",
        "\n",
        "No te preocupes, no necesitarás todos estos módulos. Muchos de ellos son muy específicos. Todo lo que se necesita hacer es encontrar los módulos que se desean y aprender a cómo usarlos."
      ]
    },
    {
      "cell_type": "markdown",
      "metadata": {
        "id": "Uw5gXGTaVgYu"
      },
      "source": [
        "### 4.1.3 Creando módulos y paquetes propios"
      ]
    },
    {
      "cell_type": "markdown",
      "metadata": {
        "id": "AMrOwAOpVqWe"
      },
      "source": [
        "Escribir tus propios módulos no difiere mucho de escribir scripts comunes. Existen algunos aspectos específicos que se deben tomar en cuenta, pero definitivamente no es algo complicado. Lo verás pronto.\n",
        "\n",
        "Resumamos algunos aspectos importantes:\n",
        "\n",
        "- Un **módulo** es un **contenedor lleno de funciones** - puedes empaquetar tantas funciones como desees en un módulo y distribuirlo por todo el mundo.\n",
        "- Por supuesto, no es una buena idea mezclar funciones con diferentes áreas de aplicación dentro de un módulo (al igual que en una biblioteca: nadie espera que los trabajos científicos se incluyan entre los cómics), así que se deben agrupar las funciones cuidadosamente y asignar un nombre claro e intuitivo al módulo que las contiene (por ejemplo, no le des el nombre videojuegos a un módulo que contiene funciones destinadas a particionar y formatear discos duros).\n",
        "- Crear muchos módulos puede causar desorden: tarde que temprano querrás agrupar tus módulos de la misma manera que previamente has agrupado funciones: ¿Existe un contenedor más general que un módulo?.\n",
        "- Sí lo hay, es un **paquete**: en el mundo de los módulos, un paquete juega un papel similar al de una carpeta o directorio en el mundo de los archivos.\n",
        "\n",
        "En esta sección, trabajarás localmente en tu máquina. Comencemos desde cero, de la siguiente manera:\n",
        "\n",
        "Se necesitan dos archivos para realizar estos experimentos. Uno de ellos será el módulo en sí. Está vacío ahora. No te preocupes, lo vas a llenar con el código real.\n",
        "\n",
        "El archivo lleva por nombre `module.py.` No muy creativo, pero es simple y claro.\n",
        "\n",
        "El segundo archivo contiene el código usando el nuevo módulo. Su nombre es `main.py`. Su contenido es muy breve hasta ahora: `import module`\n",
        "\n",
        "N.B.: ambos archivos deben estar ubicados en la misma carpeta. Te recomendamos crear una carpeta nueva y vacía para ambos archivos. Esto hará que las cosas sean más fáciles.\n",
        "\n",
        "Inicia el IDLE y ejecuta el archivo `main.py`. ¿Qué ves?\n",
        "\n",
        "No deberías ver nada. Esto significa que Python ha importado con éxito el contenido del archivo `module.py`. No importa que el módulo esté vacío por ahora. El primer paso ya está hecho, pero antes de dar el siguiente paso, queremos que eches un vistazo a la carpeta en la que se encuentran ambos archivos.\n",
        "\n",
        "¿Notas algo interesante?\n",
        "\n",
        "Ha aparecido una nueva subcarpeta, ¿puedes verla? Su nombre es `__pycache__`. Echa un vistazo adentro. ¿Que ves?\n",
        "\n",
        "Hay un archivo llamado (más o menos) `module.cpython-xy.pyc` donde x e y son dígitos derivados de tu versión de Python (por ejemplo, serán 3 y 4 si utilizas Python 3.4).\n",
        "\n",
        "El nombre del archivo es el mismo que el de tu módulo. La parte posterior al primer punto dice qué implementación de Python ha creado el archivo (CPython) y su número de versión. La ultima parte (pyc) viene de las palabras Python y compilado.\n",
        "\n",
        "Puedes mirar dentro del archivo: el contenido es completamente ilegible para los humanos. Tiene que ser así, ya que el archivo está destinado solo para uso de Python.\n",
        "\n",
        "Cuando Python importa un módulo por primera vez, **traduce el contenido a una forma \"semi\" compilada**. El archivo no contiene código en lenguaje máquina: **es código semi-compilado** interno de Python, listo para ser ejecutado por el intérprete de Python. Como tal archivo no requiere tantas comprobaciones como las de un archivo fuente, la ejecución comienza más rápido y también se ejecuta más rápido.\n",
        "\n",
        "Gracias a eso, cada importación posterior será más rápida que interpretar el código fuente desde cero.\n",
        "\n",
        "Python puede verificar si el archivo fuente del módulo ha sido modificado (en este caso, el archivo pyc será reconstruido) o no (cuando el archivo pyc pueda ser ejecutado al instante). Este proceso es completamente automático y transparente, no se tiene que estar tomando en cuenta.\n",
        "\n",
        "Ahora hemos puesto algo en el archivo del `module.py`: `print('I like to be a module.')`\n",
        "\n",
        "¿Puedes notar alguna diferencia entre un módulo y un script ordinario? No hay ninguna hasta ahora.\n",
        "\n",
        "Es posible ejecutar este archivo como cualquier otro script. Pruébalo por ti mismo. ¿Qué es lo que pasa? Deberías de ver la siguiente línea dentro de tu consola: `I like to be a module.`\n",
        "\n",
        "Volvamos al archivo `main.py`. Ejecuta el archivo. ¿Que ves? Con suerte, verás algo como esto: `I like to be a module.`\n",
        "\n",
        "¿Qué significa realmente?\n",
        "\n",
        "**Cuando un módulo es importado, su contenido es ejecutado implícitamente por Python**. Le da al módulo la oportunidad de inicializar algunos de sus aspectos internos (por ejemplo, puede asignar a algunas variables valores útiles). Nota: la **inicialización se realiza solo una vez**, cuando se produce la primera importación, por lo que las asignaciones realizadas por el módulo no se repiten innecesariamente.\n",
        "\n",
        "Imagina el siguiente contexto:\n",
        "\n",
        "- Existe un módulo llamado mod1.\n",
        "- Existe un módulo llamado mod2 el cual contiene la instrucción `import mod1`.\n",
        "- Hay un archivo principal que contiene las instrucciones `import mod1` e `import mod2`.\n",
        "\n",
        "A primera vista, se puede pensar que mod1 será importado dos veces - afortunadamente, **solo se produce la primera importación. Python recuerda los módulos importados y omite silenciosamente todas las importaciones posteriores**.\n",
        "\n",
        "Python puede hacer mucho más. También crea una variable llamada `__name__`.\n",
        "\n",
        "Además, cada archivo fuente usa su propia versión separada de la variable, no se comparte entre módulos.\n",
        "\n",
        "Te mostraremos cómo usarlo. Modifica el `module.py` un poco: `print('I like to be a module.\\n',__name__)`\n",
        "\n",
        "Ahora ejecuta el archivo `module.py`. Deberías ver las siguientes líneas:\n",
        "\n",
        "`I like to be a module.\n",
        "__main__`\n",
        "\n",
        "Podemos decir que:\n",
        "\n",
        "- Cuando se ejecuta un archivo directamente, su variable `__name__` se establece a `__main__`.\n",
        "- Cuando un archivo se importa como un módulo, su variable `__name__` se establece al nombre del archivo (excluyendo a .py).\n",
        "\n",
        "Así es como puedes hacer uso de la variable `__main__` para detectar el contexto en el cual se activó tu código: \n",
        "\n",
        "\n",
        "\n",
        "\n"
      ]
    },
    {
      "cell_type": "code",
      "metadata": {
        "id": "m7ml8KeMZoG1"
      },
      "source": [
        "if __name__ == '__main__':\n",
        "    print('I prefer to be a module.')\n",
        "else:\n",
        "    print('I like to be a module.')"
      ],
      "execution_count": null,
      "outputs": []
    },
    {
      "cell_type": "markdown",
      "metadata": {
        "id": "OqPDT16hZ9kq"
      },
      "source": [
        "Sin embargo, hay una forma más inteligente de utilizar la variable. Si escribes un módulo lleno de varias funciones complejas, puedes usarla para colocar una serie de pruebas para verificar si las funciones trabajan correctamente.\n",
        "\n",
        "Cada vez que modifiques alguna de estas funciones, simplemente puedes ejecutar el módulo para asegurarte de que sus enmiendas no estropeen el código. Estas pruebas se omitirán cuando el código se importe como un módulo.\n",
        "\n",
        "Este módulo contendrá dos funciones simples, y si deseas saber cuántas veces se han invocado las funciones, necesitas un contador inicializado en cero cuando se importa el módulo. Puedes hacerlo de esta manera:"
      ]
    },
    {
      "cell_type": "code",
      "metadata": {
        "id": "fw0lwSsYaSAC"
      },
      "source": [
        "# module.py\n",
        "\n",
        "counter = 0\n",
        "\n",
        "if __name__ == \"__main__\":\n",
        "    print(\"I prefer to be a module\")\n",
        "else:\n",
        "    print(\"I like to be a module\")"
      ],
      "execution_count": null,
      "outputs": []
    },
    {
      "cell_type": "markdown",
      "metadata": {
        "id": "a4kWN43GanGA"
      },
      "source": [
        "El introducir tal variable es absolutamente correcto, pero puede causar importantes efectos secundarios que debes tener en cuenta.\n",
        "\n",
        "Analiza el archivo modificado `main.py`:"
      ]
    },
    {
      "cell_type": "code",
      "metadata": {
        "id": "Dm08JNbOVpW_"
      },
      "source": [
        "# main.py\n",
        "\n",
        "import module\n",
        "\n",
        "print(module.counter)"
      ],
      "execution_count": null,
      "outputs": []
    },
    {
      "cell_type": "markdown",
      "metadata": {
        "id": "goHbQf01a0VQ"
      },
      "source": [
        "Como puedes ver, el archivo principal intenta acceder a la variable de contador del módulo. ¿Es esto legal? Sí lo es. ¿Es utilizable? Claro. ¿Es seguro? Eso depende: si confías en los usuarios de tu módulo, no hay problema; sin embargo, es posible que no desees que el resto del mundo vea tu 88variable personal o privada88.\n",
        "\n",
        "A diferencia de muchos otros lenguajes de programación, Python no tiene medios para permitirte ocultar tales variables a los ojos de los usuarios del módulo. Solo puedes informar a tus usuarios que esta es tu variable, que pueden leerla, pero que no deben modificarla bajo ninguna circunstancia.\n",
        "\n",
        "Esto se hace anteponiendo al nombre de la variable `_` (un guión bajo) o `__` (dos guiones bajos), pero recuerda, es solo un **acuerdo**. Los usuarios de tu módulo pueden obedecerlo o no.\n",
        "\n",
        "Nosotros por supuesto, lo respetaremos. Ahora pongamos dos funciones en el módulo: evaluarán la suma y el producto de los números recopilados en una lista.\n",
        "\n",
        "Además, agreguemos algunos adornos allí y eliminemos los restos superfluos:"
      ]
    },
    {
      "cell_type": "code",
      "metadata": {
        "id": "jIj5TqoEbSPn"
      },
      "source": [
        "# module.py\n",
        "\n",
        "#!/usr/bin/env python3 \n",
        "\n",
        "\"\"\" module.py - an example of Python module \"\"\"\n",
        "\n",
        "__counter = 0\n",
        "\n",
        "def suml(list):\n",
        "\tglobal __counter\n",
        "\t__counter += 1\n",
        "\tsum = 0\n",
        "\tfor el in list:\n",
        "\t\tsum += el\n",
        "\treturn sum\n",
        "\n",
        "def prodl(list):\n",
        "\tglobal __counter\t\n",
        "\t__counter += 1\n",
        "\tprod = 1\n",
        "\tfor el in list:\n",
        "\t\tprod *= el\n",
        "\treturn prod\n",
        "\n",
        "if __name__ == \"__main__\":\n",
        "\tprint(\"I prefer to be a module, but I can do some tests for you\")\n",
        "\tl = [i+1 for i in range(5)]\n",
        "\tprint(suml(l) == 15)\n",
        "\tprint(prodl(l) == 120)"
      ],
      "execution_count": null,
      "outputs": []
    },
    {
      "cell_type": "markdown",
      "metadata": {
        "id": "JXjRIKqZbYqR"
      },
      "source": [
        "Algunos elementos necesitan explicación:\n",
        "\n",
        "- La línea que comienza con `#!` desde el punto de vista de Python, es solo un **comentario** debido a que comienza con `#`. Para sistemas operativos Unix y similares a Unix (incluido MacOS), dicha línea **indica al sistema operativo cómo ejecutar el contenido del archivo** (en otras palabras, qué programa debe lanzarse para interpretar el texto). En algunos entornos (especialmente aquellos conectados con servidores web) la ausencia de esa línea causará problemas.\n",
        "- Una cadena (quizás una multilínea) colocada antes de las instrucciones de cualquier módulo (incluidas las importaciones) se denomina **doc-string**, y debe explicar brevemente el propósito y el contenido del módulo.\n",
        "- Las funciones definidas dentro del módulo (`suml()` y `prodl()`) están disponibles para ser importadas.\n",
        "- Se ha utilizado la variable `__name__` para detectar cuándo se ejecuta el archivo de forma independiente.\n",
        "\n",
        "Ahora es posible usar el nuevo módulo, esta es una forma de hacerlo:"
      ]
    },
    {
      "cell_type": "code",
      "metadata": {
        "id": "aWsIo3vFb81c"
      },
      "source": [
        "# main.py\n",
        "\n",
        "from module import suml, prodl\n",
        "\n",
        "zeroes = [0 for i in range(5)]\n",
        "ones = [1 for i in range(5)]\n",
        "print(suml(zeroes))\n",
        "print(prodl(ones))"
      ],
      "execution_count": null,
      "outputs": []
    },
    {
      "cell_type": "markdown",
      "metadata": {
        "id": "DCA53jSkcBkW"
      },
      "source": [
        "Es hora de hacer este ejemplo más complejo: hemos asumido aquí que el archivo Python principal se encuentra en la misma carpeta o directorio que el módulo que se va a importar.\n",
        "\n",
        "Realicemos el siguiente experimento mental:\n",
        "\n",
        "- Estamos utilizando el sistema operativo Windows ® (esta suposición es importante, ya que la forma del nombre del archivo depende de ello).\n",
        "- El script principal de Python se encuentra en C:\\Users\\user\\py\\progs y se llama `main.py`.\n",
        "- El módulo a importar se encuentra en C:\\Users\\user\\py\\modules.\n",
        "\n",
        "¿Como lidiar con ello?\n",
        "\n",
        "Para responder a esta pregunta, tenemos que hablar sobre **cómo Python busca módulos**. Hay una variable especial (en realidad una lista) que almacena todas las ubicaciones (carpetas o directorios) que se buscan para encontrar un módulo que ha sido solicitado por la instrucción `import`.\n",
        "\n",
        "Python examina estas carpetas en el orden en que aparecen en la lista: si el módulo no se puede encontrar en ninguno de estos directorios, la importación falla.\n",
        "\n",
        "De lo contrario, se tomará en cuenta la primera carpeta que contenga un módulo con el nombre deseado (si alguna de las carpetas restantes contiene un módulo con ese nombre, se ignorará).\n",
        "\n",
        "La variable se llama `path` (ruta), y es accesible a través del módulo llamado `sys`. Así es como puedes verificar su valor:\n",
        "\n",
        "Hemos lanzado el código dentro del directorio C:\\User\\user y obtenemos:"
      ]
    },
    {
      "cell_type": "code",
      "metadata": {
        "id": "iS2OzFIhcoYA"
      },
      "source": [
        "C:\\Users\\user\n",
        "C:\\Users\\user\\AppData\\Local\\Programs\\Python\\Python36-32\\python36.zip\n",
        "C:\\Users\\user\\AppData\\Local\\Programs\\Python\\Python36-32\\DLLs\n",
        "C:\\Users\\user\\AppData\\Local\\Programs\\Python\\Python36-32\\lib\n",
        "C:\\Users\\user\\AppData\\Local\\Programs\\Python\\Python36-32\n",
        "C:\\Users\\user\\AppData\\Local\\Programs\\Python\\Python36-32\\lib\\site-packages"
      ],
      "execution_count": null,
      "outputs": []
    },
    {
      "cell_type": "markdown",
      "metadata": {
        "id": "2KkgGVqscpvD"
      },
      "source": [
        "N.B.: la carpeta en la que comienza la ejecución aparece en el primer elemento de la ruta.\n",
        "\n",
        "Ten en cuenta también que: hay un archivo zip listado como uno de los elementos de la ruta, esto no es un error. Python puede tratar los archivos zip como carpetas ordinarias, esto puede ahorrar mucho almacenamiento.\n",
        "\n",
        "¿Puedes predecir cómo resolver este problema?\n",
        "\n",
        "Puedes resolverlo agregando una carpeta que contenga el módulo a la variable de ruta (`path`), es completamente modificable.\n",
        "\n",
        "Una de las varias soluciones posibles se ve así:"
      ]
    },
    {
      "cell_type": "code",
      "metadata": {
        "id": "8SUdh4tSc8IR"
      },
      "source": [
        "# main.py\n",
        "\n",
        "from sys import path\n",
        "\n",
        "path.append('..\\\\modules')\n",
        "\n",
        "import module\n",
        "\n",
        "zeroes = [0 for i in range(5)]\n",
        "ones = [1 for i in range(5)]\n",
        "print(module.suml(zeroes))\n",
        "print(module.prodl(ones))"
      ],
      "execution_count": null,
      "outputs": []
    },
    {
      "cell_type": "markdown",
      "metadata": {
        "id": "KwmL1ZwpdEx8"
      },
      "source": [
        "N.B.:\n",
        "\n",
        "- Se ha duplicado la \\ dentro del nombre de la carpeta, ¿sabes por qué? Debido a que una diagonal invertida se usa para escapar de otros caracteres, si deseas obtener solo una diagonal invertida, debe escapar.\n",
        "- Hemos utilizado el nombre relativo de la carpeta: esto funcionará si inicia el archivo main.py directamente desde su carpeta de inicio, y no funcionará si el directorio actual no se ajusta a la ruta relativa; siempre puedes usar una ruta absoluta, como esta: `path.append('C:\\\\Users\\\\user\\\\py\\\\modules')`\n",
        "- Hemos usado el método `append()`, la nueva ruta ocupará el último elemento en la lista de rutas; si no te gusta la idea, puedes usar en lugar de ello el método `insert()`.\n",
        "\n",
        "Imagina que en un futuro no muy lejano, tu y tus socios escriben una gran cantidad de funciones en Python.\n",
        "\n",
        "Tu equipo decide agrupar las funciones en módulos separados, y este es el resultado final:\n",
        "\n",
        "...\n",
        "\n",
        "N.B.: hemos presentado todo el contenido solo para el módulo `omega.py`: supongamos que todos los módulos tienen un aspecto similar (contienen una función denominada `funX`, donde `X` es la primera letra del nombre del módulo).\n",
        "\n",
        "De repente, alguien se da cuenta de que estos módulos forman su propia jerarquía, por lo que colocarlos a todos en una estructura plana no será una buena idea.\n",
        "\n",
        "Después de algo de discusión, el equipo llega a la conclusión de que los módulos deben agruparse. Todos los participantes están de acuerdo en que la siguiente estructura de árbol refleja perfectamente las relaciones mutuas entre los módulos:\n",
        "\n",
        "...\n",
        "\n",
        "Repasemos esto de abajo hacia arriba:\n",
        "\n",
        "- El grupo ugly contiene dos módulos: psi y omega.\n",
        "- El grupo best contiene dos módulos: sigma y tau.\n",
        "- El grupo good contiene dos módulos: (alpha y beta) y un subgrupo (best).\n",
        "- El grupo extra contiene dos subgrupos: (good y ugly) y un módulo (iota).\n",
        "\n",
        "¿Se ve mal? De ninguna manera: analiza la estructura cuidadosamente. Se parece a algo, ¿no?\n",
        "\n",
        "Parece la estructura de un directorio.\n",
        "\n",
        "Así es como se ve actualmente la relación entre módulos:\n",
        "\n",
        "...\n",
        "\n",
        "Tal estructura es casi un paquete (en el sentido de Python). Carece del detalle fino para ser funcional y operativo. Lo completaremos en un momento.\n",
        "\n",
        "Si asumes que extra es el nombre de un **recientemente creado paquete** (piensa en él como la **raíz del paquete**), impondrá una regla de nomenclatura que te permitirá nombrar claramente cada entidad del árbol.\n",
        "\n",
        "Por ejemplo:\n",
        "\n",
        "- La ubicación de una función llamada `funT()` del paquete tau puede describirse como: `extra.good.best.tau.funT()`\n",
        "- Una función marcada como: `extra.ugly.psi.funP()` proviene del módulo psi el cual esta almacenado en subpaquete ugly del paquete extra.\n",
        "\n",
        "Se deben responder dos preguntas:\n",
        "\n",
        "- ¿Cómo se transforma este árbol (en realidad, un subárbol) en un paquete real de Python (en otras palabras, ¿cómo convence a Python de que dicho árbol no es solo un montón de archivos basura, sino un conjunto de módulos)?\n",
        "- ¿Dónde se coloca el subárbol para que Python pueda acceder a él?\n",
        "\n",
        "La primer pregunta tiene una respuesta sorprendente: **los paquetes, como los módulos, pueden requerir inicialización**. La inicialización de un módulo se realiza mediante un código independiente (que no forma parte de ninguna función) ubicado dentro del archivo del módulo. Como un paquete no es un archivo, esta técnica es inútil para inicializar paquetes.\n",
        "\n",
        "En su lugar, debes usar un truco diferente: Python espera que haya un archivo con un nombre muy exclusivo dentro de la carpeta del paquete: `__init__.py`.\n",
        "\n",
        "El contenido del archivo se ejecuta cuando se importa cualquiera de los módulos del paquete. **Si no deseas ninguna inicialización especial, puedes dejar el archivo vacío, pero no debes omitirlo**.\n",
        "\n",
        "La presencia del archivo `__init.py__` finalmente compone el paquete:\n",
        "\n",
        "...\n",
        "\n",
        "N.B.: no solo la carpeta raiz puede contener el archivo `__init.py__` - también puedes ponerlo dentro de cualquiera de sus subcarpetas (subpaquetes). Puede ser útil si algunos de los subpaquetes requieren tratamiento individual o un tipo especial de inicialización.\n",
        "\n",
        "Ahora es el momento de responder la segunda pregunta: la respuesta es simple: **donde quiera**. Solo tienes que asegurarte de que Python conozca la ubicación del paquete. Ya sabes cómo hacer eso.\n",
        "\n",
        "Estás listo para usar tu primer paquete.\n",
        "\n",
        "Supongamos que el entorno de trabajo se ve de la siguiente manera:\n",
        "\n",
        "Hemos preparado un archivo zip que contiene todos los archivos de la rama de paquetes. Puedes descargarlo y usarlo para tus propios experimentos, pero recuerda desempaquetarlo en la carpeta presentada en el esquema, de lo contrario, no será accesible para el código.\n",
        "\n",
        "`Archivo ZIP Módulos y paquetes.zip`\n",
        "\n",
        "Continuarás tus experimentos usando el archivo `main2.py`.\n",
        "\n",
        "Vamos a acceder a la función `funI()` del módulo iota del paquete extra. Nos obliga a usar nombres de paquetes calificados (asocia esto al nombramiento de carpetas y subcarpetas).\n",
        "\n",
        "Asi es como se hace:"
      ]
    },
    {
      "cell_type": "code",
      "metadata": {
        "id": "2etS8JyEgL3x"
      },
      "source": [
        "# main2.py\n",
        "\n",
        "from sys import path\n",
        "\n",
        "path.append('..\\\\packages')\n",
        "\n",
        "import extra.iota\n",
        "\n",
        "print(extra.iota.funI())"
      ],
      "execution_count": null,
      "outputs": []
    },
    {
      "cell_type": "markdown",
      "metadata": {
        "id": "sXMhfnAtgN4H"
      },
      "source": [
        "N.B.:\n",
        "\n",
        "- Hemos modificado la variable `path` para que sea accesible a Python.\n",
        "- El `import` no apunta directamente al módulo, pero especifica la ruta completa desde la parte superior del paquete.\n",
        "\n",
        "El reemplazar `import extra.iota` con `import iota` causará un error.\n",
        "\n",
        "La siguiente variante también es válida:\n"
      ]
    },
    {
      "cell_type": "code",
      "metadata": {
        "id": "SEQxArODgehm"
      },
      "source": [
        "# main2.py\n",
        "\n",
        "from sys import path\n",
        "\n",
        "path.append('..\\\\packages')\n",
        "\n",
        "from extra.iota import funI\n",
        "\n",
        "print(funI())"
      ],
      "execution_count": null,
      "outputs": []
    },
    {
      "cell_type": "markdown",
      "metadata": {
        "id": "cNhbpG7hgg6E"
      },
      "source": [
        "Nota el nombre calificado del módulo iota.\n",
        "\n",
        "Ahora vamos hasta el final del árbol: así es como se obtiene acceso a los módulos sigma y tau."
      ]
    },
    {
      "cell_type": "code",
      "metadata": {
        "id": "3kN9Uruzgncp"
      },
      "source": [
        "from sys import path\n",
        "\n",
        "path.append('..\\\\packages')\n",
        "\n",
        "import extra.good.best.sigma\n",
        "from extra.good.best.tau import funT\n",
        "\n",
        "print(extra.good.best.sigma.funS())\n",
        "print(funT())"
      ],
      "execution_count": null,
      "outputs": []
    },
    {
      "cell_type": "markdown",
      "metadata": {
        "id": "cvkWfOT6gopZ"
      },
      "source": [
        "Puedes hacer tu vida más fácil usando un alias:"
      ]
    },
    {
      "cell_type": "code",
      "metadata": {
        "id": "xPa1vNKwgrCS"
      },
      "source": [
        "# main2.py\n",
        "\n",
        "from sys import path\n",
        "\n",
        "path.append('..\\\\packages')\n",
        "\n",
        "import extra.good.best.sigma as sig\n",
        "import extra.good.alpha as alp\n",
        "\n",
        "print(sig.funS())\n",
        "print(alp.funA())"
      ],
      "execution_count": null,
      "outputs": []
    },
    {
      "cell_type": "markdown",
      "metadata": {
        "id": "uiC9CSwRgvA5"
      },
      "source": [
        "Supongamos que hemos comprimido todo el subdirectorio, comenzando desde la carpeta extra (incluyéndola), y se obtuvo un archivo llamado `extrapack.zip`. Después, colocamos el archivo dentro de la carpeta packages.\n",
        "\n",
        "Ahora podemos usar el archivo zip en un rol de paquetes:"
      ]
    },
    {
      "cell_type": "code",
      "metadata": {
        "id": "Wz94v6rxg5S2"
      },
      "source": [
        "# main2.py\n",
        "\n",
        "from sys import path\n",
        "\n",
        "path.append('..\\\\packages\\\\extrapack.zip')\n",
        "\n",
        "import extra.good.best.sigma as sig\n",
        "import extra.good.alpha as alp\n",
        "from extra.iota import funI\n",
        "from extra.good.beta import funB\n",
        "\n",
        "print(sig.funS())\n",
        "print(alp.funA())\n",
        "print(funI())\n",
        "print(funB())"
      ],
      "execution_count": null,
      "outputs": []
    },
    {
      "cell_type": "markdown",
      "metadata": {
        "id": "zvhVOSEzg6jd"
      },
      "source": [
        "Si deseas realizar tus propios experimentos con el paquete que hemos creado, puedes descargarlo a continuación. Te alentamos a que lo hagas.\n",
        "\n",
        "Ahora puedes crear módulos y combinarlos en paquetes. Es hora de comenzar una discusión completamente diferente: sobre errores y fallas."
      ]
    },
    {
      "cell_type": "markdown",
      "metadata": {
        "id": "9U67pVG6zwtI"
      },
      "source": [
        "## 4.2 Manejo de excepciones"
      ]
    },
    {
      "cell_type": "markdown",
      "metadata": {
        "id": "n5sPh5yAhLAo"
      },
      "source": [
        "### 4.2.1 Errores: el pan diario del programador"
      ]
    },
    {
      "cell_type": "markdown",
      "metadata": {
        "id": "wjHV1IDajmEB"
      },
      "source": [
        "**Cualquier cosa que pueda salir mal, saldrá mal**.\n",
        "\n",
        "Esta es la ley de Murphy, y funciona en todo y siempre. Si la ejecución del código puede salir mal, lo hará.\n",
        "\n",
        "Observa el código en el editor. Hay al menos dos formas posibles de que \"salga mal\" la ejecución. ¿Puedes verlas?"
      ]
    },
    {
      "cell_type": "code",
      "metadata": {
        "id": "BsM90iMFj2SQ",
        "colab": {
          "base_uri": "https://localhost:8080/",
          "height": 248
        },
        "outputId": "ff3ba920-a402-4d0b-e450-55a10f9d225a"
      },
      "source": [
        "import math\n",
        "\n",
        "x = float(input(\"Ingresa x: \"))\n",
        "y = math.sqrt(x)\n",
        "\n",
        "print(\"La raíz cuadrada de\", x, \"es igual a\", y)"
      ],
      "execution_count": null,
      "outputs": [
        {
          "output_type": "stream",
          "text": [
            "Ingresa x: -4\n"
          ],
          "name": "stdout"
        },
        {
          "output_type": "error",
          "ename": "ValueError",
          "evalue": "ignored",
          "traceback": [
            "\u001b[0;31m---------------------------------------------------------------------------\u001b[0m",
            "\u001b[0;31mValueError\u001b[0m                                Traceback (most recent call last)",
            "\u001b[0;32m<ipython-input-4-7e5cd5a48f68>\u001b[0m in \u001b[0;36m<module>\u001b[0;34m()\u001b[0m\n\u001b[1;32m      2\u001b[0m \u001b[0;34m\u001b[0m\u001b[0m\n\u001b[1;32m      3\u001b[0m \u001b[0mx\u001b[0m \u001b[0;34m=\u001b[0m \u001b[0mfloat\u001b[0m\u001b[0;34m(\u001b[0m\u001b[0minput\u001b[0m\u001b[0;34m(\u001b[0m\u001b[0;34m\"Ingresa x: \"\u001b[0m\u001b[0;34m)\u001b[0m\u001b[0;34m)\u001b[0m\u001b[0;34m\u001b[0m\u001b[0;34m\u001b[0m\u001b[0m\n\u001b[0;32m----> 4\u001b[0;31m \u001b[0my\u001b[0m \u001b[0;34m=\u001b[0m \u001b[0mmath\u001b[0m\u001b[0;34m.\u001b[0m\u001b[0msqrt\u001b[0m\u001b[0;34m(\u001b[0m\u001b[0mx\u001b[0m\u001b[0;34m)\u001b[0m\u001b[0;34m\u001b[0m\u001b[0;34m\u001b[0m\u001b[0m\n\u001b[0m\u001b[1;32m      5\u001b[0m \u001b[0;34m\u001b[0m\u001b[0m\n\u001b[1;32m      6\u001b[0m \u001b[0mprint\u001b[0m\u001b[0;34m(\u001b[0m\u001b[0;34m\"La raíz cuadrada de\"\u001b[0m\u001b[0;34m,\u001b[0m \u001b[0mx\u001b[0m\u001b[0;34m,\u001b[0m \u001b[0;34m\"es igual a\"\u001b[0m\u001b[0;34m,\u001b[0m \u001b[0my\u001b[0m\u001b[0;34m)\u001b[0m\u001b[0;34m\u001b[0m\u001b[0;34m\u001b[0m\u001b[0m\n",
            "\u001b[0;31mValueError\u001b[0m: math domain error"
          ]
        }
      ]
    },
    {
      "cell_type": "markdown",
      "metadata": {
        "id": "p0bU00rlj3pF"
      },
      "source": [
        "- Como el usuario puede ingresar una cadena de caracteres completamente arbitraria, **no hay garantía de que la cadena se pueda convertir en un valor flotante** - esta es la primera vulnerabilidad del código.\n",
        "- La segunda es que la función `sqrt()` **fallará si se le ingresa un valor negativo**.\n",
        "\n",
        "Puedes recibir alguno de los siguientes mensajes de error:"
      ]
    },
    {
      "cell_type": "code",
      "metadata": {
        "id": "A6hT3EIQkLOl"
      },
      "source": [
        "Ingresa x: Abracadabra\n",
        "\n",
        "Traceback (most recent call last):\n",
        "\n",
        "  File \"sqrt.py\", line 3, in \n",
        "\n",
        "    x = float(input(\"Ingresa x: \"))\n",
        "\n",
        "ValueError: could not convert string to float: 'Abracadabra'"
      ],
      "execution_count": null,
      "outputs": []
    },
    {
      "cell_type": "code",
      "metadata": {
        "id": "xvT-zCFi-8QE"
      },
      "source": [
        "Ingresa x: -1\n",
        "\n",
        "Traceback (most recent call last):\n",
        "\n",
        "  File \"sqrt.py\", line 4, in \n",
        "\n",
        "    y = math.sqrt(x)\n",
        "\n",
        "ValueError: math domain error"
      ],
      "execution_count": null,
      "outputs": []
    },
    {
      "cell_type": "markdown",
      "metadata": {
        "id": "AJaG4K-V_AdJ"
      },
      "source": [
        "¿Puedes protegerte de tales sorpresas? Por supuesto que si. Además, tienes que hacerlo para ser considerado un buen programador.\n",
        "\n",
        "Cada vez que tu código intenta hacer algo erroneo, irresponsable o inaplicable, Python hace dos cosas:\n",
        "\n",
        "- **Detiene tu programa**.\n",
        "- Crea un tipo especial de dato, llamado **excepción**.\n",
        "\n",
        "Ambas actividades llevan por nombre **lanzar una excepción**. Podemos decir que Python siempre lanza una excepción (o que **una excepción ha sido lanzada**) cuando no tiene idea de qué hacer con el código.\n",
        "\n",
        "¿Qué ocurre después?\n",
        "\n",
        "- La excepción lanzada espera que alguien o algo lo note y haga algo al respecto.\n",
        "- **Si la excepción no es resuelta, el programa será terminado abruptamente, y verás un mensaje de error** enviado a la consola por Python.\n",
        "- De otra manera, si se atiende la excepción y es **manejada** apropiadamente, el programa puede reanudarse y su ejecución puede continuar.\n",
        "\n",
        "Python proporciona herramientas efectivas que permiten **observar, identificar y manejar las excepciones** eficientemente. Esto es posible debido a que todas las excepciones potenciales tienen un nombre específico, por lo que se pueden clasificar y reaccionar a ellas adecuadamente.\n",
        "\n",
        "Ya conoces algunos nombres de excepción. Observa el siguiente mensaje de diagnóstico: `ValueError: math domain error` \n",
        "\n",
        "La palabra en rojo (`ValueError`) es solo el **nombre de la excepción**. \n",
        "\n",
        "¿Cómo se **manejan** las excepciones? La palabra `try` es clave para la solución.\n",
        "\n",
        "Además, también es una palabra reservada.\n",
        "\n",
        "La receta para el éxito es la siguiente:\n",
        "\n",
        "- Primero, se debe **intentar (try) hacer algo**.\n",
        "- Después, tienes que **comprobar si todo salió bien**.\n",
        "\n",
        "Pero, ¿no sería mejor verificar primero todas las circunstancias y luego hacer algo solo si es seguro?"
      ]
    },
    {
      "cell_type": "code",
      "metadata": {
        "id": "wdMXegvXBJi9",
        "colab": {
          "base_uri": "https://localhost:8080/"
        },
        "outputId": "98666018-d79e-45fd-fcb3-d2ab02e4ac48"
      },
      "source": [
        "primerNumero = int(input(\"Ingresa el primer numero: \"))\n",
        "segundoNumero = int(input(\"Ingresa el segundo numero: \"))\n",
        "\n",
        "if segundoNumero != 0:\n",
        "    print(primerNumero / segundoNumero)\n",
        "else:\n",
        "    print(\"Esta operacion no puede ser realizada.\")\n",
        "\n",
        "print(\"FIN.\")"
      ],
      "execution_count": null,
      "outputs": [
        {
          "output_type": "stream",
          "text": [
            "Ingresa el primer numero: 1\n",
            "Ingresa el segundo numero: 0\n",
            "Esta operacion no puede ser realizada.\n",
            "FIN.\n"
          ],
          "name": "stdout"
        }
      ]
    },
    {
      "cell_type": "markdown",
      "metadata": {
        "id": "oB1wRyNXBLx3"
      },
      "source": [
        "Es cierto que esta forma puede parecer la más natural y comprensible, pero en realidad, este método no facilita la programación. Todas estas revisiones pueden hacer el código demasiado grande e ilegible. Python prefiere un enfoque completamente diferente:\n",
        "\n",
        "- La palabra reservada `try` **comienza con un bloque de código** el cual puede o no estar funcionando correctamente.\n",
        "- Después, Python intenta realizar la acción arriesgada: si falla, se genera una excepción y Python comienza a buscar una solución.\n",
        "- La palabra reservada `except` comienza con un bloque de código que será **ejecutado si algo dentro del bloque** `try` **sale mal** - si se genera una excepción dentro del bloque anterior `try`, **fallará aquí**, entonces el código ubicado después de la palabra clave `except` debería proporcionar una **reacción adecuada** a la excepción planteada.\n",
        "- Se regresa al nivel de anidación anterior, es decir, se termina la sección **try-except**."
      ]
    },
    {
      "cell_type": "code",
      "metadata": {
        "id": "RZer4lGaCILA",
        "colab": {
          "base_uri": "https://localhost:8080/"
        },
        "outputId": "6dcd00f4-ba69-4051-98b4-57d265f6e48f"
      },
      "source": [
        "try:\n",
        "    print(\"1\")\n",
        "    x = 1 / 0\n",
        "    print(\"2\")\n",
        "except:\n",
        "    print(\"Oh cielos, algo salio mal...\")\n",
        "\n",
        "print(\"3\")"
      ],
      "execution_count": null,
      "outputs": [
        {
          "output_type": "stream",
          "text": [
            "1\n",
            "Oh cielos, algo salio mal...\n",
            "3\n"
          ],
          "name": "stdout"
        }
      ]
    },
    {
      "cell_type": "markdown",
      "metadata": {
        "id": "JuX44X_3CUIC"
      },
      "source": [
        "Este enfoque tiene una desventaja importante: si existe la posibilidad de que más de una excepción se salte a un apartado `except:`, puedes tener **problemas para descubrir lo que realmente sucedió**."
      ]
    },
    {
      "cell_type": "code",
      "metadata": {
        "id": "d_S6lAEiCiF5",
        "colab": {
          "base_uri": "https://localhost:8080/"
        },
        "outputId": "48e686c2-7528-4149-a39b-a834b6003c9c"
      },
      "source": [
        "try:\n",
        "    x = int(input(\"Ingresa un numero: \"))\n",
        "    y = 1 / x\n",
        "except:\n",
        "    print(\"Oh cielos, algo salio mal...\")\n",
        "\n",
        "print(\"FIN.\")"
      ],
      "execution_count": null,
      "outputs": [
        {
          "output_type": "stream",
          "text": [
            "Ingresa un numero: 0\n",
            "Oh cielos, algo salio mal...\n",
            "FIN.\n"
          ],
          "name": "stdout"
        }
      ]
    },
    {
      "cell_type": "markdown",
      "metadata": {
        "id": "vio7SlYeCixd"
      },
      "source": [
        "El mensaje: `Oh cielos, algo salio mal...` que aparece en la consola no dice nada acerca de la razón, mientras que hay dos posibles causas de la excepción:\n",
        "\n",
        "- Datos no enteros fueron ingresados por el usuario.\n",
        "- Un valor entero igual a `0` fue asignado a la variable `x`.\n",
        "\n",
        "Técnicamente, hay dos formas de resolver el problema:\n",
        "\n",
        "- Construir dos bloques consecutivos try-except, uno por cada posible motivo de excepción (fácil, pero provocará un crecimiento desfavorable del código).\n",
        "- Emplear una variante más avanzada de la instrucción."
      ]
    },
    {
      "cell_type": "code",
      "metadata": {
        "id": "vUXm9J2WC6vp"
      },
      "source": [
        "try:\n",
        "    :\n",
        "except exc1:\n",
        "    :\n",
        "except exc2:\n",
        "    :\n",
        "except:\n",
        "    :"
      ],
      "execution_count": null,
      "outputs": []
    },
    {
      "cell_type": "markdown",
      "metadata": {
        "id": "WVCvTRqWC782"
      },
      "source": [
        "Así es como funciona:\n",
        "\n",
        "- Si el `try` lanza la excepción `exc1`, esta será manejada por el bloque `except exc1:`.\n",
        "- De la misma manera, si el `try` lanza la excepción `exc2`, esta será manejada por el bloque `except exc2:`.\n",
        "- Si el `try` lanza cualquier otra excepción, será manejado por el bloque sin nombre `except:`."
      ]
    },
    {
      "cell_type": "code",
      "metadata": {
        "id": "5sO-hHJKDRsL",
        "colab": {
          "base_uri": "https://localhost:8080/"
        },
        "outputId": "805d4425-3a82-414c-f08d-6d78e6161bb6"
      },
      "source": [
        "try:\n",
        "    x = int(input(\"Ingresa un numero: \"))\n",
        "    y = 1 / x\n",
        "    print(y)\n",
        "except ZeroDivisionError:\n",
        "    print(\"No puedes dividir entre cero, lo siento.\")\n",
        "except ValueError:\n",
        "    print(\"Debes ingresar un valor entero.\")\n",
        "except:\n",
        "    print(\"Oh cielos, algo salio mal...\")\n",
        "\n",
        "print(\"THE END.\")"
      ],
      "execution_count": null,
      "outputs": [
        {
          "output_type": "stream",
          "text": [
            "Oh cielos, algo salio mal...\n",
            "THE END.\n"
          ],
          "name": "stdout"
        }
      ]
    },
    {
      "cell_type": "markdown",
      "metadata": {
        "id": "tsnZiY6zDoFt"
      },
      "source": [
        "El código, cuando se ejecute, producirá una de las siguientes cuatro variantes de salida:\n",
        "\n",
        "- Si se ingresa un valor entero válido distinto de cero (por ejemplo, `5`) dirá:\n",
        "`0.2 FIN.`\n",
        "\n",
        "- Si se ingresa `0`, dirá: `No puedes dividir entre cero, lo siento.\n",
        "FIN.`\n",
        "`\n",
        "- Si se ingresa cualquier cadena no entera, verás: `Debes ingresar un valor entero. FIN.`\n",
        "\n",
        "- (Localmente en tu máquina) si presionas Ctrl-C mientras el programa está esperando la entrada del usuario (provocará una excepción denominada `KeyboardInterrupt`), el programa dirá: `Oh cielos, algo salio mal...\n",
        "FIN.`\n",
        "\n",
        "No olvides que:\n",
        "\n",
        "- Los bloques `except` son analizados en el mismo orden en que aparecen en el código.\n",
        "- No debes usar más de un bloque de excepción con el mismo nombre.\n",
        "- El número de diferentes bloques 1except1 es arbitrario, la única condición es que si se emplea el `try`, debes poner al menos un `except` (nombrado o no) después de el.\n",
        "- La palabra reservada `except` no debe ser empleada sin que le preceda un `try`.\n",
        "- Si uno de los bloques `except` es ejecutado, ningún otro lo será.\n",
        "- Si ninguno de los bloques `except` especificados coincide con la excepción planteada, la excepción permanece sin manejar (lo discutiremos pronto).\n",
        "- Si un `except` sin nombre existe, tiene que especificarse como el último.\n"
      ]
    },
    {
      "cell_type": "code",
      "metadata": {
        "id": "c-LJAxKSEsaq",
        "colab": {
          "base_uri": "https://localhost:8080/",
          "height": 248
        },
        "outputId": "7205c815-333e-410d-c0d5-f5580c0035f4"
      },
      "source": [
        "try:\n",
        "    x = int(input(\"Ingresa un numero: \"))\n",
        "    y = 1 / x\n",
        "    print(y)\n",
        "except ValueError:\n",
        "    print(\"Debes ingresar un valor entero.\")\n",
        "\n",
        "print(\"FIN.\")"
      ],
      "execution_count": null,
      "outputs": [
        {
          "output_type": "stream",
          "text": [
            "Ingresa un numero: 0\n"
          ],
          "name": "stdout"
        },
        {
          "output_type": "error",
          "ename": "ZeroDivisionError",
          "evalue": "ignored",
          "traceback": [
            "\u001b[0;31m---------------------------------------------------------------------------\u001b[0m",
            "\u001b[0;31mZeroDivisionError\u001b[0m                         Traceback (most recent call last)",
            "\u001b[0;32m<ipython-input-11-b435509924e4>\u001b[0m in \u001b[0;36m<module>\u001b[0;34m()\u001b[0m\n\u001b[1;32m      1\u001b[0m \u001b[0;32mtry\u001b[0m\u001b[0;34m:\u001b[0m\u001b[0;34m\u001b[0m\u001b[0;34m\u001b[0m\u001b[0m\n\u001b[1;32m      2\u001b[0m     \u001b[0mx\u001b[0m \u001b[0;34m=\u001b[0m \u001b[0mint\u001b[0m\u001b[0;34m(\u001b[0m\u001b[0minput\u001b[0m\u001b[0;34m(\u001b[0m\u001b[0;34m\"Ingresa un numero: \"\u001b[0m\u001b[0;34m)\u001b[0m\u001b[0;34m)\u001b[0m\u001b[0;34m\u001b[0m\u001b[0;34m\u001b[0m\u001b[0m\n\u001b[0;32m----> 3\u001b[0;31m     \u001b[0my\u001b[0m \u001b[0;34m=\u001b[0m \u001b[0;36m1\u001b[0m \u001b[0;34m/\u001b[0m \u001b[0mx\u001b[0m\u001b[0;34m\u001b[0m\u001b[0;34m\u001b[0m\u001b[0m\n\u001b[0m\u001b[1;32m      4\u001b[0m     \u001b[0mprint\u001b[0m\u001b[0;34m(\u001b[0m\u001b[0my\u001b[0m\u001b[0;34m)\u001b[0m\u001b[0;34m\u001b[0m\u001b[0;34m\u001b[0m\u001b[0m\n\u001b[1;32m      5\u001b[0m \u001b[0;32mexcept\u001b[0m \u001b[0mValueError\u001b[0m\u001b[0;34m:\u001b[0m\u001b[0;34m\u001b[0m\u001b[0;34m\u001b[0m\u001b[0m\n",
            "\u001b[0;31mZeroDivisionError\u001b[0m: division by zero"
          ]
        }
      ]
    },
    {
      "cell_type": "markdown",
      "metadata": {
        "id": "1xBMPifSE1uf"
      },
      "source": [
        "En la siguiente sección, nos centraremos en las excepciones integradas de Python y sus jerarquías."
      ]
    },
    {
      "cell_type": "markdown",
      "metadata": {
        "id": "8AofZ1ptE-JA"
      },
      "source": [
        "### 4.2.2 La anatomía de las excepciones"
      ]
    },
    {
      "cell_type": "markdown",
      "metadata": {
        "id": "Foii9vzRFDf1"
      },
      "source": [
        "Python 3 define **63 excepciones integradas**, y todos ellos forman una **jerarquía en forma de árbol**, aunque el árbol es un poco extraño ya que su raíz se encuentra en la parte superior.\n",
        "\n",
        "Algunas de las excepciones integradas son más generales (incluyen otras excepciones) mientras que otras son completamente concretas (solo se representan a sí mismas). Podemos decir que **cuanto más cerca de la raíz se encuentra una excepción, más general (abstracta) es**. A su vez, las excepciones ubicadas en los extremos del árbol (podemos llamarlas **hojas**) son **concretas**.\n",
        "\n",
        "Echa un vistazo a la figura:\n",
        "\n",
        "...\n",
        "\n",
        "Muestra una pequeña sección del árbol completo de excepciones. Comencemos examinando el árbol desde la hoja `ZeroDivisionError`:\n",
        "\n",
        "- `ZeroDivisionError` es un caso especial de una clase de excepción más general llamada `ArithmeticError`.\n",
        "- `ArithmeticError` es un caso especial de una clase de excepción más general llamada solo `Exception`.\n",
        "- `Exception` es un caso especial de una clase más general llamada `BaseException`.\n",
        "\n",
        "Podemos describirlo de la siguiente manera (observa la dirección de las flechas; siempre apuntan a la entidad más general):\n",
        "\n",
        "...\n"
      ]
    },
    {
      "cell_type": "code",
      "metadata": {
        "id": "POA-SdN2FtUX",
        "colab": {
          "base_uri": "https://localhost:8080/",
          "height": 51
        },
        "outputId": "67e4558a-c68b-44a6-8112-95f03eb026d1"
      },
      "source": [
        "try:\n",
        "    y = 1 / 0\n",
        "except ZeroDivisionError:\n",
        "    print(\"Uuuppsss...\")\n",
        "\n",
        "print(\"FIN.\")"
      ],
      "execution_count": null,
      "outputs": [
        {
          "output_type": "stream",
          "text": [
            "Uuuppsss...\n",
            "FIN.\n"
          ],
          "name": "stdout"
        }
      ]
    },
    {
      "cell_type": "code",
      "metadata": {
        "id": "jbCxF7ZMFz5y"
      },
      "source": [
        "try:\n",
        "    y = 1 / 0\n",
        "except ArithmeticError:\n",
        "    print(\"Uuuppsss...\")\n",
        "\n",
        "print(\"FIN.\")"
      ],
      "execution_count": null,
      "outputs": []
    },
    {
      "cell_type": "markdown",
      "metadata": {
        "id": "RMBUd5Z3F6Pg"
      },
      "source": [
        "Por lo tanto, la salida del código permanece sin cambios. Esto también significa que reemplazar el nombre de la excepción ya sea con `Exception` o `BaseException` no cambiará el comportamiento del programa."
      ]
    },
    {
      "cell_type": "code",
      "metadata": {
        "id": "KbAijDUOGCXa",
        "colab": {
          "base_uri": "https://localhost:8080/",
          "height": 51
        },
        "outputId": "62a9f3c2-1fae-4f72-d6bd-40c173edf5ea"
      },
      "source": [
        "try:\n",
        "    y = 1 / 0\n",
        "except ZeroDivisionError:\n",
        "    print(\"¡División entre Cero!\")\n",
        "except ArithmeticError:\n",
        "    print(\"¡Problema aritmético!\")\n",
        "\n",
        "print(\"FIN.\")"
      ],
      "execution_count": null,
      "outputs": [
        {
          "output_type": "stream",
          "text": [
            "¡División entre Cero!\n",
            "FIN.\n"
          ],
          "name": "stdout"
        }
      ]
    },
    {
      "cell_type": "code",
      "metadata": {
        "id": "7wtj49iFGLW8",
        "colab": {
          "base_uri": "https://localhost:8080/",
          "height": 51
        },
        "outputId": "3aeec3ea-2ff6-4b37-8794-bc2edb69bc97"
      },
      "source": [
        "try:\n",
        "    y = 1 / 0\n",
        "except ArithmeticError:\n",
        "    print(\"¡Problema aritmético!\")\n",
        "except ZeroDivisionError:\n",
        "    print(\"¡División entre Cero!\")\n",
        "\n",
        "print(\"FIN.\")"
      ],
      "execution_count": null,
      "outputs": [
        {
          "output_type": "stream",
          "text": [
            "¡Problema aritmético!\n",
            "FIN.\n"
          ],
          "name": "stdout"
        }
      ]
    },
    {
      "cell_type": "markdown",
      "metadata": {
        "id": "SabGznH-GHRZ"
      },
      "source": [
        "¿Por qué, si la excepción planteada es la misma que antes?\n",
        "\n",
        "La excepción es la misma, pero la excepción más general ahora aparece primero: también capturará todas las divisiones entre cero. También significa que no hay posibilidad de que alguna excepción llegue a `ZeroDivisionError`. Ahora es completamente inalcanzable.\n",
        "\n",
        "Recuerda:\n",
        "\n",
        "- ¡El orden de las excepciones importa!\n",
        "- No pongas excepciones más generales antes que otras más concretas.\n",
        "- Esto hará que el último sea inalcanzable e inútil.\n",
        "- Además, hará que el código sea desordenado e inconsistente.\n",
        "- Python no generará ningún mensaje de error con respecto a este problema.\n",
        "\n",
        "Si deseas manejar dos o mas excepciones de la misma manera, puedes usar la siguiente sintaxis:\n"
      ]
    },
    {
      "cell_type": "code",
      "metadata": {
        "id": "iEfDXViiGfpM"
      },
      "source": [
        "try:\n",
        "    :\n",
        "except (exc1, exc2):\n",
        "    :"
      ],
      "execution_count": null,
      "outputs": []
    },
    {
      "cell_type": "markdown",
      "metadata": {
        "id": "OCGN37ndGg2R"
      },
      "source": [
        "Simplemente tienes que poner todos los nombres de excepción empleados en una lista separada por comas y no olvidar los paréntesis.\n",
        "\n",
        "**Si una excepción se genera dentro de una función**, puede ser manejada:\n",
        "\n",
        "- Dentro de la función.\n",
        "- Fuera de la función."
      ]
    },
    {
      "cell_type": "markdown",
      "metadata": {
        "id": "aOEugocBGwJE"
      },
      "source": [
        "#### Excepción manejada dentro de la función"
      ]
    },
    {
      "cell_type": "markdown",
      "metadata": {
        "id": "iUnopZkYG0Rw"
      },
      "source": [
        "Comencemos con la primera variante: \n"
      ]
    },
    {
      "cell_type": "code",
      "metadata": {
        "id": "bxVnxS4fG3Np",
        "colab": {
          "base_uri": "https://localhost:8080/"
        },
        "outputId": "9048795f-5ffe-4e62-8160-e84dcfd78deb"
      },
      "source": [
        "def badFun(n):\n",
        "    try:\n",
        "        return 1 / n\n",
        "    except ArithmeticError:\n",
        "        print(\"¡Problema aritmético!\")\n",
        "    return None\n",
        "\n",
        "badFun(0)\n",
        "\n",
        "print(\"FIN.\")"
      ],
      "execution_count": null,
      "outputs": [
        {
          "output_type": "stream",
          "text": [
            "¡Problema aritmético!\n",
            "FIN.\n"
          ],
          "name": "stdout"
        }
      ]
    },
    {
      "cell_type": "markdown",
      "metadata": {
        "id": "duHeGE7vG37b"
      },
      "source": [
        "La excepción `ZeroDivisionError` (la cual es un caso concreto de la clase `ArithmeticError`) es lanzada dentro de la función `badfun()`, y la función en sí misma se encarga de su caso."
      ]
    },
    {
      "cell_type": "markdown",
      "metadata": {
        "id": "_0ezASaEKBjA"
      },
      "source": [
        "#### Excepción manejada fuera de la función"
      ]
    },
    {
      "cell_type": "markdown",
      "metadata": {
        "id": "9TOcuV3HKHZK"
      },
      "source": [
        "La instrucción `raise` genera la excepción especificada denominada `exc` como si fuese generada de manera natural: `raise exc`\n",
        "\n",
        "N.B.: `raise` es una palabra reservada.\n",
        "\n",
        "La instrucción permite:\n",
        "\n",
        "- **Simular excepciones reales** (por ejemplo, para probar tu estrategia de manejo de excepciones).\n",
        "- Parcialmente **manejar una excepción** y hacer que otra parte del código sea responsable de completar el manejo."
      ]
    },
    {
      "cell_type": "code",
      "metadata": {
        "id": "DTV-05RbHg05",
        "colab": {
          "base_uri": "https://localhost:8080/"
        },
        "outputId": "e7a60e82-1bbc-4037-c583-aa2d78fdf25c"
      },
      "source": [
        "def badFun(n):\n",
        "    raise ZeroDivisionError\n",
        "\n",
        "try:\n",
        "    badFun(2)\n",
        "except ArithmeticError:\n",
        "    print(\"¿Que pasó? ¿Un error?\")\n",
        "\n",
        "print(\"FIN.\")"
      ],
      "execution_count": null,
      "outputs": [
        {
          "output_type": "stream",
          "text": [
            "¿Que pasó? ¿Un error?\n",
            "FIN.\n"
          ],
          "name": "stdout"
        }
      ]
    },
    {
      "cell_type": "markdown",
      "metadata": {
        "id": "VehcdMP7HnIX"
      },
      "source": [
        "La salida del programa permanece sin cambios. De esta manera, puedes **probar tu rutina de manejo de excepciones** sin forzar al código a hacer cosas incorrectas.\n",
        "\n",
        "La instrucción `raise` también se puede utilizar de la siguiente manera (toma en cuenta la ausencia del nombre de la excepción): `raise`\n",
        "\n",
        "Existe una seria restricción: esta variante de la instrucción `raise` puede ser utilizada **solamente dentro de la rama** `except`; usarla en cualquier otro contexto causa un error.\n",
        "\n",
        "La instrucción volverá a generar la misma excepción que se maneja actualmente. Gracias a esto, puedes distribuir el manejo de excepciones entre diferentes partes del código."
      ]
    },
    {
      "cell_type": "code",
      "metadata": {
        "id": "SoyKjOb3IJSJ",
        "colab": {
          "base_uri": "https://localhost:8080/",
          "height": 68
        },
        "outputId": "31d19096-eb61-4ea1-b0dd-73c51dbe5303"
      },
      "source": [
        "def badFun(n):\n",
        "    try:\n",
        "        return n / 0\n",
        "    except:\n",
        "        print(\"¡Lo hice otra vez!\")\n",
        "        raise \n",
        "\n",
        "try:\n",
        "    badFun(0)\n",
        "except ArithmeticError:\n",
        "    print(\"¡Ya veo!\")\n",
        "\n",
        "print(\"FIN.\")"
      ],
      "execution_count": null,
      "outputs": [
        {
          "output_type": "stream",
          "text": [
            "¡Lo hice otra vez!\n",
            "¡Ya veo!\n",
            "FIN.\n"
          ],
          "name": "stdout"
        }
      ]
    },
    {
      "cell_type": "markdown",
      "metadata": {
        "id": "QdJXo9yEIeT-"
      },
      "source": [
        "La excepción `ZeroDivisionError` es generada dos veces:\n",
        "\n",
        "- Primero, dentro del `try` debido a que se intentó realizar una división entre cero.\n",
        "- Segundo, dentro de la parte `except` por la instrucción `raise`."
      ]
    },
    {
      "cell_type": "markdown",
      "metadata": {
        "id": "CpHUvxf0IyGk"
      },
      "source": [
        "Ahora es un buen momento para mostrarte otra instrucción de Python, llamada `assert` (afirmar). Esta es una palabra reservada. `assert expresión`\n",
        "\n",
        "¿Como funciona?\n",
        "\n",
        "- Evalúa la `expresión`.\n",
        "- Si la expresión se evalúa como `True` (verdadero), o un valor numérico distinto de cero, o una cadena no vacía, o cualquier otro valor diferente de `None`, no hará nada más.\n",
        "- De lo contrario, automáticamente e inmediatamente genera una excepción llamada `AssertionError` (en este caso, decimos que la afirmación ha fallado).\n",
        "¿Cómo puede ser utilizada?\n",
        "\n",
        "- Puedes ponerlo en la parte del código donde quieras estar **absolutamente a salvo de datos incorrectos**, y donde no estés absolutamente seguro de que los datos hayan sido examinados cuidadosamente antes (por ejemplo, dentro de una función utilizada por otra persona).\n",
        "- El generar una excepción `AssertionError` asegura que tu código no produzca resultados no válidos y muestra claramente la naturaleza de la falla.\n",
        "- **Las aserciones no reemplazan las excepciones ni validan los datos**, son suplementos.\n",
        "\n",
        "Si las excepciones y la validación de datos son como conducir con cuidado, la aserción puede desempeñar el papel de una bolsa de aire."
      ]
    },
    {
      "cell_type": "code",
      "metadata": {
        "id": "9mrRnRAAJcO4",
        "colab": {
          "base_uri": "https://localhost:8080/",
          "height": 248
        },
        "outputId": "ad8fe5b9-8077-4890-fe15-e2bfdbea9de9"
      },
      "source": [
        "import math\n",
        "\n",
        "x = float(input(\"Ingresa un numero: \"))\n",
        "assert x >= 0.0\n",
        "\n",
        "x = math.sqrt(x)\n",
        "\n",
        "print(x)"
      ],
      "execution_count": null,
      "outputs": [
        {
          "output_type": "stream",
          "text": [
            "Ingresa un numero: -1\n"
          ],
          "name": "stdout"
        },
        {
          "output_type": "error",
          "ename": "AssertionError",
          "evalue": "ignored",
          "traceback": [
            "\u001b[0;31m---------------------------------------------------------------------------\u001b[0m",
            "\u001b[0;31mAssertionError\u001b[0m                            Traceback (most recent call last)",
            "\u001b[0;32m<ipython-input-10-a1d12183be84>\u001b[0m in \u001b[0;36m<module>\u001b[0;34m()\u001b[0m\n\u001b[1;32m      2\u001b[0m \u001b[0;34m\u001b[0m\u001b[0m\n\u001b[1;32m      3\u001b[0m \u001b[0mx\u001b[0m \u001b[0;34m=\u001b[0m \u001b[0mfloat\u001b[0m\u001b[0;34m(\u001b[0m\u001b[0minput\u001b[0m\u001b[0;34m(\u001b[0m\u001b[0;34m\"Ingresa un numero: \"\u001b[0m\u001b[0;34m)\u001b[0m\u001b[0;34m)\u001b[0m\u001b[0;34m\u001b[0m\u001b[0;34m\u001b[0m\u001b[0m\n\u001b[0;32m----> 4\u001b[0;31m \u001b[0;32massert\u001b[0m \u001b[0mx\u001b[0m \u001b[0;34m>=\u001b[0m \u001b[0;36m0.0\u001b[0m\u001b[0;34m\u001b[0m\u001b[0;34m\u001b[0m\u001b[0m\n\u001b[0m\u001b[1;32m      5\u001b[0m \u001b[0;34m\u001b[0m\u001b[0m\n\u001b[1;32m      6\u001b[0m \u001b[0mx\u001b[0m \u001b[0;34m=\u001b[0m \u001b[0mmath\u001b[0m\u001b[0;34m.\u001b[0m\u001b[0msqrt\u001b[0m\u001b[0;34m(\u001b[0m\u001b[0mx\u001b[0m\u001b[0;34m)\u001b[0m\u001b[0;34m\u001b[0m\u001b[0;34m\u001b[0m\u001b[0m\n",
            "\u001b[0;31mAssertionError\u001b[0m: "
          ]
        }
      ]
    },
    {
      "cell_type": "markdown",
      "metadata": {
        "id": "Av8frEs7KL2b"
      },
      "source": [
        "#### Excepciones integradas"
      ]
    },
    {
      "cell_type": "markdown",
      "metadata": {
        "id": "_SfPrVqiKf75"
      },
      "source": [
        "Te mostraremos una breve lista de las excepciones más útiles. Si bien puede sonar extraño llamar \"útil\" a una cosa o un fenómeno que es un signo visible de una falla o retroceso, como sabes, errar es humano y si algo puede salir mal, saldrá mal.\n",
        "\n",
        "Las excepciones son tan rutinarias y normales como cualquier otro aspecto de la vida de un programador.\n",
        "\n",
        "Para cada excepción, te mostraremos:\n",
        "\n",
        "- Su nombre.\n",
        "- Su ubicación en el árbol de excepciones.\n",
        "- Una breve descripción.\n",
        "- Un fragmento de código conciso que muestre las circunstancias en las que se puede generar la excepción.\n",
        "\n",
        "Hay muchas otras excepciones para explorar: simplemente no tenemos el espacio para revisarlas todas aquí.\n",
        "\n",
        "...\n",
        "\n",
        "Hemos terminado con excepciones por ahora, pero volverán cuando discutamos la programación orientada a objetos en Python. Puedes usarlos para proteger tu código de accidentes graves, pero también tienes que aprender a sumergirte en ellos, explorando la información que llevan.\n",
        "\n",
        "De hecho, las excepciones son objetos; sin embargo, no podemos decirle nada sobre este aspecto hasta que te presentemos clases, objetos y similares.\n",
        "\n",
        "Por el momento, si deseas obtener más información sobre las excepciones por tu cuenta, consulta la Biblioteca estándar de Python en https://docs.python.org/3.6/library/exceptions.html.\n"
      ]
    },
    {
      "cell_type": "code",
      "metadata": {
        "id": "-KRwsrKez2Vd",
        "colab": {
          "base_uri": "https://localhost:8080/",
          "height": 51
        },
        "outputId": "2fdc8f7b-78d3-4738-e89f-56a0757a77e2"
      },
      "source": [
        "try:\n",
        "    val = int(input('ingrese un número entero:'))\n",
        "    assert val >= 0\n",
        "except ValueError:\n",
        "    print('¡Debe ingresar solo números enteros!')\n",
        "    print('Hubo un error al convertir texto en entero.')\n",
        "except AssertionError:\n",
        "    print('¡Debe ingresar enteros >=0!')\n",
        "except:\n",
        "    print('Mucho cuidado.')\n",
        "\n",
        "try:\n",
        "    num = 10/val\n",
        "except ZeroDivisionError:\n",
        "    print('Hubo un error al intentar dividir entre cero.')\n",
        "except:\n",
        "    print('Mucho cuidado...')\n",
        "print('num\\t:\\t',num)"
      ],
      "execution_count": null,
      "outputs": [
        {
          "output_type": "stream",
          "text": [
            "ingrese un número entero:3\n",
            "num\t:\t 3.3333333333333335\n"
          ],
          "name": "stdout"
        }
      ]
    },
    {
      "cell_type": "markdown",
      "metadata": {
        "id": "BDuTicfT7fvN"
      },
      "source": [
        "## 4.3 Cadenas"
      ]
    },
    {
      "cell_type": "markdown",
      "metadata": {
        "id": "RB1nTHgxLung"
      },
      "source": [
        "**Las computadoras almacenan los caracteres como números**. Cada carácter utilizado por una computadora corresponde a un número único, y viceversa. Esta asignación debe incluir más caracteres de los que podrías esperar. Muchos de ellos son invisibles para los humanos, pero esenciales para las computadoras.\n",
        "\n",
        "Algunos de estos caracteres se llaman **espacios en blanco**, mientras que otros se nombran **caracteres de control**, porque su propósito es controlar dispositivos de entrada/salida.\n",
        "\n",
        "Un ejemplo de un espacio en blanco que es completamente invisible a simple vista es un código especial, o un par de códigos (diferentes sistemas operativos pueden tratar este asunto de manera diferente), que se utilizan para marcar el final de las líneas dentro de los archivos de texto.\n",
        "\n",
        "Las personas no ven este signo (o estos signos), pero pueden observar el efecto de su aplicación donde ven un salto de línea.\n",
        "\n",
        "Podemos crear prácticamente cualquier cantidad de asignaciones de números con caracteres, pero la vida en un mundo en el que cada tipo de computadora utiliza una codificación de caracteres diferentes no sería muy conveniente. Este sistema ha llevado a la necesidad de introducir un estándar universal y ampliamente aceptado, implementado por (casi) todas las computadoras y sistemas operativos en todo el mundo.\n",
        "\n",
        "El denominado **ASCII** (por sus siglas en íngles American Standard Code for Information Interchange). El Código Estándar Americano para Intercambio de Información es el más utilizado, y es posible suponer que casi todos los dispositivos modernos (como computadoras, impresoras, teléfonos móviles, tabletas, etc.) usan este código.\n",
        "\n",
        "El código proporciona espacio para **256** caracteres diferentes, pero solo nos interesan los primeros 128. Si deseas ver cómo se construye el código, mira la tabla a continuación. Haz clic en la tabla para ampliarla. Mírala cuidadosamente: hay algunos datos interesantes. Observa el código del caracter más común: el espacio. El cual es el 32."
      ]
    },
    {
      "cell_type": "markdown",
      "metadata": {
        "id": "o_hPAtSnMrmz"
      },
      "source": [
        "### 5.3.1 Puntos de código y páginas de códigos"
      ]
    },
    {
      "cell_type": "markdown",
      "metadata": {
        "id": "StmDkkweMs2U"
      },
      "source": [
        "Necesitamos un nuevo término: un **punto de código**.\n",
        "\n",
        "Un punto de código es un **numero que compone un caracter**. Por ejemplo, 32 es un punto de código que compone un espacio en codificación ASCII. Podemos decir que el código ASCII estándar consta de 128 puntos de código.\n",
        "\n",
        "Como el ASCII estándar ocupa 128 de 256 puntos de código posibles, solo puedes hacer uso de los 128 restantes.\n",
        "\n",
        "No es suficiente para todos los idiomas posibles, pero puede ser suficiente para un idioma o para un pequeño grupo de idiomas similares.\n",
        "\n",
        "¿Se puede **establecer la mitad superior de los puntos de código de manera diferente para diferentes idiomas**? Si, por supuesto. A tal concepto se le denomina una **página de códigos**.\n",
        "\n",
        "Una página de códigos es un **estándar para usar los 128 puntos de código superiores para almacenar caracteres específicos**. Por ejemplo, hay diferentes páginas de códigos para Europa Occidental y Europa del Este, alfabetos cirílicos y griegos, idiomas árabe y hebreo, etc.\n",
        "\n",
        "Esto significa que el mismo punto de código puede formar diferentes caracteres cuando se usa en diferentes páginas de códigos.\n",
        "\n",
        "Por ejemplo, el punto de código 200 forma una Č (una letra usada por algunas lenguas eslavas) cuando lo utiliza la página de códigos ISO/IEC 8859-2, pero forma un Ш (una letra cirílica) cuando es usado por la página de códigos ISO/IEC 8859-5.\n",
        "\n",
        "En consecuencia, para determinar el significado de un punto de código específico, debes conocer la página de códigos de destino.\n",
        "\n",
        "En otras palabras, los puntos de código derivados del código de páginas son ambiguos"
      ]
    },
    {
      "cell_type": "markdown",
      "metadata": {
        "id": "CTGQiARGNY8W"
      },
      "source": [
        "#### Unicode"
      ]
    },
    {
      "cell_type": "markdown",
      "metadata": {
        "id": "zUbyUk9WNZtF"
      },
      "source": [
        "Las páginas de códigos ayudaron a la industria informática a resolver problemas de I18N durante algún tiempo, pero pronto resultó que no serían una solución permanente. El concepto que resolvió el problema a largo plazo fue el **Unicode**.\n",
        "\n",
        "**Unicode asigna caracteres únicos (letras, guiones, ideogramas, etc.) a más de un millón de puntos de código**. Los primeros 128 puntos de código Unicode son idénticos a ASCII, y los primeros 256 puntos de código Unicode son idénticos a la página de códigos ISO / IEC 8859-1 (una página de códigos diseñada para idiomas de Europa occidental)."
      ]
    },
    {
      "cell_type": "markdown",
      "metadata": {
        "id": "OL98Rro-NqRe"
      },
      "source": [
        "#### UCS-4"
      ]
    },
    {
      "cell_type": "markdown",
      "metadata": {
        "id": "nyiXkBU9NuWj"
      },
      "source": [
        "El estándar Unicode no dice nada sobre cómo codificar y almacenar los caracteres en la memoria y los archivos. Solo nombra todos los caracteres disponibles y los asigna a planos (un grupo de caracteres de origen, aplicación o naturaleza similares).\n",
        "\n",
        "Existe más de un estándar que describe las técnicas utilizadas para implementar Unicode en computadoras y sistemas de almacenamiento informáticos reales. El más general de ellos es **UCS-4**. El nombre viene de **Universal Character Set** (Conjunto de Caracteres Universales).\n",
        "\n",
        "**UCS-4 emplea 32 bits (cuatro bytes) para almacenar cada caracter**, y el código es solo el número único de los puntos de código Unicode. Un archivo que contiene texto codificado UCS-4 puede comenzar con un BOM (byte order mark - marca de orden de bytes), una combinación no imprimible de bits que anuncia la naturaleza del contenido del archivo. Algunas utilidades pueden requerirlo.\n",
        "\n",
        "Como puedes ver, UCS-4 es un estándar bastante derrochador: aumenta el tamaño de un texto cuatro veces en comparación con el estándar ASCII. Afortunadamente, hay formas más inteligentes de codificar textos Unicode."
      ]
    },
    {
      "cell_type": "markdown",
      "metadata": {
        "id": "k64wD35NOADl"
      },
      "source": [
        "#### UTF-8"
      ]
    },
    {
      "cell_type": "markdown",
      "metadata": {
        "id": "MfXIhgEnOC35"
      },
      "source": [
        "Uno de los más utilizados es **UTF-8**. El nombre se deriva de **Unicode Transformation Format** (Formato de Transformación Unicode).\n",
        "\n",
        "El concepto es muy inteligente. **UTF-8 emplea tantos bits para cada uno de los puntos de código como realmente necesita para representarlos**.\n",
        "\n",
        "Por ejemplo:\n",
        "\n",
        "- Todos los caracteres latinos (y todos los caracteres ASCII estándar) ocupan ocho bits.\n",
        "- Los caracteres no latinos ocupan 16 bits.\n",
        "- Los ideógrafos CJK (China-Japón-Corea) ocupan 24 bits.\n",
        "\n",
        "Debido a las características del método utilizado por UTF-8 para almacenar los puntos de código, no es necesario usar el BOM, pero algunas de las herramientas lo buscan al leer el archivo, y muchos editores lo configuran durante el guardado.\n",
        "\n",
        "**Python 3 es totalmente compatible con Unicode y UTF-8**:\n",
        "\n",
        "- Puedes usar caracteres codificados Unicode / UTF-8 para nombrar variables y otras entidades.\n",
        "- Puedes usarlos durante todas las entradas y salidas.\n",
        "Esto significa que **Python 3 está completamente Internacionalizado**.\n"
      ]
    },
    {
      "cell_type": "markdown",
      "metadata": {
        "id": "LirbmNA4OkgD"
      },
      "source": [
        "### 4.3.2 La naturaleza de las cadenas en Python"
      ]
    },
    {
      "cell_type": "markdown",
      "metadata": {
        "id": "cahTaTxBOt7p"
      },
      "source": [
        "En primer lugar, las cadenas de Python (o simplemente cadenas, ya que no vamos a discutir las cadenas de ningún otro lenguaje) son **secuencias inmutables**.\n",
        "\n",
        "Es muy importante tener en cuenta esto, porque significa que debes esperar un comportamiento familiar.\n",
        "\n",
        "Por ejemplo, la función `len()` empleada por cadenas devuelve el número de caracteres que contiene el argumento.\n",
        "\n",
        "No olvides que la diagonal invertida (\\) empleada como un caracter de escape, no esta incluida en la longitud total de la cadena."
      ]
    },
    {
      "cell_type": "code",
      "metadata": {
        "id": "t83-sjTTPGGt",
        "colab": {
          "base_uri": "https://localhost:8080/",
          "height": 51
        },
        "outputId": "a7005fac-35a2-41c9-ad23-e192acfc13aa"
      },
      "source": [
        "yo_soy = 'I\\'m'\n",
        "print(len(yo_soy))\n",
        "print(yo_soy)"
      ],
      "execution_count": null,
      "outputs": [
        {
          "output_type": "stream",
          "text": [
            "3\n",
            "I'm\n"
          ],
          "name": "stdout"
        }
      ]
    },
    {
      "cell_type": "markdown",
      "metadata": {
        "id": "D6Z2jYvnPXNS"
      },
      "source": [
        "#### Cadenas multilínea"
      ]
    },
    {
      "cell_type": "markdown",
      "metadata": {
        "id": "kBRzGUOdPZ_-"
      },
      "source": [
        "Ahora es un muy buen momento para mostrarte otra forma de especificar cadenas dentro del código fuente de Python. Ten en cuenta que la sintaxis que ya conoces no te permitirá usar una cadena que ocupe más de una línea de texto.\n",
        "\n",
        "Por esta razón, el código aquí es erróneo:"
      ]
    },
    {
      "cell_type": "code",
      "metadata": {
        "id": "PQQEAyY0PfbX",
        "colab": {
          "base_uri": "https://localhost:8080/",
          "height": 129
        },
        "outputId": "57b80936-16cb-4808-f6f3-6a96b86a059d"
      },
      "source": [
        "multiLinea = 'Linea #1\n",
        "Linea #2'\n",
        "\n",
        "print(len(multiLinea))"
      ],
      "execution_count": null,
      "outputs": [
        {
          "output_type": "error",
          "ename": "SyntaxError",
          "evalue": "ignored",
          "traceback": [
            "\u001b[0;36m  File \u001b[0;32m\"<ipython-input-14-2f56e8c99270>\"\u001b[0;36m, line \u001b[0;32m1\u001b[0m\n\u001b[0;31m    multiLinea = 'Linea #1\u001b[0m\n\u001b[0m                          ^\u001b[0m\n\u001b[0;31mSyntaxError\u001b[0m\u001b[0;31m:\u001b[0m EOL while scanning string literal\n"
          ]
        }
      ]
    },
    {
      "cell_type": "markdown",
      "metadata": {
        "id": "h0rin59HPhKy"
      },
      "source": [
        "Afortunadamente, para este tipo de cadenas, Python ofrece una sintaxis simple, conveniente y separada."
      ]
    },
    {
      "cell_type": "code",
      "metadata": {
        "id": "E5X7m0f8PrZ_",
        "colab": {
          "base_uri": "https://localhost:8080/"
        },
        "outputId": "208730c7-7511-4346-9c87-941b2db4ef06"
      },
      "source": [
        "multiLinea = '''Linea #1\n",
        "\n",
        "Linea #2'''\n",
        "\n",
        "print(len(multiLinea))\n",
        "print(multiLinea)"
      ],
      "execution_count": null,
      "outputs": [
        {
          "output_type": "stream",
          "text": [
            "18\n",
            "Linea #1\n",
            "\n",
            "Linea #2\n"
          ],
          "name": "stdout"
        }
      ]
    },
    {
      "cell_type": "markdown",
      "metadata": {
        "id": "it2XvlrrPr8H"
      },
      "source": [
        "Como puedes ver, la cadena comienza con tres apóstrofes, no uno. El mismo apóstrofe triplicado se usa para terminar la cadena. El número de líneas de texto dentro de una cadena de este tipo es arbitrario.\n",
        "\n",
        "La `Linea #1` contiene ocho caracteres. Las dos líneas juntas contienen 16 caracteres. ¿Perdimos un caracter? ¿Dónde? ¿Cómo?\n",
        "\n",
        "El caracter que falta es simplemente invisible: es un espacio en blanco. Se encuentra entre las dos líneas de texto. Se denota como: `\\n`. ¿Lo recuerdas? Es un caracter especial (de control) utilizado para forzar un avance de línea. No puedes verlo, pero cuenta.\n",
        "\n",
        "Las cadenas multilínea pueden ser delimitadas también por comillas triples, como aqui:"
      ]
    },
    {
      "cell_type": "code",
      "metadata": {
        "id": "XViH7cF4QUW9",
        "colab": {
          "base_uri": "https://localhost:8080/",
          "height": 34
        },
        "outputId": "eb4f5fb1-1b57-4692-ece5-04260a84b956"
      },
      "source": [
        "multiLinea = \"\"\"Linea #1\n",
        "Linea #2\"\"\"\n",
        "\n",
        "print(len(multiLinea))"
      ],
      "execution_count": null,
      "outputs": [
        {
          "output_type": "stream",
          "text": [
            "17\n"
          ],
          "name": "stdout"
        }
      ]
    },
    {
      "cell_type": "markdown",
      "metadata": {
        "id": "nrArQLLDQbXK"
      },
      "source": [
        "#### Operaciones con Cadenas"
      ]
    },
    {
      "cell_type": "markdown",
      "metadata": {
        "id": "vXAKG-mkQd5y"
      },
      "source": [
        "Al igual que otros tipos de datos, las cadenas tienen su propio conjunto de operaciones permitidas, aunque son bastante limitadas en comparación con los números. En general, las cadenas pueden ser:\n",
        "\n",
        "- **Concatenadas** (unidas).\n",
        "- **Replicadas**.\n",
        "\n",
        "La primera operación la realiza el operador `+` (toma en cuenta que no es una adición o suma) mientras que la segunda por el operador `*` (toma en cuenta de nuevo que no es una multiplicación).\n",
        "\n",
        "La capacidad de usar el mismo operador en tipos de datos completamente diferentes (como números o cadenas) se llama **overloading** - sobrecarga (debido a que el operador está sobrecargado con diferentes tareas).\n",
        "\n",
        "Analiza el ejemplo:\n",
        "\n",
        "- El operador `+` es empleado en dos o más cadenas y produce una nueva cadena que contiene todos los caracteres de sus argumentos (nota: el orden es relevante aquí, en contraste con su versión numérica, la cual es conmutativa).\n",
        "- El operador `*` necesita una cadena y un número como argumentos; en este caso, el orden no importa: puedes poner el número antes de la cadena, o viceversa, el resultado será el mismo: una nueva cadena creada por la enésima replicación de la cadena del argumento."
      ]
    },
    {
      "cell_type": "code",
      "metadata": {
        "id": "tkEwvWWwQ17h",
        "colab": {
          "base_uri": "https://localhost:8080/",
          "height": 85
        },
        "outputId": "8f792e3d-9a31-4341-8238-a4cd9c85af7d"
      },
      "source": [
        "str1 = 'a'\n",
        "str2 = 'b'\n",
        "\n",
        "print(str1 + str2)\n",
        "print(str2 + str1)\n",
        "print(5 * 'a')\n",
        "print('b' * 4)"
      ],
      "execution_count": null,
      "outputs": [
        {
          "output_type": "stream",
          "text": [
            "ab\n",
            "ba\n",
            "aaaaa\n",
            "bbbb\n"
          ],
          "name": "stdout"
        }
      ]
    },
    {
      "cell_type": "markdown",
      "metadata": {
        "id": "jofjmcDVQ5H2"
      },
      "source": [
        "Si deseas saber el valor del punto de código ASCII/UNICODE de un caracter específico, puedes usar la función `ord()` (proveniente de ordinal).\n",
        "\n",
        "La función necesita una cadena de un caracter como argumento - incumplir este requisito provoca una excepción `TypeError`, y devuelve un número que representa el punto de código del argumento."
      ]
    },
    {
      "cell_type": "code",
      "metadata": {
        "id": "nIqRGLWVRCOP",
        "colab": {
          "base_uri": "https://localhost:8080/"
        },
        "outputId": "8dc0cbc6-1e0b-4f8d-de1b-3fdb1fd46bff"
      },
      "source": [
        "# Demostrando la función ord ()\n",
        "\n",
        "ch1 = '@' \n",
        "ch2 = ' ' # espacio\n",
        "\n",
        "print(ord(ch1))\n",
        "print(ord(ch2))\n",
        "print('type(ch1)',type(ch1))"
      ],
      "execution_count": null,
      "outputs": [
        {
          "output_type": "stream",
          "text": [
            "64\n",
            "32\n",
            "type(ch1) <class 'str'>\n"
          ],
          "name": "stdout"
        }
      ]
    },
    {
      "cell_type": "markdown",
      "metadata": {
        "id": "T-rXRjtwROiv"
      },
      "source": [
        "Si conoces el punto de código (número) y deseas obtener el carácter correspondiente, puedes usar la función llamada `chr()`. La función **toma un punto de código y devuelve su carácter**.\n",
        "\n",
        "Invocándolo con un argumento inválido (por ejemplo, un punto de código negativo o inválido) provoca las excepciones `ValueError` o `TypeError`."
      ]
    },
    {
      "cell_type": "code",
      "metadata": {
        "id": "OldEbML1RZkH",
        "colab": {
          "base_uri": "https://localhost:8080/"
        },
        "outputId": "cc895d1f-f6db-4a21-c73f-830f47bf5d94"
      },
      "source": [
        "# Demostrando la función chr()\n",
        "\n",
        "print(chr(97))\n",
        "print(chr(945))"
      ],
      "execution_count": null,
      "outputs": [
        {
          "output_type": "stream",
          "text": [
            "a\n",
            "α\n"
          ],
          "name": "stdout"
        }
      ]
    },
    {
      "cell_type": "markdown",
      "metadata": {
        "id": "1sNI1nMfRjtv"
      },
      "source": [
        "Ya dijimos antes que las **cadenas de Python son secuencias**. Es hora de mostrarte lo que significa realmente.\n",
        "\n",
        "**Las cadenas no son listas, pero pueden ser tratadas como tal en muchos casos**. Por ejemplo, si deseas acceder a cualquiera de los caracteres de una cadena, puedes hacerlo usando **indexación**, al igual que en el ejemplo en el editor."
      ]
    },
    {
      "cell_type": "code",
      "metadata": {
        "id": "JGsgIbgvR3eE",
        "colab": {
          "base_uri": "https://localhost:8080/",
          "height": 34
        },
        "outputId": "43b598e9-c48f-4dea-93a3-bfc429fa34c0"
      },
      "source": [
        "# Indexando cadenas\n",
        "\n",
        "exampleString = 'silly walks'\n",
        "\n",
        "for ix in range(len(exampleString)):\n",
        "    print(exampleString[ix], end=' ')"
      ],
      "execution_count": null,
      "outputs": [
        {
          "output_type": "stream",
          "text": [
            "s i l l y   w a l k s "
          ],
          "name": "stdout"
        }
      ]
    },
    {
      "cell_type": "markdown",
      "metadata": {
        "id": "gOJjonPzR4Ra"
      },
      "source": [
        "Ten cuidado, no intentes pasar los límites de la cadena, ya que provocará una excepción. Por cierto, los índices negativos también se comportan como se esperaba. Comprueba esto tú mismo.\n",
        "\n",
        "**Iterar a través de las cadenas** funciona también. "
      ]
    },
    {
      "cell_type": "code",
      "metadata": {
        "id": "d3kr2EtUSJw2",
        "colab": {
          "base_uri": "https://localhost:8080/",
          "height": 34
        },
        "outputId": "5f66efc5-1c46-499f-fced-dd5c485afbd2"
      },
      "source": [
        "# Iterando a través de una cadena\n",
        "\n",
        "exampleString = 'silly walks'\n",
        "\n",
        "for ch in exampleString:\n",
        "    print(ch, end=' ')"
      ],
      "execution_count": null,
      "outputs": [
        {
          "output_type": "stream",
          "text": [
            "s i l l y   w a l k s "
          ],
          "name": "stdout"
        }
      ]
    },
    {
      "cell_type": "markdown",
      "metadata": {
        "id": "jxtxzAcQSQ6v"
      },
      "source": [
        "Todo lo que sabes sobre **rodajas** o **rebanadas** es utilizable. Hemos reunido algunos ejemplos que muestran cómo funcionan las rodajas en el mundo de las cadenas."
      ]
    },
    {
      "cell_type": "code",
      "metadata": {
        "id": "jUgKMROESaqi",
        "colab": {
          "base_uri": "https://localhost:8080/",
          "height": 136
        },
        "outputId": "51366ef2-8a1b-40c4-ef48-ad38f64f0192"
      },
      "source": [
        "# Rodajas o rebanadas\n",
        "\n",
        "alpha = \"abdefg\"\n",
        "\n",
        "print(alpha[1:3])\n",
        "print(alpha[3:])\n",
        "print(alpha[:3])\n",
        "print(alpha[3:-2])\n",
        "print(alpha[-3:4])\n",
        "print(alpha[::2])\n",
        "print(alpha[1::2])"
      ],
      "execution_count": null,
      "outputs": [
        {
          "output_type": "stream",
          "text": [
            "bd\n",
            "efg\n",
            "abd\n",
            "e\n",
            "e\n",
            "adf\n",
            "beg\n"
          ],
          "name": "stdout"
        }
      ]
    },
    {
      "cell_type": "markdown",
      "metadata": {
        "id": "ub9pWUsWS0AB"
      },
      "source": [
        "El operador `in` no debería sorprenderte cuando se aplica a cadenas, simplemente comprueba si el argumento izquierdo (una cadena) se puede encontrar en cualquier lugar dentro del argumento derecho (otra cadena).\n",
        "\n",
        "El resultado es simplemente `True` (Verdadero) o `False` (Falso)."
      ]
    },
    {
      "cell_type": "code",
      "metadata": {
        "id": "vaPG1ToQS7Tq",
        "colab": {
          "base_uri": "https://localhost:8080/",
          "height": 102
        },
        "outputId": "5d3f695a-8c46-49b8-9d64-d750aa522aa3"
      },
      "source": [
        "alpfabeto = \"abcdefghijklmnopqrstuvwxyz\"\n",
        "\n",
        "print(\"f\" in alpfabeto)\n",
        "print(\"F\" in alpfabeto)\n",
        "print(\"1\" in alpfabeto)\n",
        "print(\"ghi\" in alpfabeto)\n",
        "print(\"Xyz\" in alpfabeto)"
      ],
      "execution_count": null,
      "outputs": [
        {
          "output_type": "stream",
          "text": [
            "True\n",
            "False\n",
            "False\n",
            "True\n",
            "False\n"
          ],
          "name": "stdout"
        }
      ]
    },
    {
      "cell_type": "markdown",
      "metadata": {
        "id": "igsZ-sRuTAH9"
      },
      "source": [
        "Como probablemente puedas deducir, el operador `not in` también es aplicable aquí."
      ]
    },
    {
      "cell_type": "code",
      "metadata": {
        "id": "SZQIQvX4TD57"
      },
      "source": [
        "alfabeto = \"abcdefghijklmnopqrstuvwxyz\"\n",
        "\n",
        "print(\"f\" not in alfabeto)\n",
        "print(\"F\" not in alfabeto)\n",
        "print(\"1\" not in alfabeto)\n",
        "print(\"ghi\" not in alfabeto)\n",
        "print(\"Xyz\" not in alfabeto)"
      ],
      "execution_count": null,
      "outputs": []
    },
    {
      "cell_type": "markdown",
      "metadata": {
        "id": "nrB6WFOx7abY"
      },
      "source": [
        "También te hemos dicho que las **cadenas de Python son inmutables**. Esta es una característica muy importante. ¿Qué significa?\n",
        "\n",
        "Esto significa principalmente que la similitud de cadenas y listas es limitada. No todo lo que puede hacerse con una lista puede hacerse con una cadena.\n",
        "\n",
        "La primera diferencia importante no te permite usar la instrucción `del` para eliminar cualquier cosa de una cadena. El ejemplo siguiente no funcionará:"
      ]
    },
    {
      "cell_type": "code",
      "metadata": {
        "id": "3iRPFo0ETYbb",
        "colab": {
          "base_uri": "https://localhost:8080/",
          "height": 197
        },
        "outputId": "11ff531d-9046-44bc-b481-4763f22f7cb4"
      },
      "source": [
        "alfabeto = \"abcdefghijklmnopqrstuvwxyz\"\n",
        "\n",
        "del alfabeto[0]"
      ],
      "execution_count": null,
      "outputs": [
        {
          "output_type": "error",
          "ename": "TypeError",
          "evalue": "ignored",
          "traceback": [
            "\u001b[0;31m---------------------------------------------------------------------------\u001b[0m",
            "\u001b[0;31mTypeError\u001b[0m                                 Traceback (most recent call last)",
            "\u001b[0;32m<ipython-input-7-1a061ab07f34>\u001b[0m in \u001b[0;36m<module>\u001b[0;34m()\u001b[0m\n\u001b[1;32m      1\u001b[0m \u001b[0malfabeto\u001b[0m \u001b[0;34m=\u001b[0m \u001b[0;34m\"abcdefghijklmnopqrstuvwxyz\"\u001b[0m\u001b[0;34m\u001b[0m\u001b[0;34m\u001b[0m\u001b[0m\n\u001b[1;32m      2\u001b[0m \u001b[0;34m\u001b[0m\u001b[0m\n\u001b[0;32m----> 3\u001b[0;31m \u001b[0;32mdel\u001b[0m \u001b[0malfabeto\u001b[0m\u001b[0;34m[\u001b[0m\u001b[0;36m0\u001b[0m\u001b[0;34m]\u001b[0m\u001b[0;34m\u001b[0m\u001b[0;34m\u001b[0m\u001b[0m\n\u001b[0m",
            "\u001b[0;31mTypeError\u001b[0m: 'str' object doesn't support item deletion"
          ]
        }
      ]
    },
    {
      "cell_type": "markdown",
      "metadata": {
        "id": "qyCsZT5pTaOD"
      },
      "source": [
        "Lo único que puedes hacer con `del` y una cadena es eliminar la cadena como un todo. Intenta hacerlo.\n",
        "\n",
        "Las cadenas de Python no tienen el método `append()` - no se pueden expander de ninguna manera.\n",
        "\n",
        "El siguiente ejemplo es erróneo:"
      ]
    },
    {
      "cell_type": "code",
      "metadata": {
        "id": "cRIAWHkkTiHp",
        "colab": {
          "base_uri": "https://localhost:8080/",
          "height": 197
        },
        "outputId": "bc7c260a-ef8d-4962-f67c-5a278ef11795"
      },
      "source": [
        "alfabeto = \"abcdefghijklmnopqrstuvwxyz\"\n",
        "\n",
        "alfabeto.append(\"A\")"
      ],
      "execution_count": null,
      "outputs": [
        {
          "output_type": "error",
          "ename": "AttributeError",
          "evalue": "ignored",
          "traceback": [
            "\u001b[0;31m---------------------------------------------------------------------------\u001b[0m",
            "\u001b[0;31mAttributeError\u001b[0m                            Traceback (most recent call last)",
            "\u001b[0;32m<ipython-input-18-620c66c2c0c6>\u001b[0m in \u001b[0;36m<module>\u001b[0;34m()\u001b[0m\n\u001b[1;32m      1\u001b[0m \u001b[0malfabeto\u001b[0m \u001b[0;34m=\u001b[0m \u001b[0;34m\"abcdefghijklmnopqrstuvwxyz\"\u001b[0m\u001b[0;34m\u001b[0m\u001b[0;34m\u001b[0m\u001b[0m\n\u001b[1;32m      2\u001b[0m \u001b[0;34m\u001b[0m\u001b[0m\n\u001b[0;32m----> 3\u001b[0;31m \u001b[0malfabeto\u001b[0m\u001b[0;34m.\u001b[0m\u001b[0mappend\u001b[0m\u001b[0;34m(\u001b[0m\u001b[0;34m\"A\"\u001b[0m\u001b[0;34m)\u001b[0m\u001b[0;34m\u001b[0m\u001b[0;34m\u001b[0m\u001b[0m\n\u001b[0m",
            "\u001b[0;31mAttributeError\u001b[0m: 'str' object has no attribute 'append'"
          ]
        }
      ]
    },
    {
      "cell_type": "code",
      "metadata": {
        "id": "RujcKO1F7iDZ",
        "colab": {
          "base_uri": "https://localhost:8080/",
          "height": 51
        },
        "outputId": "a94b2318-8452-4f51-ffb7-24d3de4fa3c0"
      },
      "source": [
        "msj = 'Hola'\n",
        "print('id(msj)',id(msj))\n",
        "msj = msj + ' mundo!'\n",
        "print('id(msj)',id(msj))"
      ],
      "execution_count": null,
      "outputs": [
        {
          "output_type": "stream",
          "text": [
            "id(msj) 139716812291632\n",
            "id(msj) 139716811160368\n"
          ],
          "name": "stdout"
        }
      ]
    },
    {
      "cell_type": "markdown",
      "metadata": {
        "id": "5-HUEpTiTsZG"
      },
      "source": [
        "No pienses que la inmutabilidad de una cadena limita tu capacidad de operar con ellas. La única consecuencia es que debes recordarlo e implementar tu código de una manera ligeramente diferente:"
      ]
    },
    {
      "cell_type": "code",
      "metadata": {
        "id": "Mty5gWQDTwmg"
      },
      "source": [
        "alfabeto = \"bcdefghijklmnopqrstuvwxy\"\n",
        "\n",
        "alfabeto = \"a\" + alfabeto\n",
        "alfabeto = alfabeto + \"z\"\n",
        "\n",
        "print(alfabeto)"
      ],
      "execution_count": null,
      "outputs": []
    },
    {
      "cell_type": "markdown",
      "metadata": {
        "id": "bEXvdg-RTxt-"
      },
      "source": [
        "Es posible que desees preguntar si el **crear una nueva copia de una cadena cada vez que se modifica su contenido empeora la efectividad del código**. Sí lo hace. Un poco. Sin embargo, no es un problema en absoluto.\n",
        "\n",
        "Ahora que comprendes que las cadenas son secuencias, podemos mostrarte algunas capacidades de secuencia menos obvias. Las presentaremos utilizando cadenas, pero no olvides que las listas también pueden adoptar los mismos trucos.\n",
        "\n",
        "Comenzaremos con la función llamada `min()`.\n",
        "\n",
        "Esta función **encuentra el elemento mínimo de la secuencia pasada como argumento**. Existe una condición - la secuencia (cadena o lista) **no puede estar vacía**, de lo contrario obtendrás una excepción ValueError."
      ]
    },
    {
      "cell_type": "code",
      "metadata": {
        "id": "v4UIk7gkUc-l",
        "colab": {
          "base_uri": "https://localhost:8080/",
          "height": 68
        },
        "outputId": "efd70a85-033e-48bb-99ec-f853c95b3939"
      },
      "source": [
        "# Demonstrando min() - Ejemplo 1\n",
        "print(min(\"aAbByYzZ\"))\n",
        "\n",
        "\n",
        "# Demonstrando min() - Examplos 2 y 3\n",
        "t = 'Los Caballeros Que Dicen \"¡Ni!\"'\n",
        "print('[' + min(t) + ']')\n",
        "\n",
        "t = [0, 1, 2]\n",
        "print(min(t))"
      ],
      "execution_count": null,
      "outputs": [
        {
          "output_type": "stream",
          "text": [
            "A\n",
            "[ ]\n",
            "0\n"
          ],
          "name": "stdout"
        }
      ]
    },
    {
      "cell_type": "markdown",
      "metadata": {
        "id": "QTySMgAXU8ra"
      },
      "source": [
        "Del mismo modo, una función llamada `max()` encuentra el elemento máximo de la secuencia."
      ]
    },
    {
      "cell_type": "code",
      "metadata": {
        "id": "DH6qn3eyVABJ",
        "colab": {
          "base_uri": "https://localhost:8080/",
          "height": 68
        },
        "outputId": "6acabde7-0db9-431c-dd26-37d81d5ffe46"
      },
      "source": [
        "# Demostrando max() - Ejemplo 1\n",
        "print(max(\"aAbByYzZ\"))\n",
        "\n",
        "\n",
        "# Demonstrando max() - Examplos 2 y 3\n",
        "t = 'Los Caballeros Que Dicen \"¡Ni!\"'\n",
        "print('[' + max(t) + ']')\n",
        "\n",
        "t = [0, 1, 2]\n",
        "print(max(t))"
      ],
      "execution_count": null,
      "outputs": [
        {
          "output_type": "stream",
          "text": [
            "z\n",
            "[¡]\n",
            "2\n"
          ],
          "name": "stdout"
        }
      ]
    },
    {
      "cell_type": "markdown",
      "metadata": {
        "id": "aR2Ee_LQVGLG"
      },
      "source": [
        "El método `index()` (es un método, no una función) **busca la secuencia desde el principio, para encontrar el primer elemento del valor especificado en su argumento**.\n",
        "\n",
        "N.B.: el elemento buscado debe aparecer en la secuencia - su ausencia causará una excepción `ValueError`.\n",
        "\n",
        "El método devuelve el **índice de la primera aparición del argumento** (lo que significa que el resultado más bajo posible es 0, mientras que el más alto es la longitud del argumento decrementado por 1)."
      ]
    },
    {
      "cell_type": "code",
      "metadata": {
        "id": "yqgtOBFSVV7g",
        "colab": {
          "base_uri": "https://localhost:8080/",
          "height": 68
        },
        "outputId": "5368290d-d6fc-45dd-9205-ec5f3ee1d23c"
      },
      "source": [
        "# Demonstrando el método index()\n",
        "print(\"aAbByYzZaA\".index(\"b\"))\n",
        "print(\"aAbByYzZaA\".index(\"Z\"))\n",
        "print(\"aAbByYzZaA\".index(\"A\"))"
      ],
      "execution_count": null,
      "outputs": [
        {
          "output_type": "stream",
          "text": [
            "2\n",
            "7\n",
            "1\n"
          ],
          "name": "stdout"
        }
      ]
    },
    {
      "cell_type": "markdown",
      "metadata": {
        "id": "TRIM63VDVc1c"
      },
      "source": [
        "La función `list()` **toma su argumento (una cadena) y crea una nueva lista que contiene todos los caracteres de la cadena, uno por elemento de la lista**.\n",
        "\n",
        "N.B.: no es estrictamente una función de cadenas - `list()` es capaz de crear una nueva lista de muchas otras entidades (por ejemplo, de tuplas y diccionarios).\n",
        "\n",
        "El método `count()` **cuenta todas las apariciones del elemento dentro de la secuencia**. La ausencia de tal elemento no causa ningún problema."
      ]
    },
    {
      "cell_type": "code",
      "metadata": {
        "id": "YDOnKQedVnHX",
        "colab": {
          "base_uri": "https://localhost:8080/",
          "height": 68
        },
        "outputId": "fd53549a-71af-4736-cc96-5fc221382ce7"
      },
      "source": [
        "# Demostrando la función list()\n",
        "print(list(\"abcabc\"))\n",
        "\n",
        "# Demostrando el método count()\n",
        "print(\"abcabc\".count(\"b\"))\n",
        "print('abcabc'.count(\"d\"))"
      ],
      "execution_count": null,
      "outputs": [
        {
          "output_type": "stream",
          "text": [
            "['a', 'b', 'c', 'a', 'b', 'c']\n",
            "2\n",
            "0\n"
          ],
          "name": "stdout"
        }
      ]
    },
    {
      "cell_type": "markdown",
      "metadata": {
        "id": "UML5uNsgV4Xx"
      },
      "source": [
        "Las cadenas de Python tienen un número significativo de métodos destinados exclusivamente al procesamiento de caracteres. No esperes que trabajen con otras colecciones. La lista completa se presenta aquí: https://docs.python.org/3.4/library/stdtypes.html#string-methods.\n",
        "\n",
        "Te mostraremos los que consideramos más útiles."
      ]
    },
    {
      "cell_type": "code",
      "metadata": {
        "id": "MprMqnvjW6DT",
        "colab": {
          "base_uri": "https://localhost:8080/",
          "height": 34
        },
        "outputId": "b87bbbce-f5d6-4ec7-c7e7-056d8f1da124"
      },
      "source": [
        "# Demostración del método capitalize()\n",
        "print('aBcD'.capitalize())"
      ],
      "execution_count": null,
      "outputs": [
        {
          "output_type": "stream",
          "text": [
            "Abcd\n"
          ],
          "name": "stdout"
        }
      ]
    },
    {
      "cell_type": "code",
      "metadata": {
        "id": "ZpIZyMQDW9o2",
        "colab": {
          "base_uri": "https://localhost:8080/",
          "height": 34
        },
        "outputId": "09e68c73-9f93-4d58-db39-2b117390bd69"
      },
      "source": [
        "# Demostración del método center()\n",
        "print('[' + 'alfa'.center(10) + ']')"
      ],
      "execution_count": null,
      "outputs": [
        {
          "output_type": "stream",
          "text": [
            "[   alfa   ]\n"
          ],
          "name": "stdout"
        }
      ]
    },
    {
      "cell_type": "code",
      "metadata": {
        "id": "OXLv5AkrXG6Z",
        "colab": {
          "base_uri": "https://localhost:8080/",
          "height": 34
        },
        "outputId": "427d9251-1b31-4c79-9e0d-8be5afe31e2c"
      },
      "source": [
        "# Demostración del método endswith()\n",
        "if \"epsilon\".endswith(\"on\"):\n",
        "    print(\"si\")\n",
        "else:\n",
        "    print(\"no\")"
      ],
      "execution_count": null,
      "outputs": [
        {
          "output_type": "stream",
          "text": [
            "si\n"
          ],
          "name": "stdout"
        }
      ]
    },
    {
      "cell_type": "markdown",
      "metadata": {
        "id": "P8NFbdi8Xl6S"
      },
      "source": [
        "El método `find()` es similar al método `index()`, el cual ya conoces - busca una subcadena y devuelve el índice de la primera aparición de esta subcadena, pero:\n",
        "\n",
        "- Es más seguro, **no genera un error para un argumento que contiene una subcadena inexistente** (devuelve `-1` en dicho caso).\n",
        "- Funciona solo con cadenas - no intentes aplicarlo a ninguna otra secuencia."
      ]
    },
    {
      "cell_type": "code",
      "metadata": {
        "id": "37kH5LLAXL4Q",
        "colab": {
          "base_uri": "https://localhost:8080/",
          "height": 51
        },
        "outputId": "f4fdf83c-395f-415e-b829-5cdcf6665e4b"
      },
      "source": [
        "# Demostración del método find()\n",
        "print(\"Eta\".find(\"ta\"))\n",
        "print(\"Eta\".find(\"mma\"))"
      ],
      "execution_count": null,
      "outputs": [
        {
          "output_type": "stream",
          "text": [
            "1\n",
            "-1\n"
          ],
          "name": "stdout"
        }
      ]
    },
    {
      "cell_type": "code",
      "metadata": {
        "id": "BqQi_mYjX4md",
        "colab": {
          "base_uri": "https://localhost:8080/",
          "height": 119
        },
        "outputId": "2912d2f5-3f57-4aa7-ff48-254df2c19db5"
      },
      "source": [
        "# Demostración del método the isalnum()\n",
        "print('lambda30'.isalnum())\n",
        "print('lambda'.isalnum())\n",
        "print('30'.isalnum())\n",
        "print('@'.isalnum())\n",
        "print('lambda_30'.isalnum())\n",
        "print(''.isalnum())"
      ],
      "execution_count": null,
      "outputs": [
        {
          "output_type": "stream",
          "text": [
            "True\n",
            "True\n",
            "True\n",
            "False\n",
            "False\n",
            "False\n"
          ],
          "name": "stdout"
        }
      ]
    },
    {
      "cell_type": "code",
      "metadata": {
        "id": "zR1Zk6weYCij",
        "colab": {
          "base_uri": "https://localhost:8080/",
          "height": 68
        },
        "outputId": "af9251c7-2633-4c33-e83d-a1362311eb25"
      },
      "source": [
        "t = 'Six lambdas'\n",
        "print(t.isalnum())\n",
        "\n",
        "t = 'ΑβΓδ'\n",
        "print(t.isalnum())\n",
        "\n",
        "t = '20E1'\n",
        "print(t.isalnum())"
      ],
      "execution_count": null,
      "outputs": [
        {
          "output_type": "stream",
          "text": [
            "False\n",
            "True\n",
            "True\n"
          ],
          "name": "stdout"
        }
      ]
    },
    {
      "cell_type": "code",
      "metadata": {
        "id": "_FqaZ7tsYKSN",
        "colab": {
          "base_uri": "https://localhost:8080/",
          "height": 85
        },
        "outputId": "60606a08-fa62-49b5-82cb-4280035abc37"
      },
      "source": [
        "# Ejemplo 1: Demostración del método isapha()\n",
        "print(\"Moooo\".isalpha())\n",
        "print('Mu40'.isalpha())\n",
        "\n",
        "# Ejemplo 2: Demostración del método isdigit()\n",
        "    \n",
        "print('2018'.isdigit())\n",
        "print(\"Año2019\".isdigit())"
      ],
      "execution_count": null,
      "outputs": [
        {
          "output_type": "stream",
          "text": [
            "True\n",
            "False\n",
            "True\n",
            "False\n"
          ],
          "name": "stdout"
        }
      ]
    },
    {
      "cell_type": "code",
      "metadata": {
        "id": "RCE_hgdVYNNe",
        "colab": {
          "base_uri": "https://localhost:8080/",
          "height": 187
        },
        "outputId": "d0fb2cc5-4cdf-4366-a806-0e83790b4bfa"
      },
      "source": [
        "# Ejemplo 1: Demostración del método islower()\n",
        "print(\"Moooo\".islower())\n",
        "print('moooo'.islower())\n",
        "print()\n",
        "\n",
        "# Ejemplo 2: Demostración del método isspace()\n",
        "print(' \\n '.isspace())\n",
        "print(\" \".isspace())\n",
        "print(\"mooo mooo mooo\".isspace())\n",
        "print()\n",
        "\n",
        "# Ejemplo 3: Demostración del método isupper() \n",
        "print(\"Moooo\".isupper())\n",
        "print('moooo'.isupper())\n",
        "print('MOOOO'.isupper())"
      ],
      "execution_count": null,
      "outputs": [
        {
          "output_type": "stream",
          "text": [
            "False\n",
            "True\n",
            "\n",
            "True\n",
            "True\n",
            "False\n",
            "\n",
            "False\n",
            "False\n",
            "True\n"
          ],
          "name": "stdout"
        }
      ]
    },
    {
      "cell_type": "markdown",
      "metadata": {
        "id": "ucqC6-ohY-XI"
      },
      "source": [
        "El método `join()` es algo complicado, así que déjanos guiarte paso a paso:\n",
        "\n",
        "- Como su nombre lo indica, el método **realiza una unión** y espera un argumento del tipo lista; se debe asegurar que todos los elementos de la lista sean cadenas: de lo contrario, el método generará una excepción `TypeError`.\n",
        "- Todos los elementos de la lista **serán unidos en una sola cadena** pero...\n",
        "- ...la cadena desde la que se ha invocado el método será **utilizada como separador**, puesta entre las cadenas.\n",
        "- La cadena recién creada se devuelve como resultado."
      ]
    },
    {
      "cell_type": "code",
      "metadata": {
        "id": "hwe3co-MY0bX",
        "colab": {
          "base_uri": "https://localhost:8080/",
          "height": 34
        },
        "outputId": "48f6ab5f-b7de-4f45-b2c1-3bb676e97f4f"
      },
      "source": [
        "# Demostración del método join()\n",
        "print(\",\".join([\"omicron\", \"pi\", \"rho\"]))"
      ],
      "execution_count": null,
      "outputs": [
        {
          "output_type": "stream",
          "text": [
            "omicron,pi,rho\n"
          ],
          "name": "stdout"
        }
      ]
    },
    {
      "cell_type": "markdown",
      "metadata": {
        "id": "ohBWpOl4ZVmP"
      },
      "source": [
        "Vamos a analizarlo:\n",
        "- El método `join()` se invoca desde una cadena que contiene una coma (la cadena puede ser larga o puede estar vacía).\n",
        "- El argumento del `join` es una lista que contiene tres cadenas.\n",
        "- El método devuelve una nueva cadena."
      ]
    },
    {
      "cell_type": "code",
      "metadata": {
        "id": "dXJ53CTMY1UV",
        "colab": {
          "base_uri": "https://localhost:8080/",
          "height": 34
        },
        "outputId": "cfc14445-c7ba-41a3-f799-6ce51f9db455"
      },
      "source": [
        "# Demostración del método lower()\n",
        "print(\"SiGmA=60\".lower())"
      ],
      "execution_count": null,
      "outputs": [
        {
          "output_type": "stream",
          "text": [
            "sigma=60\n"
          ],
          "name": "stdout"
        }
      ]
    },
    {
      "cell_type": "markdown",
      "metadata": {
        "id": "-8tAU86-Z9xJ"
      },
      "source": [
        "El método sin parámetros `lstrip()` devuelve una cadena recién creada formada a partir de la original eliminando todos los espacios en blanco iniciales."
      ]
    },
    {
      "cell_type": "code",
      "metadata": {
        "id": "2EgaTiQGZmuz",
        "colab": {
          "base_uri": "https://localhost:8080/",
          "height": 34
        },
        "outputId": "d76e0ea9-7696-4e44-e85e-e4f713f68d67"
      },
      "source": [
        "# Demostración del método the lstrip()\n",
        "print(\"[\" + \" tau \".lstrip() + \"]\")"
      ],
      "execution_count": null,
      "outputs": [
        {
          "output_type": "stream",
          "text": [
            "[tau ]\n"
          ],
          "name": "stdout"
        }
      ]
    },
    {
      "cell_type": "markdown",
      "metadata": {
        "id": "atZz4mCPaKXK"
      },
      "source": [
        "El método con **un parámetro** `lstrip()` hace lo mismo que su versión sin parámetros, pero **elimina todos los caracteres incluidos en el argumento** (una cadena), no solo espacios en blanco:"
      ]
    },
    {
      "cell_type": "code",
      "metadata": {
        "id": "-5AuT7DNZqiG",
        "colab": {
          "base_uri": "https://localhost:8080/",
          "height": 34
        },
        "outputId": "dfe38e46-67b1-43c6-b876-4ef0d3d0745a"
      },
      "source": [
        "print(\"www.cisco.com\".lstrip(\"w.\"))"
      ],
      "execution_count": null,
      "outputs": [
        {
          "output_type": "stream",
          "text": [
            "cisco.com\n"
          ],
          "name": "stdout"
        }
      ]
    },
    {
      "cell_type": "markdown",
      "metadata": {
        "id": "rjOfv8d-aVWJ"
      },
      "source": [
        "¿Puedes adivinar la salida del fragmento a continuación? Piensa cuidadosamente. Ejecuta el código y verifica tus predicciones."
      ]
    },
    {
      "cell_type": "code",
      "metadata": {
        "id": "5e8aTRZuaX9V",
        "colab": {
          "base_uri": "https://localhost:8080/",
          "height": 34
        },
        "outputId": "29431853-81a0-421d-89bd-32d4e66b8518"
      },
      "source": [
        "print(\"pythoninstitute.org\".lstrip(\".org\"))"
      ],
      "execution_count": null,
      "outputs": [
        {
          "output_type": "stream",
          "text": [
            "pythoninstitute.org\n"
          ],
          "name": "stdout"
        }
      ]
    },
    {
      "cell_type": "code",
      "metadata": {
        "id": "tQxx4WlubhmW",
        "colab": {
          "base_uri": "https://localhost:8080/",
          "height": 68
        },
        "outputId": "df778131-bf68-4f75-bcfe-251d8d9a5437"
      },
      "source": [
        "# Demostración del método replace()\n",
        "print(\"www.netacad.com\".replace(\"netacad.com\", \"pythoninstitute.org\"))\n",
        "print(\"This is it!\".replace(\"is\", \"are\"))\n",
        "print(\"Apple juice\".replace(\"juice\", \"\"))"
      ],
      "execution_count": null,
      "outputs": [
        {
          "output_type": "stream",
          "text": [
            "www.pythoninstitute.org\n",
            "Thare are it!\n",
            "Apple \n"
          ],
          "name": "stdout"
        }
      ]
    },
    {
      "cell_type": "markdown",
      "metadata": {
        "id": "tMODtcbxbqdN"
      },
      "source": [
        "La variante del métdodo `replace()` **con tres parámetros** emplea un tercer argumento (un número) para **limitar el número de reemplazos**."
      ]
    },
    {
      "cell_type": "code",
      "metadata": {
        "id": "pFtQShgCbxhs",
        "colab": {
          "base_uri": "https://localhost:8080/",
          "height": 51
        },
        "outputId": "8dd93ea0-fd56-45f0-b42e-f583f65e44fd"
      },
      "source": [
        "print(\"This is it!\".replace(\"is\", \"are\", 1))\n",
        "print(\"This is it!\".replace(\"is\", \"are\", 2))"
      ],
      "execution_count": null,
      "outputs": [
        {
          "output_type": "stream",
          "text": [
            "Thare is it!\n",
            "Thare are it!\n"
          ],
          "name": "stdout"
        }
      ]
    },
    {
      "cell_type": "markdown",
      "metadata": {
        "id": "28iNzguccE56"
      },
      "source": [
        "Los métodos de uno, dos y tres parámetros denominados `rfind()` hacen casi lo mismo que sus contrapartes (las que carecen del prefijo r), pero **comienzan sus búsquedas desde el final de la cadena**, no el principio (de ahí el prefijo r, de reversa)."
      ]
    },
    {
      "cell_type": "code",
      "metadata": {
        "id": "kziRECtWcAFo",
        "colab": {
          "base_uri": "https://localhost:8080/",
          "height": 68
        },
        "outputId": "ecb15de1-4d39-4da8-ee05-ea8f44202a70"
      },
      "source": [
        "# Demostración del método rfind()\n",
        "print(\"tau tau tau\".rfind(\"ta\"))\n",
        "print(\"tau tau tau\".rfind(\"ta\", 9))\n",
        "print(\"tau tau tau\".rfind(\"ta\", 3, 9))"
      ],
      "execution_count": null,
      "outputs": [
        {
          "output_type": "stream",
          "text": [
            "8\n",
            "-1\n",
            "4\n"
          ],
          "name": "stdout"
        }
      ]
    },
    {
      "cell_type": "code",
      "metadata": {
        "id": "UGaH_L9McXCs",
        "colab": {
          "base_uri": "https://localhost:8080/",
          "height": 51
        },
        "outputId": "9c67f5c5-035b-4c55-9724-6986d6b98c3a"
      },
      "source": [
        "# Demostración del método rstrip()\n",
        "print(\"[\" + \" upsilon \".rstrip() + \"]\")\n",
        "print(\"cisco.com\".rstrip(\".com\"))"
      ],
      "execution_count": null,
      "outputs": [
        {
          "output_type": "stream",
          "text": [
            "[ upsilon]\n",
            "cis\n"
          ],
          "name": "stdout"
        }
      ]
    },
    {
      "cell_type": "markdown",
      "metadata": {
        "id": "xrzEw2V5c66r"
      },
      "source": [
        "El método `split()` **divide la cadena y crea una lista de todas las subcadenas detectadas**.\n",
        "\n",
        "El método **asume que las subcadenas están delimitadas por espacios en blanco** - los espacios no participan en la operación y no se copian en la lista resultante.\n",
        "\n",
        "N.B.:\n",
        "- Si la cadena está vacía, la lista resultante también está vacía.\n",
        "- La operación inversa se puede realizar por el método `join()`."
      ]
    },
    {
      "cell_type": "code",
      "metadata": {
        "id": "tza7p297dVac",
        "colab": {
          "base_uri": "https://localhost:8080/",
          "height": 34
        },
        "outputId": "9e5d486f-8671-4ba4-d59b-f17fbf7ffb36"
      },
      "source": [
        "# Demostración del método split()\n",
        "print(\"phi       chi\\npsi\".split())"
      ],
      "execution_count": null,
      "outputs": [
        {
          "output_type": "stream",
          "text": [
            "['phi', 'chi', 'psi']\n"
          ],
          "name": "stdout"
        }
      ]
    },
    {
      "cell_type": "code",
      "metadata": {
        "id": "ETLojSssdT7C",
        "colab": {
          "base_uri": "https://localhost:8080/",
          "height": 85
        },
        "outputId": "39f2af39-97ad-4f07-ae75-7b196095a545"
      },
      "source": [
        "# Demostración del método startswith()\n",
        "print(\"omega\".startswith(\"meg\"))\n",
        "print(\"omega\".startswith(\"om\"))\n",
        "\n",
        "print()\n",
        "\n",
        "# Demostración del método strip() \n",
        "print(\"[\" + \"   aleph   \".strip() + \"]\")"
      ],
      "execution_count": null,
      "outputs": [
        {
          "output_type": "stream",
          "text": [
            "False\n",
            "True\n",
            "\n",
            "[aleph]\n"
          ],
          "name": "stdout"
        }
      ]
    },
    {
      "cell_type": "code",
      "metadata": {
        "id": "Z2kiiMQ2dlGl",
        "colab": {
          "base_uri": "https://localhost:8080/",
          "height": 102
        },
        "outputId": "29785a63-9897-4cd5-ccae-cd4f9b6416c9"
      },
      "source": [
        "# Demostración del método swapcase()\n",
        "print(\"Yo sé que no sé nada.\".swapcase())\n",
        "\n",
        "print()\n",
        "\n",
        "# Demostración del método title()\n",
        "print(\"Yo sé que no sé nada. Parte 1.\".title())\n",
        "\n",
        "print()\n",
        "\n",
        "# Demostración del método upper()\n",
        "print(\"Yo sé que no sé nada. Parte 2.\".upper())"
      ],
      "execution_count": null,
      "outputs": [
        {
          "output_type": "stream",
          "text": [
            "yO SÉ QUE NO SÉ NADA.\n",
            "\n",
            "Yo Sé Que No Sé Nada. Parte 1.\n",
            "\n",
            "YO SÉ QUE NO SÉ NADA. PARTE 2.\n"
          ],
          "name": "stdout"
        }
      ]
    },
    {
      "cell_type": "markdown",
      "metadata": {
        "id": "AwJ5qNt1dw88"
      },
      "source": [
        "Las **cadenas en Python pueden ser comparadas usando el mismo conjunto de operadores que se emplean con los números**.\n",
        "\n",
        "Eche un vistazo a estos operadores: también pueden comparar cadenas:\n",
        "\n",
        "- `==`\n",
        "- `!=`\n",
        "- `>`\n",
        "- `>=`\n",
        "- `<`\n",
        "- `<=`\n",
        "\n",
        "Existe un \"pero\": los resultados de tales comparaciones a veces pueden ser un poco sorprendentes. No olvides que Python no es consciente (no puede ser de ninguna manera) de problemas lingüísticos sutiles, simplemente **compara valores de puntos de código, caracter por caracter**.\n",
        "\n",
        "Los resultados que obtienen de una operación de este tipo a veces son sorprendentes. Comencemos con los casos más simples.\n",
        "\n",
        "Dos cadenas son iguales cuando consisten en los mismos caracteres en el mismo orden. Del mismo modo, dos cadenas no son iguales cuando no consisten en los mismos caracteres en el mismo orden.\n",
        "\n",
        "Ambas comparaciones dan True (verdadero) como resultado:"
      ]
    },
    {
      "cell_type": "code",
      "metadata": {
        "id": "ysfSw5QjdnHw",
        "colab": {
          "base_uri": "https://localhost:8080/"
        },
        "outputId": "b140bdf8-23a2-4f37-c751-5b40109fd26e"
      },
      "source": [
        "'alfa' == 'alfa'\n",
        "'alfa' != 'Alfa'"
      ],
      "execution_count": null,
      "outputs": [
        {
          "output_type": "execute_result",
          "data": {
            "text/plain": [
              "True"
            ]
          },
          "metadata": {
            "tags": []
          },
          "execution_count": 21
        }
      ]
    },
    {
      "cell_type": "markdown",
      "metadata": {
        "id": "7xN-8ChIeJu_"
      },
      "source": [
        "La relación final entre cadenas está determinada por **comparar el primer caracter diferente en ambas cadenas** (ten en cuenta los puntos de código ASCII / UNICODE en todo momento).\n",
        "\n",
        "Cuando se comparan dos cadenas de diferentes longitudes y la más corta es idéntica a la más larga, la **cadena más larga se considera mayor**.\n",
        "\n",
        "usto como aquí: `'alfa' < 'alfabeto'` es `True` (verdadera).\n",
        "\n",
        "La comparación de cadenas siempre distingue entre mayúsculas y minúsculas (**las letras mayúsculas se consideran menores en comparación con las minúsculas**). La expresión `'beta' > 'Beta'` es `True` (verdadera).\n",
        "\n",
        "**Comparar cadenas contra números generalmente es una mala idea**.\n",
        "\n",
        "Las únicas comparaciones que puede realizar con impunidad son aquellas simbolizadas por los operadores `==` y `!=`. El primero siempre devuelve `False`, mientras que el segundo siempre devuelve `True`.\n",
        "\n",
        "El uso de cualquiera de los operadores de comparación restantes generará una excepción `TypeError`."
      ]
    },
    {
      "cell_type": "code",
      "metadata": {
        "id": "u-7ULyXufAbd",
        "colab": {
          "base_uri": "https://localhost:8080/"
        },
        "outputId": "5c2f47d1-c220-41d1-c34d-7c3a545b43a3"
      },
      "source": [
        "'10' == 10\n",
        "'10' != 10\n",
        "'10' == 1\n",
        "'10' != 1\n",
        "#'10' > 10"
      ],
      "execution_count": null,
      "outputs": [
        {
          "output_type": "execute_result",
          "data": {
            "text/plain": [
              "True"
            ]
          },
          "metadata": {
            "tags": []
          },
          "execution_count": 9
        }
      ]
    },
    {
      "cell_type": "code",
      "metadata": {
        "id": "zT8saWHuG3Ct",
        "colab": {
          "base_uri": "https://localhost:8080/",
          "height": 163
        },
        "outputId": "6d53353e-de2f-468c-be8a-9050f4759910"
      },
      "source": [
        "'10' > 10"
      ],
      "execution_count": null,
      "outputs": [
        {
          "output_type": "error",
          "ename": "TypeError",
          "evalue": "ignored",
          "traceback": [
            "\u001b[0;31m---------------------------------------------------------------------------\u001b[0m",
            "\u001b[0;31mTypeError\u001b[0m                                 Traceback (most recent call last)",
            "\u001b[0;32m<ipython-input-24-fe82e497f5e8>\u001b[0m in \u001b[0;36m<module>\u001b[0;34m()\u001b[0m\n\u001b[0;32m----> 1\u001b[0;31m \u001b[0;34m'10'\u001b[0m \u001b[0;34m>\u001b[0m \u001b[0;36m10\u001b[0m\u001b[0;34m\u001b[0m\u001b[0;34m\u001b[0m\u001b[0m\n\u001b[0m",
            "\u001b[0;31mTypeError\u001b[0m: '>' not supported between instances of 'str' and 'int'"
          ]
        }
      ]
    },
    {
      "cell_type": "markdown",
      "metadata": {
        "id": "4uvqcjMBfDsF"
      },
      "source": [
        "Los resultados en este caso son:"
      ]
    },
    {
      "cell_type": "code",
      "metadata": {
        "id": "cCaTNz95fBpy"
      },
      "source": [
        "False\n",
        "True\n",
        "False\n",
        "True\n",
        "TypeError exception"
      ],
      "execution_count": null,
      "outputs": []
    },
    {
      "cell_type": "code",
      "metadata": {
        "id": "uV4JuA3jfJfI",
        "colab": {
          "base_uri": "https://localhost:8080/",
          "height": 102
        },
        "outputId": "c051bea9-409d-4929-ce64-1d4f1e54ba9a"
      },
      "source": [
        "# Demostración de la función sorted()\n",
        "firstGreek = ['omega', 'alfa', 'pi', 'gama']\n",
        "firstGreek2 = sorted(firstGreek)\n",
        "\n",
        "print(firstGreek)\n",
        "print(firstGreek2)\n",
        "\n",
        "print()\n",
        "\n",
        "# Demostración del método sort()\n",
        "secondGreek = ['omega', 'alfa', 'pi', 'gama']\n",
        "print(secondGreek)\n",
        "\n",
        "secondGreek.sort()\n",
        "print(secondGreek)"
      ],
      "execution_count": null,
      "outputs": [
        {
          "output_type": "stream",
          "text": [
            "['omega', 'alfa', 'pi', 'gama']\n",
            "['alfa', 'gama', 'omega', 'pi']\n",
            "\n",
            "['omega', 'alfa', 'pi', 'gama']\n",
            "['alfa', 'gama', 'omega', 'pi']\n"
          ],
          "name": "stdout"
        }
      ]
    },
    {
      "cell_type": "markdown",
      "metadata": {
        "id": "6UxRhSR0fY_1"
      },
      "source": [
        "**Cadenas contra números**\n",
        "\n",
        "Hay dos cuestiones adicionales que deberían discutirse aquí: **cómo convertir un número (un entero o un flotante) en una cadena, y viceversa**. Puede ser necesario realizar tal transformación. Además, es una forma rutinaria de procesar datos de entrada o salida.\n",
        "\n",
        "La conversión de cadena a número es simple, ya que siempre es posible. Se realiza mediante una función llamada `str()`."
      ]
    },
    {
      "cell_type": "code",
      "metadata": {
        "id": "3-WdmAG_fNUv",
        "colab": {
          "base_uri": "https://localhost:8080/",
          "height": 34
        },
        "outputId": "bed9318f-81e7-4831-d980-98a6749aa0dc"
      },
      "source": [
        "itg = 13\n",
        "flt = 1.3\n",
        "si = str(itg)\n",
        "sf = str(flt)\n",
        "\n",
        "print(si + ' ' + sf)"
      ],
      "execution_count": null,
      "outputs": [
        {
          "output_type": "stream",
          "text": [
            "13 1.3\n"
          ],
          "name": "stdout"
        }
      ]
    },
    {
      "cell_type": "markdown",
      "metadata": {
        "id": "ljsj0yQPfqQ7"
      },
      "source": [
        "La transformación inversa solo es posible cuando la cadena representa un número válido. Si no se cumple la condición, espera una excepción `ValueError`.\n",
        "\n",
        "Emplea la función `int()` si deseas obtener un entero, y `float()` si necesitas un valor punto flotante."
      ]
    },
    {
      "cell_type": "code",
      "metadata": {
        "id": "TJ72NPEQfm8y",
        "colab": {
          "base_uri": "https://localhost:8080/",
          "height": 34
        },
        "outputId": "62e89518-1a30-4db1-e755-ad3ac7bbb0a0"
      },
      "source": [
        "si = '13'\n",
        "sf = '1.3'\n",
        "itg = int(si)\n",
        "flt = float(sf)\n",
        "\n",
        "print(itg + flt)"
      ],
      "execution_count": null,
      "outputs": [
        {
          "output_type": "stream",
          "text": [
            "14.3\n"
          ],
          "name": "stdout"
        }
      ]
    }
  ]
}