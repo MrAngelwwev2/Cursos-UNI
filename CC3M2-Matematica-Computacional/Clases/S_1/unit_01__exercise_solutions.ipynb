{
  "nbformat": 4,
  "nbformat_minor": 0,
  "metadata": {
    "colab": {
      "name": "unit_01__exercise-solutions.ipynb",
      "provenance": [],
      "collapsed_sections": []
    },
    "kernelspec": {
      "name": "python3",
      "display_name": "Python 3"
    }
  },
  "cells": [
    {
      "cell_type": "markdown",
      "metadata": {
        "id": "uetCP3QXvqrZ"
      },
      "source": [
        "### Exercise 1.1"
      ]
    },
    {
      "cell_type": "code",
      "metadata": {
        "id": "sdFVO0upvmBD",
        "colab": {
          "base_uri": "https://localhost:8080/"
        },
        "outputId": "6b7ff0bf-f4df-43e4-a107-61d40085b184"
      },
      "source": [
        "print(\"Fundamentos\",\"Programación\",\"en\",sep=\"***\",end=\"...\")\n",
        "print(\"Python\")"
      ],
      "execution_count": null,
      "outputs": [
        {
          "output_type": "stream",
          "text": [
            "Fundamentos***Programación***en...Python\n"
          ],
          "name": "stdout"
        }
      ]
    },
    {
      "cell_type": "markdown",
      "metadata": {
        "id": "_PotZHewwK4P"
      },
      "source": [
        "### Exercise 1.2"
      ]
    },
    {
      "cell_type": "code",
      "metadata": {
        "id": "YchSv2q3wMqF",
        "colab": {
          "base_uri": "https://localhost:8080/"
        },
        "outputId": "872d2c81-3387-4fc3-8331-a2346d65d9f2"
      },
      "source": [
        "print(\"\\\"Estoy\\\"\",\"\\\"\\\"aprendiendo\\\"\\\"\",\"\\\"\\\"\\\"Python\\\"\\\"\\\"\",sep='\\n')"
      ],
      "execution_count": null,
      "outputs": [
        {
          "output_type": "stream",
          "text": [
            "\"Estoy\"\n",
            "\"\"aprendiendo\"\"\n",
            "\"\"\"Python\"\"\"\n"
          ],
          "name": "stdout"
        }
      ]
    },
    {
      "cell_type": "markdown",
      "metadata": {
        "id": "u6fChFxnwmoS"
      },
      "source": [
        "### Exercise 1.3"
      ]
    },
    {
      "cell_type": "code",
      "metadata": {
        "id": "wiYK9ZBPwcGF"
      },
      "source": [
        ""
      ],
      "execution_count": null,
      "outputs": []
    },
    {
      "cell_type": "markdown",
      "metadata": {
        "id": "M1k-YBp3wdgx"
      },
      "source": [
        "### Exercise 1.16"
      ]
    },
    {
      "cell_type": "code",
      "metadata": {
        "id": "ku0DpM9lwpCm",
        "colab": {
          "base_uri": "https://localhost:8080/"
        },
        "outputId": "3adab7fb-5b01-4f5e-81f3-8b0f5b8fad2f"
      },
      "source": [
        "def readint(prompt, min, max):\n",
        "    while True:\n",
        "        try:\n",
        "            val = int(input(prompt))\n",
        "            assert min <= val & val <= max\n",
        "            return val\n",
        "        except ValueError:\n",
        "            print(\"Error: entrada incorrecta\")\n",
        "        except AssertionError:\n",
        "            print(f\"Error: el valor no está dentro del rango permitido ({min}..{max})\")\n",
        "\n",
        "v = readint(\"Ingresa un número de -10 a 10: \", -10, 10)\n",
        "\n",
        "print(\"El número es:\", v)"
      ],
      "execution_count": null,
      "outputs": [
        {
          "output_type": "stream",
          "text": [
            "Ingresa un número de -10 a 10: 12\n",
            "Error: el valor no está dentro del rango permitido (-10..10)\n",
            "Ingresa un número de -10 a 10: 10\n",
            "El número es: 10\n"
          ],
          "name": "stdout"
        }
      ]
    },
    {
      "cell_type": "markdown",
      "metadata": {
        "id": "QdWkCaJGwai0"
      },
      "source": [
        "### Exercise 1.17"
      ]
    },
    {
      "cell_type": "code",
      "metadata": {
        "id": "aRzsCOaYwkwE"
      },
      "source": [
        ""
      ],
      "execution_count": null,
      "outputs": []
    }
  ]
}