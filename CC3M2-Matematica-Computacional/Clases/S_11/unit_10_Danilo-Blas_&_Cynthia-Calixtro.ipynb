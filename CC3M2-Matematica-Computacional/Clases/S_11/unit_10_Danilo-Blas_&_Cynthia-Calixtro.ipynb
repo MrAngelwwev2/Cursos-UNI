{
 "cells": [
  {
   "cell_type": "code",
   "execution_count": 13,
   "metadata": {},
   "outputs": [],
   "source": [
    "import numpy as np\n",
    "from scipy.optimize import linprog"
   ]
  },
  {
   "cell_type": "markdown",
   "metadata": {},
   "source": [
    "\\begin{align*}\n",
    "    \\text{max. } 300x_1 + 160x_2 + 360x_3 + 220x_4 + 130x_5 + 280x_6 + 100x_7 + 80x_8 + 140x_9\n",
    "\\end{align*}\n",
    "\n",
    "\\begin{align*}\n",
    "    \\text{s.t. } \n",
    "    x_1 + x_3 + x_4 + x_6 + x_7 + x_9 &\\le 30\\\\\n",
    "    x_2 + x_3 + x_5 + x_6 +  x_8 + x_9 &\\le 30\\\\\n",
    "    x_1 &\\le 4\\\\\n",
    "    x_2 &\\le 8\\\\\n",
    "    x_3 &\\le 3\\\\\n",
    "    x_4 &\\le 8\\\\\n",
    "    x_5 &\\le 13\\\\\n",
    "    x_6 &\\le 20\\\\\n",
    "    x_7 &\\le 22\\\\\n",
    "    x_8 &\\le 20\\\\\n",
    "    x_9 &\\le 18\\\\\n",
    "\\end{align*}\n",
    "\n",
    "\\begin{align*}\n",
    "    x_i\\ge0, i=1,2,3,\\dots,9\n",
    "\\end{align*}"
   ]
  },
  {
   "cell_type": "code",
   "execution_count": 14,
   "metadata": {},
   "outputs": [
    {
     "name": "stdout",
     "output_type": "stream",
     "text": [
      "x = [ 4.  8.  3.  8.  4. 15.  0.  0.  0.]\n",
      "Máximo 10040.0\n"
     ]
    }
   ],
   "source": [
    "A = np.array([\n",
    "    [1, 0, 1, 1, 0, 1, 1, 0, 1],\n",
    "    [0, 1, 1, 0, 1, 1, 0, 1, 1],\n",
    "    [1, 0, 0, 0, 0, 0, 0, 0, 0],\n",
    "    [0, 1, 0, 0, 0, 0, 0, 0, 0],\n",
    "    [0, 0, 1, 0, 0, 0, 0, 0, 0],\n",
    "    [0, 0, 0, 1, 0, 0, 0, 0, 0],\n",
    "    [0, 0, 0, 0, 1, 0, 0, 0, 0],\n",
    "    [0, 0, 0, 0, 0, 1, 0, 0, 0],\n",
    "    [0, 0, 0, 0, 0, 0, 1, 0, 0],\n",
    "    [0, 0, 0, 0, 0, 0, 0, 1, 0],\n",
    "    [0, 0, 0, 0, 0, 0, 0, 0, 1]])\n",
    "\n",
    "b = np.array([30, 30, 4, 8, 3, 8, 13, 20, 22, 20, 18])\n",
    "# maximice c is equivalent to minimize -c\n",
    "c = -np.array([300, 160, 360, 220, 130, 280, 100, 80, 140])\n",
    "\n",
    "# Minimización utilizando el método simplex \n",
    "res = linprog(c, A, b, bounds=(0, None), method='simplex')\n",
    "print(\"x =\", res.x)\n",
    "print(\"Máximo\", -res.fun)"
   ]
  },
  {
   "cell_type": "markdown",
   "metadata": {},
   "source": [
    "# Libro: David R. Anderson, Dennis J. Sweeney, Thomas A. Williams, ... ntitative Methods for Business-Cengage Learning (2012)"
   ]
  },
  {
   "cell_type": "markdown",
   "metadata": {},
   "source": [
    "## Ejercicio 9.1.1 - Página 360"
   ]
  },
  {
   "cell_type": "code",
   "execution_count": 15,
   "metadata": {},
   "outputs": [
    {
     "name": "stdout",
     "output_type": "stream",
     "text": [
      "x = [10.  0. 25.  2. 30.]\n",
      "Máximo 2370.0\n"
     ]
    }
   ],
   "source": [
    "A = np.array([[1, 0, 0, 0, 0],\n",
    "              [0, 1, 0, 0, 0],\n",
    "              [0, 0, 1, 0, 0],\n",
    "              [0, 0, 0, 1, 0],\n",
    "              [0, 0, 0, 0, 1],\n",
    "              [1500, 3000, 400, 1000, 100],\n",
    "              [-1, -1, 0, 0, 0],\n",
    "              [1500, 3000, 0, 0, 0],\n",
    "              [-1000, -2000, -1500, -2500, -300]])\n",
    "\n",
    "b = np.array([15, 10, 25, 4, 30, 30000, -10, 18000, 50000])\n",
    "# maximice c is equivalent to minimize -c\n",
    "c = -np.array([65, 90, 40, 60, 20])\n",
    "\n",
    "# Minimización utilizando el método simplex \n",
    "res = linprog(c, A, b, method='simplex')\n",
    "print(\"x =\", res.x)\n",
    "print(\"Máximo\", -res.fun)"
   ]
  },
  {
   "cell_type": "markdown",
   "metadata": {},
   "source": [
    "## Ejercicio 9.1.2 - Página 363"
   ]
  },
  {
   "cell_type": "code",
   "execution_count": 16,
   "metadata": {},
   "outputs": [
    {
     "name": "stdout",
     "output_type": "stream",
     "text": [
      "x = [240. 160. 160. 240.]\n",
      "Máximo -16480.0\n"
     ]
    }
   ],
   "source": [
    "A = np.array([[1, 1, 1, 1],\n",
    "              [-1, -1, 0, 0],\n",
    "              [0, 0, -1, -1],\n",
    "              [1, -1, 1, -1],\n",
    "              [0.4, -0.6, 0, 0],\n",
    "              [0, 0, 0.6, -0.4]])\n",
    "\n",
    "b = np.array([1000, -400, -400, 0, 0, 0])\n",
    "# maximice c is equivalent to minimize -c\n",
    "c = np.array([20, 25, 18, 20])\n",
    "\n",
    "# Minimización utilizando el método simplex \n",
    "res = linprog(c, A, b, bounds=(0, None), method='simplex')\n",
    "print(\"x =\", res.x)\n",
    "print(\"Máximo\", -res.fun)"
   ]
  },
  {
   "cell_type": "markdown",
   "metadata": {},
   "source": [
    "## Ejercicio 9.2 - Página 366"
   ]
  },
  {
   "cell_type": "code",
   "execution_count": 17,
   "metadata": {},
   "outputs": [
    {
     "name": "stdout",
     "output_type": "stream",
     "text": [
      "x = [20000. 30000.     0. 40000. 10000.]\n",
      "Máximo 8000.0\n"
     ]
    }
   ],
   "source": [
    "A = np.array([[1, 1, 1, 1, 1],\n",
    "              [1, 1, 0, 0, 0],\n",
    "              [0, 0, 1, 1, 0],\n",
    "              [0, 0, 0.25, 0.25, -1],\n",
    "              [-0.6, 0.4, 0, 0, 0]])\n",
    "\n",
    "b = np.array([100000, 50000, 50000, 0, 0])\n",
    "# maximice c is equivalent to minimize -c\n",
    "c = -np.array([0.073, 0.103, 0.064, 0.075, 0.045])\n",
    "\n",
    "# Minimización utilizando el método simplex \n",
    "res = linprog(c, A, b, bounds=(0, None), method='simplex')\n",
    "print(\"x =\", res.x)\n",
    "print(\"Máximo\", -res.fun)"
   ]
  }
 ],
 "metadata": {
  "kernelspec": {
   "display_name": "Python 3",
   "language": "python",
   "name": "python3"
  },
  "language_info": {
   "codemirror_mode": {
    "name": "ipython",
    "version": 3
   },
   "file_extension": ".py",
   "mimetype": "text/x-python",
   "name": "python",
   "nbconvert_exporter": "python",
   "pygments_lexer": "ipython3",
   "version": "3.8.8"
  }
 },
 "nbformat": 4,
 "nbformat_minor": 2
}
