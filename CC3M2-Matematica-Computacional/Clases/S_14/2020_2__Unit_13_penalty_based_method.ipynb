{
  "nbformat": 4,
  "nbformat_minor": 0,
  "metadata": {
    "colab": {
      "name": "2020-2__Unit_13_penalty_based_method.ipynb",
      "provenance": [],
      "toc_visible": true
    },
    "kernelspec": {
      "name": "python3",
      "display_name": "Python 3"
    }
  },
  "cells": [
    {
      "cell_type": "markdown",
      "metadata": {
        "id": "cb1gLKXB1T50"
      },
      "source": [
        "# Example 13.1"
      ]
    },
    {
      "cell_type": "markdown",
      "metadata": {
        "id": "8h9UKBfUpiLG"
      },
      "source": [
        "Importing libraries"
      ]
    },
    {
      "cell_type": "code",
      "metadata": {
        "id": "0Bunajd7pmXV"
      },
      "source": [
        "from mpl_toolkits.mplot3d import Axes3D\n",
        "from matplotlib import cm\n",
        "from matplotlib.ticker import LinearLocator, FormatStrFormatter\n",
        "import matplotlib.pyplot as plt\n",
        "import numpy as np\n",
        "import sympy as sp "
      ],
      "execution_count": null,
      "outputs": []
    },
    {
      "cell_type": "markdown",
      "metadata": {
        "id": "yaphMCkaC7e3"
      },
      "source": [
        "### a) Analytic solution"
      ]
    },
    {
      "cell_type": "markdown",
      "metadata": {
        "id": "qHNrw5XfC70y"
      },
      "source": [
        "First, from equality restriction we have $$ x_1 = 4-2\\cdot x_2. $$ Second, by replacing this expression in the objective function we have\n",
        "\\begin{align*}\n",
        " f(x_1,x_2) &= {(6-2\\cdot x_2)}^2 + {(x_2 - 3)}^2\\\\\n",
        " &= 5\\cdot{x_2}^2 - 30\\cdot x_2 + 45\\\\\n",
        " &= 5\\cdot({x_2}^2-6\\cdot x_2 + 9)\\\\\n",
        " &= 5\\cdot{(x_2-3)}^2.\n",
        "\\end{align*}\n",
        "Third, from the inequality and equality restriction we have that $$ x_2\\leq 2. $$ Thus, $f$ attains its minimum at $x_2=2$, which implies that $x_1=0$. Therefore, the optimization problem has only one global minimum at $(0,2)$ with optimum value $5=f(0,2)$."
      ]
    },
    {
      "cell_type": "markdown",
      "metadata": {
        "id": "X6W4gPAqC_2J"
      },
      "source": [
        "### b) Penalty-based method solution"
      ]
    },
    {
      "cell_type": "markdown",
      "metadata": {
        "id": "UJVTX4NdTW4O"
      },
      "source": [
        "Setting expressions and defining function that updates penalized objective function"
      ]
    },
    {
      "cell_type": "code",
      "metadata": {
        "id": "utd60Kdukyc7"
      },
      "source": [
        "rho, phi = sp.symbols('rho phi', real=True)\n",
        "\n",
        "def update_penalized_objective_function(func, rho_value, phi_value):\n",
        "\treturn func.subs([(rho, rho_value), (phi, phi_value)])"
      ],
      "execution_count": null,
      "outputs": []
    },
    {
      "cell_type": "markdown",
      "metadata": {
        "id": "1lIVf3MUm06r"
      },
      "source": [
        "Expression of **objective function**:"
      ]
    },
    {
      "cell_type": "code",
      "metadata": {
        "id": "qO8aDTBBk1Gc",
        "colab": {
          "base_uri": "https://localhost:8080/",
          "height": 38
        },
        "outputId": "ca55a64e-93a6-46f5-bcb2-208e09fa6b1f"
      },
      "source": [
        "f  =  (x1 + 2)**2 + (x2 - 3)**2\n",
        "f"
      ],
      "execution_count": null,
      "outputs": [
        {
          "output_type": "execute_result",
          "data": {
            "image/png": "[encoded data removed]",
            "text/latex": "$$\\left(x_{1} + 2\\right)^{2} + \\left(x_{2} - 3\\right)^{2}$$",
            "text/plain": [
              "        2           2\n",
              "(x₁ + 2)  + (x₂ - 3) "
            ]
          },
          "metadata": {
            "tags": []
          },
          "execution_count": 12
        }
      ]
    },
    {
      "cell_type": "markdown",
      "metadata": {
        "id": "GF6GmgqPIsIN"
      },
      "source": [
        "Expression of **function of equality restriction**"
      ]
    },
    {
      "cell_type": "code",
      "metadata": {
        "id": "t-TN6lmtIUMd",
        "colab": {
          "base_uri": "https://localhost:8080/",
          "height": 38
        },
        "outputId": "70803070-0a6b-4c8d-e0ec-043df1e0d055"
      },
      "source": [
        "h  =  x1 + 2*x2 - 4\n",
        "h"
      ],
      "execution_count": null,
      "outputs": [
        {
          "output_type": "execute_result",
          "data": {
            "image/png": "[encoded data removed]",
            "text/latex": "$$x_{1} + 2 x_{2} - 4$$",
            "text/plain": [
              "x₁ + 2⋅x₂ - 4"
            ]
          },
          "metadata": {
            "tags": []
          },
          "execution_count": 13
        }
      ]
    },
    {
      "cell_type": "markdown",
      "metadata": {
        "id": "7o4EDM4mI18V"
      },
      "source": [
        "Expression of **function of inequality restriction**"
      ]
    },
    {
      "cell_type": "code",
      "metadata": {
        "id": "fOpxRu3tIfmJ",
        "colab": {
          "base_uri": "https://localhost:8080/",
          "height": 38
        },
        "outputId": "19165aeb-6498-46d2-da3f-844c966527d2"
      },
      "source": [
        "g  =  -x1\n",
        "g"
      ],
      "execution_count": null,
      "outputs": [
        {
          "output_type": "execute_result",
          "data": {
            "image/png": "[encoded data removed]",
            "text/latex": "$$- x_{1}$$",
            "text/plain": [
              "-x₁"
            ]
          },
          "metadata": {
            "tags": []
          },
          "execution_count": 14
        }
      ]
    },
    {
      "cell_type": "markdown",
      "metadata": {
        "id": "VPNqS5ddJ9Ip"
      },
      "source": [
        "Expression of **general penalized objective funcion**"
      ]
    },
    {
      "cell_type": "code",
      "metadata": {
        "id": "h317GG5EJDkm",
        "colab": {
          "base_uri": "https://localhost:8080/",
          "height": 39
        },
        "outputId": "c0b3ad57-e070-4e9f-fc81-c35f9077b23d"
      },
      "source": [
        "F  =  f + rho*h**2 + phi*sp.Max(0,g)**2\n",
        "F"
      ],
      "execution_count": null,
      "outputs": [
        {
          "output_type": "execute_result",
          "data": {
            "image/png": "[encoded data removed]",
            "text/latex": "$$\\phi \\max\\left(0, - x_{1}\\right)^{2} + \\rho \\left(x_{1} + 2 x_{2} - 4\\right)^{2} + \\left(x_{1} + 2\\right)^{2} + \\left(x_{2} - 3\\right)^{2}$$",
            "text/plain": [
              "             2                    2           2           2\n",
              "φ⋅Max(0, -x1)  + ρ⋅(x₁ + 2⋅x₂ - 4)  + (x₁ + 2)  + (x₂ - 3) "
            ]
          },
          "metadata": {
            "tags": []
          },
          "execution_count": 15
        }
      ]
    },
    {
      "cell_type": "code",
      "metadata": {
        "id": "ML603H3OG8Hl",
        "colab": {
          "base_uri": "https://localhost:8080/",
          "height": 1000
        },
        "outputId": "fa4fa160-c16b-47e6-d039-f14fa9adfc8c"
      },
      "source": [
        "tolerance = 1e-3\n",
        "\n",
        "sigma = 0.1\n",
        "beta = 0.1\n",
        "s = 1\n",
        "\n",
        "k = 0\n",
        "x = sp.Matrix([[-1],[-1]])\n",
        "fx = evaluate(f,x)\n",
        "\n",
        "satisfy_equality_restriction  =  sp.Abs(evaluate(h,x)) < tolerance\n",
        "satisfy_inequality_restriction  =  evaluate(g,x) < tolerance\n",
        "rho_value = 1\n",
        "phi_value = 1\n",
        "\n",
        "F_penalized = update_penalized_objective_function(F, rho_value, phi_value)\n",
        "gradient = sp.Matrix([F_penalized]).jacobian((x1,x2)).T\n",
        "grad = evaluate(gradient,x)\n",
        "\n",
        "while (sp.Or(grad.norm() > tolerance, ~satisfy_equality_restriction, ~satisfy_inequality_restriction)):\n",
        "    \n",
        "    # direction searching\n",
        "    d = -grad\n",
        "\n",
        "    # line searching - Armijo rule\n",
        "    rhs = -(sigma*s*d.T*grad)[0] # right hand side\n",
        "    alpha = s\n",
        "    Fx = evaluate(F_penalized,x)\n",
        "    while Fx - evaluate(F_penalized, x + alpha*d) < rhs:\n",
        "        alpha *= beta\n",
        "        rhs *= beta\n",
        "        \n",
        "    print(f'Iteration {k}')\n",
        "    print(f'x\\t\\t:\\t{x}')\n",
        "    print(f'f(x)\\t\\t:\\t{fx}')\n",
        "    print(f'direction\\t:\\t{d}')\n",
        "    print(f'alpha\\t\\t:\\t{alpha}\\n')\n",
        "    print()\n",
        "\n",
        "    # Updating point\n",
        "    x = x + alpha*d\n",
        "    fx = evaluate(f,x)\n",
        "\n",
        "    # Updating penalized function\n",
        "    satisfy_equality_restriction  =  sp.Abs(evaluate(h,x)) < tolerance\n",
        "    if ~satisfy_equality_restriction: \n",
        "        rho_value *= 3\n",
        "    satisfy_inequality_restriction  =  evaluate(g,x) < tolerance\n",
        "    if ~satisfy_inequality_restriction: \n",
        "        phi_value *= 3\n",
        "\n",
        "    F_penalized = update_penalized_objective_function(F, rho_value, phi_value)\n",
        "    gradient = sp.Matrix([F_penalized]).jacobian((x1,x2)).T\n",
        "    grad = evaluate(gradient,x)\n",
        "\n",
        "    # Updating iteration counter\n",
        "    k += 1\n",
        "\n",
        "print(f'x\\t\\t:\\t{x}')\n",
        "print(f'f(x)\\t\\t:\\t{fx}')"
      ],
      "execution_count": null,
      "outputs": [
        {
          "output_type": "stream",
          "text": [
            "Iteration 0\n",
            "x\t\t:\tMatrix([[-1], [-1]])\n",
            "f(x)\t\t:\t17.0000000000000\n",
            "direction\t:\tMatrix([[14.0000000000000], [36.0000000000000]])\n",
            "alpha\t\t:\t0.1\n",
            "\n",
            "\n",
            "Iteration 1\n",
            "x\t\t:\tMatrix([[0.400000000000000], [2.60000000000000]])\n",
            "f(x)\t\t:\t5.92000000000000\n",
            "direction\t:\tMatrix([[-14.4000000000000], [-18.4000000000000]])\n",
            "alpha\t\t:\t0.010000000000000002\n",
            "\n",
            "\n",
            "Iteration 2\n",
            "x\t\t:\tMatrix([[0.256000000000000], [2.41600000000000]])\n",
            "f(x)\t\t:\t5.43059200000000\n",
            "direction\t:\tMatrix([[-24.0960000000000], [-38.0000000000000]])\n",
            "alpha\t\t:\t0.010000000000000002\n",
            "\n",
            "\n",
            "Iteration 3\n",
            "x\t\t:\tMatrix([[0.0150400000000001], [2.03600000000000]])\n",
            "f(x)\t\t:\t4.98968220160000\n",
            "direction\t:\tMatrix([[-8.73024000000001], [-7.47232000000002]])\n",
            "alpha\t\t:\t0.0010000000000000002\n",
            "\n",
            "\n",
            "Iteration 4\n",
            "x\t\t:\tMatrix([[0.00630976000000007], [2.02852768000000]])\n",
            "f(x)\t\t:\t4.96903732159744\n",
            "direction\t:\tMatrix([[-14.2777689600000], [-18.5873542399999]])\n",
            "alpha\t\t:\t0.0010000000000000002\n",
            "\n",
            "\n",
            "Iteration 5\n",
            "x\t\t:\tMatrix([[-0.00796800895999989], [2.00994032576000]])\n",
            "f(x)\t\t:\t4.94840961188300\n",
            "direction\t:\tMatrix([[-9.72580021247977], [-9.59896921983953]])\n",
            "alpha\t\t:\t0.00010000000000000003\n",
            "\n",
            "\n",
            "Iteration 6\n",
            "x\t\t:\tMatrix([[-0.00894058898124786], [2.00898042883802]])\n",
            "f(x)\t\t:\t4.94643736863242\n",
            "direction\t:\tMatrix([[-16.9727399773689], [-24.3210643716638]])\n",
            "alpha\t\t:\t0.00010000000000000003\n",
            "\n",
            "\n",
            "Iteration 7\n",
            "x\t\t:\tMatrix([[-0.0106378629789848], [2.00654832240085]])\n",
            "f(x)\t\t:\t4.94450794793739\n",
            "direction\t:\tMatrix([[-14.1589913657257], [-19.5225200298994]])\n",
            "alpha\t\t:\t1.0000000000000004e-05\n",
            "\n",
            "\n",
            "Iteration 8\n",
            "x\t\t:\tMatrix([[-0.0107794528926420], [2.00635309720055]])\n",
            "f(x)\t\t:\t4.94433255247704\n",
            "direction\t:\tMatrix([[-27.5148717995952], [-48.5781103423780]])\n",
            "alpha\t\t:\t1.0000000000000004e-05\n",
            "\n",
            "\n",
            "Iteration 9\n",
            "x\t\t:\tMatrix([[-0.0110546016106380], [2.00586731609713]])\n",
            "f(x)\t\t:\t4.94420359097815\n",
            "direction\t:\tMatrix([[-7.52871573220618], [-15.8584572685893]])\n",
            "alpha\t\t:\t1.0000000000000004e-05\n",
            "\n",
            "\n",
            "Iteration 10\n",
            "x\t\t:\tMatrix([[-0.0111298887679600], [2.00570873152444]])\n",
            "f(x)\t\t:\t4.94421944591888\n",
            "direction\t:\tMatrix([[8.47608788696758], [-5.55851689155701]])\n",
            "alpha\t\t:\t0.00010000000000000003\n",
            "\n",
            "\n",
            "Iteration 11\n",
            "x\t\t:\tMatrix([[-0.0102822799792633], [2.00515287983529]])\n",
            "f(x)\t\t:\t4.94869739786454\n",
            "direction\t:\tMatrix([[40.6871566799203], [1.37349322165779]])\n",
            "alpha\t\t:\t1.0000000000000004e-05\n",
            "\n",
            "\n",
            "Iteration 12\n",
            "x\t\t:\tMatrix([[-0.00987540841246407], [2.00516661476750]])\n",
            "f(x)\t\t:\t4.95028935441461\n",
            "direction\t:\tMatrix([[119.597331235215], [-10.0253907694624]])\n",
            "alpha\t\t:\t1.0000000000000004e-05\n",
            "\n",
            "\n",
            "Iteration 13\n",
            "x\t\t:\tMatrix([[-0.00867943510011192], [2.00506636085981]])\n",
            "f(x)\t\t:\t4.95525053848596\n",
            "direction\t:\tMatrix([[280.481919957875], [-112.430294848383]])\n",
            "alpha\t\t:\t1.0000000000000004e-05\n",
            "\n",
            "\n",
            "Iteration 14\n",
            "x\t\t:\tMatrix([[-0.00587461590053318], [2.00394205791132]])\n",
            "f(x)\t\t:\t4.96866747150778\n",
            "direction\t:\tMatrix([[452.474216051245], [-472.643727719270]])\n",
            "alpha\t\t:\t1.0000000000000004e-05\n",
            "\n",
            "\n",
            "Iteration 15\n",
            "x\t\t:\tMatrix([[-0.00134987374002073], [1.99921562063413]])\n",
            "f(x)\t\t:\t4.99617170118176\n",
            "direction\t:\tMatrix([[1508.30883954403], [2070.10951465802]])\n",
            "alpha\t\t:\t1.0000000000000005e-07\n",
            "\n",
            "\n",
            "Iteration 16\n",
            "x\t\t:\tMatrix([[-0.00119904285606632], [1.99942263158560]])\n",
            "f(x)\t\t:\t4.99636033646260\n",
            "direction\t:\tMatrix([[3772.23352604516], [5005.58127277274]])\n",
            "alpha\t\t:\t1.0000000000000005e-07\n",
            "\n",
            "\n",
            "Iteration 17\n",
            "x\t\t:\tMatrix([[-0.000821819503461809], [1.99992318971287]])\n",
            "f(x)\t\t:\t4.99686702384752\n",
            "direction\t:\tMatrix([[1906.27650179911], [2075.55555498380]])\n",
            "alpha\t\t:\t1.0000000000000005e-07\n",
            "\n",
            "\n",
            "Iteration 18\n",
            "x\t\t:\tMatrix([[-0.000631191853281898], [2.00013074526837]])\n",
            "f(x)\t\t:\t4.99721415754761\n",
            "direction\t:\tMatrix([[1059.83259650839], [787.897487958892]])\n",
            "alpha\t\t:\t1.0000000000000005e-07\n",
            "\n",
            "\n",
            "Iteration 19\n",
            "x\t\t:\tMatrix([[-0.000525208593631058], [2.00020953501717]])\n",
            "f(x)\t\t:\t4.99748041534013\n",
            "direction\t:\tMatrix([[667.048575014017], [227.625109292093]])\n",
            "alpha\t\t:\t1.0000000000000005e-07\n",
            "\n",
            "\n",
            "Iteration 20\n",
            "x\t\t:\tMatrix([[-0.000458503736129657], [2.00023229752810]])\n",
            "f(x)\t\t:\t4.99770165418711\n",
            "direction\t:\tMatrix([[476.861930620152], [-10.9491734996195]])\n",
            "alpha\t\t:\t1.0000000000000005e-07\n",
            "\n",
            "\n",
            "Iteration 21\n",
            "x\t\t:\tMatrix([[-0.000410817543067641], [2.00023120261075]])\n",
            "f(x)\t\t:\t4.99789454683194\n",
            "direction\t:\tMatrix([[377.819778625344], [-107.663692046347]])\n",
            "alpha\t\t:\t1.0000000000000004e-06\n",
            "\n",
            "\n",
            "Iteration 22\n",
            "x\t\t:\tMatrix([[-3.29977644422972e-5], [2.00012353891870]])\n",
            "f(x)\t\t:\t4.99962094745555\n",
            "direction\t:\tMatrix([[-196.469060244380], [-453.083959289570]])\n",
            "alpha\t\t:\t1.0000000000000005e-07\n",
            "\n",
            "\n",
            "Iteration 23\n",
            "x\t\t:\tMatrix([[-5.26446704667352e-5], [2.00007823052277]])\n",
            "f(x)\t\t:\t4.99963296916407\n",
            "direction\t:\tMatrix([[-58.3893784491022], [-218.689269207981]])\n",
            "alpha\t\t:\t1.0000000000000005e-07\n",
            "\n",
            "\n",
            "Iteration 24\n",
            "x\t\t:\tMatrix([[-5.84836083116454e-5], [2.00005636159585]])\n",
            "f(x)\t\t:\t4.99965334897201\n",
            "direction\t:\tMatrix([[0.511014664821172], [-113.300666466979]])\n",
            "alpha\t\t:\t1.0000000000000005e-07\n",
            "\n",
            "\n",
            "Iteration 25\n",
            "x\t\t:\tMatrix([[-5.84325068451633e-5], [2.00004503152920]])\n",
            "f(x)\t\t:\t4.99967621235641\n",
            "direction\t:\tMatrix([[24.4874326999029], [-65.2391778744816]])\n",
            "alpha\t\t:\t1.0000000000000005e-07\n",
            "\n",
            "\n",
            "Iteration 26\n",
            "x\t\t:\tMatrix([[-5.59837635751730e-5], [2.00003850761142]])\n",
            "f(x)\t\t:\t4.99969905433988\n",
            "direction\t:\tMatrix([[33.1502870850874], [-42.7079959727165]])\n",
            "alpha\t\t:\t1.0000000000000004e-06\n",
            "\n",
            "\n",
            "Iteration 27\n",
            "x\t\t:\tMatrix([[-2.28334764900856e-5], [1.99999579961544]])\n",
            "f(x)\t\t:\t4.99991706740216\n",
            "direction\t:\tMatrix([[53.4676542600949], [68.3966432695827]])\n",
            "alpha\t\t:\t1.0000000000000005e-07\n",
            "\n",
            "\n",
            "Iteration 28\n",
            "x\t\t:\tMatrix([[-1.74867110640761e-5], [2.00000263927977]])\n",
            "f(x)\t\t:\t4.99992477490895\n",
            "direction\t:\tMatrix([[27.5621699092842], [27.9516437347499]])\n",
            "alpha\t\t:\t1.0000000000000005e-07\n",
            "\n",
            "\n",
            "Iteration 29\n",
            "x\t\t:\tMatrix([[-1.47304940731477e-5], [2.00000543444414]])\n",
            "f(x)\t\t:\t4.99993020938194\n",
            "direction\t:\tMatrix([[15.7612377425182], [10.2088516912611]])\n",
            "alpha\t\t:\t1.0000000000000005e-07\n",
            "\n",
            "\n",
            "Iteration 30\n",
            "x\t\t:\tMatrix([[-1.31543702988959e-5], [2.00000645532931]])\n",
            "f(x)\t\t:\t4.99993447207489\n",
            "direction\t:\tMatrix([[10.2406064704126], [2.51806058862329]])\n",
            "alpha\t\t:\t1.0000000000000005e-07\n",
            "\n",
            "\n",
            "Iteration 31\n",
            "x\t\t:\tMatrix([[-1.21303096518546e-5], [2.00000670713537]])\n",
            "f(x)\t\t:\t4.99993806468278\n",
            "direction\t:\tMatrix([[7.52841291048976], [-0.729411681294916]])\n",
            "alpha\t\t:\t1.0000000000000004e-06\n",
            "\n",
            "\n",
            "Iteration 32\n",
            "x\t\t:\tMatrix([[-4.60189674136486e-6], [2.00000597772369]])\n",
            "f(x)\t\t:\t4.99996963702256\n",
            "direction\t:\tMatrix([[-6.92467419535172], [-13.6319251782485]])\n",
            "alpha\t\t:\t1.0000000000000005e-07\n",
            "\n",
            "\n",
            "Iteration 33\n",
            "x\t\t:\tMatrix([[-5.29436416090003e-6], [2.00000461453117]])\n",
            "f(x)\t\t:\t4.99996959353034\n",
            "direction\t:\tMatrix([[-2.55482491900912], [-6.36424898066872]])\n",
            "alpha\t\t:\t1.0000000000000005e-07\n",
            "\n",
            "\n",
            "Iteration 34\n",
            "x\t\t:\tMatrix([[-5.54984665280094e-6], [2.00000397810627]])\n",
            "f(x)\t\t:\t4.99996984444747\n",
            "direction\t:\tMatrix([[-0.658839787014359], [-3.11537394967262]])\n",
            "alpha\t\t:\t1.0000000000000005e-07\n",
            "\n",
            "\n",
            "Iteration 35\n",
            "x\t\t:\tMatrix([[-5.61573063150238e-6], [2.00000366656888]])\n",
            "f(x)\t\t:\t4.99997020398470\n",
            "direction\t:\tMatrix([[0.143469113782622], [-1.65080957864006]])\n",
            "alpha\t\t:\t1.0000000000000005e-07\n",
            "\n",
            "\n",
            "Iteration 36\n",
            "x\t\t:\tMatrix([[-5.60138372012412e-6], [2.00000350148792]])\n",
            "f(x)\t\t:\t4.99997059153291\n",
            "direction\t:\tMatrix([[0.463894094530388], [-0.979461081875869]])\n",
            "alpha\t\t:\t1.0000000000000005e-07\n",
            "\n",
            "\n",
            "Iteration 37\n",
            "x\t\t:\tMatrix([[-5.55499431067108e-6], [2.00000340354181]])\n",
            "f(x)\t\t:\t4.99997097298157\n",
            "direction\t:\tMatrix([[0.573491375721716], [-0.661653201446828]])\n",
            "alpha\t\t:\t1.0000000000000004e-06\n",
            "\n",
            "\n",
            "Iteration 38\n",
            "x\t\t:\tMatrix([[-4.98150293494936e-6], [2.00000274188861]])\n",
            "f(x)\t\t:\t4.99997459024337\n",
            "direction\t:\tMatrix([[0.760901464283037], [0.932277913767419]])\n",
            "alpha\t\t:\t1.0000000000000005e-07\n",
            "\n",
            "\n",
            "Iteration 39\n",
            "x\t\t:\tMatrix([[-4.90541278852106e-6], [2.00000283511640]])\n",
            "f(x)\t\t:\t4.99997470814814\n",
            "direction\t:\tMatrix([[0.400971335600845], [0.374167468340055]])\n",
            "alpha\t\t:\t1.0000000000000005e-07\n",
            "\n",
            "\n",
            "Iteration 40\n",
            "x\t\t:\tMatrix([[-4.86531565496097e-6], [2.00000287253315]])\n",
            "f(x)\t\t:\t4.99997479370300\n",
            "direction\t:\tMatrix([[0.236195038539251], [0.129852002797126]])\n",
            "alpha\t\t:\t1.0000000000000005e-07\n",
            "\n",
            "\n",
            "Iteration 41\n",
            "x\t\t:\tMatrix([[-4.84169615110705e-6], [2.00000288551835]])\n",
            "f(x)\t\t:\t4.99997486221046\n",
            "direction\t:\tMatrix([[0.158382028616865], [0.0244355424505044]])\n",
            "alpha\t\t:\t1.0000000000000005e-07\n",
            "\n",
            "\n",
            "Iteration 42\n",
            "x\t\t:\tMatrix([[-4.82585794824536e-6], [2.00000288796191]])\n",
            "f(x)\t\t:\t4.99997492067603\n",
            "direction\t:\tMatrix([[0.119519295820298], [-0.0196215832088556]])\n",
            "alpha\t\t:\t1.0000000000000004e-06\n",
            "\n",
            "\n",
            "Iteration 43\n",
            "x\t\t:\tMatrix([[-4.70633865242506e-6], [2.00000286834032]])\n",
            "f(x)\t\t:\t4.99997543799512\n",
            "direction\t:\tMatrix([[-0.0928399047607869], [-0.190269650690537]])\n",
            "alpha\t\t:\t1.0000000000000005e-07\n",
            "\n",
            "\n",
            "Iteration 44\n",
            "x\t\t:\tMatrix([[-4.71562264290114e-6], [2.00000284931336]])\n",
            "f(x)\t\t:\t4.99997543891307\n",
            "direction\t:\tMatrix([[-0.0326574764646055], [-0.0896403659105973]])\n",
            "alpha\t\t:\t1.0000000000000005e-07\n",
            "\n",
            "\n",
            "Iteration 45\n",
            "x\t\t:\tMatrix([[-4.71888839054760e-6], [2.00000284034932]])\n",
            "f(x)\t\t:\t4.99997544377813\n",
            "direction\t:\tMatrix([[-0.00665983480300147], [-0.0445872865022372]])\n",
            "alpha\t\t:\t1.0000000000000005e-07\n",
            "\n",
            "\n",
            "Iteration 46\n",
            "x\t\t:\tMatrix([[-4.71955437402790e-6], [2.00000283589059]])\n",
            "f(x)\t\t:\t4.99997545003164\n",
            "direction\t:\tMatrix([[0.00423409476179585], [-0.0242151448261370]])\n",
            "alpha\t\t:\t1.0000000000000005e-07\n",
            "\n",
            "\n",
            "Iteration 47\n",
            "x\t\t:\tMatrix([[-4.71913096455172e-6], [2.00000283346908]])\n",
            "f(x)\t\t:\t4.99997545656829\n",
            "direction\t:\tMatrix([[0.00848159373729660], [-0.0148200717167470]])\n",
            "alpha\t\t:\t1.0000000000000005e-07\n",
            "\n",
            "\n",
            "Iteration 48\n",
            "x\t\t:\tMatrix([[-4.71828280517799e-6], [2.00000283198707]])\n",
            "f(x)\t\t:\t4.99997546292492\n",
            "direction\t:\tMatrix([[0.00982900242474926], [-0.0103222613222536]])\n",
            "alpha\t\t:\t1.0000000000000004e-06\n",
            "\n",
            "\n",
            "Iteration 49\n",
            "x\t\t:\tMatrix([[-4.70845380275324e-6], [2.00000282166481]])\n",
            "f(x)\t\t:\t4.99997552288530\n",
            "direction\t:\tMatrix([[0.0108775346583210], [0.0126690026158667]])\n",
            "alpha\t\t:\t1.0000000000000005e-07\n",
            "\n",
            "\n",
            "Iteration 50\n",
            "x\t\t:\tMatrix([[-4.70736604928741e-6], [2.00000282293171]])\n",
            "f(x)\t\t:\t4.99997552470251\n",
            "direction\t:\tMatrix([[0.00587209414230506], [0.00497043055958959]])\n",
            "alpha\t\t:\t1.0000000000000005e-07\n",
            "\n",
            "\n",
            "Iteration 51\n",
            "x\t\t:\tMatrix([[-4.70677883987318e-6], [2.00000282342875]])\n",
            "f(x)\t\t:\t4.99997552605726\n",
            "direction\t:\tMatrix([[0.00356722853485656], [0.00160896933267700]])\n",
            "alpha\t\t:\t1.0000000000000005e-07\n",
            "\n",
            "\n",
            "Iteration 52\n",
            "x\t\t:\tMatrix([[-4.70642211701969e-6], [2.00000282358965]])\n",
            "f(x)\t\t:\t4.99997552716236\n",
            "direction\t:\tMatrix([[0.00246689001506388], [0.000166601998106758]])\n",
            "alpha\t\t:\t1.0000000000000005e-07\n",
            "\n",
            "\n",
            "Iteration 53\n",
            "x\t\t:\tMatrix([[-4.70617542801819e-6], [2.00000282360631]])\n",
            "f(x)\t\t:\t4.99997552811579\n",
            "direction\t:\tMatrix([[0.00190707168058829], [-0.000428631118809456]])\n",
            "alpha\t\t:\t1.0000000000000004e-06\n",
            "\n",
            "\n",
            "Iteration 54\n",
            "x\t\t:\tMatrix([[-4.70426835633760e-6], [2.00000282317768]])\n",
            "f(x)\t\t:\t4.99997553660132\n",
            "direction\t:\tMatrix([[-0.00123574830289818], [-0.00266027827621979]])\n",
            "alpha\t\t:\t1.0000000000000005e-07\n",
            "\n",
            "\n",
            "Iteration 55\n",
            "x\t\t:\tMatrix([[-4.70439193116789e-6], [2.00000282291165]])\n",
            "f(x)\t\t:\t4.99997553663907\n",
            "direction\t:\tMatrix([[-0.000407545140831244], [-0.00126656283986663]])\n",
            "alpha\t\t:\t1.0000000000000005e-07\n",
            "\n",
            "\n",
            "x\t\t:\tMatrix([[-4.70443268568197e-6], [2.00000282278499]])\n",
            "f(x)\t\t:\t4.99997553672937\n"
          ],
          "name": "stdout"
        }
      ]
    }
  ]
}