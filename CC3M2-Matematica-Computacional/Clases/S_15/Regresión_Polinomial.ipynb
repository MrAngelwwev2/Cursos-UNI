{
  "nbformat": 4,
  "nbformat_minor": 0,
  "metadata": {
    "colab": {
      "name": "Regresión Polinomial.ipynb",
      "provenance": [],
      "collapsed_sections": []
    },
    "kernelspec": {
      "name": "python3",
      "display_name": "Python 3"
    },
    "language_info": {
      "name": "python"
    }
  },
  "cells": [
    {
      "cell_type": "markdown",
      "metadata": {
        "id": "oqXfr_1DOEXl"
      },
      "source": [
        "# Regresión Lineal\n"
      ]
    },
    {
      "cell_type": "code",
      "metadata": {
        "id": "xl-ckdFUO_zk"
      },
      "source": [
        "import matplotlib.pyplot as plt \n",
        "import numpy as np\n",
        "import pandas as pd \n",
        "from sklearn.linear_model import LinearRegression\n",
        "from sklearn.model_selection import train_test_split\n",
        "from sklearn.metrics import mean_squared_error\n",
        "from sklearn.metrics import r2_score"
      ],
      "execution_count": null,
      "outputs": []
    },
    {
      "cell_type": "code",
      "metadata": {
        "colab": {
          "base_uri": "https://localhost:8080/"
        },
        "id": "UcwWAublKjTq",
        "outputId": "447ab6c4-e29d-48a0-f983-fab043d2c505"
      },
      "source": [
        "nRowsRead = None # set None to read all lines\n",
        "df = pd.read_csv('auto-mpg.csv', delimiter=',', nrows = nRowsRead)\n",
        "nRow, nCol = df.shape\n",
        "print(f'Hay {nRow} filas y {nCol} columnas')"
      ],
      "execution_count": null,
      "outputs": [
        {
          "output_type": "stream",
          "text": [
            "Hay 398 filas y 9 columnas\n"
          ],
          "name": "stdout"
        }
      ]
    },
    {
      "cell_type": "code",
      "metadata": {
        "colab": {
          "base_uri": "https://localhost:8080/",
          "height": 205
        },
        "id": "wb9UEbHZK1CS",
        "outputId": "ccd46f6e-820e-429d-c2b2-6297fa3afac9"
      },
      "source": [
        "df.head()"
      ],
      "execution_count": null,
      "outputs": [
        {
          "output_type": "execute_result",
          "data": {
            "text/html": [
              "<div>\n",
              "<style scoped>\n",
              "    .dataframe tbody tr th:only-of-type {\n",
              "        vertical-align: middle;\n",
              "    }\n",
              "\n",
              "    .dataframe tbody tr th {\n",
              "        vertical-align: top;\n",
              "    }\n",
              "\n",
              "    .dataframe thead th {\n",
              "        text-align: right;\n",
              "    }\n",
              "</style>\n",
              "<table border=\"1\" class=\"dataframe\">\n",
              "  <thead>\n",
              "    <tr style=\"text-align: right;\">\n",
              "      <th></th>\n",
              "      <th>mpg</th>\n",
              "      <th>cylinders</th>\n",
              "      <th>displacement</th>\n",
              "      <th>horsepower</th>\n",
              "      <th>weight</th>\n",
              "      <th>acceleration</th>\n",
              "      <th>model year</th>\n",
              "      <th>origin</th>\n",
              "      <th>car name</th>\n",
              "    </tr>\n",
              "  </thead>\n",
              "  <tbody>\n",
              "    <tr>\n",
              "      <th>0</th>\n",
              "      <td>18.0</td>\n",
              "      <td>8</td>\n",
              "      <td>307.0</td>\n",
              "      <td>130</td>\n",
              "      <td>3504</td>\n",
              "      <td>12.0</td>\n",
              "      <td>70</td>\n",
              "      <td>1</td>\n",
              "      <td>chevrolet chevelle malibu</td>\n",
              "    </tr>\n",
              "    <tr>\n",
              "      <th>1</th>\n",
              "      <td>15.0</td>\n",
              "      <td>8</td>\n",
              "      <td>350.0</td>\n",
              "      <td>165</td>\n",
              "      <td>3693</td>\n",
              "      <td>11.5</td>\n",
              "      <td>70</td>\n",
              "      <td>1</td>\n",
              "      <td>buick skylark 320</td>\n",
              "    </tr>\n",
              "    <tr>\n",
              "      <th>2</th>\n",
              "      <td>18.0</td>\n",
              "      <td>8</td>\n",
              "      <td>318.0</td>\n",
              "      <td>150</td>\n",
              "      <td>3436</td>\n",
              "      <td>11.0</td>\n",
              "      <td>70</td>\n",
              "      <td>1</td>\n",
              "      <td>plymouth satellite</td>\n",
              "    </tr>\n",
              "    <tr>\n",
              "      <th>3</th>\n",
              "      <td>16.0</td>\n",
              "      <td>8</td>\n",
              "      <td>304.0</td>\n",
              "      <td>150</td>\n",
              "      <td>3433</td>\n",
              "      <td>12.0</td>\n",
              "      <td>70</td>\n",
              "      <td>1</td>\n",
              "      <td>amc rebel sst</td>\n",
              "    </tr>\n",
              "    <tr>\n",
              "      <th>4</th>\n",
              "      <td>17.0</td>\n",
              "      <td>8</td>\n",
              "      <td>302.0</td>\n",
              "      <td>140</td>\n",
              "      <td>3449</td>\n",
              "      <td>10.5</td>\n",
              "      <td>70</td>\n",
              "      <td>1</td>\n",
              "      <td>ford torino</td>\n",
              "    </tr>\n",
              "  </tbody>\n",
              "</table>\n",
              "</div>"
            ],
            "text/plain": [
              "    mpg  cylinders  displacement  ... model year  origin                   car name\n",
              "0  18.0          8         307.0  ...         70       1  chevrolet chevelle malibu\n",
              "1  15.0          8         350.0  ...         70       1          buick skylark 320\n",
              "2  18.0          8         318.0  ...         70       1         plymouth satellite\n",
              "3  16.0          8         304.0  ...         70       1              amc rebel sst\n",
              "4  17.0          8         302.0  ...         70       1                ford torino\n",
              "\n",
              "[5 rows x 9 columns]"
            ]
          },
          "metadata": {
            "tags": []
          },
          "execution_count": 3
        }
      ]
    },
    {
      "cell_type": "code",
      "metadata": {
        "colab": {
          "base_uri": "https://localhost:8080/"
        },
        "id": "-ZlefFEfPdKE",
        "outputId": "99d2de36-0635-4058-ce8f-83128604bc54"
      },
      "source": [
        "df.info()"
      ],
      "execution_count": null,
      "outputs": [
        {
          "output_type": "stream",
          "text": [
            "<class 'pandas.core.frame.DataFrame'>\n",
            "RangeIndex: 398 entries, 0 to 397\n",
            "Data columns (total 9 columns):\n",
            " #   Column        Non-Null Count  Dtype  \n",
            "---  ------        --------------  -----  \n",
            " 0   mpg           398 non-null    float64\n",
            " 1   cylinders     398 non-null    int64  \n",
            " 2   displacement  398 non-null    float64\n",
            " 3   horsepower    398 non-null    object \n",
            " 4   weight        398 non-null    int64  \n",
            " 5   acceleration  398 non-null    float64\n",
            " 6   model year    398 non-null    int64  \n",
            " 7   origin        398 non-null    int64  \n",
            " 8   car name      398 non-null    object \n",
            "dtypes: float64(3), int64(4), object(2)\n",
            "memory usage: 28.1+ KB\n"
          ],
          "name": "stdout"
        }
      ]
    },
    {
      "cell_type": "code",
      "metadata": {
        "colab": {
          "base_uri": "https://localhost:8080/"
        },
        "id": "CoTHpEFQLv53",
        "outputId": "e36049a5-e402-4efa-e04b-d2a101c02061"
      },
      "source": [
        "sum(df.horsepower=='?')"
      ],
      "execution_count": null,
      "outputs": [
        {
          "output_type": "execute_result",
          "data": {
            "text/plain": [
              "6"
            ]
          },
          "metadata": {
            "tags": []
          },
          "execution_count": 5
        }
      ]
    },
    {
      "cell_type": "code",
      "metadata": {
        "id": "jF6I1AcxNxMV"
      },
      "source": [
        "df=df[df.horsepower!='?']"
      ],
      "execution_count": null,
      "outputs": []
    },
    {
      "cell_type": "code",
      "metadata": {
        "colab": {
          "base_uri": "https://localhost:8080/"
        },
        "id": "KsDDxuWMOkiV",
        "outputId": "aaa22e9a-6b45-44c4-b8d0-c1fd80ba5dd9"
      },
      "source": [
        "sum(df.horsepower=='?')"
      ],
      "execution_count": null,
      "outputs": [
        {
          "output_type": "execute_result",
          "data": {
            "text/plain": [
              "0"
            ]
          },
          "metadata": {
            "tags": []
          },
          "execution_count": 7
        }
      ]
    },
    {
      "cell_type": "code",
      "metadata": {
        "id": "GEVeWTADOAye"
      },
      "source": [
        "df.horsepower=df.horsepower.astype('int64')"
      ],
      "execution_count": null,
      "outputs": []
    },
    {
      "cell_type": "code",
      "metadata": {
        "colab": {
          "base_uri": "https://localhost:8080/"
        },
        "id": "wb6O6psUO38t",
        "outputId": "ef23ab6d-5c91-4c26-f963-a7970104d996"
      },
      "source": [
        "df.info()"
      ],
      "execution_count": null,
      "outputs": [
        {
          "output_type": "stream",
          "text": [
            "<class 'pandas.core.frame.DataFrame'>\n",
            "Int64Index: 392 entries, 0 to 397\n",
            "Data columns (total 9 columns):\n",
            " #   Column        Non-Null Count  Dtype  \n",
            "---  ------        --------------  -----  \n",
            " 0   mpg           392 non-null    float64\n",
            " 1   cylinders     392 non-null    int64  \n",
            " 2   displacement  392 non-null    float64\n",
            " 3   horsepower    392 non-null    int64  \n",
            " 4   weight        392 non-null    int64  \n",
            " 5   acceleration  392 non-null    float64\n",
            " 6   model year    392 non-null    int64  \n",
            " 7   origin        392 non-null    int64  \n",
            " 8   car name      392 non-null    object \n",
            "dtypes: float64(3), int64(5), object(1)\n",
            "memory usage: 30.6+ KB\n"
          ],
          "name": "stdout"
        }
      ]
    },
    {
      "cell_type": "code",
      "metadata": {
        "id": "Io244Z0OQKcw"
      },
      "source": [
        "# define y and X\n",
        "y = np.array(df.mpg)\n",
        "X = np.array(df.horsepower)\n",
        "\n",
        "y = y.reshape(-1,1)\n",
        "X = X.reshape(-1,1)"
      ],
      "execution_count": null,
      "outputs": []
    },
    {
      "cell_type": "code",
      "metadata": {
        "id": "yLxo2OxZQ7M5"
      },
      "source": [
        "X_train,X_test,y_train,y_test=train_test_split(X,y,test_size=0.3)"
      ],
      "execution_count": null,
      "outputs": []
    },
    {
      "cell_type": "code",
      "metadata": {
        "id": "HOZA7FhxxMXl"
      },
      "source": [
        "# Sort test data\n",
        "inds = X_test.ravel().argsort()\n",
        "X_test = X_test.ravel()[inds].reshape(-1,1)\n",
        "y_test = y_test.ravel()[inds].reshape(-1,1)"
      ],
      "execution_count": null,
      "outputs": []
    },
    {
      "cell_type": "code",
      "metadata": {
        "colab": {
          "base_uri": "https://localhost:8080/"
        },
        "id": "gmrRS7KJQakx",
        "outputId": "f7e17041-ecb5-4f71-d61f-533687622a27"
      },
      "source": [
        "lr=LinearRegression()\n",
        "lr.fit(X_train,y_train)"
      ],
      "execution_count": null,
      "outputs": [
        {
          "output_type": "execute_result",
          "data": {
            "text/plain": [
              "LinearRegression(copy_X=True, fit_intercept=True, n_jobs=None, normalize=False)"
            ]
          },
          "metadata": {
            "tags": []
          },
          "execution_count": 13
        }
      ]
    },
    {
      "cell_type": "code",
      "metadata": {
        "colab": {
          "base_uri": "https://localhost:8080/"
        },
        "id": "acJm1f5ORs0y",
        "outputId": "105c00e7-d73f-4546-c61c-8b6601ffced6"
      },
      "source": [
        "y_pred=lr.predict(X_test)\n",
        "\n",
        "mse = mean_squared_error(y_pred,y_test)\n",
        "r2 = r2_score(y_test,y_pred)\n",
        "\n",
        "print(f'MSE: {mse}') \n",
        "print(f'R^2: {r2}')\n",
        "print(f'Es decir, el {r2*100}% de la variación observada puede explicarse por las entradas del modelo')"
      ],
      "execution_count": null,
      "outputs": [
        {
          "output_type": "stream",
          "text": [
            "MSE: 25.48764054559336\n",
            "R^2: 0.5985030231162922\n",
            "Es decir, el 59.85030231162922% de la variación observada puede explicarse por las entradas del modelo\n"
          ],
          "name": "stdout"
        }
      ]
    },
    {
      "cell_type": "markdown",
      "metadata": {
        "id": "7y083SlmY7Mt"
      },
      "source": [
        "Regresión Lineal Simple:\n",
        "\n",
        "$mpg = \\beta_0 + \\beta_1 * horsepower$"
      ]
    },
    {
      "cell_type": "code",
      "metadata": {
        "colab": {
          "base_uri": "https://localhost:8080/",
          "height": 279
        },
        "id": "4uGJDVV4SW-L",
        "outputId": "495d8079-031c-4876-98e2-09baea69f08c"
      },
      "source": [
        "plt.scatter(X_test, y_test, facecolors='none', edgecolors='darkgray')\n",
        "plt.plot(X_test, y_pred, color='orange', linewidth=3, label=\"Lineal\")\n",
        "\n",
        "plt.legend()\n",
        "plt.xlabel('Horsepower')\n",
        "plt.ylabel('Miles per gallon')\n",
        "plt.show() "
      ],
      "execution_count": null,
      "outputs": [
        {
          "output_type": "display_data",
          "data": {
            "image/png": "[encoded data removed]",
            "text/plain": [
              "<Figure size 432x288 with 1 Axes>"
            ]
          },
          "metadata": {
            "tags": [],
            "needs_background": "light"
          }
        }
      ]
    },
    {
      "cell_type": "markdown",
      "metadata": {
        "id": "xLoQQj8rVeBs"
      },
      "source": [
        "Del gráfico anterior se nota que una línea de regresión lineal puede no ser la mejor solución para capturar las relaciones entre la respuesta y los predictores con precisión. En algunos casos, una línea curva podría funcionar mejor."
      ]
    },
    {
      "cell_type": "markdown",
      "metadata": {
        "id": "tMn-Ss3fVf0E"
      },
      "source": [
        "# Regresión Polinomial\n",
        "\n",
        "La regresión polinomial es un intento de crear una función polinomial que se ajuste a un conjunto de puntos de datos.\n",
        "\n",
        "Para el dataset Auto-mpg:\n",
        "\n",
        "- La función polinomial de grado 1 tiene la forma:\n",
        "\n",
        "  $mpg = \\beta_0 + \\beta_1 * horsepower + \\epsilon_1$ (Regresión Lineal Simple)\n",
        "\n",
        "- La regresión cuadrática es un polinomio de grado 2:\n",
        "\n",
        "  $mpg = \\beta_0 + \\beta_1 * horsepower + \\beta_2 * horsepower^2 + \\epsilon_2$\n",
        "\n",
        "- Para un polinomio de grado 3, la fórmula es la siguiente:\n",
        "\n",
        "  $mpg = \\beta_0 + \\beta_1 * horsepower + \\beta_2 * horsepower^2 + \\beta_3 * horsepower^3 + \\epsilon_3$\n",
        "\n",
        "- En general, un polinomio de grado n tiene la fórmula de:\n",
        "\n",
        "  $mpg = \\beta_0 + \\beta_1 * horsepower + \\beta_2 * horsepower^2 + \\dots + \\beta_d * horsepower^d + \\epsilon_d$\n",
        "\n",
        "Notamos que la ecuación general implica predecir $mpg$ usando una función no lineal de $horsepower$. **¡Pero sigue siendo un modelo lineal!** Es decir, este es simplemente un modelo de regresión lineal múltiple con $X_1 = horsepower$ y ​​$X_2 = horsepower^2$.\n",
        "\n"
      ]
    },
    {
      "cell_type": "code",
      "metadata": {
        "id": "ZoK205PmYOem"
      },
      "source": [
        "# ============ Regresión cuadrática ============\n",
        "\n",
        "from sklearn.preprocessing import PolynomialFeatures\n",
        "\n",
        "degree = 2\n",
        "polynomial_features = PolynomialFeatures(degree = degree)"
      ],
      "execution_count": null,
      "outputs": []
    },
    {
      "cell_type": "markdown",
      "metadata": {
        "id": "nwdLLCqLe7yu"
      },
      "source": [
        "Con el objeto `PolynomialFeatures` se puede generar una nueva matriz de características que consta de todas las combinaciones polinomiales de las características con un grado menor o igual al grado especificado:"
      ]
    },
    {
      "cell_type": "code",
      "metadata": {
        "id": "80l5TdqUfG8r"
      },
      "source": [
        "X_poly2_train = polynomial_features.fit_transform(X_train)\n",
        "X_poly2_test = polynomial_features.fit_transform(X_test)"
      ],
      "execution_count": null,
      "outputs": []
    },
    {
      "cell_type": "code",
      "metadata": {
        "colab": {
          "base_uri": "https://localhost:8080/"
        },
        "id": "gidApb4C1nNH",
        "outputId": "a4024627-0e45-4964-da56-dae882748102"
      },
      "source": [
        "X_poly2_train.shape"
      ],
      "execution_count": null,
      "outputs": [
        {
          "output_type": "execute_result",
          "data": {
            "text/plain": [
              "(274, 3)"
            ]
          },
          "metadata": {
            "tags": []
          },
          "execution_count": 18
        }
      ]
    },
    {
      "cell_type": "code",
      "metadata": {
        "colab": {
          "base_uri": "https://localhost:8080/"
        },
        "id": "XevgbV6uf0E-",
        "outputId": "33c2b6d3-277d-44e5-e987-5c958d995bb4"
      },
      "source": [
        "polynomial_features.get_feature_names('x')"
      ],
      "execution_count": null,
      "outputs": [
        {
          "output_type": "execute_result",
          "data": {
            "text/plain": [
              "['1', 'x', 'x^2']"
            ]
          },
          "metadata": {
            "tags": []
          },
          "execution_count": 19
        }
      ]
    },
    {
      "cell_type": "code",
      "metadata": {
        "colab": {
          "base_uri": "https://localhost:8080/"
        },
        "id": "JtpQBEHdgdVE",
        "outputId": "13eead50-9e26-4bb0-8d8d-8c9be697a6fa"
      },
      "source": [
        "lr_poly2 = LinearRegression()\n",
        "lr_poly2.fit(X_poly2_train,y_train)"
      ],
      "execution_count": null,
      "outputs": [
        {
          "output_type": "execute_result",
          "data": {
            "text/plain": [
              "LinearRegression(copy_X=True, fit_intercept=True, n_jobs=None, normalize=False)"
            ]
          },
          "metadata": {
            "tags": []
          },
          "execution_count": 20
        }
      ]
    },
    {
      "cell_type": "code",
      "metadata": {
        "colab": {
          "base_uri": "https://localhost:8080/"
        },
        "id": "VSzZxTR50kz_",
        "outputId": "feed30a0-79b5-408d-8990-6c99552afabf"
      },
      "source": [
        "y_poly2_pred=lr_poly2.predict(X_poly2_test)\n",
        "\n",
        "mse_poly2 = mean_squared_error(y_poly2_pred,y_test)\n",
        "r2_poly2 = r2_score(y_test,y_poly2_pred)\n",
        "\n",
        "print(f'MSE: {mse_poly2}') \n",
        "print(f'R^2: {r2_poly2}')\n",
        "print(f'Es decir, el {r2_poly2*100}% de la variación observada puede explicarse por las entradas del modelo')"
      ],
      "execution_count": null,
      "outputs": [
        {
          "output_type": "stream",
          "text": [
            "MSE: 20.20418046645831\n",
            "R^2: 0.6817313331461603\n",
            "Es decir, el 68.17313331461602% de la variación observada puede explicarse por las entradas del modelo\n"
          ],
          "name": "stdout"
        }
      ]
    },
    {
      "cell_type": "code",
      "metadata": {
        "colab": {
          "base_uri": "https://localhost:8080/",
          "height": 279
        },
        "id": "nwH4M9Tog0n4",
        "outputId": "e74ff79a-8ebc-4ed7-cd4f-370dfffd4a5a"
      },
      "source": [
        "plt.scatter(X_test, y_test, facecolors='none', edgecolors='darkgray')\n",
        "plt.plot(X_test, y_pred, color='orange', linewidth=3, label=\"Lineal\")\n",
        "plt.plot(X_test, y_poly2_pred, color='royalblue', linewidth=3, label=\"Grado 2\")\n",
        "\n",
        "plt.legend()\n",
        "plt.xlabel('Horsepower')\n",
        "plt.ylabel('Miles per gallon')\n",
        "plt.show() "
      ],
      "execution_count": null,
      "outputs": [
        {
          "output_type": "display_data",
          "data": {
            "image/png": "[encoded data removed]",
            "text/plain": [
              "<Figure size 432x288 with 1 Axes>"
            ]
          },
          "metadata": {
            "tags": [],
            "needs_background": "light"
          }
        }
      ]
    },
    {
      "cell_type": "code",
      "metadata": {
        "colab": {
          "base_uri": "https://localhost:8080/"
        },
        "id": "_QEhn20-80fu",
        "outputId": "4c2bcf51-b970-45a2-9296-c0f74ce5c933"
      },
      "source": [
        "print(lr_poly2.intercept_)  # beta_0\n",
        "print(lr_poly2.coef_)       # _, beta_1, beta_2"
      ],
      "execution_count": null,
      "outputs": [
        {
          "output_type": "stream",
          "text": [
            "[56.02854479]\n",
            "[[ 0.         -0.45278494  0.0011845 ]]\n"
          ],
          "name": "stdout"
        }
      ]
    },
    {
      "cell_type": "code",
      "metadata": {
        "id": "oKFE07WH0JnD"
      },
      "source": [
        "# ============ Polinomio de grado 5 ============\n",
        "\n",
        "degree = 5\n",
        "polynomial_features = PolynomialFeatures(degree = degree)\n",
        "\n",
        "X_poly5_train = polynomial_features.fit_transform(X_train)\n",
        "X_poly5_test = polynomial_features.fit_transform(X_test)"
      ],
      "execution_count": null,
      "outputs": []
    },
    {
      "cell_type": "code",
      "metadata": {
        "colab": {
          "base_uri": "https://localhost:8080/"
        },
        "id": "wq2leSky10oV",
        "outputId": "b26d2876-bee0-4164-96fd-8aa82247bc2c"
      },
      "source": [
        "X_poly5_train.shape"
      ],
      "execution_count": null,
      "outputs": [
        {
          "output_type": "execute_result",
          "data": {
            "text/plain": [
              "(274, 6)"
            ]
          },
          "metadata": {
            "tags": []
          },
          "execution_count": 25
        }
      ]
    },
    {
      "cell_type": "code",
      "metadata": {
        "colab": {
          "base_uri": "https://localhost:8080/"
        },
        "id": "opz350pM12yI",
        "outputId": "6c713bc3-c34f-4fe3-bb7c-f2a108c58915"
      },
      "source": [
        "polynomial_features.get_feature_names('x')"
      ],
      "execution_count": null,
      "outputs": [
        {
          "output_type": "execute_result",
          "data": {
            "text/plain": [
              "['1', 'x', 'x^2', 'x^3', 'x^4', 'x^5']"
            ]
          },
          "metadata": {
            "tags": []
          },
          "execution_count": 26
        }
      ]
    },
    {
      "cell_type": "code",
      "metadata": {
        "colab": {
          "base_uri": "https://localhost:8080/"
        },
        "id": "CDld4gM414Rn",
        "outputId": "7b47a281-99e4-4bc6-bb0e-00bb6ec0e221"
      },
      "source": [
        "lr_poly5 = LinearRegression()\n",
        "lr_poly5.fit(X_poly5_train,y_train)"
      ],
      "execution_count": null,
      "outputs": [
        {
          "output_type": "execute_result",
          "data": {
            "text/plain": [
              "LinearRegression(copy_X=True, fit_intercept=True, n_jobs=None, normalize=False)"
            ]
          },
          "metadata": {
            "tags": []
          },
          "execution_count": 27
        }
      ]
    },
    {
      "cell_type": "code",
      "metadata": {
        "colab": {
          "base_uri": "https://localhost:8080/"
        },
        "id": "ynnCl0nU2Dk9",
        "outputId": "b5e04fbf-9cd5-4d2b-cc4c-0de76101b9c1"
      },
      "source": [
        "y_poly5_pred=lr_poly5.predict(X_poly5_test)\n",
        "\n",
        "mse_poly5 = mean_squared_error(y_poly5_pred,y_test)\n",
        "r2_poly5 = r2_score(y_test,y_poly5_pred)\n",
        "\n",
        "print(f'MSE: {mse_poly5}') \n",
        "print(f'R^2: {r2_poly5}')\n",
        "print(f'Es decir, el {r2_poly5*100}% de la variación observada puede explicarse por las entradas del modelo')"
      ],
      "execution_count": null,
      "outputs": [
        {
          "output_type": "stream",
          "text": [
            "MSE: 19.677999552650732\n",
            "R^2: 0.6900200582562676\n",
            "Es decir, el 69.00200582562675% de la variación observada puede explicarse por las entradas del modelo\n"
          ],
          "name": "stdout"
        }
      ]
    },
    {
      "cell_type": "code",
      "metadata": {
        "colab": {
          "base_uri": "https://localhost:8080/",
          "height": 279
        },
        "id": "3hbkuKMP2UZg",
        "outputId": "5c148fad-ddc0-4301-e223-fba04c35de93"
      },
      "source": [
        "plt.scatter(X_test, y_test, facecolors='none', edgecolors='darkgray')\n",
        "plt.plot(X_test, y_pred, color='orange', label=\"Lineal\")\n",
        "plt.plot(X_test, y_poly2_pred, color='royalblue', label=\"Grado 2\")\n",
        "plt.plot(X_test, y_poly5_pred, color='red', label=\"Grado 5\")\n",
        "\n",
        "plt.legend()\n",
        "plt.xlabel('Horsepower')\n",
        "plt.ylabel('Miles per gallon')\n",
        "plt.show() "
      ],
      "execution_count": null,
      "outputs": [
        {
          "output_type": "display_data",
          "data": {
            "image/png": "[encoded data removed]",
            "text/plain": [
              "<Figure size 432x288 with 1 Axes>"
            ]
          },
          "metadata": {
            "tags": [],
            "needs_background": "light"
          }
        }
      ]
    },
    {
      "cell_type": "code",
      "metadata": {
        "colab": {
          "base_uri": "https://localhost:8080/"
        },
        "id": "aSkqxUBF9Zrl",
        "outputId": "5f53761a-a3c5-4ecb-9ef4-33474734799c"
      },
      "source": [
        "print(lr_poly5.intercept_)  # beta_0\n",
        "print(lr_poly5.coef_)       # _, beta_1, beta_2, beta_3, beta_4, beta_5"
      ],
      "execution_count": null,
      "outputs": [
        {
          "output_type": "stream",
          "text": [
            "[16.38564784]\n",
            "[[ 0.00000000e+00  1.58397728e+00 -3.71738680e-02  3.33194312e-04\n",
            "  -1.34640467e-06  2.04371831e-09]]\n"
          ],
          "name": "stdout"
        }
      ]
    },
    {
      "cell_type": "markdown",
      "metadata": {
        "id": "4HkTQwu699dO"
      },
      "source": [
        "El ajuste resultante de la regresión polinomial de 5to grado parece innecesariamente ondulante, es decir, no está claro que incluir los términos adicionales realmente ha llevado a un mejor ajuste de los datos.\n",
        "\n",
        "En general, es inusual usar un grado $d$ mayor que 3 o 4 porque para valores grandes de $d$, la curva del polinomio puede volverse demasiado flexible y adoptar algunas formas muy extrañas. Esto es especialmente cierto cerca del límite de la variable $X$."
      ]
    },
    {
      "cell_type": "code",
      "metadata": {
        "colab": {
          "base_uri": "https://localhost:8080/"
        },
        "id": "Nv_fW_4Q9Zkq",
        "outputId": "98470122-e010-4770-9c3e-1b3d61d15ee4"
      },
      "source": [
        "nRowsRead = None # set None to read all lines\n",
        "wage_df = pd.read_csv('Wage.csv', delimiter=',', nrows = nRowsRead)\n",
        "nRow, nCol = wage_df.shape\n",
        "print(f'Hay {nRow} filas y {nCol} columnas')"
      ],
      "execution_count": null,
      "outputs": [
        {
          "output_type": "stream",
          "text": [
            "Hay 3000 filas y 13 columnas\n"
          ],
          "name": "stdout"
        }
      ]
    },
    {
      "cell_type": "code",
      "metadata": {
        "colab": {
          "base_uri": "https://localhost:8080/",
          "height": 309
        },
        "id": "eHHYTWAiBH-6",
        "outputId": "e643447a-9225-41a0-a4c5-588faacda33f"
      },
      "source": [
        "wage_df.head()"
      ],
      "execution_count": null,
      "outputs": [
        {
          "output_type": "execute_result",
          "data": {
            "text/html": [
              "<div>\n",
              "<style scoped>\n",
              "    .dataframe tbody tr th:only-of-type {\n",
              "        vertical-align: middle;\n",
              "    }\n",
              "\n",
              "    .dataframe tbody tr th {\n",
              "        vertical-align: top;\n",
              "    }\n",
              "\n",
              "    .dataframe thead th {\n",
              "        text-align: right;\n",
              "    }\n",
              "</style>\n",
              "<table border=\"1\" class=\"dataframe\">\n",
              "  <thead>\n",
              "    <tr style=\"text-align: right;\">\n",
              "      <th></th>\n",
              "      <th>Unnamed: 0</th>\n",
              "      <th>year</th>\n",
              "      <th>age</th>\n",
              "      <th>sex</th>\n",
              "      <th>maritl</th>\n",
              "      <th>race</th>\n",
              "      <th>education</th>\n",
              "      <th>region</th>\n",
              "      <th>jobclass</th>\n",
              "      <th>health</th>\n",
              "      <th>health_ins</th>\n",
              "      <th>logwage</th>\n",
              "      <th>wage</th>\n",
              "    </tr>\n",
              "  </thead>\n",
              "  <tbody>\n",
              "    <tr>\n",
              "      <th>0</th>\n",
              "      <td>231655</td>\n",
              "      <td>2006</td>\n",
              "      <td>18</td>\n",
              "      <td>1. Male</td>\n",
              "      <td>1. Never Married</td>\n",
              "      <td>1. White</td>\n",
              "      <td>1. &lt; HS Grad</td>\n",
              "      <td>2. Middle Atlantic</td>\n",
              "      <td>1. Industrial</td>\n",
              "      <td>1. &lt;=Good</td>\n",
              "      <td>2. No</td>\n",
              "      <td>4.318063</td>\n",
              "      <td>75.043154</td>\n",
              "    </tr>\n",
              "    <tr>\n",
              "      <th>1</th>\n",
              "      <td>86582</td>\n",
              "      <td>2004</td>\n",
              "      <td>24</td>\n",
              "      <td>1. Male</td>\n",
              "      <td>1. Never Married</td>\n",
              "      <td>1. White</td>\n",
              "      <td>4. College Grad</td>\n",
              "      <td>2. Middle Atlantic</td>\n",
              "      <td>2. Information</td>\n",
              "      <td>2. &gt;=Very Good</td>\n",
              "      <td>2. No</td>\n",
              "      <td>4.255273</td>\n",
              "      <td>70.476020</td>\n",
              "    </tr>\n",
              "    <tr>\n",
              "      <th>2</th>\n",
              "      <td>161300</td>\n",
              "      <td>2003</td>\n",
              "      <td>45</td>\n",
              "      <td>1. Male</td>\n",
              "      <td>2. Married</td>\n",
              "      <td>1. White</td>\n",
              "      <td>3. Some College</td>\n",
              "      <td>2. Middle Atlantic</td>\n",
              "      <td>1. Industrial</td>\n",
              "      <td>1. &lt;=Good</td>\n",
              "      <td>1. Yes</td>\n",
              "      <td>4.875061</td>\n",
              "      <td>130.982177</td>\n",
              "    </tr>\n",
              "    <tr>\n",
              "      <th>3</th>\n",
              "      <td>155159</td>\n",
              "      <td>2003</td>\n",
              "      <td>43</td>\n",
              "      <td>1. Male</td>\n",
              "      <td>2. Married</td>\n",
              "      <td>3. Asian</td>\n",
              "      <td>4. College Grad</td>\n",
              "      <td>2. Middle Atlantic</td>\n",
              "      <td>2. Information</td>\n",
              "      <td>2. &gt;=Very Good</td>\n",
              "      <td>1. Yes</td>\n",
              "      <td>5.041393</td>\n",
              "      <td>154.685293</td>\n",
              "    </tr>\n",
              "    <tr>\n",
              "      <th>4</th>\n",
              "      <td>11443</td>\n",
              "      <td>2005</td>\n",
              "      <td>50</td>\n",
              "      <td>1. Male</td>\n",
              "      <td>4. Divorced</td>\n",
              "      <td>1. White</td>\n",
              "      <td>2. HS Grad</td>\n",
              "      <td>2. Middle Atlantic</td>\n",
              "      <td>2. Information</td>\n",
              "      <td>1. &lt;=Good</td>\n",
              "      <td>1. Yes</td>\n",
              "      <td>4.318063</td>\n",
              "      <td>75.043154</td>\n",
              "    </tr>\n",
              "  </tbody>\n",
              "</table>\n",
              "</div>"
            ],
            "text/plain": [
              "   Unnamed: 0  year  age  ... health_ins   logwage        wage\n",
              "0      231655  2006   18  ...      2. No  4.318063   75.043154\n",
              "1       86582  2004   24  ...      2. No  4.255273   70.476020\n",
              "2      161300  2003   45  ...     1. Yes  4.875061  130.982177\n",
              "3      155159  2003   43  ...     1. Yes  5.041393  154.685293\n",
              "4       11443  2005   50  ...     1. Yes  4.318063   75.043154\n",
              "\n",
              "[5 rows x 13 columns]"
            ]
          },
          "metadata": {
            "tags": []
          },
          "execution_count": 32
        }
      ]
    },
    {
      "cell_type": "code",
      "metadata": {
        "colab": {
          "base_uri": "https://localhost:8080/"
        },
        "id": "k12__-uZCmiP",
        "outputId": "69ac2850-cf09-4d3a-bfbf-c8f64633f4f0"
      },
      "source": [
        "wage_df.info()"
      ],
      "execution_count": null,
      "outputs": [
        {
          "output_type": "stream",
          "text": [
            "<class 'pandas.core.frame.DataFrame'>\n",
            "RangeIndex: 3000 entries, 0 to 2999\n",
            "Data columns (total 13 columns):\n",
            " #   Column      Non-Null Count  Dtype  \n",
            "---  ------      --------------  -----  \n",
            " 0   Unnamed: 0  3000 non-null   int64  \n",
            " 1   year        3000 non-null   int64  \n",
            " 2   age         3000 non-null   int64  \n",
            " 3   sex         3000 non-null   object \n",
            " 4   maritl      3000 non-null   object \n",
            " 5   race        3000 non-null   object \n",
            " 6   education   3000 non-null   object \n",
            " 7   region      3000 non-null   object \n",
            " 8   jobclass    3000 non-null   object \n",
            " 9   health      3000 non-null   object \n",
            " 10  health_ins  3000 non-null   object \n",
            " 11  logwage     3000 non-null   float64\n",
            " 12  wage        3000 non-null   float64\n",
            "dtypes: float64(2), int64(3), object(8)\n",
            "memory usage: 304.8+ KB\n"
          ],
          "name": "stdout"
        }
      ]
    },
    {
      "cell_type": "code",
      "metadata": {
        "id": "reho_wVMCmbg"
      },
      "source": [
        "# define y and X\n",
        "y = wage_df.wage\n",
        "X = wage_df.age"
      ],
      "execution_count": null,
      "outputs": []
    },
    {
      "cell_type": "code",
      "metadata": {
        "colab": {
          "base_uri": "https://localhost:8080/"
        },
        "id": "pLTSQvHwDIkE",
        "outputId": "cbecae39-1df5-4d09-f530-d320e3ae10ea"
      },
      "source": [
        "# ============ Polinomio de grado 4 ============\n",
        "\n",
        "degree = 4\n",
        "polynomial_features = PolynomialFeatures(degree = degree)\n",
        "\n",
        "X_poly4_train = polynomial_features.fit_transform(X.values.reshape(-1,1))\n",
        "X_poly4_train.shape"
      ],
      "execution_count": null,
      "outputs": [
        {
          "output_type": "execute_result",
          "data": {
            "text/plain": [
              "(3000, 5)"
            ]
          },
          "metadata": {
            "tags": []
          },
          "execution_count": 35
        }
      ]
    },
    {
      "cell_type": "code",
      "metadata": {
        "colab": {
          "base_uri": "https://localhost:8080/"
        },
        "id": "1O9_k3IiHw5w",
        "outputId": "195340df-d7e6-434a-da4d-f31e796e2d07"
      },
      "source": [
        "polynomial_features.get_feature_names('x')"
      ],
      "execution_count": null,
      "outputs": [
        {
          "output_type": "execute_result",
          "data": {
            "text/plain": [
              "['1', 'x', 'x^2', 'x^3', 'x^4']"
            ]
          },
          "metadata": {
            "tags": []
          },
          "execution_count": 36
        }
      ]
    },
    {
      "cell_type": "code",
      "metadata": {
        "id": "JcJ9bTuvM2m6"
      },
      "source": [
        "X_test = np.linspace(min(X),max(X),100)\n",
        "X_poly4_test = polynomial_features.fit_transform(X_test.reshape(-1,1))"
      ],
      "execution_count": null,
      "outputs": []
    },
    {
      "cell_type": "code",
      "metadata": {
        "id": "AIJS62_zHxqQ"
      },
      "source": [
        "lr_poly4 = LinearRegression()\n",
        "lr_poly4.fit(X_poly4_train,y.values.reshape(-1,1))\n",
        "\n",
        "y_poly4_pred=lr_poly4.predict(X_poly4_test)"
      ],
      "execution_count": null,
      "outputs": []
    },
    {
      "cell_type": "code",
      "metadata": {
        "id": "CvBGWErCDIAc"
      },
      "source": [
        "from tqdm import tqdm\n",
        "\n",
        "def boot(X_data,y_data,R,test_data,model):\n",
        "  predictions = []\n",
        "  for i in tqdm(range(R)):\n",
        "      predictions.append(alpha(X_data,y_data,get_indices(X_data,200),test_data,model))\n",
        "      \n",
        "  return np.percentile(predictions,2.5,axis = 0),np.percentile(predictions,97.5,axis = 0)\n",
        "\n",
        "def alpha(X_data,y_data,index,test_data,model):\n",
        "    X = X_data.loc[index]\n",
        "    y = y_data.loc[index]\n",
        "    \n",
        "    lr = model\n",
        "    lr.fit(pd.DataFrame(X),y)\n",
        "    \n",
        "    return lr.predict(pd.DataFrame(test_data))\n",
        "\n",
        "def get_indices(data,num_samples):\n",
        "    return  np.random.choice(data.index, num_samples, replace=True)\n"
      ],
      "execution_count": null,
      "outputs": []
    },
    {
      "cell_type": "code",
      "metadata": {
        "colab": {
          "base_uri": "https://localhost:8080/"
        },
        "id": "gDQtFKKvKdze",
        "outputId": "cbf6b034-a38b-407f-9352-50ed9c67afe4"
      },
      "source": [
        "li,ui = boot(pd.DataFrame(X_poly4_train),pd.Series(y),1000,X_poly4_test,LinearRegression())"
      ],
      "execution_count": null,
      "outputs": [
        {
          "output_type": "stream",
          "text": [
            "100%|██████████| 1000/1000 [00:02<00:00, 340.70it/s]\n"
          ],
          "name": "stderr"
        }
      ]
    },
    {
      "cell_type": "code",
      "metadata": {
        "colab": {
          "base_uri": "https://localhost:8080/",
          "height": 283
        },
        "id": "CkVjUXXdKf6V",
        "outputId": "75fde496-4fbe-4a76-e673-7ffd79f80692"
      },
      "source": [
        "plt.scatter(X,y,facecolors='none', edgecolors='darkgray')\n",
        "plt.plot(X_test,y_poly4_pred,label = 'Grado 4', linewidth=3)\n",
        "plt.plot(X_test,ui,linestyle = 'dashed',color = 'r',label = 'Intervalos de Confianza')\n",
        "plt.plot(X_test,li,linestyle = 'dashed',color = 'r')\n",
        "\n",
        "plt.legend()\n",
        "plt.xlabel('Age')\n",
        "plt.ylabel('Wage')\n",
        "\n",
        "plt.ylim([0, 300])\n",
        "\n",
        "plt.show() "
      ],
      "execution_count": null,
      "outputs": [
        {
          "output_type": "display_data",
          "data": {
            "image/png": "[encoded data removed]",
            "text/plain": [
              "<Figure size 432x288 with 1 Axes>"
            ]
          },
          "metadata": {
            "tags": [],
            "needs_background": "light"
          }
        }
      ]
    },
    {
      "cell_type": "markdown",
      "metadata": {
        "id": "i9DaiB4gTc0N"
      },
      "source": [
        "En la gráfica anterior, la curva azul sólida es el resultado de ajustar un polinomio de grado 4 usando Regresión Polinomial, mientras que el par de curvas punteadas son las curvas de error estándar. "
      ]
    },
    {
      "cell_type": "markdown",
      "metadata": {
        "id": "9H55pGZ7fMCC"
      },
      "source": [
        "# Seleccionar el mejor modelo\n",
        "\n",
        "Para este ejemplo, usaremos un `pipeline` para encadenar las operaciones."
      ]
    },
    {
      "cell_type": "code",
      "metadata": {
        "id": "B-q7EmqVZ8xt"
      },
      "source": [
        "from sklearn.preprocessing import PolynomialFeatures\n",
        "from sklearn.linear_model import LinearRegression\n",
        "from sklearn.pipeline import make_pipeline\n",
        "\n",
        "def PolynomialRegression(degree=2, **kwargs):\n",
        "  return make_pipeline(PolynomialFeatures(degree),LinearRegression(**kwargs))"
      ],
      "execution_count": null,
      "outputs": []
    },
    {
      "cell_type": "code",
      "metadata": {
        "id": "O_by3htynRXT"
      },
      "source": [
        "# Define X and y\n",
        "\n",
        "import numpy as np\n",
        "\n",
        "def make_data(N, err=1.0, rseed=1):\n",
        "  # randomly sample the data\n",
        "  rng = np.random.RandomState(rseed)\n",
        "  X = rng.rand(N, 1) ** 2\n",
        "  y = 10 - 1. / (X.ravel() + 0.1)\n",
        "  if err > 0:\n",
        "    y += err * rng.randn(N)\n",
        "  return X, y\n",
        "  \n",
        "X, y = make_data(40)"
      ],
      "execution_count": null,
      "outputs": []
    },
    {
      "cell_type": "code",
      "metadata": {
        "colab": {
          "base_uri": "https://localhost:8080/",
          "height": 272
        },
        "id": "s6JYNxWefBkN",
        "outputId": "a6d97e59-d2fa-46d2-aeb6-5705c8395160"
      },
      "source": [
        "import matplotlib.pyplot as plt\n",
        "import seaborn; seaborn.set() # plot formatting\n",
        "\n",
        "X_test = np.linspace(-0.1, 1.1, 500)[:, None]\n",
        "\n",
        "plt.scatter(X.ravel(), y, facecolors='none', edgecolors='darkgray')\n",
        "axis = plt.axis()\n",
        "\n",
        "for degree in [1, 3, 5]:\n",
        "  y_test = PolynomialRegression(degree).fit(X, y).predict(X_test)\n",
        "  plt.plot(X_test.ravel(), y_test, label='Grado {0}'.format(degree))\n",
        "\n",
        "plt.xlim(-0.1, 1.0)\n",
        "plt.ylim(-2, 12)\n",
        "plt.legend(loc='best')\n",
        "plt.show()"
      ],
      "execution_count": null,
      "outputs": [
        {
          "output_type": "display_data",
          "data": {
            "image/png": "[encoded data removed]",
            "text/plain": [
              "<Figure size 432x288 with 1 Axes>"
            ]
          },
          "metadata": {
            "tags": []
          }
        }
      ]
    },
    {
      "cell_type": "markdown",
      "metadata": {
        "id": "SGPQc5U5pzXv"
      },
      "source": [
        "El grado del polinomio (entero no negativo) controla la complejidad del modelo. Una pregunta útil para responder es la siguiente: ¿qué grado de polinomio proporciona una compensación adecuada entre **bias** (desajuste) y **varianza** (sobreajuste)?"
      ]
    },
    {
      "cell_type": "code",
      "metadata": {
        "colab": {
          "base_uri": "https://localhost:8080/",
          "height": 289
        },
        "id": "Y4aRb0bEoaBi",
        "outputId": "ec9e5b8e-c4e6-4205-ac2d-7dc3fabf0a5e"
      },
      "source": [
        "# ========== Curva de validación del modelo ==========\n",
        "\n",
        "from sklearn.model_selection import validation_curve\n",
        "\n",
        "degree = np.arange(0, 21)\n",
        "\n",
        "train_score, val_score = validation_curve(PolynomialRegression(),       # modelo\n",
        "                                          X, y,                         # datos\n",
        "                                          'polynomialfeatures__degree', # nombre del parámetro\n",
        "                                          degree,                       # rango para explorar\n",
        "                                          cv=7                          # número de folds en KFold\n",
        "                                          )\n",
        "\n",
        "plt.plot(degree, np.median(train_score, 1), color='blue', label='Score del entrenamiento')\n",
        "plt.plot(degree, np.median(val_score, 1), color='red', label='Score de la validación')\n",
        "\n",
        "plt.legend(loc='best')\n",
        "plt.ylim(0, 1)\n",
        "plt.xlabel('Grado')\n",
        "plt.ylabel('Score')\n",
        "plt.xticks(degree)\n",
        "plt.show()"
      ],
      "execution_count": null,
      "outputs": [
        {
          "output_type": "display_data",
          "data": {
            "image/png": "[encoded data removed]",
            "text/plain": [
              "<Figure size 432x288 with 1 Axes>"
            ]
          },
          "metadata": {
            "tags": []
          }
        }
      ]
    },
    {
      "cell_type": "markdown",
      "metadata": {
        "id": "JlJMS2Alq5js"
      },
      "source": [
        "Esto muestra precisamente el comportamiento cualitativo que esperamos: \n",
        "\n",
        "1. El score del entrenamiento es siempre superior al score de la validación.\n",
        "2. El score del entrenamiento mejora monótonamente con una mayor complejidad del modelo\n",
        "3. El score de la validación alcanza un máximo antes de caer cuando el modelo se sobreajusta.\n",
        "\n",
        "A partir de esta Curva de validación, se puede leer que el equilibrio óptimo entre **bias** y **varianza** se encuentra para un polinomio de 3er orden."
      ]
    },
    {
      "cell_type": "code",
      "metadata": {
        "colab": {
          "base_uri": "https://localhost:8080/",
          "height": 268
        },
        "id": "pPXXda1xoZ0j",
        "outputId": "7fefcee9-e170-4401-d933-afbc4614d9c3"
      },
      "source": [
        "plt.scatter(X.ravel(), y, facecolors='none', edgecolors='darkgray')\n",
        "lim = plt.axis()\n",
        "y_test = PolynomialRegression(3).fit(X, y).predict(X_test)\n",
        "plt.plot(X_test.ravel(), y_test, color='orange', linewidth = 3)\n",
        "plt.axis(lim)\n",
        "plt.show()"
      ],
      "execution_count": null,
      "outputs": [
        {
          "output_type": "display_data",
          "data": {
            "image/png": "[encoded data removed]",
            "text/plain": [
              "<Figure size 432x288 with 1 Axes>"
            ]
          },
          "metadata": {
            "tags": []
          }
        }
      ]
    },
    {
      "cell_type": "markdown",
      "metadata": {
        "id": "Vq2Bl-ULtXtE"
      },
      "source": [
        "# Validación en la práctica: Grid Search\n",
        "\n",
        "En la práctica, los modelos generalmente dependen de más hiperparámetros y, por lo tanto, los gráficos de las curvas de validación y aprendizaje cambian de líneas a superficies multidimensionales. En estos casos, tales visualizaciones son difíciles y preferimos simplemente encontrar el modelo particular que maximiza la puntuación de validación.\n",
        "\n",
        "Exploraremos una cuadrícula tridimensional de características del modelo:\n",
        "\n",
        "- el grado del polinomio\n",
        "- el flag que nos dice si debemos ajustar la intersección \n",
        "- el flag que nos dice si debemos normalizar el problema"
      ]
    },
    {
      "cell_type": "code",
      "metadata": {
        "id": "GNSrEb36tGMy"
      },
      "source": [
        "from sklearn.model_selection import GridSearchCV\n",
        "\n",
        "param_grid = {'polynomialfeatures__degree': np.arange(21),\n",
        "              'linearregression__fit_intercept': [True, False],\n",
        "              'linearregression__normalize': [True, False]}\n",
        "grid = GridSearchCV(PolynomialRegression(), param_grid, cv=7)"
      ],
      "execution_count": null,
      "outputs": []
    },
    {
      "cell_type": "code",
      "metadata": {
        "id": "fmZdV118twRF"
      },
      "source": [
        "grid.fit(X, y);"
      ],
      "execution_count": null,
      "outputs": []
    },
    {
      "cell_type": "markdown",
      "metadata": {
        "id": "ti3X6RRbt3hZ"
      },
      "source": [
        "Ahora podemos solicitar los mejores parámetros de la siguiente manera:"
      ]
    },
    {
      "cell_type": "code",
      "metadata": {
        "colab": {
          "base_uri": "https://localhost:8080/"
        },
        "id": "xqKO950zt2ml",
        "outputId": "2e9efd15-a6a1-4586-e79e-32f79df4dc58"
      },
      "source": [
        "grid.best_params_"
      ],
      "execution_count": null,
      "outputs": [
        {
          "output_type": "execute_result",
          "data": {
            "text/plain": [
              "{'linearregression__fit_intercept': False,\n",
              " 'linearregression__normalize': True,\n",
              " 'polynomialfeatures__degree': 4}"
            ]
          },
          "metadata": {
            "tags": []
          },
          "execution_count": 49
        }
      ]
    },
    {
      "cell_type": "markdown",
      "metadata": {
        "id": "lZv-yfHkt8Mg"
      },
      "source": [
        "Finalmente, si lo deseamos, podemos usar el mejor modelo y mostrar el ajuste a nuestros datos."
      ]
    },
    {
      "cell_type": "code",
      "metadata": {
        "colab": {
          "base_uri": "https://localhost:8080/",
          "height": 268
        },
        "id": "I6_ISo8HuBKN",
        "outputId": "04f2050e-5fdd-42f1-fc02-2791f2aecceb"
      },
      "source": [
        "model = grid.best_estimator_\n",
        "plt.scatter(X.ravel(), y, facecolors='none', edgecolors='darkgray')\n",
        "lim = plt.axis()\n",
        "y_test = model.fit(X, y).predict(X_test)\n",
        "plt.plot(X_test.ravel(), y_test, color='red', linewidth = 3)\n",
        "plt.axis(lim)\n",
        "plt.show()"
      ],
      "execution_count": null,
      "outputs": [
        {
          "output_type": "display_data",
          "data": {
            "image/png": "[encoded data removed]",
            "text/plain": [
              "<Figure size 432x288 with 1 Axes>"
            ]
          },
          "metadata": {
            "tags": []
          }
        }
      ]
    },
    {
      "cell_type": "markdown",
      "metadata": {
        "id": "OGgdOoZeR3eq"
      },
      "source": [
        "# Referencias\n",
        "\n",
        "[1] James, G., Witten, D., Hastie, T., and Tibshirani, R. (2013). *An Introduction to Statistical Learning with Applications in R.* Springer Texts in Statistics. Springer.\n",
        "\n",
        "[2] VanderPlas, J. (2016) *Python Data Science Handbook. Essential Tools for Working with Data.* O'Reilly Media."
      ]
    }
  ]
}