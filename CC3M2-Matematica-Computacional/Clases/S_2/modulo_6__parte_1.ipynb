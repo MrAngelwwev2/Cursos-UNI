{
  "nbformat": 4,
  "nbformat_minor": 0,
  "metadata": {
    "colab": {
      "name": "modulo_6__parte-1.ipynb",
      "provenance": [],
      "collapsed_sections": [
        "2fmmJuchlCQX",
        "zzEsiNHJxwid",
        "t8bMrveTzIZI",
        "ejE8gh711cJK",
        "aEgViyIe2CYn",
        "vsERN_HE2u8v",
        "J57ECQr93m3v",
        "H7O1Jlvm4eoq",
        "HwUwLk3w6Y_1",
        "BCXBKVNo5A9i",
        "qX-5AI4X0xQf",
        "xJ--xIok7g3o",
        "xOuTqoXe8dGr",
        "HKuc1RTA_s-d",
        "C9v1gqZnla_7",
        "lx_4pFMIlnGD",
        "vzAjZRk4FnV3",
        "NcEhaL8MINCA",
        "aA-UbnuOlng1",
        "Vei78AQplrpZ",
        "KLd6iL7KOIUa",
        "dcnjUJl_QmmV",
        "t_KseBznQ-kG",
        "8ga-UwwLlsEp",
        "-vflQKB5l7LL",
        "5XEPEVwYUIyU",
        "4oJD4A7CVXuL",
        "_M0O1dOzV_j7",
        "DjBg3C8dXqff",
        "Ij3PNsdTqdU1",
        "bi9F0TuMvvSf",
        "m70YzlG_yimC",
        "fkX5bNrD28-o",
        "7KYFWB-p4sht"
      ],
      "toc_visible": true
    },
    "kernelspec": {
      "name": "python3",
      "display_name": "Python 3"
    }
  },
  "cells": [
    {
      "cell_type": "markdown",
      "metadata": {
        "id": "U0jSZ9qGku-b"
      },
      "source": [
        "# Módulo 6:\n",
        "## El Enfoque Orientado a Objetos: clases, métodos, objetos y sus características estándar: manejo de excepciones y trabajando con archivos."
      ]
    },
    {
      "cell_type": "markdown",
      "metadata": {
        "id": "O1zSSPmhkux0"
      },
      "source": [
        "En este módulo, aprenderás sobre:\n",
        "\n",
        "- Los fundamentos y enfoque de programación orientada a objetos.\n",
        "- Clases, métodos y objetos.\n",
        "- Manejo de excepciones.\n",
        "- Manejo de archivos."
      ]
    },
    {
      "cell_type": "markdown",
      "metadata": {
        "id": "2fmmJuchlCQX"
      },
      "source": [
        "## 6.1 Fundamentos de la POO"
      ]
    },
    {
      "cell_type": "markdown",
      "metadata": {
        "id": "9zuxVp3AlFAj"
      },
      "source": [
        "Casi todos los programas y técnicas que has utilizado hasta ahora pertenecen al estilo de programación procedimental. Es cierto que has utilizado algunos objetos incorporados, pero cuando nos referimos a ellos, se mencionan lo mínimo posible.\n",
        "\n",
        "La programación procedimental fue el enfoque dominante para el desarrollo de software durante décadas de TI, y todavía se usa en la actualidad. Además, no va a desaparecer en el futuro, ya que funciona muy bien para proyectos específicos (en general, no muy complejos y no grandes, pero existen muchas excepciones a esa regla).\n",
        "\n",
        "El enfoque orientado a objetos es bastante joven (mucho más joven que el enfoque procedimental) y es particularmente útil cuando se aplica a proyectos grandes y complejos llevados a cabo por grandes equipos formados por muchos desarrolladores.\n",
        "\n",
        "Este tipo de programación en un proyecto facilita muchas tareas importantes, por ejemplo, dividir el proyecto en partes pequeñas e independientes y el desarrollo independiente de diferentes elementos del proyecto.\n",
        "\n",
        "**Python es una herramienta universal para la programación procedimental y orientada a objetos**. Se puede utilizar con éxito en ambas.\n",
        "\n",
        "Además, puedes crear muchas aplicaciones útiles, incluso si no se sabe nada sobre clases y objetos, pero debes tener en cuenta que algunos de los problemas (por ejemplo, el manejo de la interfaz gráfica de usuario) puede requerir un enfoque estricto de objetos."
      ]
    },
    {
      "cell_type": "markdown",
      "metadata": {
        "id": "zzEsiNHJxwid"
      },
      "source": [
        "### Enfoque procedimental versus el enfoque orientado a objetos "
      ]
    },
    {
      "cell_type": "markdown",
      "metadata": {
        "id": "vuhAnGrSxzWe"
      },
      "source": [
        "En el **enfoque procedimental**, es posible distinguir dos mundos diferentes y completamente separados: **el mundo de los datos y el mundo del código**. El mundo de los datos está poblado con variables de diferentes tipos, mientras que el mundo del código está habitado por códigos agrupados en módulos y funciones.\n",
        "\n",
        "Las funciones pueden usar datos, pero no al revés. Además, las funciones pueden abusar de los datos, es decir, usar el valor de manera no autorizada (por ejemplo, cuando la función seno recibe el saldo de una cuenta bancaria como parámetro).\n",
        "\n",
        "Los datos no pueden usar funciones. ¿Pero es esto completamente cierto? ¿Hay algunos tipos especiales de datos que pueden usar funciones?\n",
        "\n",
        "Sí, los hay, los llamados métodos. Estas son funciones que se invocan desde dentro de los datos, no junto con ellos. Si puedes ver esta distinción, has dado el primer paso en la programación de objetos.\n",
        "\n",
        "El **enfoque orientado a objetos** sugiere una forma de pensar completamente diferente. Los datos y el código están encapsulados juntos en el mismo mundo, divididos en clases.\n",
        "\n",
        "Cada **clase es como una receta que se puede usar cuando quieres crear un objeto útil**. Puedes producir tantos objetos como necesites para resolver tu problema.\n",
        "\n",
        "Cada objeto tiene un conjunto de rasgos (se denominan propiedades o atributos; usaremos ambas palabras como sinónimos) y es capaz de realizar un conjunto de actividades (que se denominan métodos).\n",
        "\n",
        "Las recetas pueden modificarse si son inadecuadas para fines específicos y, en efecto, pueden crearse nuevas clases. Estas nuevas clases heredan propiedades y métodos de los originales, y generalmente agregan algunos nuevos, creando nuevas herramientas más específicas.\n",
        "\n",
        "**Los objetos son encarnaciones** de las ideas expresadas en clases, como un pastel de queso en tu plato, es una encarnación de la idea expresada en una receta impresa en un viejo libro de cocina.\n",
        "\n",
        "Los objetos interactúan entre sí, intercambian datos o activan sus métodos. Una clase construida adecuadamente (y, por lo tanto, sus objetos) puede proteger los datos sensibles y ocultarlos de modificaciones no autorizadas.\n",
        "\n",
        "No existe un límite claro entre los datos y el código: viven como uno solo dentro de los objetos.\n",
        "\n",
        "Todos estos conceptos no son tan abstractos como pudieras pensar al principio. Por el contrario, todos están tomados de experiencias de la vida real y, por lo tanto, son extremadamente útiles en la programación de computadoras: no crean vida artificial **reflejan hechos reales, relaciones y circunstancias**."
      ]
    },
    {
      "cell_type": "markdown",
      "metadata": {
        "id": "t8bMrveTzIZI"
      },
      "source": [
        "### Jerarquías de clase"
      ]
    },
    {
      "cell_type": "markdown",
      "metadata": {
        "id": "U2KHSkYczLg5"
      },
      "source": [
        "La palabra clases tiene muchos significados, pero no todos son compatibles con las ideas que queremos discutir aquí. La clase que nos concierne es como una categoría, como resultado de similitudes definidas con precisión.\n",
        "\n",
        "Intentaremos señalar algunas clases que son buenos ejemplos de este concepto.\n",
        "\n",
        "Veamos por un momento los vehículos. Todos los vehículos existentes (y los que aún no existen) están **relacionados por una sola característica importante**: la capacidad de moverse. Puedes argumentar que un perro también se mueve; ¿Es un perro un vehículo? No lo es. Tenemos que mejorar la definición, es decir, enriquecerla con otros criterios, distinguir los vehículos de otros seres y crear una conexión más fuerte. Consideremos las siguientes circunstancias: los vehículos son entidades creadas artificialmente que se utilizan para el transporte, movidos por fuerzas de la naturaleza y dirigidos (conducidos) por humanos.\n",
        "\n",
        "Según esta definición, un perro no es un vehículo.\n",
        "\n",
        "La clase vehículos es muy amplia. Tenemos que definir clases **especializadas**. Las clases especializadas son las **subclases**. La clase vehículos será una **superclase** para todas ellas.\n",
        "\n",
        "N.B.: **la jerarquía crece de arriba hacia abajo, como raíces de árboles, no ramas**. La clase más general y más amplia siempre está en la parte superior (la superclase) mientras que sus descendientes se encuentran abajo (las subclases).\n",
        "\n",
        "A estas alturas, probablemente puedas señalar algunas subclases potenciales para la superclase Vehículos. Hay muchas clasificaciones posibles. Elegimos subclases basadas en el medio ambiente y decimos que hay (al menos) cuatro subclases:\n",
        "\n",
        "- Vehículos Terrestres.\n",
        "- Vehículos Acuáticos.\n",
        "- Vehículos Aéreos.\n",
        "- Vehículos Espaciales.\n",
        "\n",
        "En este ejemplo, discutiremos solo la primera subclase: vehículos terrestres. Si lo deseas, puedes continuar con las clases restantes.\n",
        "\n",
        "Los vehículos terrestres pueden dividirse aún más, según el método con el que impactan el suelo. Entonces, podemos enumerar:\n",
        "\n",
        "- Vehículos de ruedas.\n",
        "- Vehículos oruga.\n",
        "- Aerodeslizadores.\n",
        "\n",
        "La figura ilustra la jerarquía que hemos creado.\n",
        "\n",
        "Ten en cuenta la dirección de las flechas: siempre apuntan a la superclase. La clase de nivel superior es una excepción: no tiene su propia superclase.\n",
        "\n",
        "Otro ejemplo es la jerarquía del reino taxonómico de los animales.\n",
        "\n",
        "Podemos decir que todos los animales (nuestra clase de nivel superior) se puede dividir en cinco subclases:\n",
        "\n",
        "- Mamíferos.\n",
        "- Reptiles.\n",
        "- Pájaros.\n",
        "- Peces.\n",
        "- Anfibios.\n",
        "\n",
        "Tomaremos el primero para un análisis más detallado. Hemos identificado las siguientes subclases:\n",
        "\n",
        "- Mamíferos salvajes.\n",
        "- Mamíferos domesticados.\n",
        "\n",
        "Intenta extender la jerarquía de la forma que quieras y encuentra el lugar adecuado para los humanos."
      ]
    },
    {
      "cell_type": "markdown",
      "metadata": {
        "id": "ejE8gh711cJK"
      },
      "source": [
        "### ¿Qué es un objeto?"
      ]
    },
    {
      "cell_type": "markdown",
      "metadata": {
        "id": "PMCoczXW1e93"
      },
      "source": [
        "Una clase (entre otras definiciones) es un **conjunto de objetos**. Un objeto es **un ser perteneciente a una clase**.\n",
        "\n",
        "**Un objeto es una encarnación de los requisitos, rasgos y cualidades asignados a una clase específica**. Esto puede sonar simple, pero ten en cuenta las siguientes circunstancias importantes. Las clases forman una jerarquía. Esto puede significar que un objeto que pertenece a una clase específica pertenece a todas las superclases al mismo tiempo. También puede significar que cualquier objeto perteneciente a una superclase puede no pertenecer a ninguna de sus subclases.\n",
        "\n",
        "Por ejemplo: cualquier automóvil personal es un objeto que pertenece a la clase vehículos terrestres. También significa que el mismo automóvil pertenece a todas las superclases de su clase local; por lo tanto, también es miembro de la clase vehículos. Tu perro (o tu gato) es un objeto incluido en la clase Mamíferos domesticados, lo que significa explícitamente que también está incluido en la clase animales.\n",
        "\n",
        "Cada **subclase es más especializada** (o más específica) que su superclase. Por el contrario, cada **superclase es más general** (más abstracta) que cualquiera de sus subclases. Ten en cuenta que hemos supuesto que una clase solo puede tener una superclase; esto no siempre es cierto, pero discutiremos este tema más adelante."
      ]
    },
    {
      "cell_type": "markdown",
      "metadata": {
        "id": "aEgViyIe2CYn"
      },
      "source": [
        "### Herencia"
      ]
    },
    {
      "cell_type": "markdown",
      "metadata": {
        "id": "Vv_OD8oy2ELD"
      },
      "source": [
        "Definamos uno de los conceptos fundamentales de la programación de objetos, llamado **herencia**. Cualquier objeto vinculado a un nivel específico de una jerarquía de clases **hereda todos los rasgos (así como los requisitos y cualidades) definidos dentro de cualquiera de las superclases**.\n",
        "\n",
        "La clase de inicio del objeto puede definir nuevos rasgos (así como requisitos y cualidades) que serán heredados por cualquiera de sus superclases."
      ]
    },
    {
      "cell_type": "markdown",
      "metadata": {
        "id": "vsERN_HE2u8v"
      },
      "source": [
        "### ¿Qué contiene un objeto?"
      ]
    },
    {
      "cell_type": "markdown",
      "metadata": {
        "id": "j8jpXwZD2whD"
      },
      "source": [
        "La programación orientada a objetos supone que **cada objeto existente puede estar equipado con tres grupos de atributos**:\n",
        "\n",
        "- Un objeto tiene un **nombre** que lo identifica de forma exclusiva dentro de su namespace (aunque también puede haber algunos objetos anónimos).\n",
        "- Un objeto tiene un **conjunto de propiedades individuales** que lo hacen original, único o sobresaliente (aunque es posible que algunos objetos no tengan propiedades).\n",
        "- Un objeto tiene un c**onjunto de habilidades para realizar actividades específicas**, capaz de cambiar el objeto en sí, o algunos de los otros objetos.\n",
        "\n",
        "Hay una pista (aunque esto no siempre funciona) que te puede ayudar a identificar cualquiera de las tres esferas anteriores. Cada vez que se describe un objeto y se usa:\n",
        "\n",
        "- Un sustantivo: probablemente se este definiendo el nombre del objeto.\n",
        "- Un adjetivo: probablemente se este definiendo una propiedad del objeto.\n",
        "- Un verbo: probablemente se este definiendo una actividad del objeto.\n",
        "\n",
        "Ejemplos:\n",
        "\n",
        "- Max es un gato grande que duerme todo el día.\n",
        "\n",
        "Nombre del objeto = Max;\n",
        "Clase de inicio = Gato;\n",
        "Propiedad = Tamaño (grande);\n",
        "Actividad = Dormir (todo el día)\n",
        "\n",
        "- Un Cadillac rosa pasó rápidamente.\n",
        "\n",
        "Nombre del objeto = Cadillac;\n",
        "Clase de inicio = Vehículo terrestre;\n",
        "Propiedad = Color (rosa);\n",
        "Actividad = Pasar (rápidamente);"
      ]
    },
    {
      "cell_type": "markdown",
      "metadata": {
        "id": "J57ECQr93m3v"
      },
      "source": [
        "### Tu primera clase"
      ]
    },
    {
      "cell_type": "markdown",
      "metadata": {
        "id": "k-BbKjT_3qKk"
      },
      "source": [
        "La programación orientada a objetos es **el arte de definir y expandir clases**. Una clase es un modelo de una parte muy específica de la realidad, que refleja las propiedades y actividades que se encuentran en el mundo real.\n",
        "\n",
        "Las clases definidas al principio son demasiado generales e imprecisas para cubrir el mayor número posible de casos reales.\n",
        "\n",
        "No hay obstáculo para definir nuevas subclases más precisas. Heredarán todo de su superclase, por lo que el trabajo que se utilizó para su creación no se desperdicia.\n",
        "\n",
        "La nueva clase puede agregar nuevas propiedades y nuevas actividades y, por lo tanto, puede ser más útil en aplicaciones específicas. Obviamente, se puede usar como una superclase para cualquier número de subclases recién creadas.\n",
        "\n",
        "El proceso no necesita tener un final. Puedes crear tantas clases como necesites.\n",
        "\n",
        "La clase que se define no tiene nada que ver con el objeto: **la existencia de una clase no significa que ninguno de los objetos compatibles se creará automáticamente**. La clase en sí misma no puede crear un objeto: debes crearlo tu mismo y Python te permite hacerlo.\n",
        "\n",
        "Es hora de definir la clase más simple y crear un objeto. Echa un vistazo al siguiente ejemplo:"
      ]
    },
    {
      "cell_type": "code",
      "metadata": {
        "id": "XqW61nIj35Q2",
        "colab": {
          "base_uri": "https://localhost:8080/"
        },
        "outputId": "d024f572-56d2-4be2-821e-d98c114fdb26"
      },
      "source": [
        "class ClaseSimple:\n",
        "    pass\n",
        "print('hola')"
      ],
      "execution_count": null,
      "outputs": [
        {
          "output_type": "stream",
          "text": [
            "hola\n"
          ],
          "name": "stdout"
        }
      ]
    },
    {
      "cell_type": "markdown",
      "metadata": {
        "id": "cvwun8jO38e7"
      },
      "source": [
        "Hemos definido una clase. La clase es bastante pobre: no contiene propiedades ni actividades. Esta **vacía**, pero eso no importa por ahora. Cuanto más simple sea la clase, mejor para nuestros propósitos.\n",
        "\n",
        "**La definición comienza con la palabra clave reservada** `class`. La palabra clave reservada es seguida por un **identificador que nombrará la clase** (nota: no lo confundas con el nombre del objeto: estas son dos cosas diferentes).\n",
        "\n",
        "A continuación, se agregan **dos puntos**:), como clases, como funciones, forman su propio bloque anidado. El contenido dentro del bloque define todas las propiedades y actividades de la clase.\n",
        "\n",
        "La palabra clave reservada `pass` llena la clase con nada. No contiene ningún método ni propiedades."
      ]
    },
    {
      "cell_type": "markdown",
      "metadata": {
        "id": "H7O1Jlvm4eoq"
      },
      "source": [
        "### Tu primer objeto"
      ]
    },
    {
      "cell_type": "markdown",
      "metadata": {
        "id": "Pi6W6fmp4gDN"
      },
      "source": [
        "La clase recién definida se convierte en una herramienta que puede crear nuevos objetos. La herramienta debe usarse explícitamente, bajo demanda.\n",
        "\n",
        "Imagina que deseas crear un objeto (exactamente uno) de la clase `ClaseSimple`.\n",
        "\n",
        "Para hacer esto, debes asignar una variable para almacenar el objeto recién creado de esa clase y crear un objeto al mismo tiempo.\n",
        "\n",
        "Se hace de la siguiente manera: `miPrimerObjeto = ClaseSimple()`\n",
        "\n",
        "Nota:\n",
        "\n",
        "- El nombre de la clase intenta fingir que es una función, ¿puedes ver esto? Lo discutiremos pronto.\n",
        "- El objeto recién creado está equipado con todo lo que trae la clase; como esta clase está completamente vacía, el objeto también está vacío.\n",
        "El acto de crear un objeto de la clase seleccionada también se llama **instanciación** (ya que el objeto se convierte en una **instancia de la clase**).\n",
        "\n",
        "Dejemos las clases en paz por un breve momento, ya que ahora diremos algunas palabras sobre pilas. Sabemos que el concepto de clases y objetos puede no estar completamente claro todavía. No te preocupes, te explicaremos todo muy pronto."
      ]
    },
    {
      "cell_type": "markdown",
      "metadata": {
        "id": "HwUwLk3w6Y_1"
      },
      "source": [
        "## 6.2 Desde el enfoque procedimental hasta el enfoque OO"
      ]
    },
    {
      "cell_type": "markdown",
      "metadata": {
        "id": "BCXBKVNo5A9i"
      },
      "source": [
        "### ¿Qué es una pila?"
      ]
    },
    {
      "cell_type": "markdown",
      "metadata": {
        "id": "UOrUoq585CZu"
      },
      "source": [
        "**Una pila es una estructura desarrollada para almacenar datos de una manera muy específica**. Imagina una pila de monedas. No puedes poner una moneda en ningún otro lugar sino en la parte superior de la pila. Del mismo modo, no puedes sacar una moneda de la pila desde ningún lugar que no sea la parte superior de la pila. Si deseas obtener la moneda que se encuentra en la parte inferior, debes eliminar todas las monedas de los niveles superiores.\n",
        "\n",
        "El nombre alternativo para una pila (pero solo en la terminología de TI) es **UEPS (LIFO son sus siglas en íngles)**. Es una abreviatura para una descripción muy clara del comportamiento de la pila: **Último en Entrar - Primero en Salir (Last In - First Out)**. La moneda que quedó en último lugar en la pila saldrá primero.\n",
        "\n",
        "**Una pila es un objeto** con dos operaciones elementales, denominadas convencionalmente **push** (cuando un nuevo elemento se coloca en la parte superior) y **pop** (cuando un elemento existente se retira de la parte superior).\n",
        "\n",
        "Las pilas se usan muy a menudo en muchos algoritmos clásicos, y es difícil imaginar la implementación de muchas herramientas ampliamente utilizadas sin el uso de pilas.\n",
        "\n",
        "Implementemos una pila en Python. Esta será una pila muy simple, y te mostraremos cómo hacerlo en dos enfoques independientes: de manera procedimental y orientado a objetos.\n",
        "\n",
        "Comencemos con el primero."
      ]
    },
    {
      "cell_type": "markdown",
      "metadata": {
        "id": "qX-5AI4X0xQf"
      },
      "source": [
        "### La pila: el enfoque procedimental"
      ]
    },
    {
      "cell_type": "markdown",
      "metadata": {
        "id": "hfFZ5z5u6ghu"
      },
      "source": [
        "Primero, debes decidir cómo almacenar los valores que llegarán a la pila. Sugerimos utilizar el método más simple, y **emplear una lista** para esta tarea. Supongamos que el tamaño de la pila no está limitado de ninguna manera. Supongamos también que el último elemento de la lista almacena el elemento superior.\n",
        "\n",
        "La pila en sí ya está creada: `pila = []`\n",
        "\n",
        "Estamos listos para **definir una función que pone un valor en la pila**. Aquí están las presuposiciones para ello:\n",
        "\n",
        "- El nombre para la función es `push`.\n",
        "- La función obtiene un parámetro (este es el valor que se debe colocar en la pila).\n",
        "- La función no devuelve nada.\n",
        "- La función agrega el valor del parámetro al final de la pila.\n",
        "\n",
        "Ahora es tiempo de que una **función quite un valor de la pila**. Así es como puedes hacerlo:\n",
        "\n",
        "- El nombre de la función es `pop`.\n",
        "- La función no obtiene ningún parámetro.\n",
        "- La función devuelve el valor tomado de la pila.\n",
        "- La función lee el valor de la parte superior de la pila y lo elimina.\n",
        "\n",
        "N.B.: la función no verifica si hay algún elemento en la pila.\n",
        "\n",
        "Armemos todas las piezas juntas para poner la pila en movimiento. El programa completo empuja (push) tres números a la pila, los saca e imprime sus valores en pantalla. Puedes verlo en la ventana del editor.\n",
        "\n",
        "El programa muestra el siguiente texto en pantalla:"
      ]
    },
    {
      "cell_type": "code",
      "metadata": {
        "id": "VKkXE4wF7ZAL",
        "colab": {
          "base_uri": "https://localhost:8080/"
        },
        "outputId": "d1d6af4b-3c8e-4c30-942d-cca3c3d76580"
      },
      "source": [
        "pila = []\n",
        "\n",
        "def push(val):\n",
        "    pila.append(val)\n",
        "\n",
        "def pop():\n",
        "    val = pila[-1]\n",
        "    del pila[-1]\n",
        "    return val\n",
        "\n",
        "push(3)\n",
        "push(2)\n",
        "push(1)\n",
        "\n",
        "print(pop())\n",
        "print(pop())\n",
        "print(pop())"
      ],
      "execution_count": null,
      "outputs": [
        {
          "output_type": "stream",
          "text": [
            "1\n",
            "2\n",
            "3\n"
          ],
          "name": "stdout"
        }
      ]
    },
    {
      "cell_type": "markdown",
      "metadata": {
        "id": "xJ--xIok7g3o"
      },
      "source": [
        "### La pila: el enfoque procedimental frente al enfoque orientado a objetos"
      ]
    },
    {
      "cell_type": "markdown",
      "metadata": {
        "id": "rPc-r0pl7iU-"
      },
      "source": [
        "La pila procedimental está lista. Por supuesto, hay algunas debilidades, y la implementación podría mejorarse de muchas maneras (aprovechar las excepciones es una buena idea), pero en general la pila está completamente implementada, y puedes usarla si lo necesitas.\n",
        "\n",
        "Pero cuanto más la uses, más desventajas encontrarás. Éstas son algunas de ellas:\n",
        "\n",
        "- La variable esencial (la lista de la pila) es altamente **vulnerable**; cualquiera puede modificarla de forma incontrolable, destruyendo la pila; esto no significa que se haya hecho de manera maliciosa; por el contrario, puede ocurrir como resultado de un descuido, por ejemplo, cuando alguien confunde nombres de variables; imagina que accidentalmente has escrito algo como esto: `pila[0] = 0`. El funcionamiento de la pila estará completamente desorganizado.\n",
        "- También puede suceder que un día necesites más de una pila; tendrás que crear otra lista para el almacenamiento de la pila, y probablemente otras funciones `push` y `pop`.\n",
        "- También puede suceder que no solo necesites funciones `push` y `pop`, sino también algunas otras funciones; ciertamente podrías implementarlas, pero intenta imaginar qué sucedería si tuvieras docenas de pilas implementadas por separado.\n",
        "\n",
        "El enfoque orientado a objetos ofrece soluciones para cada uno de los problemas anteriores. Vamos a nombrarlos primero:\n",
        "\n",
        "- La capacidad de ocultar (proteger) los valores seleccionados contra el acceso no autorizado se llama **encapsulamiento**; **no se puede acceder a los valores encapsulados ni modificarlos si deseas utilizarlos exclusivamente**.\n",
        "- Cuando tienes una clase que implementa todos los comportamientos de pila necesarios, puedes producir tantas pilas como desees; no necesitas copiar ni replicar ninguna parte del código.\n",
        "- La capacidad de enriquecer la pila con nuevas funciones proviene de la herencia; puedes crear una nueva clase (una subclase) que herede todos los rasgos existentes de la superclase y agregue algunos nuevos.\n",
        "\n",
        "Ahora escribamos una nueva implementación de pila desde cero. Esta vez, utilizaremos el enfoque orientado a objetos, que te guiará paso a paso en el mundo de la programación de objetos."
      ]
    },
    {
      "cell_type": "markdown",
      "metadata": {
        "id": "xOuTqoXe8dGr"
      },
      "source": [
        "### La pila: el enfoque orientado a objetos"
      ]
    },
    {
      "cell_type": "markdown",
      "metadata": {
        "id": "IkNFwJVd8epo"
      },
      "source": [
        "Por supuesto, la idea principal sigue siendo la misma. Usaremos una lista como almacenamiento de la pila. Solo tenemos que saber cómo poner la lista en la clase.\n",
        "\n",
        "Comencemos desde el principio: así es como comienza la pila de orientada a objetos: `class Pila:`\n",
        "\n",
        "Ahora, esperamos dos cosas de la clase:\n",
        "\n",
        "- Queremos que la clase tenga **una propiedad como el almacenamiento de la pila**, tenemos que **\"instalar\" una lista dentro de cada objeto de la clase** (nota: cada objeto debe tener su propia lista; la lista no debe compartirse entre diferentes pilas).\n",
        "- Despues, queremos **que la lista esté oculta** de la vista de los usuarios de la clase.\n",
        "\n",
        "¿Cómo se hace esto?\n",
        "\n",
        "A diferencia de otros lenguajes de programación, Python no tiene medios para permitirte declarar una propiedad como esa.\n",
        "\n",
        "En su lugar, debes agregar una instrucción específica. Las propiedades deben agregarse a la clase manualmente.\n",
        "\n",
        "¿Cómo garantizar que dicha actividad tiene lugar cada vez que se crea una nueva pila?\n",
        "\n",
        "Hay una manera simple de hacerlo - tienes que **equipar a la clase con una función específica**:\n",
        "\n",
        "- Tiene que ser nombrada de forma estricta.\n",
        "- Se invoca implícitamente cuando se crea el nuevo objeto.\n",
        "\n",
        "Tal función es llamada el **constructor**, ya que su propósito general es **construir un nuevo objeto**. El constructor debe saber todo acerca de la estructura del objeto y debe realizar todas las inicializaciones necesarias.\n",
        "\n",
        "Agreguemos un constructor muy simple a la nueva clase. Echa un vistazo al código:\n",
        "\n",
        "Expliquemos más a detalle:\n",
        "\n",
        "- El nombre del constructor es siempre `__init__`.\n",
        "- Tiene que tener **al menos un parámetro** (discutiremos esto más tarde); el parámetro se usa para representar el objeto recién creado: puedes usar el parámetro para manipular el objeto y enriquecerlo con las propiedades necesarias; harás uso de esto pronto.\n",
        "- Nota: el parámetro obligatorio generalmente se denomina `self` - es solo **una sugerencía, pero deberías seguirla** - simplifica el proceso de lectura y comprensión de tu código."
      ]
    },
    {
      "cell_type": "code",
      "metadata": {
        "id": "xIKINJrV97NS",
        "colab": {
          "base_uri": "https://localhost:8080/"
        },
        "outputId": "2a2f2bac-8250-4e46-98a2-c54153e21ba6"
      },
      "source": [
        "class Pila:    # define la clase Pila\n",
        "    def __init__(self):    # define la función del constructor\n",
        "        print(\"¡Hola!\")\n",
        "\n",
        "objetoPila = Pila()    # instanciando el objeto"
      ],
      "execution_count": null,
      "outputs": [
        {
          "output_type": "stream",
          "text": [
            "¡Hola!\n"
          ],
          "name": "stdout"
        }
      ]
    },
    {
      "cell_type": "markdown",
      "metadata": {
        "id": "VZr9m5qR-DTp"
      },
      "source": [
        "N.B.: no hay rastro de la invocación del constructor dentro del código. Ha sido invocado implícita y automáticamente. Hagamos uso de eso ahora.\n",
        "\n",
        "Cualquier cambio que realices dentro del constructor que modifique el estado del parámetro `self` se verá reflejado en el objeto recien creado.\n",
        "\n",
        "Esto significa que puedes agregar cualquier propiedad al objeto y la propiedad permanecerá allí hasta que el objeto termine su vida o la propiedad se elimine explícitamente.\n",
        "\n",
        "Ahora **agreguemos solo una propiedad al nuevo objeto** - una lista para la pila. La nombraremos `listaPila`.\n",
        "\n",
        "Justo como aqui:"
      ]
    },
    {
      "cell_type": "code",
      "metadata": {
        "id": "gy_G6Zbw-YRg",
        "colab": {
          "base_uri": "https://localhost:8080/",
          "height": 34
        },
        "outputId": "c2b69b9a-1245-4e9c-a76a-dab5906726b1"
      },
      "source": [
        "class Pila:\n",
        "    def __init__(self):\n",
        "        self.listaPila = []\n",
        "\n",
        "objetoPila = Pila()\n",
        "print(len(objetoPila.listaPila))"
      ],
      "execution_count": null,
      "outputs": [
        {
          "output_type": "stream",
          "text": [
            "0\n"
          ],
          "name": "stdout"
        }
      ]
    },
    {
      "cell_type": "markdown",
      "metadata": {
        "id": "SpVz-UYO-Z0D"
      },
      "source": [
        "N.B.:\n",
        "\n",
        "- Hemos usado la **notación punteada**, al igual que cuando se invocan métodos. Esta es la manera general para acceder a las propiedades de un objeto: debes nombrar el objeto, poner un punto (`.`) después de él, y especificar el nombre de la propiedad deseada, ¡no uses paréntesis! No deseas invocar un método, deseas **acceder a una propiedad**.\n",
        "- Si estableces el valor de una propiedad por primera vez (como en el constructor), lo estás creando; a partir de ese momento, el objeto tiene la propiedad y está listo para usar su valor.\n",
        "- Hemos hecho algo más en el código: hemos intentado acceder a la propiedad `listaPila` desde fuera de la clase inmediatamente después de que se haya creado el objeto; queremos verificar la longitud actual de la pila, ¿lo hemos logrado?\n",
        "\n",
        "Sí, por supuesto: el código produce el siguiente resultado: `0`\n",
        "\n",
        "Esto no es lo que queremos de la pila. Nosotros queremos que `listaPila` esté escondida del mundo exterior. ¿Es eso posible?\n",
        "\n",
        "Sí, y es simple, pero no muy intuitivo.\n",
        "\n",
        "Echa un vistazo: hemos agregado dos guiones bajos antes del nombre `listaPila` - nada más:"
      ]
    },
    {
      "cell_type": "code",
      "metadata": {
        "id": "fY_bgenp_Rjf",
        "colab": {
          "base_uri": "https://localhost:8080/",
          "height": 197
        },
        "outputId": "71190458-6c1d-4f27-e96c-7dd15b3f9d1a"
      },
      "source": [
        "class Pila:\n",
        "    def __init__(self):\n",
        "        self.__listaPila = []\n",
        "\n",
        "objetoPila = Pila()\n",
        "print(len(objetoPila.__listaPila))"
      ],
      "execution_count": null,
      "outputs": [
        {
          "output_type": "error",
          "ename": "AttributeError",
          "evalue": "ignored",
          "traceback": [
            "\u001b[0;31m---------------------------------------------------------------------------\u001b[0m",
            "\u001b[0;31mAttributeError\u001b[0m                            Traceback (most recent call last)",
            "\u001b[0;32m<ipython-input-2-87a034d4166e>\u001b[0m in \u001b[0;36m<module>\u001b[0;34m()\u001b[0m\n\u001b[1;32m      4\u001b[0m \u001b[0;34m\u001b[0m\u001b[0m\n\u001b[1;32m      5\u001b[0m \u001b[0mobjetoPila\u001b[0m \u001b[0;34m=\u001b[0m \u001b[0mPila\u001b[0m\u001b[0;34m(\u001b[0m\u001b[0;34m)\u001b[0m\u001b[0;34m\u001b[0m\u001b[0;34m\u001b[0m\u001b[0m\n\u001b[0;32m----> 6\u001b[0;31m \u001b[0mprint\u001b[0m\u001b[0;34m(\u001b[0m\u001b[0mlen\u001b[0m\u001b[0;34m(\u001b[0m\u001b[0mobjetoPila\u001b[0m\u001b[0;34m.\u001b[0m\u001b[0m__listaPila\u001b[0m\u001b[0;34m)\u001b[0m\u001b[0;34m)\u001b[0m\u001b[0;34m\u001b[0m\u001b[0;34m\u001b[0m\u001b[0m\n\u001b[0m",
            "\u001b[0;31mAttributeError\u001b[0m: 'Pila' object has no attribute '__listaPila'"
          ]
        }
      ]
    },
    {
      "cell_type": "markdown",
      "metadata": {
        "id": "jXP3PbFl_WI9"
      },
      "source": [
        "El cambio invalida el programa..\n",
        "\n",
        "¿Por qué?\n",
        "\n",
        "Cuando cualquier componente de la clase tiene un **nombre que comienza con dos guiones bajos** (`__`), **se vuelve privado** - esto significa que solo se puede acceder desde la clase.\n",
        "\n",
        "No puedes verlo desde el mundo exterior. Así es como Python implementa el concepto de **encapsulación**.\n",
        "\n",
        "Ejecuta el programa para probar nuestras suposiciones: una excepción `AttributeError` debe ser lanzada."
      ]
    },
    {
      "cell_type": "markdown",
      "metadata": {
        "id": "HKuc1RTA_s-d"
      },
      "source": [
        "### El enfoque orientado a objetos: una pila desde cero"
      ]
    },
    {
      "cell_type": "markdown",
      "metadata": {
        "id": "386SGp7o_vT9"
      },
      "source": [
        "Ahora es el momento de que las dos funciones (métodos) implementen las operaciones push y pop. Python supone que una función de este tipo debería estar **inmersa dentro del cuerpo de la clase** - como el constructor.\n",
        "\n",
        "Queremos invocar estas funciones para agregar (`push`) y quitar (`pop`) valores de la pila. Esto significa que ambos deben ser accesibles para el usuario de la clase (en contraste con la lista previamente construida, que está oculta para los usuarios de la clase ordinaria).\n",
        "\n",
        "Tal componente es llamado **público**, por ello **no puede comenzar su nombre con dos (o más) guiones bajos**. Hay un requisito más - **el nombre no debe tener más de un guión bajo**.\n",
        "\n",
        "Las funciones en sí son simples. Echa un vistazo:"
      ]
    },
    {
      "cell_type": "code",
      "metadata": {
        "id": "cNihZc14AKtZ",
        "colab": {
          "base_uri": "https://localhost:8080/"
        },
        "outputId": "3211f61d-32f4-4dca-e0d7-737a972ddf3e"
      },
      "source": [
        "class Pila:\n",
        "    def __init__(self):\n",
        "        self.__listaPila = []\n",
        "\n",
        "    def push(self, val):\n",
        "        self.__listaPila.append(val)\n",
        "\n",
        "    def pop(self):\n",
        "        val = self.__listaPila[-1]\n",
        "        del self.__listaPila[-1]\n",
        "        return val \n",
        "\n",
        "objetoPila = Pila()\n",
        "\n",
        "objetoPila.push(3)\n",
        "objetoPila.push(2)\n",
        "objetoPila.push(1)\n",
        "\n",
        "print(objetoPila.pop())\n",
        "print(objetoPila.pop())\n",
        "print(objetoPila.pop())"
      ],
      "execution_count": null,
      "outputs": [
        {
          "output_type": "stream",
          "text": [
            "1\n",
            "2\n",
            "3\n"
          ],
          "name": "stdout"
        }
      ]
    },
    {
      "cell_type": "markdown",
      "metadata": {
        "id": "ReF0jT-DAN0J"
      },
      "source": [
        "Sin embargo, hay algo realmente extraño en el código. Las funciones parecen familiares, pero tienen más parámetros que sus contrapartes procedimentales.\n",
        "\n",
        "Aquí, ambas funciones tienen un parámetro llamado `self` en la primera posición de la lista de parámetros.\n",
        "\n",
        "¿Es necesario? Sí, lo es.\n",
        "\n",
        "Todos los métodos deben tener este parámetro. Desempeña el mismo papel que el primer parámetro constructor.\n",
        "\n",
        "**Permite que el método acceda a entidades (propiedades y actividades / métodos) del objeto**. No puedes omitirlo. Cada vez que Python invoca un método, envía implícitamente el objeto actual como el primer argumento.\n",
        "\n",
        "Esto significa que el **método está obligado a tener al menos un parámetro, que Python mismo utiliza** - no tienes ninguna influencia sobre el.\n",
        "\n",
        "Si tu método no necesita ningún parámetro, este debe especificarse de todos modos. Si está diseñado para procesar solo un parámetro, debes especificar dos, ya que la función del primero sigue siendo la misma.\n",
        "\n",
        "Hay una cosa más que requiere explicación: la forma en que se invocan los métodos desde la variable `__listaPila`.\n",
        "\n",
        "Afortunadamente, es mucho más simple de lo que parece:\n",
        "\n",
        "- La primera etapa entrega el objeto como un todo → `self`.\n",
        "- A continuación, debes llegar a la lista `__listaPila` → `self.__listaPila`.\n",
        "- Con `__listaPila` lista para ser usada, puedes realizar el tercer y último paso → `self.__listaPila.append(val)`.\n",
        "\n",
        "La declaración de la clase está completa y se han enumerado todos sus componentes. La clase está lista para usarse.\n",
        "\n",
        "Tener tal clase abre nuevas posibilidades. Por ejemplo, ahora puedes hacer que más de una pila se comporte de la misma manera. Cada pila tendrá su propia copia de datos privados, pero utilizará el mismo conjunto de métodos.\n",
        "\n",
        "Esto es exactamente lo que queremos para este ejemplo.\n",
        "\n",
        "Analiza el código:"
      ]
    },
    {
      "cell_type": "code",
      "metadata": {
        "id": "B10pXSIV9Cyk",
        "colab": {
          "base_uri": "https://localhost:8080/",
          "height": 34
        },
        "outputId": "122699ff-0bea-4149-ec34-901d9175b4f8"
      },
      "source": [
        "class Pila:\n",
        "    def __init__(self):\n",
        "        self.__listaPila = []\n",
        "\n",
        "    def push(self, val):\n",
        "        self.__listaPila.append(val)\n",
        "\n",
        "    def pop(self):\n",
        "        val = self.__listaPila[-1]\n",
        "        del self.__listaPila[-1]\n",
        "        return val\n",
        "\n",
        "\n",
        "objetoPila1 = Pila()\n",
        "objetoPila2 = Pila()\n",
        "\n",
        "objetoPila1.push(3)\n",
        "objetoPila2.push(objetoPila1.pop())\n",
        "\n",
        "print(objetoPila2.pop())"
      ],
      "execution_count": null,
      "outputs": [
        {
          "output_type": "stream",
          "text": [
            "3\n"
          ],
          "name": "stdout"
        }
      ]
    },
    {
      "cell_type": "markdown",
      "metadata": {
        "id": "BbAd0gIM9D-M"
      },
      "source": [
        "Existen **dos pilas creadas a partir de la misma clase base**. Trabajan **independientemente**. Puedes crear más si quieres.\n",
        "\n",
        "Ejecuta el código en el editor y ve qué sucede. Realiza tus propios experimentos.\n",
        "\n",
        "Analiza el fragmento a continuación: hemos creado tres objetos de la clase `Pila`. Después, hemos hecho malabarismos. Intenta predecir el valor que se muestra en la pantalla."
      ]
    },
    {
      "cell_type": "code",
      "metadata": {
        "id": "i3nJwE4C9bZX",
        "colab": {
          "base_uri": "https://localhost:8080/"
        },
        "outputId": "1d955433-822e-4cc3-f86c-65bd6a39187b"
      },
      "source": [
        "class Pila:\n",
        "    def __init__(self):\n",
        "        self.__listaPila = []\n",
        "\n",
        "    def push(self, val):\n",
        "        self.__listaPila.append(val)\n",
        "\n",
        "    def pop(self):\n",
        "        val = self.__listaPila[-1]\n",
        "        del self.__listaPila[-1]\n",
        "        return val \n",
        "\n",
        "pequeñaPila = Pila()\n",
        "otraPila = Pila()\n",
        "graciosaPila = Pila()\n",
        "\n",
        "pequeñaPila.push(1)\n",
        "otraPila.push(pequeñaPila.pop() + 1)\n",
        "graciosaPila.push(otraPila.pop() - 2)\n",
        "\n",
        "print(graciosaPila.pop())"
      ],
      "execution_count": null,
      "outputs": [
        {
          "output_type": "stream",
          "text": [
            "0\n"
          ],
          "name": "stdout"
        }
      ]
    },
    {
      "cell_type": "markdown",
      "metadata": {
        "id": "AiAggkgP9g86"
      },
      "source": [
        "Ahora vamos un poco más lejos. Vamos a **agregar una nueva clase para manejar pilas**.\n",
        "\n",
        "La nueva clase debería poder **evaluar la suma de todos los elementos almacenados actualmente en la pila**.\n",
        "\n",
        "No queremos modificar la pila previamente definida. Ya es lo suficientemente buena en sus aplicaciones, y no queremos que cambie de ninguna manera. Queremos una nueva pila con nuevas capacidades. En otras palabras, queremos construir una subclase de la ya existente clase `Pila`.\n",
        "\n",
        "El primer paso es fácil: solo **define una nueva subclase que apunte a la clase que se usará como superclase**.\n",
        "\n",
        "Así es como se ve:"
      ]
    },
    {
      "cell_type": "code",
      "metadata": {
        "id": "TM0U1cPW9yaC"
      },
      "source": [
        "class SumarPila(Pila):\n",
        "    pass"
      ],
      "execution_count": null,
      "outputs": []
    },
    {
      "cell_type": "markdown",
      "metadata": {
        "id": "v-uddVIF90Yu"
      },
      "source": [
        "La clase aún no define ningún componente nuevo, pero eso no significa que esté vacía. **Obtiene (hereda) todos los componentes definidos por su superclase** - el nombre de la superclase se escribe después de los dos puntos, después del nombre de la nueva clase.\n",
        "\n",
        "Esto es lo que queremos de la nueva pila:\n",
        "\n",
        "- Queremos que el método `push` no solo inserte el valor en la pila, sino que también sume el valor a la variable `sum`.\n",
        "- Queremos que la función `pop` no solo extraiga el valor de la pila, sino que también reste el valor de la variable `sum`.\n",
        "\n",
        "En primer lugar, agreguemos una nueva variable a la clase. Sera una **variable privada**, al igual que la lista de pila. No queremos que nadie manipule el valor de la variable `sum`.\n",
        "\n",
        "Como ya sabes, el constructor agrega una nueva propiedad a la clase. Ya sabes cómo hacerlo, pero hay algo realmente intrigante dentro del constructor. Echa un vistazo:"
      ]
    },
    {
      "cell_type": "code",
      "metadata": {
        "id": "Zmi7NPvo-RCL"
      },
      "source": [
        "class SumarPila(Pila):\n",
        "    def __init__(self):\n",
        "        Pila.__init__(self)\n",
        "        self.__sum = 0"
      ],
      "execution_count": null,
      "outputs": []
    },
    {
      "cell_type": "markdown",
      "metadata": {
        "id": "5mMNalRP-TZZ"
      },
      "source": [
        "La segunda línea del cuerpo del constructor crea una propiedad llamada `__sum` - almacenará el total de todos los valores de la pila.\n",
        "\n",
        "Pero la línea anterior se ve diferente. ¿Qué hace? ¿Es realmente necesaria? Sí lo es.\n",
        "\n",
        "Al contrario de muchos otros lenguajes, **Python te obliga a invocar explícitamente el constructor de una superclase**. Omitir este punto tendrá efectos nocivos: el objeto se verá privado de la lista `__listaPila`. Tal pila no funcionará correctamente.\n",
        "\n",
        "Esta es la única vez que puedes invocar a cualquiera de los constructores disponibles explícitamente; se puede hacer dentro del constructor de la superclase.\n",
        "\n",
        "Ten en cuenta la sintaxis:\n",
        "\n",
        "- Se especifica el nombre de la superclase (esta es la clase cuyo constructor se desea ejecutar).\n",
        "- Se pone un punto (`.`) después del nombre.\n",
        "- Se especifica el nombre del constructor.\n",
        "- Se debe señalar al objeto (la instancia de la clase) que debe ser inicializado por el constructor; es por eso que se debe especificar el argumento y utilizar la variable self aquí; recuerda: **invocar cualquier método (incluidos los constructores) desde fuera de la clase nunca requiere colocar el argumento** `self` **en la lista de argumentos** - invocar un método desde dentro de la clase exige el uso explícito del argumento `self`, y tiene que ser el primero en la lista.\n",
        "\n",
        "Nota: generalmente es una práctica recomendada invocar al constructor de la superclase antes de cualquier otra inicialización que desees realizar dentro de la subclase. Esta es la regla que hemos seguido en el código.\n",
        "\n",
        "En segundo lugar, agreguemos dos métodos. Pero, ¿realmente estamos agregándolos? Ya tenemos estos métodos en la superclase. ¿Podemos hacer algo así?\n",
        "\n",
        "Sí podemos. Significa que vamos a **cambiar la funcionalidad de los métodos, no sus nombres**. Podemos decir con mayor precisión que la interfaz (la forma en que se manejan los objetos) de la clase permanece igual al cambiar la implementación al mismo tiempo.\n",
        "\n",
        "Comencemos con la implementación de la función `push`. Esto es lo que esperamos de la función:\n",
        "\n",
        "- Agregar el valor a la variable `__sum`.\n",
        "- Agregar el valor a la pila.\n",
        "\n",
        "Nota: la segunda actividad ya se implementó dentro de la superclase, por lo que podemos usarla. Además, tenemos que usarla, ya que no hay otra forma de acceder a la variable `__listaPila`.\n",
        "\n",
        "Así es como se mira el método `push` dentro de la subclase:"
      ]
    },
    {
      "cell_type": "code",
      "metadata": {
        "id": "Ipx29Abp_sO4"
      },
      "source": [
        "def push(self, val):\n",
        "    self.__sum += val\n",
        "    Pila.push(self, val)"
      ],
      "execution_count": null,
      "outputs": []
    },
    {
      "cell_type": "markdown",
      "metadata": {
        "id": "OQkH7X3w_uUY"
      },
      "source": [
        "Toma en cuenta la forma en que hemos invocado la implementación anterior del método `push` (el disponible en la superclase):\n",
        "\n",
        "- Tenemos que especificar el nombre de la superclase; esto es necesario para indicar claramente la clase que contiene el método, para evitar confundirlo con cualquier otra función del mismo nombre.\n",
        "- Tenemos que especificar el objeto de destino y pasarlo como primer argumento (no se agrega implícitamente a la invocación en este contexto).\n",
        "\n",
        "Se dice que el método `push` ha sido anulado - el mismo nombre que en la superclase ahora representa una funcionalidad diferente.\n",
        "\n",
        "Esta es la nueva función `pop`:"
      ]
    },
    {
      "cell_type": "code",
      "metadata": {
        "id": "ErO5ADcYAH0b"
      },
      "source": [
        "def pop(self):\n",
        "    val = Pila.pop(self)\n",
        "    self.__sum -= val\n",
        "    return val"
      ],
      "execution_count": null,
      "outputs": []
    },
    {
      "cell_type": "markdown",
      "metadata": {
        "id": "8dV8vPrYAJag"
      },
      "source": [
        "Hasta ahora, hemos definido la variable `__sum`, pero no hemos proporcionado un método para obtener su valor. Parece estar escondido. ¿Cómo podemos mostrarlo y que al mismo tiempo se proteja de modificaciones?\n",
        "\n",
        "Tenemos que definir un nuevo método. Lo nombraremos `getSuma`. Su única tarea será **devolver el valor de** `__sum`.\n",
        "\n",
        "Aquí está:"
      ]
    },
    {
      "cell_type": "code",
      "metadata": {
        "id": "D72TJOtNAaJw"
      },
      "source": [
        "def getSuma(self):\n",
        "    return self.__sum"
      ],
      "execution_count": null,
      "outputs": []
    },
    {
      "cell_type": "markdown",
      "metadata": {
        "id": "vS6GwQXMAqLf"
      },
      "source": [
        "Como veremos con el sgte. código, agregamos cinco valores subsiguientes en la pila, imprimimos su suma y los sacamos todos de la pila."
      ]
    },
    {
      "cell_type": "code",
      "metadata": {
        "id": "Cr4h6XxmAwMO",
        "colab": {
          "base_uri": "https://localhost:8080/"
        },
        "outputId": "c6725813-2301-4ba2-ce78-f7595f877a4d"
      },
      "source": [
        "class Pila:\n",
        "    def __init__(self):\n",
        "        self.__listaPila = []\n",
        "\n",
        "    def push(self, val):\n",
        "        self.__listaPila.append(val)\n",
        "\n",
        "    def pop(self):\n",
        "        val = self.__listaPila[-1]\n",
        "        del self.__listaPila[-1]\n",
        "        return val  \n",
        "\n",
        "class SumarPila(Pila):\n",
        "    def __init__(self):\n",
        "        Pila.__init__(self)\n",
        "        self.__sum = 0\n",
        "\n",
        "    def getSuma(self):\n",
        "        return self.__sum\n",
        "\n",
        "    def push(self, val):\n",
        "        self.__sum += val\n",
        "        Pila.push(self, val)\n",
        "\n",
        "    def pop(self):\n",
        "        val = Pila.pop(self)\n",
        "        self.__sum -= val\n",
        "        return val\n",
        "\n",
        "\n",
        "objetoPila = SumarPila()\n",
        "\n",
        "for i in range(5):\n",
        "    objetoPila.push(i)\n",
        "print(objetoPila.getSuma())\n",
        "\n",
        "for i in range(5):\n",
        "    print(objetoPila.pop())"
      ],
      "execution_count": null,
      "outputs": [
        {
          "output_type": "stream",
          "text": [
            "10\n",
            "4\n",
            "3\n",
            "2\n",
            "1\n",
            "0\n"
          ],
          "name": "stdout"
        }
      ]
    },
    {
      "cell_type": "markdown",
      "metadata": {
        "id": "C9v1gqZnla_7"
      },
      "source": [
        "## 6.3 Propiedades de la POO"
      ]
    },
    {
      "cell_type": "markdown",
      "metadata": {
        "id": "lx_4pFMIlnGD"
      },
      "source": [
        "### Variables de instancia"
      ]
    },
    {
      "cell_type": "markdown",
      "metadata": {
        "id": "6RJL3EAtA_ny"
      },
      "source": [
        "En general, una clase puede equiparse con dos tipos diferentes de datos para formar las propiedades de una clase. Ya viste uno de ellos cuando estábamos estudiando pilas.\n",
        "\n",
        "Este tipo de propiedad existe solo cuando se crea explícitamente y se agrega a un objeto. Como ya sabes, esto se puede hacer durante la inicialización del objeto, realizada por el constructor.\n",
        "\n",
        "Además, se puede hacer en cualquier momento de la vida del objeto. Es importante mencionar también que cualquier propiedad existente se puede eliminar en cualquier momento.\n",
        "\n",
        "Tal enfoque tiene algunas consecuencias importantes:\n",
        "\n",
        "- Diferentes objetos de la misma clase **pueden poseer diferentes conjuntos de propiedades**.\n",
        "- Debe haber una manera de **verificar con seguridad si un objeto específico posee la propiedad** que deseas utilizar (a menos que quieras provocar una excepción, siempre vale la pena considerarlo).\n",
        "- Cada objeto **lleva su propio conjunto de propiedades** - no interfieren entre sí de ninguna manera.\n",
        "\n",
        "Tales variables (propiedades) se llaman **variables de instancia**.\n",
        "\n",
        "La palabra instancia sugiere que están estrechamente conectadas a los objetos (que son instancias de clase), no a las clases mismas. Echemos un vistazo más de cerca a ellas.\n",
        "\n",
        "Aquí hay un ejemplo:"
      ]
    },
    {
      "cell_type": "code",
      "metadata": {
        "id": "OU_O0vXTBeYs",
        "colab": {
          "base_uri": "https://localhost:8080/"
        },
        "outputId": "9e799c18-9aa9-403e-94dc-b193a6cc67a2"
      },
      "source": [
        "class ClaseEjemplo:\n",
        "    def __init__(self, val = 1):\n",
        "        self.primera = val\n",
        "\n",
        "    def setSegunda(self, val):\n",
        "        self.segunda = val\n",
        "\n",
        "\n",
        "objetoEjemplo1 = ClaseEjemplo()\n",
        "objetoEjemplo2 = ClaseEjemplo(2)\n",
        "\n",
        "objetoEjemplo2.setSegunda(3)\n",
        "\n",
        "objetoEjemplo3 = ClaseEjemplo(4)\n",
        "objetoEjemplo3.tercera = 5\n",
        "\n",
        "print(objetoEjemplo1.__dict__)\n",
        "print(objetoEjemplo2.__dict__)\n",
        "print(objetoEjemplo3.__dict__)\n",
        "\n",
        "objetoEjemplo2.__segunda = 7\n",
        "print(objetoEjemplo2.__dict__)"
      ],
      "execution_count": null,
      "outputs": [
        {
          "output_type": "stream",
          "text": [
            "{'primera': 1}\n",
            "{'primera': 2, 'segunda': 3}\n",
            "{'primera': 4, 'tercera': 5}\n",
            "{'primera': 2, 'segunda': 3, '__segunda': 7}\n"
          ],
          "name": "stdout"
        }
      ]
    },
    {
      "cell_type": "markdown",
      "metadata": {
        "id": "cwyNcfSPB_hP"
      },
      "source": [
        "Se necesita una explicación adicional antes de entrar en más detalles. Echa un vistazo a las últimas tres líneas del código.\n",
        "\n",
        "Los objetos de Python, cuando se crean, están dotados de un **pequeño conjunto de propiedades y métodos predefinidos**. Cada objeto los tiene, los quieras o no. Uno de ellos es una variable llamada `__dict__` (es un diccionario).\n",
        "\n",
        "La variable contiene los nombres y valores de todas las propiedades (variables) que el objeto contiene actualmente. Vamos a usarla para presentar de forma segura el contenido de un objeto.\n",
        "\n",
        "Vamos a sumergirnos en el código ahora:\n",
        "\n",
        "- La clase llamada `ClaseEjemplo` tiene un constructor, el cual **crea incondicionalmente una variable de instancia** llamada `primera`, y le asigna el valor pasado a través del primer argumento (desde la perspectiva del usuario de la clase) o el segundo argumento (desde la perspectiva del constructor); ten en cuenta el valor predeterminado del parámetro: cualquier cosa que puedas hacer con un parámetro de función regular también se puede aplicar a los métodos.\n",
        "- La clase también tiene un **método que crea otra variable de instancia**, llamada `segunda`.\n",
        "- Hemos creado tres objetos de la clase `ClaseEjemplo`, pero todas estas instancias difieren:\n",
        "\n",
        "    - `objetoEjemplo1` solo tiene una propiedad llamada `primera`.\n",
        "    - `objetoEjemplo2` tiene dos propiedades: `primera` y `segunda`.\n",
        "    - `objetoEjemplo3` ha sido enriquecido sobre la marcha con una propiedad llamada `tercera`, fuera del código de la clase: esto es posible y totalmente permisible.\n",
        "\n",
        "Hay una conclusión adicional que debería mencionarse aquí: **el modificar una variable de instancia de cualquier objeto no tiene impacto en todos los objetos restantes**. Las variables de instancia están perfectamente aisladas unas de otras.\n",
        "\n",
        "Observa el ejemplo modificado a continuación."
      ]
    },
    {
      "cell_type": "code",
      "metadata": {
        "id": "VxptPIhYDWT8",
        "colab": {
          "base_uri": "https://localhost:8080/",
          "height": 68
        },
        "outputId": "0dedd43b-fb95-441a-e412-249e7cc20f7c"
      },
      "source": [
        "class ClaseEjemplo:\n",
        "    def __init__(self, val = 1):\n",
        "        self.__primera = val\n",
        "\n",
        "    def setSegunda(self, val):\n",
        "        self.__segunda = val\n",
        "\n",
        "\n",
        "objetoEjemplo1 = ClaseEjemplo()\n",
        "objetoEjemplo2 = ClaseEjemplo(2)\n",
        "\n",
        "objetoEjemplo2.setSegunda(3)\n",
        "\n",
        "objetoEjemplo3 = ClaseEjemplo(4)\n",
        "objetoEjemplo3.__tercera = 5\n",
        "\n",
        "\n",
        "print(objetoEjemplo1.__dict__)\n",
        "print(objetoEjemplo2.__dict__)\n",
        "print(objetoEjemplo3.__dict__)"
      ],
      "execution_count": null,
      "outputs": [
        {
          "output_type": "stream",
          "text": [
            "{'_ClaseEjemplo__primera': 1}\n",
            "{'_ClaseEjemplo__primera': 2, '_ClaseEjemplo__segunda': 3}\n",
            "{'_ClaseEjemplo__primera': 4, '__tercera': 5}\n"
          ],
          "name": "stdout"
        }
      ]
    },
    {
      "cell_type": "markdown",
      "metadata": {
        "id": "M7bIct6QDW3h"
      },
      "source": [
        "Es casi lo mismo que el anterior. La única diferencia está en los nombres de las propiedades. Hemos **agregado dos guiones bajos** (`__`) en frente de ellos.\n",
        "\n",
        "Como sabes, tal adición hace que la variable de instancia sea **privada** - se vuelve inaccesible desde el mundo exterior.\n",
        "\n",
        "¿Puedes ver estos nombres extraños llenos de guiones bajos? ¿De dónde provienen?\n",
        "\n",
        "Cuando Python ve que deseas agregar una variable de instancia a un objeto y lo vas a hacer dentro de cualquiera de los métodos del objeto, **maneja la operación** de la siguiente manera:\n",
        "\n",
        "- Coloca un nombre de clase antes de tu nombre.\n",
        "- Coloca un guión bajo adicional al principio.\n",
        "\n",
        "Es por ello que `__primera` se convierte en `_ClaseEjemplo__primera`.\n",
        "\n",
        "**El nombre ahora es completamente accesible desde fuera de la clase**. Puedes ejecutar un código como este: `print(objetoEjemplo1._ClaseEjemplo__primera)`\n",
        "\n",
        "y obtendrás un resultado válido sin errores ni excepciones.\n",
        "\n",
        "Como puedes ver, hacer que una propiedad sea privada es limitado.\n",
        "\n",
        "**No funcionará si agregas una variable de instancia fuera del código de clase**. En este caso, se comportará como cualquier otra propiedad ordinaria."
      ]
    },
    {
      "cell_type": "markdown",
      "metadata": {
        "id": "vzAjZRk4FnV3"
      },
      "source": [
        "### Variables de Clase"
      ]
    },
    {
      "cell_type": "markdown",
      "metadata": {
        "id": "aTvEHVswFojc"
      },
      "source": [
        "Una variable de clase es una **propiedad que existe en una sola copia y se almacena fuera de cualquier objeto**.\n",
        "\n",
        "Nota: no existe una variable de instancia si no hay ningún objeto en la clase; existe una variable de clase en una copia, incluso si no hay objetos en la clase.\n",
        "\n",
        "Las variables de clase se crean de manera diferente. El ejemplo te dirá más:"
      ]
    },
    {
      "cell_type": "code",
      "metadata": {
        "id": "Lml9tAR4Fy8V",
        "colab": {
          "base_uri": "https://localhost:8080/",
          "height": 68
        },
        "outputId": "2a77df8d-7cd3-4d56-d82c-fea9fec1c20e"
      },
      "source": [
        "class ClaseEjemplo:\n",
        "    contador = 0\n",
        "    def __init__(self, val = 1):\n",
        "        self.__primera = val\n",
        "        ClaseEjemplo.contador += 1\n",
        "\n",
        "objetoEjemplo1 = ClaseEjemplo()\n",
        "objetoEjemplo2 = ClaseEjemplo(2)\n",
        "objetoEjemplo3 = ClaseEjemplo(4)\n",
        "\n",
        "print(objetoEjemplo1.__dict__, objetoEjemplo1.contador)\n",
        "print(objetoEjemplo2.__dict__, objetoEjemplo2.contador)\n",
        "print(objetoEjemplo3.__dict__, objetoEjemplo3.contador)"
      ],
      "execution_count": null,
      "outputs": [
        {
          "output_type": "stream",
          "text": [
            "{'_ClaseEjemplo__primera': 1} 3\n",
            "{'_ClaseEjemplo__primera': 2} 3\n",
            "{'_ClaseEjemplo__primera': 4} 3\n"
          ],
          "name": "stdout"
        }
      ]
    },
    {
      "cell_type": "markdown",
      "metadata": {
        "id": "tJKCo5GtF0OF"
      },
      "source": [
        "Observa:\n",
        "\n",
        "- Hay una asignación en la primera linea de la definición de clase: establece la variable denominada `contador` a 0; inicializando la variable dentro de la clase pero fuera de cualquiera de sus métodos hace que la variable sea una variable de clase.\n",
        "- El acceder a dicha variable tiene el mismo aspecto que acceder a cualquier atributo de instancia; está en el cuerpo del constructor; como puedes ver, el constructor incrementa la variable en uno; en efecto, la variable cuenta todos los objetos creados.\n",
        "\n",
        "Dos conclusiones importantes provienen del ejemplo:\n",
        "\n",
        "- Las variables de clase **no se muestran en el diccionario de un objeto** `__dict__` (esto es natural ya que las variables de clase no son partes de un objeto), pero siempre puedes intentar buscar en la variable del mismo nombre, pero a nivel de clase, te mostraremos esto muy pronto.\n",
        "- Una variable de clase **siempre presenta el mismo valor** en todas las instancias de clase (objetos).\n",
        "\n",
        "Mira el ejemplo en el editor. ¿Puedes adivinar su salida?"
      ]
    },
    {
      "cell_type": "code",
      "metadata": {
        "id": "RgQdTtRoGfZr",
        "colab": {
          "base_uri": "https://localhost:8080/",
          "height": 68
        },
        "outputId": "0b9d32a8-234b-4a50-edae-3d6d8de23aba"
      },
      "source": [
        "class ClaseEjemplo:\n",
        "    __contador = 0\n",
        "    def __init__(self, val = 1):\n",
        "        self.__primera = val\n",
        "        ClaseEjemplo.__contador += 1\n",
        "\n",
        "objetoEjemplo1 = ClaseEjemplo()\n",
        "objetoEjemplo2 = ClaseEjemplo(2)\n",
        "objetoEjemplo3 = ClaseEjemplo(4)\n",
        "    \n",
        "print(objetoEjemplo1.__dict__, objetoEjemplo1._ClaseEjemplo__contador)\n",
        "print(objetoEjemplo2.__dict__, objetoEjemplo2._ClaseEjemplo__contador)\n",
        "print(objetoEjemplo3.__dict__, objetoEjemplo3._ClaseEjemplo__contador)"
      ],
      "execution_count": null,
      "outputs": [
        {
          "output_type": "stream",
          "text": [
            "{'_ClaseEjemplo__primera': 1} 3\n",
            "{'_ClaseEjemplo__primera': 2} 3\n",
            "{'_ClaseEjemplo__primera': 4} 3\n"
          ],
          "name": "stdout"
        }
      ]
    },
    {
      "cell_type": "markdown",
      "metadata": {
        "id": "0I1cUDvHG0Qg"
      },
      "source": [
        "Hemos dicho antes que las variables de clase existen incluso cuando no se creó ninguna instancia de clase (objeto).\n",
        "\n",
        "Ahora aprovecharemos la oportunidad para mostrarte **la diferencia entre estas dos variables** `__dict__`, la de la clase y la del objeto.\n",
        "\n",
        "Observa el código en el editor. La prueba está ahí."
      ]
    },
    {
      "cell_type": "code",
      "metadata": {
        "id": "n5SwReleHDj1",
        "colab": {
          "base_uri": "https://localhost:8080/"
        },
        "outputId": "75b2474e-3a9a-4209-bd65-1a06fb724cd2"
      },
      "source": [
        "class ClaseEjemplo:\n",
        "    varia = 1\n",
        "    def __init__(self, val):\n",
        "        ClaseEjemplo.varia = val\n",
        "\n",
        "print(ClaseEjemplo.__dict__)\n",
        "objetoEjemplo = ClaseEjemplo(2)\n",
        "\n",
        "print(ClaseEjemplo.__dict__)\n",
        "print(objetoEjemplo.__dict__)"
      ],
      "execution_count": null,
      "outputs": [
        {
          "output_type": "stream",
          "text": [
            "{'__module__': '__main__', 'varia': 1, '__init__': <function ClaseEjemplo.__init__ at 0x7fc6a96358c0>, '__dict__': <attribute '__dict__' of 'ClaseEjemplo' objects>, '__weakref__': <attribute '__weakref__' of 'ClaseEjemplo' objects>, '__doc__': None}\n",
            "{'__module__': '__main__', 'varia': 2, '__init__': <function ClaseEjemplo.__init__ at 0x7fc6a96358c0>, '__dict__': <attribute '__dict__' of 'ClaseEjemplo' objects>, '__weakref__': <attribute '__weakref__' of 'ClaseEjemplo' objects>, '__doc__': None}\n",
            "{}\n"
          ],
          "name": "stdout"
        }
      ]
    },
    {
      "cell_type": "markdown",
      "metadata": {
        "id": "XCB-38vyHbfQ"
      },
      "source": [
        "Echemos un vistazo más de cerca:\n",
        "\n",
        "- Definimos una clase llamada `ClaseEjemplo`.\n",
        "- La clase define una variable de clase llamada `varia`.\n",
        "- El constructor de la clase establece la variable con el valor del parámetro.\n",
        "Nombrar la variable es el aspecto más importante del ejemplo porque:\n",
        "    - El cambiar la asignación a `self.varia = val` crearía una variable de instancia con el mismo nombre que la clase.\n",
        "    - El cambiar la asignación a `varia = val` operaría en la variable local de un método; (te recomendamos probar los dos casos anteriores; esto te facilitará recordar la diferencia).\n",
        "- La primera línea del código fuera de la clase imprime el valor del atributo `ClaseEjemplo.varia`. Nota: utilizamos el valor antes de instanciar el primer objeto de la clase.\n",
        "\n",
        "Como puedes ver `__dict__` contiene muchos más datos que la contraparte de su objeto. La mayoría de ellos son inútiles ahora - el que queremos que verifiques cuidadosamente muestra el valor actual de `varia`.\n",
        "\n",
        "Nota que el `__dict__` del objeto está vacío - el objeto no tiene variables de instancia."
      ]
    },
    {
      "cell_type": "markdown",
      "metadata": {
        "id": "NcEhaL8MINCA"
      },
      "source": [
        "### Comprobando la existencia de un atributo"
      ]
    },
    {
      "cell_type": "markdown",
      "metadata": {
        "id": "CBDeDJbMIPxA"
      },
      "source": [
        "La actitud de Python hacia la instanciación de objetos plantea una cuestión importante: en contraste con otros lenguajes de programación, **es posible que no esperes que todos los objetos de la misma clase tengan los mismos conjuntos de propiedades**.\n",
        "\n",
        "Justo como en el ejemplo en el editor. Míralo cuidadosamente."
      ]
    },
    {
      "cell_type": "code",
      "metadata": {
        "id": "hhKxt6IUIgrj",
        "colab": {
          "base_uri": "https://localhost:8080/",
          "height": 214
        },
        "outputId": "b43f8405-5471-48c5-840d-1c893521030b"
      },
      "source": [
        "class ClaseEjemplo:\n",
        "    def __init__(self, val):\n",
        "        if val % 2 != 0:\n",
        "            self.a = 1\n",
        "        else:\n",
        "            self.b = 1\n",
        "\n",
        "objetoEjemplo = ClaseEjemplo(1)\n",
        "\n",
        "print(objetoEjemplo.a)\n",
        "print(objetoEjemplo.b)"
      ],
      "execution_count": null,
      "outputs": [
        {
          "output_type": "stream",
          "text": [
            "1\n"
          ],
          "name": "stdout"
        },
        {
          "output_type": "error",
          "ename": "AttributeError",
          "evalue": "ignored",
          "traceback": [
            "\u001b[0;31m---------------------------------------------------------------------------\u001b[0m",
            "\u001b[0;31mAttributeError\u001b[0m                            Traceback (most recent call last)",
            "\u001b[0;32m<ipython-input-7-73ca36fa984f>\u001b[0m in \u001b[0;36m<module>\u001b[0;34m()\u001b[0m\n\u001b[1;32m      9\u001b[0m \u001b[0;34m\u001b[0m\u001b[0m\n\u001b[1;32m     10\u001b[0m \u001b[0mprint\u001b[0m\u001b[0;34m(\u001b[0m\u001b[0mobjetoEjemplo\u001b[0m\u001b[0;34m.\u001b[0m\u001b[0ma\u001b[0m\u001b[0;34m)\u001b[0m\u001b[0;34m\u001b[0m\u001b[0;34m\u001b[0m\u001b[0m\n\u001b[0;32m---> 11\u001b[0;31m \u001b[0mprint\u001b[0m\u001b[0;34m(\u001b[0m\u001b[0mobjetoEjemplo\u001b[0m\u001b[0;34m.\u001b[0m\u001b[0mb\u001b[0m\u001b[0;34m)\u001b[0m\u001b[0;34m\u001b[0m\u001b[0;34m\u001b[0m\u001b[0m\n\u001b[0m",
            "\u001b[0;31mAttributeError\u001b[0m: 'ClaseEjemplo' object has no attribute 'b'"
          ]
        }
      ]
    },
    {
      "cell_type": "markdown",
      "metadata": {
        "id": "SdQ9t_LaIq__"
      },
      "source": [
        "El objeto creado por el constructor solo puede tener uno de los dos atributos posibles: `a` o `b`. Como puedes ver, acceder a un atributo de objeto (clase) no existente provoca una excepción `AttributeError`.\n",
        "\n",
        "La instrucción try-except te brinda la oportunidad de evitar problemas con propiedades inexistentes.\n",
        "\n",
        "Es fácil: mira el código en el editor."
      ]
    },
    {
      "cell_type": "code",
      "metadata": {
        "id": "zE0LrjwYI_gb",
        "colab": {
          "base_uri": "https://localhost:8080/",
          "height": 34
        },
        "outputId": "a04fb3bc-a6fd-4c28-8f51-a2bc91b3ad58"
      },
      "source": [
        "class ClaseEjemplo:\n",
        "    def __init__(self, val):\n",
        "        if val % 2 != 0:\n",
        "            self.a = 1\n",
        "        else:\n",
        "            self.b = 1\n",
        "\n",
        "objetoEjemplo = ClaseEjemplo(1)\n",
        "print(objetoEjemplo.a)\n",
        "\n",
        "try:\n",
        "    print(objetoEjemplo.b)\n",
        "except AttributeError:\n",
        "    pass"
      ],
      "execution_count": null,
      "outputs": [
        {
          "output_type": "stream",
          "text": [
            "1\n"
          ],
          "name": "stdout"
        }
      ]
    },
    {
      "cell_type": "markdown",
      "metadata": {
        "id": "HO4tKqmPJAZE"
      },
      "source": [
        "Como puedes ver, esta acción no es muy sofisticada. Esencialmente, acabamos de barrer el tema debajo de la alfombra.\n",
        "\n",
        "Afortunadamente, hay una forma más de hacer frente al problema.\n",
        "\n",
        "**Python proporciona una función que puede verificar con seguridad si algún objeto / clase contiene una propiedad específica**. La función se llama `hasattr`, y espera que le pasen dos argumentos:\n",
        "\n",
        "- La clase o el objeto que se verifica.\n",
        "- El nombre de la propiedad cuya existencia se debe informar (Nota: debe ser una cadena que contenga el nombre del atributo).\n",
        "\n",
        "La función retorna `True` o `False`.\n",
        "\n",
        "Así es como puedes utilizarla:"
      ]
    },
    {
      "cell_type": "code",
      "metadata": {
        "id": "2L3JxD0QJtbW",
        "colab": {
          "base_uri": "https://localhost:8080/",
          "height": 34
        },
        "outputId": "569e2d61-9134-44e7-8d8c-c5327d144031"
      },
      "source": [
        "class ClaseEjemplo:\n",
        "    def __init__(self, val):\n",
        "        if val % 2 != 0:\n",
        "            self.a = 1\n",
        "        else:\n",
        "            self.b = 1\n",
        "\n",
        "objetoEjemplo = ClaseEjemplo(1)\n",
        "print(objetoEjemplo.a)\n",
        "\n",
        "if hasattr(objetoEjemplo, 'b'):\n",
        "    print(objetoEjemplo.b)"
      ],
      "execution_count": null,
      "outputs": [
        {
          "output_type": "stream",
          "text": [
            "1\n"
          ],
          "name": "stdout"
        }
      ]
    },
    {
      "cell_type": "markdown",
      "metadata": {
        "id": "uswoVrDgJ2WF"
      },
      "source": [
        "No olvides que la función `hasattr()` también puede operar en clases. Puedes usarlo **para averiguar si una variable de clase está disponible**, como en el ejemplo en el editor.\n",
        "\n",
        "La función devuelve `True` si la clase especificada contiene un atributo dado, y `False` de lo contrario.\n",
        "\n",
        "¿Puedes adivinar la salida del código? Ejecútalo para verificar tus conjeturas."
      ]
    },
    {
      "cell_type": "code",
      "metadata": {
        "id": "0qK8H_obKBJ7",
        "colab": {
          "base_uri": "https://localhost:8080/",
          "height": 51
        },
        "outputId": "492a8225-8753-4865-8510-1cad43c2d085"
      },
      "source": [
        "class ClaseEjemplo:\n",
        "    attr = 1\n",
        "\n",
        "print(hasattr(ClaseEjemplo, 'attr'))\n",
        "print(hasattr(ClaseEjemplo, 'prop'))"
      ],
      "execution_count": null,
      "outputs": [
        {
          "output_type": "stream",
          "text": [
            "True\n",
            "False\n"
          ],
          "name": "stdout"
        }
      ]
    },
    {
      "cell_type": "markdown",
      "metadata": {
        "id": "JmNvGVOCKLuA"
      },
      "source": [
        "Un ejemplo más: analiza el código a continuación e intenta predecir su salida:"
      ]
    },
    {
      "cell_type": "code",
      "metadata": {
        "id": "AWV5KNPcKMO2",
        "colab": {
          "base_uri": "https://localhost:8080/"
        },
        "outputId": "e6f3fc32-7953-42c2-9f37-e00431fdbb26"
      },
      "source": [
        "class ClaseEjemplo:\n",
        "    a = 1\n",
        "    def __init__(self):\n",
        "        self.b = 2\n",
        "\n",
        "objetoEjemplo = ClaseEjemplo()\n",
        "\n",
        "print(hasattr(objetoEjemplo, 'b'))\n",
        "print(hasattr(objetoEjemplo, 'a'))\n",
        "print(hasattr(ClaseEjemplo, 'b'))\n",
        "print(hasattr(ClaseEjemplo, 'a'))\n",
        "objetoEjemplo.__dict__"
      ],
      "execution_count": null,
      "outputs": [
        {
          "output_type": "stream",
          "text": [
            "True\n",
            "True\n",
            "False\n",
            "True\n"
          ],
          "name": "stdout"
        },
        {
          "output_type": "execute_result",
          "data": {
            "text/plain": [
              "{'b': 2}"
            ]
          },
          "metadata": {
            "tags": []
          },
          "execution_count": 10
        }
      ]
    },
    {
      "cell_type": "markdown",
      "metadata": {
        "id": "F631oUgNKiMQ"
      },
      "source": [
        "Bien, hemos llegado al final de esta sección. En la siguiente sección vamos a hablar sobre los métodos, ya que los métodos dirigen los objetos y los activan."
      ]
    },
    {
      "cell_type": "markdown",
      "metadata": {
        "id": "aA-UbnuOlng1"
      },
      "source": [
        "## 6.4 POO: Métodos"
      ]
    },
    {
      "cell_type": "markdown",
      "metadata": {
        "id": "Vei78AQplrpZ"
      },
      "source": [
        "### Métodos a detalle"
      ]
    },
    {
      "cell_type": "markdown",
      "metadata": {
        "id": "h3qOz8_DKqJZ"
      },
      "source": [
        "Resumamos todos los hechos relacionados con el uso de métodos en las clases de Python.\n",
        "\n",
        "Como ya sabes, un **método es una función que está dentro de una clase**.\n",
        "\n",
        "Hay un requisito fundamental: un **método está obligado a tener al menos un parámetro** (no existen métodos sin parámetros; un método puede invocarse sin un argumento, pero no puede declararse sin parámetros).\n",
        "\n",
        "El primer (o único) parámetro generalmente se denomina `self`. Te sugerimos que lo sigas nombrando de esta manera, darle otros nombres puede causar sorpresas inesperadas.\n",
        "\n",
        "El nombre $\\texttt{self}$ sugiere el propósito del parámetro - **identifica el objeto para el cual se invoca el método**.\n",
        "\n",
        "Si vas a invocar un método, no debes pasar el argumento para el parámetro `self` - Python lo configurará por ti.\n",
        "\n",
        "El ejemplo en el editor muestra la diferencia."
      ]
    },
    {
      "cell_type": "code",
      "metadata": {
        "id": "G0ZL6tp0KvrC",
        "colab": {
          "base_uri": "https://localhost:8080/",
          "height": 34
        },
        "outputId": "c4c57594-cee3-4281-85fd-f0ea82bbd705"
      },
      "source": [
        "class conClase:\n",
        "    def metodo(self):\n",
        "        print(\"método\")\n",
        "\n",
        "obj = conClase()\n",
        "obj.metodo()"
      ],
      "execution_count": null,
      "outputs": [
        {
          "output_type": "stream",
          "text": [
            "método\n"
          ],
          "name": "stdout"
        }
      ]
    },
    {
      "cell_type": "markdown",
      "metadata": {
        "id": "wRqItUeIKx45"
      },
      "source": [
        "Toma en cuenta la forma en que hemos creado el objeto - hemos **tratado el nombre de la clase como una función**, y devuelve un objeto recién instanciado de la clase.\n",
        "\n",
        "Si deseas que el método acepte parámetros distintos a `self`, debes:\n",
        "\n",
        "- Colocarlos después de `self` en la definición del método.\n",
        "- Pasarlos como argumentos durante la invocación sin especificar `self`.\n",
        "\n",
        "Justo como aqui:"
      ]
    },
    {
      "cell_type": "code",
      "metadata": {
        "id": "ZMk2nMgPL1K1",
        "colab": {
          "base_uri": "https://localhost:8080/",
          "height": 68
        },
        "outputId": "d19349d8-8311-48a7-db2d-e64e4c17b48a"
      },
      "source": [
        "class conClase:\n",
        "    def metodo(self, par):\n",
        "        print(\"método:\", par)\n",
        "\n",
        "obj = conClase()\n",
        "obj.metodo(1)\n",
        "obj.metodo(2)\n",
        "obj.metodo(3)"
      ],
      "execution_count": null,
      "outputs": [
        {
          "output_type": "stream",
          "text": [
            "método: 1\n",
            "método: 2\n",
            "método: 3\n"
          ],
          "name": "stdout"
        }
      ]
    },
    {
      "cell_type": "markdown",
      "metadata": {
        "id": "584zOjoPL_bb"
      },
      "source": [
        "El parámetro `self` es usado **para obtener acceso a la instancia del objeto y las variables de clase**.\n",
        "\n",
        "El ejemplo muestra ambas formas de utilizar el parámetro `self`:"
      ]
    },
    {
      "cell_type": "code",
      "metadata": {
        "id": "_NWhpZIjMFyp",
        "colab": {
          "base_uri": "https://localhost:8080/"
        },
        "outputId": "d0cdf161-ebf7-443a-c692-7a0f2909c578"
      },
      "source": [
        "class conClase:\n",
        "    varia = 2\n",
        "    def metodo(self):\n",
        "        self.varia = 5\n",
        "        print(self.varia, self.var)\n",
        "\n",
        "obj = conClase()\n",
        "obj.var = 3\n",
        "obj.metodo()\n",
        "obj2 = conClase()\n",
        "print(\"obj2.varia\", obj2.varia)\n",
        "print(\"obj.varia:\", obj.varia)\n",
        "print(obj.__dict__)\n",
        "print(obj2.__dict__)\n"
      ],
      "execution_count": null,
      "outputs": [
        {
          "output_type": "stream",
          "text": [
            "5 3\n",
            "obj2.varia 2\n",
            "obj.varia: 5\n",
            "{'var': 3, 'varia': 5}\n",
            "{}\n"
          ],
          "name": "stdout"
        }
      ]
    },
    {
      "cell_type": "markdown",
      "metadata": {
        "id": "DR8j0NhFMTwu"
      },
      "source": [
        "El parámetro `self` también se usa **para invocar otros métodos desde dentro de la clase**.\n",
        "\n",
        "Justo como aquí:"
      ]
    },
    {
      "cell_type": "code",
      "metadata": {
        "id": "uo7Gv9W7MX65",
        "colab": {
          "base_uri": "https://localhost:8080/",
          "height": 51
        },
        "outputId": "a71b5fa4-10bd-4884-bef2-adb8be0d7420"
      },
      "source": [
        "class conClase():\n",
        "    def otro(self):\n",
        "        print(\"otro\")\n",
        "\n",
        "    def metodo(self):\n",
        "        print(\"método\")\n",
        "        self.otro()\n",
        "\n",
        "obj = conClase()\n",
        "obj.metodo()"
      ],
      "execution_count": null,
      "outputs": [
        {
          "output_type": "stream",
          "text": [
            "método\n",
            "otro\n"
          ],
          "name": "stdout"
        }
      ]
    },
    {
      "cell_type": "markdown",
      "metadata": {
        "id": "8-1pOg_8MmjY"
      },
      "source": [
        "Si se nombra un método de esta manera: `__init__`, no será un método regular, será un constructor.\n",
        "\n",
        "Si una clase tiene un constructor, este se invoca automática e implícitamente cuando se instancia el objeto de la clase.\n",
        "\n",
        "El constructor:\n",
        "\n",
        "- Esta **obligado a tener el parámetro** `self` (se configura automáticamente).\n",
        "- **Pudiera (pero no necesariamente) tener mas parámetros** que solo `self`; si esto sucede, la forma en que se usa el nombre de la clase para crear el objeto debe tener la definición `__init__`.\n",
        "- **Se puede utilizar para configurar el objeto**, es decir, inicializa adecuadamente su estado interno, crea variables de instancia, crea instancias de cualquier otro objeto si es necesario, etc.\n",
        "\n",
        "Observa el código en el editor. El ejemplo muestra un constructor muy simple pero funcional."
      ]
    },
    {
      "cell_type": "code",
      "metadata": {
        "id": "xF-KQPiqNCXF",
        "colab": {
          "base_uri": "https://localhost:8080/",
          "height": 34
        },
        "outputId": "92ad4773-4d5c-4f1c-cf88-71445a1cbb74"
      },
      "source": [
        "class conClase:\n",
        "    def __init__(self, valor):\n",
        "        self.var = valor\n",
        "\n",
        "obj1 = conClase(\"objeto\")\n",
        "\n",
        "print(obj1.var)"
      ],
      "execution_count": null,
      "outputs": [
        {
          "output_type": "stream",
          "text": [
            "objeto\n"
          ],
          "name": "stdout"
        }
      ]
    },
    {
      "cell_type": "markdown",
      "metadata": {
        "id": "y4uCuMJPNI_e"
      },
      "source": [
        "Ten en cuenta que el constructor:\n",
        "\n",
        "- **No puede retornar un valor**, ya que está diseñado para devolver un objeto recién creado y nada más.\n",
        "\n",
        "- **No se puede invocar directamente desde el objeto o desde dentro de la clase** (puedes invocar un constructor desde cualquiera de las superclases del objeto, pero discutiremos esto más adelante).\n",
        "\n",
        "Como `__init__` es un método, y un método es una función, puedes hacer los mismos trucos con constructores y métodos que con las funciones ordinarias.\n",
        "\n",
        "El ejemplo en el editor muestra cómo definir un constructor con un valor de argumento predeterminado. Pruébalo."
      ]
    },
    {
      "cell_type": "code",
      "metadata": {
        "id": "Ebj5oAnJNgqp",
        "colab": {
          "base_uri": "https://localhost:8080/",
          "height": 51
        },
        "outputId": "b4a1621b-b86c-4a5c-c25d-91fc7f8d51cf"
      },
      "source": [
        "class conClase:\n",
        "    def __init__(self, valor = None):\n",
        "        self.var = valor\n",
        "\n",
        "obj1 = conClase(\"objeto\")\n",
        "obj2 = conClase()\n",
        "\n",
        "print(obj1.var)\n",
        "print(obj2.var)"
      ],
      "execution_count": null,
      "outputs": [
        {
          "output_type": "stream",
          "text": [
            "objeto\n",
            "None\n"
          ],
          "name": "stdout"
        }
      ]
    },
    {
      "cell_type": "markdown",
      "metadata": {
        "id": "wG3mTnTSNoKt"
      },
      "source": [
        "Todo lo que hemos dicho sobre **el manejo de los nombres** también se aplica a los nombres de métodos, un método cuyo nombre comienza con `__` está (**parcialmente**) oculto.\n",
        "\n",
        "El ejemplo muestra este efecto:"
      ]
    },
    {
      "cell_type": "code",
      "metadata": {
        "id": "oMP6jRISNyZi",
        "colab": {
          "base_uri": "https://localhost:8080/",
          "height": 68
        },
        "outputId": "e01ab72d-9c80-4477-e5d4-eb5b06a1d6fd"
      },
      "source": [
        "class conClase:\n",
        "    def visible(self):\n",
        "        print(\"visible\")\n",
        "    \n",
        "    def __oculto(self):\n",
        "        print(\"oculto\")\n",
        "\n",
        "obj = conClase()\n",
        "obj.visible()\n",
        "\n",
        "try:\n",
        "    obj.__oculto()\n",
        "except:\n",
        "    print(\"fallido\")\n",
        "\n",
        "obj._conClase__oculto()"
      ],
      "execution_count": null,
      "outputs": [
        {
          "output_type": "stream",
          "text": [
            "visible\n",
            "fallido\n",
            "oculto\n"
          ],
          "name": "stdout"
        }
      ]
    },
    {
      "cell_type": "markdown",
      "metadata": {
        "id": "KLd6iL7KOIUa"
      },
      "source": [
        "### La vida interna de clases y objetos"
      ]
    },
    {
      "cell_type": "markdown",
      "metadata": {
        "id": "ur0VhRNlOJtY"
      },
      "source": [
        "Cada clase de Python y cada objeto de Python está pre-equipado con un conjunto de atributos útiles que pueden usarse para examinar sus capacidades.\n",
        "\n",
        "Ya conoces uno de estos: es la propiedad `__dict__`.\n",
        "\n",
        "Observemos cómo esta propiedad trata con los métodos: mira el código en el editor.\n",
        "\n",
        "Ejecútalo para ver qué produce. Verifica el resultado."
      ]
    },
    {
      "cell_type": "code",
      "metadata": {
        "id": "s6gamKu0OVbp",
        "colab": {
          "base_uri": "https://localhost:8080/"
        },
        "outputId": "4be46818-9507-4106-ab57-8a4a3d909232"
      },
      "source": [
        "class conClase:\n",
        "    varia = 1\n",
        "    def __init__(self):\n",
        "        self.var = 2\n",
        "\n",
        "    def metodo(self):\n",
        "        pass\n",
        "\n",
        "    def __oculto(self):\n",
        "        pass\n",
        "\n",
        "obj = conClase()\n",
        "\n",
        "print(obj.__dict__)\n",
        "print(conClase.__dict__)"
      ],
      "execution_count": null,
      "outputs": [
        {
          "output_type": "stream",
          "text": [
            "{'var': 2}\n",
            "{'__module__': '__main__', 'varia': 1, '__init__': <function conClase.__init__ at 0x7fb9764ddea0>, 'metodo': <function conClase.metodo at 0x7fb9764ddf28>, '_conClase__oculto': <function conClase.__oculto at 0x7fb9764f0048>, '__dict__': <attribute '__dict__' of 'conClase' objects>, '__weakref__': <attribute '__weakref__' of 'conClase' objects>, '__doc__': None}\n"
          ],
          "name": "stdout"
        }
      ]
    },
    {
      "cell_type": "markdown",
      "metadata": {
        "id": "TW54uxVKOV_i"
      },
      "source": [
        "Encuentra todos los métodos y atributos definidos. Localiza el contexto en el que existen: dentro del objeto o dentro de la clase.\n",
        "\n",
        "`__dict__` es un diccionario. Otra propiedad incorporada que vale la pena mencionar es una cadena llamada `__name__`.\n",
        "\n",
        "La propiedad contiene **el nombre de la clase**. No es nada emocionante, es solo una cadena.\n",
        "\n",
        "Nota: el atributo `__name__` está ausente del objeto - **existe solo dentro de las clases**.\n",
        "\n",
        "Si deseas **encontrar la clase de un objeto en particular**, puedes usar una función llamada `type()`, la cual es capaz (entre otras cosas) de encontrar una clase que se haya utilizado para crear instancias de cualquier objeto.\n",
        "\n",
        "Mira el código en el editor, ejecútalo y compruébalo tu mismo."
      ]
    },
    {
      "cell_type": "code",
      "metadata": {
        "id": "m0TlBt9mPByB",
        "colab": {
          "base_uri": "https://localhost:8080/",
          "height": 68
        },
        "outputId": "a10a509f-aba7-473b-a896-6bdfe7b7d3b0"
      },
      "source": [
        "class conClase:\n",
        "    pass\n",
        "\n",
        "print(conClase.__name__)\n",
        "obj = conClase()\n",
        "print(type(obj).__name__)\n",
        "print(type(obj))"
      ],
      "execution_count": null,
      "outputs": [
        {
          "output_type": "stream",
          "text": [
            "conClase\n",
            "conClase\n",
            "<class '__main__.conClase'>\n"
          ],
          "name": "stdout"
        }
      ]
    },
    {
      "cell_type": "markdown",
      "metadata": {
        "id": "DkjpIb3vPdjt"
      },
      "source": [
        "Nota: algo como esto `print(obj.__name__)` causará un error.\n",
        "\n",
        "`__module__` es una cadena, también **almacena el nombre del módulo que contiene la definición de la clase**.\n",
        "\n",
        "Vamos a comprobarlo: ejecuta el código en el editor."
      ]
    },
    {
      "cell_type": "code",
      "metadata": {
        "id": "mdVxDb26Prkc",
        "colab": {
          "base_uri": "https://localhost:8080/",
          "height": 51
        },
        "outputId": "ac02db45-60ad-4d2e-a975-a79d53944f91"
      },
      "source": [
        "class conClase:\n",
        "    pass\n",
        "\n",
        "print(conClase.__module__)\n",
        "obj = conClase()\n",
        "print(obj.__module__)"
      ],
      "execution_count": null,
      "outputs": [
        {
          "output_type": "stream",
          "text": [
            "__main__\n",
            "__main__\n"
          ],
          "name": "stdout"
        }
      ]
    },
    {
      "cell_type": "markdown",
      "metadata": {
        "id": "BsR36gDrPyAr"
      },
      "source": [
        "Como sabes, cualquier módulo llamado `__main__` en realidad no es un módulo, sino es el **archivo actualmente en ejecución**.\n",
        "\n",
        "`__bases__` es una tupla. La **tupla contiene clases** (no nombres de clases) que son superclases directas para la clase.\n",
        "\n",
        "El orden es el mismo que el utilizado dentro de la definición de clase.\n",
        "\n",
        "Te mostraremos solo un ejemplo muy básico, ya que queremos resaltar **cómo funciona la herencia**.\n",
        "\n",
        "Además, te mostraremos cómo usar este atributo cuando discutamos los aspectos orientados a objetos de las excepciones.\n",
        "\n",
        "Nota: **solo las clases tienen este atributo** - los objetos no.\n",
        "\n",
        "Hemos definido una función llamada `printBases()`, diseñada para presentar claramente el contenido de la tupla.\n",
        "\n",
        "Observa el código en el editor. Ejecútalo."
      ]
    },
    {
      "cell_type": "code",
      "metadata": {
        "id": "uuCJuXuhQP79",
        "colab": {
          "base_uri": "https://localhost:8080/",
          "height": 68
        },
        "outputId": "020e8486-76f1-4376-cca3-a7ccbae0aeb0"
      },
      "source": [
        "class SuperUno:\n",
        "    pass\n",
        "\n",
        "class SuperDos:\n",
        "    pass\n",
        "\n",
        "class Sub(SuperUno, SuperDos):\n",
        "    pass\n",
        "\n",
        "\n",
        "def printBases(cls):\n",
        "    print('( ', end='')\n",
        "    for x in cls.__bases__:\n",
        "        print(x.__name__, end=' ')\n",
        "    print(')')\n",
        "\n",
        "\n",
        "printBases(SuperUno)\n",
        "printBases(SuperDos)\n",
        "printBases(Sub)"
      ],
      "execution_count": null,
      "outputs": [
        {
          "output_type": "stream",
          "text": [
            "( object )\n",
            "( object )\n",
            "( SuperUno SuperDos )\n"
          ],
          "name": "stdout"
        }
      ]
    },
    {
      "cell_type": "markdown",
      "metadata": {
        "id": "gIbH95U7QczO"
      },
      "source": [
        "Nota: **una clase sin superclases explícitas apunta al objeto** (una clase de Python predefinida) como su antecesor directo."
      ]
    },
    {
      "cell_type": "markdown",
      "metadata": {
        "id": "dcnjUJl_QmmV"
      },
      "source": [
        "### Reflexión e introspección"
      ]
    },
    {
      "cell_type": "markdown",
      "metadata": {
        "id": "lsSHzKf1Qnyt"
      },
      "source": [
        "Todo esto permite que el programador de Python realice dos actividades importantes específicas para muchos lenguajes objetivos. Las cuales son:\n",
        "\n",
        "- **Introspección**, que es la capacidad de un programa para examinar el tipo o las propiedades de un objeto en tiempo de ejecución.\n",
        "\n",
        "- **Reflexión**, que va un paso más allá, y es la capacidad de un programa para manipular los valores, propiedades y/o funciones de un objeto en tiempo de ejecución.\n",
        "\n",
        "En otras palabras, no tienes que conocer la definición completa de clase/objeto para manipular el objeto, ya que el objeto y/o su clase contienen los metadatos que te permiten reconocer sus características durante la ejecución del programa."
      ]
    },
    {
      "cell_type": "markdown",
      "metadata": {
        "id": "t_KseBznQ-kG"
      },
      "source": [
        "### Investigando Clases"
      ]
    },
    {
      "cell_type": "markdown",
      "metadata": {
        "id": "Uj_O_W8sQ_eT"
      },
      "source": [
        "¿Qué puedes descubrir acerca de las clases en Python? La respuesta es simple: todo.\n",
        "\n",
        "Tanto la reflexión como la introspección permiten al programador hacer cualquier cosa con cada objeto, sin importar de dónde provenga.\n",
        "\n",
        "Analiza el código en el editor."
      ]
    },
    {
      "cell_type": "code",
      "metadata": {
        "id": "rrIfy3xNRD8y",
        "colab": {
          "base_uri": "https://localhost:8080/",
          "height": 51
        },
        "outputId": "3548f1f2-55f0-41ad-d0b4-89f8cd641c2d"
      },
      "source": [
        "class MiClase:\n",
        "    pass\n",
        "\n",
        "obj = MiClase()\n",
        "obj.a = 1\n",
        "obj.b = 2\n",
        "obj.i = 3\n",
        "obj.ireal = 3.5\n",
        "obj.entero = 4\n",
        "obj.z = 5\n",
        "\n",
        "def incIntsI(obj):\n",
        "    for name in obj.__dict__.keys():\n",
        "        if name.startswith('i'):\n",
        "            val = getattr(obj, name)\n",
        "            if isinstance(val, int):\n",
        "                setattr(obj, name, val + 1)\n",
        "\n",
        "print(obj.__dict__)\n",
        "incIntsI(obj)\n",
        "print(obj.__dict__)"
      ],
      "execution_count": null,
      "outputs": [
        {
          "output_type": "stream",
          "text": [
            "{'a': 1, 'b': 2, 'i': 3, 'ireal': 3.5, 'entero': 4, 'z': 5}\n",
            "{'a': 1, 'b': 2, 'i': 4, 'ireal': 3.5, 'entero': 4, 'z': 5}\n"
          ],
          "name": "stdout"
        }
      ]
    },
    {
      "cell_type": "markdown",
      "metadata": {
        "id": "V9JNn8dWRFng"
      },
      "source": [
        "La función llamada `incIntsI()` obtiene un objeto de cualquier clase, escanea su contenido para encontrar todos los atributos enteros con nombres que comienzan con i, y los incrementa en uno.\n",
        "\n",
        "¿Imposible? ¡De ningúna manera!\n",
        "\n",
        "Así es como funciona:\n",
        "\n",
        "- La línea 1: define una clase simple...\n",
        "-Líneas 3 a la 10: ... la llenan con algunos atributos.\n",
        "-Línea 12: ¡esta es nuestra función!\n",
        "-Línea 13: escanea el atributo `__dict__`, buscando todos los nombres de atributos.\n",
        "-Línea 14: si un nombre comienza con i...\n",
        "-Línea 15: ... utiliza la función `getattr()` para obtener su valor actual; nota: `getattr()` toma dos argumentos: un objeto y su nombre de propiedad (como una cadena) y devuelve el valor del atributo actual.\n",
        "-Línea 16: comprueba si el valor es de tipo entero, emplea la función `isinstance()` para este propósito (discutiremos esto más adelante).\n",
        "-Línea 17: si la comprobación sale bien, incrementa el valor de la propiedad haciendo uso de la función `setattr()`; la función toma tres argumentos: un objeto, el nombre de la propiedad (como una cadena) y el nuevo valor de la propiedad.\n",
        "\n",
        "¡Eso es todo!"
      ]
    },
    {
      "cell_type": "markdown",
      "metadata": {
        "id": "8ga-UwwLlsEp"
      },
      "source": [
        "## 6.5 POO: Herencia"
      ]
    },
    {
      "cell_type": "markdown",
      "metadata": {
        "id": "-vflQKB5l7LL"
      },
      "source": [
        "### Herencia: ¿por qué y cómo?"
      ]
    },
    {
      "cell_type": "markdown",
      "metadata": {
        "id": "Zg0jqJO9SMwf"
      },
      "source": [
        "Antes de comenzar a hablar sobre la herencia, queremos presentar un nuevo y práctico mecanismo utilizado por las clases y los objetos de Python: es **la forma en que el objeto puede presentarse a si mismo**.\n",
        "\n",
        "Comencemos con un ejemplo. Observa el código en el editor."
      ]
    },
    {
      "cell_type": "code",
      "metadata": {
        "id": "pyvE7DG4SO1-",
        "colab": {
          "base_uri": "https://localhost:8080/"
        },
        "outputId": "3455bedc-d5f8-415f-a9c0-a8f32bf1414e"
      },
      "source": [
        "class Estrella:\n",
        "    def __init__(self, nombre, galaxia):\n",
        "        self.nombre = nombre\n",
        "        self.galaxia = galaxia\n",
        "\n",
        "sol = Estrella(\"Sol\", \"Vía Láctea\")\n",
        "print(sol)\n",
        "#print(sol.__str__())"
      ],
      "execution_count": null,
      "outputs": [
        {
          "output_type": "stream",
          "text": [
            "<__main__.Estrella object at 0x7f1ff0198828>\n"
          ],
          "name": "stdout"
        }
      ]
    },
    {
      "cell_type": "markdown",
      "metadata": {
        "id": "M5gF053mSQXa"
      },
      "source": [
        "Si ejecutas el mismo código en tu computadora, verás algo muy similar, aunque el número hexadecimal (la subcadena que comienza con 0x) será diferente, ya que es solo un identificador de objeto interno utilizado por Python, y es poco probable que aparezca igual cuando se ejecuta el mismo código en un entorno diferente.\n",
        "\n",
        "Como puedes ver, la impresión aquí no es realmente útil, y algo más específico, es preferible.\n",
        "\n",
        "Afortunadamente, Python ofrece tal función.\n",
        "\n",
        "Cuando Python necesita que alguna clase u objeto deba ser presentado como una cadena (es recomendable colocar el objeto como argumento en la invocación de la función `print()`), intenta invocar un método llamado `__str__()` del objeto y emplear la cadena que devuelve.\n",
        "\n",
        "El método `__str__()` por defecto devuelve la cadena anterior: fea y poco informativa. Puedes cambiarlo **definiendo tu propio método del nombre**.\n",
        "\n",
        "Lo acabamos de hacer: observa el código en el editor."
      ]
    },
    {
      "cell_type": "code",
      "metadata": {
        "id": "mn-BLMjnSmMa",
        "colab": {
          "base_uri": "https://localhost:8080/",
          "height": 34
        },
        "outputId": "667e7abc-ce20-4219-b075-05b2856eb994"
      },
      "source": [
        "class Estrella:\n",
        "    def __init__(self, nombre, galaxia):\n",
        "        self.nombre = nombre\n",
        "        self.galaxia = galaxia\n",
        "\n",
        "    def __str__(self):\n",
        "        return self.nombre + ' en la ' + self.galaxia\n",
        "\n",
        "sol = Estrella(\"Sol\", \"Vía Láctea\")\n",
        "print(sol)"
      ],
      "execution_count": null,
      "outputs": [
        {
          "output_type": "stream",
          "text": [
            "Sol en la Vía Láctea\n"
          ],
          "name": "stdout"
        }
      ]
    },
    {
      "cell_type": "markdown",
      "metadata": {
        "id": "8q3KeWdbSngn"
      },
      "source": [
        "El método nuevo `__str__()` genera una cadena que consiste en los nombres de la estrella y la galaxia, nada especial, pero los resultados de impresión se ven mejor ahora, ¿no?\n",
        "\n",
        "El término herencia es más antiguo que la programación de computadoras, y describe la práctica común de pasar diferentes bienes de una persona a otra después de la muerte de esa persona. El término, cuando se relaciona con la programación de computadoras, tiene un significado completamente diferente.\n",
        "\n",
        "Definamos el término para nuestros propósitos:\n",
        "\n",
        "La herencia es una práctica común (en la programación de objetos) de **pasar atributos y métodos de la superclase (definida y existente) a una clase recién creada, llamada subclase**.\n",
        "\n",
        "En otras palabras, la herencia es una **forma de construir una nueva clase, no desde cero, sino utilizando un repertorio de rasgos ya definido**. La nueva clase hereda (y esta es la clave) todo el equipamiento ya existente, pero puedes agregar algo nuevo si es necesario.\n",
        "\n",
        "Gracias a eso, es posible **construir clases más especializadas (más concretas)** utilizando algunos conjuntos de reglas y comportamientos generales predefinidos.\n",
        "\n",
        "El factor más importante del proceso es la relación entre la superclase y todas sus subclases (nota: si B es una subclase de A y C es una subclase de B, esto también significa que C es una subclase de A, ya que la relación es totalmente transitiva).\n",
        "\n",
        "Aquí se presenta un ejemplo muy simple de **herencia de dos niveles**:"
      ]
    },
    {
      "cell_type": "code",
      "metadata": {
        "id": "Fya50z5rTU05"
      },
      "source": [
        "class Vehiculo:\n",
        "    pass\n",
        "\n",
        "class VehiculoTerrestre(Vehiculo):\n",
        "    pass\n",
        "\n",
        "class VehiculoOruga(VehiculoTerrestre):\n",
        "    pass"
      ],
      "execution_count": null,
      "outputs": []
    },
    {
      "cell_type": "markdown",
      "metadata": {
        "id": "DBIc5aC0TX5f"
      },
      "source": [
        "Todas las clases presentadas están vacías por ahora, ya que te mostraremos cómo funcionan las relaciones mutuas entre las superclases y las subclases. Las llenaremos con contenido pronto.\n",
        "\n",
        "Podemos decir que:\n",
        "\n",
        "- La clase `Vehiculo` es la superclase para clases `VehiculoTerrestre` y `VehiculoOruga`.\n",
        "-La clase `VehiculoTerrestre` es una subclase de `Vehiculo` y la superclase de `VehiculoOruga` al mismo tiempo.\n",
        "-La clase `VehiculoOruga` es una subclase tanto de `Vehiculo` y `VehiculoTerrestre`.\n",
        "\n",
        "El conocimiento anterior proviene de la lectura del código (en otras palabras, lo sabemos porque podemos verlo).\n",
        "\n",
        "¿Python sabe lo mismo? ¿Es posible preguntarle a Python al respecto? Sí lo es.\n",
        "\n"
      ]
    },
    {
      "cell_type": "markdown",
      "metadata": {
        "id": "5XEPEVwYUIyU"
      },
      "source": [
        "### Herencia: `issubclass()`"
      ]
    },
    {
      "cell_type": "markdown",
      "metadata": {
        "id": "_ovzEOBaUKel"
      },
      "source": [
        "Python ofrece una función que es capaz de **identificar una relación entre dos clases**, y aunque su diagnóstico no es complejo, puede **verificar si una clase particular es una subclase de cualquier otra clase**.\n",
        "\n",
        "Así es como se ve: `issubclass(ClaseUno, ClaseDos)`\n",
        "\n",
        "La función devuelve `True` si `ClaseUno` es una subclase de `ClaseDos`, y `False` de lo contrario.\n",
        "\n",
        "Vamos a verlo en acción, puede sorprenderte. Mira el código en el editor. Léelo cuidadosamente.\n",
        "\n",
        "Hay dos bucles anidados. Su propósito es **verificar todos los pares de clases ordenadas posibles y que imprima los resultados de la verificación para determinar si el par coincide con la relación subclase-superclase**.\n",
        "\n",
        "Ejecuta el código. "
      ]
    },
    {
      "cell_type": "code",
      "metadata": {
        "id": "Q1lvo9PIUN1-",
        "colab": {
          "base_uri": "https://localhost:8080/",
          "height": 68
        },
        "outputId": "580b3291-30eb-4d66-bed6-5818a752766a"
      },
      "source": [
        "class Vehiculo:\n",
        "    pass\n",
        "\n",
        "class VehiculoTerrestre(Vehiculo):\n",
        "    pass\n",
        "\n",
        "class VehiculoOruga(VehiculoTerrestre):\n",
        "    pass\n",
        "\n",
        "\n",
        "for cls1 in [Vehiculo, VehiculoTerrestre, VehiculoOruga]:\n",
        "    for cls2 in [Vehiculo, VehiculoTerrestre, VehiculoOruga]:\n",
        "        print(issubclass(cls1, cls2), end=\"\\t\")\n",
        "    print()"
      ],
      "execution_count": null,
      "outputs": [
        {
          "output_type": "stream",
          "text": [
            "True\tFalse\tFalse\t\n",
            "True\tTrue\tFalse\t\n",
            "True\tTrue\tTrue\t\n"
          ],
          "name": "stdout"
        }
      ]
    },
    {
      "cell_type": "markdown",
      "metadata": {
        "id": "pWZeFH8FVX9x"
      },
      "source": [
        "Existe una observación importante que hacer: **cada clase se considera una subclase de sí misma**."
      ]
    },
    {
      "cell_type": "markdown",
      "metadata": {
        "id": "4oJD4A7CVXuL"
      },
      "source": [
        "### Herencia: `isinstance()`"
      ]
    },
    {
      "cell_type": "markdown",
      "metadata": {
        "id": "vhWeKadJURv2"
      },
      "source": [
        "Como ya sabes, **un objeto es la encarnación de una clase**. Esto significa que el objeto es como un pastel horneado usando una receta que se incluye dentro de la clase.\n",
        "\n",
        "Esto puede generar algunos problemas.\n",
        "\n",
        "Supongamos que tienes un pastel (por ejemplo, resultado de un argumento pasado a tu función). Deseas saber qué receta se ha utilizado para prepararlo. ¿Por qué? Porque deseas saber qué esperar de él, por ejemplo, si contiene nueces o no, lo cual es información crucial para ciertas personas.\n",
        "\n",
        "Del mismo modo, puede ser crucial si el objeto tiene (o no tiene) ciertas características. En otras palabras, **si es un objeto de cierta clase o no**.\n",
        "\n",
        "Tal hecho podría ser detectado por la función llamada `isinstance()`: `isinstance(nombreObjeto, nombreClase)`\n",
        "\n",
        "La función devuelve `True` si el objeto es una instancia de la clase, o `False` de lo contrario.\n",
        "\n",
        "** Ser una instancia de una clase significa que el objeto (el pastel) se ha preparado utilizando una receta contenida en la clase o en una de sus superclases**.\n",
        "\n",
        "No lo olvides: si una subclase contiene al menos las mismas caracteristicas que cualquiera de sus superclases, significa que los objetos de la subclase pueden hacer lo mismo que los objetos derivados de la superclase, por lo tanto, es una instancia de su clase de inicio y cualquiera de sus superclases.\n",
        "\n",
        "Probémoslo. Analiza el código en el editor."
      ]
    },
    {
      "cell_type": "code",
      "metadata": {
        "id": "xh2di5WxVCAI",
        "colab": {
          "base_uri": "https://localhost:8080/",
          "height": 68
        },
        "outputId": "1a4870b5-3d32-46f8-f005-9ea467b39dbb"
      },
      "source": [
        "class Vehiculo:\n",
        "    pass\n",
        "\n",
        "class VehiculoTerrestre(Vehiculo):\n",
        "    pass\n",
        "\n",
        "class VehiculoOruga(VehiculoTerrestre):\n",
        "    pass\n",
        "\n",
        "\n",
        "miVehiculo = Vehiculo()\n",
        "miVehiculoTerrestre = VehiculoTerrestre()\n",
        "miVehiculoOruga = VehiculoOruga()\n",
        "\n",
        "for obj in [miVehiculo, miVehiculoTerrestre, miVehiculoOruga]:\n",
        "    for cls in [Vehiculo, VehiculoTerrestre, VehiculoOruga]:\n",
        "        print(isinstance(obj, cls), end=\"\\t\")\n",
        "    print()"
      ],
      "execution_count": null,
      "outputs": [
        {
          "output_type": "stream",
          "text": [
            "True\tFalse\tFalse\t\n",
            "True\tTrue\tFalse\t\n",
            "True\tTrue\tTrue\t\n"
          ],
          "name": "stdout"
        }
      ]
    },
    {
      "cell_type": "markdown",
      "metadata": {
        "id": "O4Azk5gcVDhL"
      },
      "source": [
        "Hemos creado tres objetos, uno para cada una de las clases. Luego, usando dos bucles anidados, verificamos todos los pares posibles de clase de objeto para averiguar si los objetos son instancias de las clases."
      ]
    },
    {
      "cell_type": "markdown",
      "metadata": {
        "id": "_M0O1dOzV_j7"
      },
      "source": [
        "### Herencia: el operador `is`"
      ]
    },
    {
      "cell_type": "markdown",
      "metadata": {
        "id": "yda8v9zyWBdj"
      },
      "source": [
        "También existe un operador de Python que vale la pena mencionar, ya que se refiere directamente a los objetos: aquí está: `objetoUno is objetoDos`\n",
        "\n",
        "**El operador** `is` **verifica si dos variables (en este caso `objetoUno` y `objetoDos`) se refieren al mismo objeto**.\n",
        "\n",
        "No olvides que **las variables no almacenan los objetos en sí, sino solo los identificadores que apuntan a la memoria interna de Python**.\n",
        "\n",
        "Asignar un valor de una variable de objeto a otra variable no copia el objeto, sino solo su identificador. Es por ello que un operador como `is` puede ser muy útil en ciertas circunstancias.\n",
        "\n",
        "Echa un vistazo al código en el editor."
      ]
    },
    {
      "cell_type": "code",
      "metadata": {
        "id": "nUwhWF6WWGaY",
        "colab": {
          "base_uri": "https://localhost:8080/"
        },
        "outputId": "159e4813-b817-4035-9af8-aba181ff5c53"
      },
      "source": [
        "class ClaseMuestra:\n",
        "    def __init__(self, val):\n",
        "        self.val = val\n",
        "\n",
        "ob1 = ClaseMuestra(0)\n",
        "ob2 = ClaseMuestra(2)\n",
        "ob3 = ob1\n",
        "ob3.val += 1\n",
        "\n",
        "print(ob1 is ob2)\n",
        "print(ob2 is ob3)\n",
        "print(ob3 is ob1)\n",
        "print(ob1.val, ob2.val, ob3.val)\n",
        "\n",
        "str1 = \"Mary tenía un \"\n",
        "str2 = \"Mary tenía un corderito\"\n",
        "str1 += \"corderito\"\n",
        "\n",
        "print(str1 == str2, str1 is str2)"
      ],
      "execution_count": null,
      "outputs": [
        {
          "output_type": "stream",
          "text": [
            "False\n",
            "False\n",
            "True\n",
            "1 2 1\n",
            "True False\n"
          ],
          "name": "stdout"
        }
      ]
    },
    {
      "cell_type": "markdown",
      "metadata": {
        "id": "LYjEPoIIWMJX"
      },
      "source": [
        "Analicemos:\n",
        "\n",
        "- Existe una clase muy simple equipada con un constructor simple, que crea una sola propiedad. La clase se usa para instanciar dos objetos. El primero se asigna a otra variable, y su propiedad `val` se incrementa en uno.\n",
        "-Luego, el operador `is` se aplica tres veces para verificar todos los pares de objetos posibles, y todos los valores de la propiedad `val` son mostrados en pantalla.\n",
        "-La última parte del código lleva a cabo otro experimento. Después de tres tareas, ambas cadenas contienen los mismos textos, pero estos textos se almacenan en diferentes objetos.\n",
        "\n",
        "Los resultados prueban que `ob1` y `ob3` son en realidad los mismos objetos, mientras que `str1` y `str2` no lo son, a pesar de que su contenido sea el mismo."
      ]
    },
    {
      "cell_type": "markdown",
      "metadata": {
        "id": "DjBg3C8dXqff"
      },
      "source": [
        "### Cómo Python encuentra propiedades y métodos"
      ]
    },
    {
      "cell_type": "markdown",
      "metadata": {
        "id": "4byR-6xbXrpQ"
      },
      "source": [
        "Ahora veremos cómo Python trata con los métodos de herencia.\n",
        "\n",
        "Echa un vistazo al ejemplo en el editor."
      ]
    },
    {
      "cell_type": "code",
      "metadata": {
        "id": "ihtFuyX1XuZX",
        "colab": {
          "base_uri": "https://localhost:8080/"
        },
        "outputId": "2d8aa4c9-b79e-450a-d4e9-d91b124b0a32"
      },
      "source": [
        "class Superclase:\n",
        "    def __init__(self, nombre):\n",
        "        self.nombre = nombre\n",
        "\n",
        "    def __str__(self):\n",
        "        return \"Mi nombre es \" + self.nombre + \".\"\n",
        "\n",
        "class Subclase(Superclase):\n",
        "    def __init__(self, nombre):\n",
        "        Superclase.__init__(self, nombre)\n",
        "\n",
        "\n",
        "obj = Subclase(\"Andy\")\n",
        "\n",
        "print(obj)"
      ],
      "execution_count": null,
      "outputs": [
        {
          "output_type": "stream",
          "text": [
            "Mi nombre es Andy.\n"
          ],
          "name": "stdout"
        }
      ]
    },
    {
      "cell_type": "markdown",
      "metadata": {
        "id": "oVrkcnGbXwUC"
      },
      "source": [
        "Vamos a analizarlo:\n",
        "\n",
        "- Existe una clase llamada `Super`, que define su propio constructor utilizado para asignar la propiedad del objeto, llamada `nombre`.\n",
        "-La clase también define el método `__str__()`, lo que permite que la clase pueda presentar su identidad en forma de texto.\n",
        "-La clase se usa luego como base para crear una subclase llamada `Sub`. La clase `Sub` define su propio constructor, que invoca el de la superclase. Toma nota de cómo lo hemos hecho: `Super.__init__(self, nombre)`.\n",
        "-Hemos nombrado explícitamente la superclase y hemos apuntado al método para invocar a `__init__()`, proporcionando todos los argumentos necesarios.\n",
        "Hemos instanciado un objeto de la clase Sub y lo hemos impreso.\n",
        "\n",
        "Nota: Como no existe el método `__str__()` dentro de la clase Sub, la cadena a imprimir se producirá dentro de la clase `Super`. Esto significa que el método `__str__()` ha sido heredado por la clase `Sub`.\n",
        "\n",
        "Mira el código en el editor. Lo hemos modificado para mostrarte otro método de acceso a cualquier entidad definida dentro de la superclase."
      ]
    },
    {
      "cell_type": "code",
      "metadata": {
        "id": "SkeoWx_CYeDd",
        "colab": {
          "base_uri": "https://localhost:8080/"
        },
        "outputId": "5faf72fa-992d-453e-e79c-ffbdfae4b8ae"
      },
      "source": [
        "class Superclase:\n",
        "    def __init__(self, nombre):\n",
        "        self.nombre = nombre\n",
        "\n",
        "    def __str__(self):\n",
        "        return \"Mi nombre es \" + self.nombre + \".\"\n",
        "\n",
        "class Subclase(Superclase):\n",
        "    def __init__(self, nombre):\n",
        "        super().__init__(nombre)\n",
        "\n",
        "obj = Subclase(\"Andy\")\n",
        "\n",
        "print(obj)"
      ],
      "execution_count": null,
      "outputs": [
        {
          "output_type": "stream",
          "text": [
            "Mi nombre es Andy.\n"
          ],
          "name": "stdout"
        }
      ]
    },
    {
      "cell_type": "markdown",
      "metadata": {
        "id": "b3SwfbKeY8Y_"
      },
      "source": [
        "En el ejemplo anterior, nombramos explícitamente la superclase. En este ejemplo, hacemos uso de la función `super()`, la cual **accede a la superclase sin necesidad de conocer su nombre**: `super().__init__(nombre)`\n",
        "\n",
        "La función `super()` crea un contexto en el que no tiene que (además, no debe) pasar el argumento propio al método que se invoca; es por eso que es posible activar el constructor de la superclase utilizando solo un argumento.\n",
        "\n",
        "Nota: puedes usar este mecanismo no solo para **invocar al constructor de la superclase, pero también para obtener acceso a cualquiera de los recursos disponibles dentro de la superclase**.\n",
        "\n",
        "Intentemos hacer algo similar, pero con propiedades (más precisamente con: **variables de clase**).\n",
        "\n",
        "Observa el ejemplo en el editor."
      ]
    },
    {
      "cell_type": "code",
      "metadata": {
        "id": "7mUdyenyZbvO",
        "colab": {
          "base_uri": "https://localhost:8080/"
        },
        "outputId": "542c8617-a28c-4da7-b4ba-7a69a88903e5"
      },
      "source": [
        "# Probando propiedades: variables de clase\n",
        "class Superclase:\n",
        "    supVar = 1\n",
        "\n",
        "class Subclase(Superclase):\n",
        "    subVar = 2\n",
        "\n",
        "obj = Subclase()\n",
        "\n",
        "print(obj.subVar)\n",
        "print(obj.supVar)"
      ],
      "execution_count": null,
      "outputs": [
        {
          "output_type": "stream",
          "text": [
            "2\n",
            "1\n"
          ],
          "name": "stdout"
        }
      ]
    },
    {
      "cell_type": "markdown",
      "metadata": {
        "id": "1YWL4cIRZlJ8"
      },
      "source": [
        "Como puedes observar, la clase `Superclase` define una variable de clase llamada `supVar`, y la clase `Subclase` define una variable llamada `subVar`. Ambas variables son visibles dentro del objeto de clase `Subclase`.\n",
        "\n",
        "El mismo efecto se puede observar con variables de instancia - observa el segundo ejemplo en el editor."
      ]
    },
    {
      "cell_type": "code",
      "metadata": {
        "id": "7i-rPWJIZ0V_",
        "colab": {
          "base_uri": "https://localhost:8080/",
          "height": 51
        },
        "outputId": "fbfde160-486d-4b1d-db5a-1d00eaeb5ad4"
      },
      "source": [
        "# Probando propiedades: variables de instancia\n",
        "class Super:\n",
        "    def __init__(self):\n",
        "        self.supVar = 11\n",
        "\n",
        "class Sub(Super):\n",
        "    def __init__(self):\n",
        "        super().__init__()\n",
        "        self.subVar = 12\n",
        "\n",
        "obj = Sub()\n",
        "\n",
        "print(obj.subVar)\n",
        "print(obj.supVar)"
      ],
      "execution_count": null,
      "outputs": [
        {
          "output_type": "stream",
          "text": [
            "12\n",
            "11\n"
          ],
          "name": "stdout"
        }
      ]
    },
    {
      "cell_type": "markdown",
      "metadata": {
        "id": "r_KJE06UZ6_o"
      },
      "source": [
        "El constructor de la clase `Sub` crea una variable de instancia llamada `subVar`, mientras que el constructor de `Super` hace lo mismo con una variable de nombre `supVar`. Al igual que el ejemplo anterior, ambas variables son accesibles desde el objeto de clase `Sub`. \n",
        "\n",
        "Nota: La existencia de la variable `supVar` obviamente está condicionada por la invocación del constructor de la clase `Super`. Omitirlo daría como resultado la ausencia de la variable en el objeto creado (pruébalo tu mismo).\n",
        "\n",
        "Ahora es posible formular una declaración general que describa el comportamiento de Python.\n",
        "\n",
        "Cuando intentes acceder a una entidad de cualquier objeto, Python intentará (en este orden):\n",
        "\n",
        "- Encontrarla dentro del objeto mismo.\n",
        "-Encontrarla **en todas las clases** involucradas en la línea de herencia del objeto de abajo hacia arriba.\n",
        "\n",
        "Si ambos intentos fallan, una excepción (`AttributeError`) será lanzada.\n",
        "\n",
        "La primera condición puede necesitar atención adicional. Como sabes, todos los objetos derivados de una clase en particular pueden tener diferentes conjuntos de atributos, y algunos de los atributos pueden agregarse al objeto mucho tiempo después de la creación del objeto.\n",
        "\n",
        "El ejemplo en el editor resume esto en una línea de herencia de tres niveles."
      ]
    },
    {
      "cell_type": "code",
      "metadata": {
        "id": "YE2BFqS3alIP",
        "colab": {
          "base_uri": "https://localhost:8080/",
          "height": 68
        },
        "outputId": "44dcd9fd-4817-4b40-ba98-14af04410ac9"
      },
      "source": [
        "class Nivel1:\n",
        "    varia1 = 100\n",
        "    def __init__(self):\n",
        "        self.var1 = 101\n",
        "\n",
        "    def fun1(self):\n",
        "        return 102\n",
        "\n",
        "\n",
        "class Nivel2(Nivel1):\n",
        "    varia2 = 200\n",
        "    def __init__(self):\n",
        "        super().__init__()\n",
        "        self.var2 = 201\n",
        "    \n",
        "    def fun2(self):\n",
        "        return 202\n",
        "\n",
        "\n",
        "class Nivel3(Nivel2):\n",
        "    varia3 = 300\n",
        "    def __init__(self):\n",
        "        super().__init__()\n",
        "        self.var3 = 301\n",
        "\n",
        "    def fun3(self):\n",
        "        return 302\n",
        "\n",
        "\n",
        "obj = Nivel3()\n",
        "\n",
        "print(obj.varia1, obj.var1, obj.fun1())\n",
        "print(obj.varia2, obj.var2, obj.fun2())\n",
        "print(obj.varia3, obj.var3, obj.fun3())"
      ],
      "execution_count": null,
      "outputs": [
        {
          "output_type": "stream",
          "text": [
            "100 101 102\n",
            "200 201 202\n",
            "300 301 302\n"
          ],
          "name": "stdout"
        }
      ]
    },
    {
      "cell_type": "markdown",
      "metadata": {
        "id": "YecC4vYCa4q9"
      },
      "source": [
        "Todos los comentarios que hemos hecho hasta ahora están relacionados con **casos de herencia única**, cuando una subclase tiene exactamente una superclase. Esta es la situación más común (y también la recomendada).\n",
        "\n",
        "Python, sin embargo, ofrece mucho más aquí. En las próximas lecciones te mostraremos algunos ejemplos de **herencia múltiple**.\n",
        "\n",
        "**La herencia múltiple ocurre cuando una clase tiene más de una superclase**.\n",
        "\n",
        "Sintácticamente, dicha herencia se presenta como una lista de superclases separadas por comas entre paréntesis después del nombre de la nueva clase, al igual que aquí:"
      ]
    },
    {
      "cell_type": "code",
      "metadata": {
        "id": "3SmNNAXuoat7",
        "colab": {
          "base_uri": "https://localhost:8080/",
          "height": 51
        },
        "outputId": "7c8d7e80-7e2f-4d3b-c4b6-b0c2c143789d"
      },
      "source": [
        "class SuperA:\n",
        "    varA = 10\n",
        "    def funA(self):\n",
        "        return 11\n",
        "\n",
        "class SuperB:\n",
        "    varB = 20\n",
        "    def funB(self):\n",
        "        return 21\n",
        "\n",
        "class Sub(SuperA, SuperB):\n",
        "    pass\n",
        "\n",
        "obj = Sub()\n",
        "\n",
        "print(obj.varA, obj.funA())\n",
        "print(obj.varB, obj.funB())"
      ],
      "execution_count": null,
      "outputs": [
        {
          "output_type": "stream",
          "text": [
            "10 11\n",
            "20 21\n"
          ],
          "name": "stdout"
        }
      ]
    },
    {
      "cell_type": "markdown",
      "metadata": {
        "id": "UJpXc57koelw"
      },
      "source": [
        "La clase `Sub` tiene dos superclases: `SuperA` y `SuperB`. Esto significa que la clase `Sub` hereda todos los bienes ofrecidos por ambas clases `SuperA` y `SuperB`.\n",
        "\n",
        "Ahora es el momento de introducir un nuevo término - **overriding (anulación)**.\n",
        "\n",
        "¿Qué crees que sucederá si más de una de las superclases define una entidad con un nombre en particular? Analicemos el ejemplo en el editor.\n"
      ]
    },
    {
      "cell_type": "code",
      "metadata": {
        "id": "FMw1wJHwoxI-",
        "colab": {
          "base_uri": "https://localhost:8080/",
          "height": 34
        },
        "outputId": "c5b71b0b-421b-4d69-fdce-6bcef7c75a18"
      },
      "source": [
        "class Nivel1:\n",
        "    var = 100\n",
        "    def fun(self):\n",
        "        return 101\n",
        "\n",
        "class Nivel2:\n",
        "    var = 200\n",
        "    def fun(self):\n",
        "        return 201\n",
        "\n",
        "class Nivel3(Nivel2):\n",
        "    pass\n",
        "\n",
        "obj = Nivel3()\n",
        "\n",
        "print(obj.var, obj.fun())"
      ],
      "execution_count": null,
      "outputs": [
        {
          "output_type": "stream",
          "text": [
            "200 201\n"
          ],
          "name": "stdout"
        }
      ]
    },
    {
      "cell_type": "markdown",
      "metadata": {
        "id": "osqUQIUEo7HX"
      },
      "source": [
        "Tanto la clase `Nivel1` como `Nivel2` definen un método llamado `fun()` y una propiedad llamada `var`. ¿Significará esto el objeto de la clase `Nivel3` podrá acceder a dos copias de cada entidad? De ningún modo.\n",
        "\n",
        "**La entidad definida después (en el sentido de herencia) anula la misma entidad definida anteriormente**. Es por eso que el código produce el siguiente resultado: `200 201`\n",
        "\n",
        "Como puedes ver, la variable de clase `var` y el método `fun()` de la clase `Nivel2` anula las entidades de los mismos nombres derivados de la clase `Nivel1`.\n",
        "\n",
        "Esta característica se puede usar intencionalmente para modificar el comportamiento predeterminado de las clases (o definido previamente) cuando cualquiera de tus clases necesite actuar de manera diferente a su ancestro.\n",
        "\n",
        "También podemos decir que **Python busca una entidad de abajo hacia arriba**, y está completamente satisfecho con la primera entidad del nombre deseado que encuentre.\n",
        "\n",
        "¿Qué ocurre cuando una clase tiene dos ancestros que ofrecen la misma entidad y se encuentran en el mismo nivel? En otras palabras, ¿Qué se debe esperar cuando surge una clase usando herencia múltiple? Miremos lo siguiente.\n",
        "\n"
      ]
    },
    {
      "cell_type": "code",
      "metadata": {
        "id": "LJKnU4Vkpkb4",
        "colab": {
          "base_uri": "https://localhost:8080/",
          "height": 34
        },
        "outputId": "72e076db-3f08-4543-a78e-56fbb658c744"
      },
      "source": [
        "class Izquierda:\n",
        "    var = \"I\"\n",
        "    varIzquierda = \"II\"\n",
        "    def fun(self):\n",
        "        return \"Izquierda\"\n",
        "\n",
        "\n",
        "class Derecha:\n",
        "    var = \"D\"\n",
        "    varDerecha = \"DD\"\n",
        "    def fun(self):\n",
        "        return \"Derecha\"\n",
        "\n",
        "class Sub(Izquierda, Derecha):\n",
        "    pass\n",
        "\n",
        "\n",
        "obj = Sub()\n",
        "\n",
        "print(obj.var, obj.varIzquierda, obj.varDerecha, obj.fun())"
      ],
      "execution_count": null,
      "outputs": [
        {
          "output_type": "stream",
          "text": [
            "I II DD Izquierda\n"
          ],
          "name": "stdout"
        }
      ]
    },
    {
      "cell_type": "markdown",
      "metadata": {
        "id": "TVvKuQZypxO8"
      },
      "source": [
        "La clase `Sub` hereda todos los bienes de dos superclases, `Izquierda` y `Derecha` (estos nombres están destinados a ser significativos).\n",
        "\n",
        "No hay duda de que la variable de clase `varDerecha` proviene de la clase `Derecha`, y la variable `varIzquierda` proviene de la clase `Izquierda` respectivamente.\n",
        "\n",
        "Esto es claro. Pero, ¿De donde proviene la variable `var`? ¿Es posible adivinarlo? El mismo problema se encuentra con el método `fun()` - ¿Será invocado desde `Izquierda` o desde `Derecha`? Ejecutemos el programa: la salida será: `I II DD Izquierda`\n",
        "\n",
        "Esto prueba que ambos casos poco claros tienen una solución dentro de la clase `Izquierda`. ¿Es esta una premisa suficiente para formular una regla general? Sí lo es.\n",
        "\n",
        "Podemos decir que **Python busca componentes de objetos** en el siguiente orden:\n",
        "\n",
        "- Dentro del objeto mismo.\n",
        "-En sus superclases, de abajo hacia arriba.\n",
        "-Si hay más de una clase en una ruta de herencia, Python las escanea de izquierda a derecha.\n",
        "\n",
        "¿Necesitas algo más? Simplemente haz una pequeña enmienda en el código - reemplaza:`class Sub(Izquierda, Derecha):` con: `class Sub(Derecha, Izquierda):`, luego ejecuta el programa nuevamente y observa qué sucede."
      ]
    },
    {
      "cell_type": "markdown",
      "metadata": {
        "id": "Ij3PNsdTqdU1"
      },
      "source": [
        "### Cómo construir una jerarquía de clases"
      ]
    },
    {
      "cell_type": "markdown",
      "metadata": {
        "id": "_F8SqMNuqerh"
      },
      "source": [
        "Construir una jerarquía de clases no es solo por amor al arte.\n",
        "\n",
        "Si divides un problema entre las clases y decides cuál de ellas debe ubicarse en la parte superior y cuál debe ubicarse en la parte inferior de la jerarquía, debes analizar cuidadosamente el problema, pero antes de mostrarte cómo hacerlo (y cómo no hacerlo), queremos resaltar un efecto interesante. No es nada extraordinario (es solo una consecuencia de las reglas generales presentadas anteriormente), pero recordarlo puede ser clave para comprender cómo funcionan algunos códigos y cómo se puede usar este efecto para construir un conjunto flexible de clases.\n",
        "\n",
        "Echa un vistazo al código en el editor. "
      ]
    },
    {
      "cell_type": "code",
      "metadata": {
        "id": "Uepd_F7kqm8g",
        "colab": {
          "base_uri": "https://localhost:8080/"
        },
        "outputId": "3254d0e9-f53e-475f-d75f-afe4e4a97dff"
      },
      "source": [
        "class Uno:\n",
        "    def hazlo(self):\n",
        "        print(\"hazlo de Uno\")\n",
        "\n",
        "    def haz_algo(self):\n",
        "        self.hazlo()\n",
        "\n",
        "class Dos(Uno):\n",
        "    def hazlo(self):\n",
        "        print(\"hazlo de Dos\")\n",
        "\n",
        "uno = Uno()\n",
        "dos = Dos()\n",
        "\n",
        "uno.haz_algo()\n",
        "dos.haz_algo()"
      ],
      "execution_count": null,
      "outputs": [
        {
          "output_type": "stream",
          "text": [
            "hazlo de Uno\n",
            "hazlo de Dos\n"
          ],
          "name": "stdout"
        }
      ]
    },
    {
      "cell_type": "markdown",
      "metadata": {
        "id": "4Uz0SmpYrArN"
      },
      "source": [
        "Analicemos:\n",
        "\n",
        "- Existen dos clases llamadas `Uno` y `Dos`, se entiende que `Dos` es derivada de `Uno`. Nada especial. Sin embargo, algo es notable: el método `hazlo()`.\n",
        "-El método `hazlo()` está **definido dos veces**: originalmente dentro de `Uno` y posteriormente dentro de `Dos`. La esencia del ejemplo radica en el hecho de que es **invocado solo una vez** - dentro de `Uno`.\n",
        "\n",
        "La pregunta es: ¿cuál de los dos métodos será invocado por las dos últimas líneas del código?\n",
        "\n",
        "La primera invocación parece ser simple, el invocar el método `haz_algo()` del objeto `uno` obviamente activará el primero de los métodos.\n",
        "\n",
        "La segunda invocación necesita algo de atención. También es simple si tienes en cuenta cómo Python encuentra los componentes de la clase. La segunda invocación lanzará el método `hazlo()` en la forma existente dentro de la clase `Dos`, independientemente del hecho de que la invocación se lleva a cabo dentro de la clase `Uno`.\n",
        "\n",
        "Nota: la situación en la cual **la subclase puede modificar el comportamiento de su superclase (como en el ejemplo) se llama polimorfismo**. La palabra proviene del griego (polys: \"muchos, mucho\" y morphe, \"forma, forma\"), lo que significa que una misma clase puede tomar varias formas dependiendo de las redefiniciones realizadas por cualquiera de sus subclases.\n",
        "\n",
        "El método, redefinido en cualquiera de las superclases, que cambia el comportamiento de la superclase, se llama **virtual**.\n",
        "\n",
        "En otras palabras, ninguna clase se da por hecho. El comportamiento de cada clase puede ser modificado en cualquier momento por cualquiera de sus subclases.\n",
        "\n",
        "Te mostraremos **cómo usar el polimorfismo para extender la flexibilidad de la clase**. Mira el ejemplo en el editor."
      ]
    },
    {
      "cell_type": "code",
      "metadata": {
        "id": "5InjdwBRsPgg"
      },
      "source": [
        "import time\n",
        "\n",
        "class VehiculoOruga:\n",
        "    def control_de_pista(izquierda, alto):\n",
        "        pass\n",
        "\n",
        "    def girar(izquierda):\n",
        "        control_de_pista(izquierda, True)\n",
        "        time.sleep(0.25)\n",
        "        control_de_pista(izquierda, False)\n",
        "\n",
        "\n",
        "class VehiculoTerrestre:\n",
        "    def girar_ruedas_delanteras(izquierda, on):\n",
        "        pass\n",
        "\n",
        "    def girar(izquierda):\n",
        "        girar_ruedas_delanteras(izquierda, True)\n",
        "        time.sleep(0.25)\n",
        "        girar_ruedas_delanteras(izquierda, False)"
      ],
      "execution_count": null,
      "outputs": []
    },
    {
      "cell_type": "markdown",
      "metadata": {
        "id": "Q3ZDrONOsTFl"
      },
      "source": [
        "¿Se parece a algo? Sí, por supuesto que lo hace. Se refiere al ejemplo que se muestra al comienzo del módulo cuando hablamos de los conceptos generales de la programación orientada a objetos.\n",
        "\n",
        "Puede parecer extraño, pero no utilizamos herencia en este ejemplo, solo queríamos mostrarte que no nos limita.\n",
        "\n",
        "Definimos dos clases separadas capaces de producir dos tipos diferentes de vehículos terrestres. La principal diferencia entre ellos está en cómo giran. Un vehículo con ruedas solo gira las ruedas delanteras (generalmente). Un vehículo oruga tiene que detener una de las pistas.\n",
        "\n",
        "¿Puedes seguir el código?\n",
        "\n",
        "- Un vehículo oruga realiza un giro deteniéndose y moviéndose en una de sus pistas (esto lo hace el método `control_de_pista()`, el cual se implementará más tarde).\n",
        "-Un vehículo con ruedas gira cuando sus ruedas delanteras giran (esto lo hace el método `girar_ruedas_delanteras()`).\n",
        "-El método `girar()` utiliza el método adecuado para cada vehículo en particular.\n",
        "\n",
        "¿Puedes detectar el error del código?\n",
        "\n",
        "Los métodos `girar()` son muy similares como para dejarlos en esta forma.\n",
        "\n",
        "Vamos a reconstruir el código: vamos a presentar una superclase para reunir todos los aspectos similares de los vehículos, trasladando todos los detalles a las subclases.\n",
        "\n",
        "Mira el código en el editor nuevamente.\n"
      ]
    },
    {
      "cell_type": "code",
      "metadata": {
        "id": "VCBLGJSAs4DC"
      },
      "source": [
        "import time\n",
        "\n",
        "class Vehiculo:\n",
        "    def cambiardireccion(izquierda, on):\n",
        "        pass\n",
        "\n",
        "    def girar(izquierda):\n",
        "        cambiardireccion(izquierda, True)\n",
        "        time.sleep(0.25)\n",
        "        cambiardireccion(izquierda, False)\n",
        "\n",
        "class VehiculoOruga(Vehiculo):\n",
        "    def control_de_pista(izquierda, alto):\n",
        "        pass\n",
        "\n",
        "    def cambiardireccion(izquierda, on):\n",
        "        control_de_pista(izquierda, on)\n",
        "\n",
        "class VehiculoTerrestre(Vehiculo):\n",
        "    def girar_ruedas_delanteras(izquierda, on):\n",
        "        pass\n",
        "\n",
        "    def cambiardireccion(izquierda, on):\n",
        "        girar_ruedas_delanteras(izquierda, on)"
      ],
      "execution_count": null,
      "outputs": []
    },
    {
      "cell_type": "markdown",
      "metadata": {
        "id": "qsrLcbCjtDIk"
      },
      "source": [
        "Esto es lo que hemos hecho:\n",
        "\n",
        "- Definimos una superclase llamada `Vehiculo`, la cual utiliza el método `girar()` para implementar un esquema para poder girar, mientras que el giro en si es realizado por `cambiardireccion()`; nota: dicho método está vacío, ya que vamos a poner todos los detalles en la subclase (dicho método a menudo se denomina **método abstracto**, ya que solo demuestra alguna posibilidad que será instanciada más tarde).\n",
        "-Definimos una subclase llamada `VehiculoOruga` (nota: es derivada de la clase Vehiculo) la cual instancia el método `cambiardireccion()` utilizando el método denominado `control_de_pista()`.\n",
        "-Respectivamente, la subclase llamada `VehiculoTerrestre` hace lo mismo, pero usa el método `girar_ruedas_delanteras()` para obligar al vehículo a girar.\n",
        "\n",
        "La ventaja más importante (omitiendo los problemas de legibilidad) es que esta forma de código te permite implementar un nuevo algoritmo de giro simplemente modificando el método `girar()`, lo cual se puede hacer en un solo lugar, ya que todos los vehículos lo obedecerán.\n",
        "\n",
        "Así es como **el polimorfismo ayuda al desarrollador a mantener el código limpio y consistente**.\n",
        "\n",
        "La herencia no es la única forma de construir clases adaptables. Puedes lograr los mismos objetivos (no siempre, pero muy a menudo) utilizando una técnica llamada composición.\n",
        "\n",
        "**La composición es el proceso de componer un objeto usando otros objetos diferentes**. Los objetos utilizados en la composición entregan un conjunto de rasgos deseados (propiedades y / o métodos), podemos decir que actúan como bloques utilizados para construir una estructura más complicada.\n",
        "\n",
        "Puede decirse que:\n",
        "\n",
        "- **La herencia extiende las capacidades de una clase** agregando nuevos componentes y modificando los existentes; en otras palabras, la receta completa está contenida dentro de la clase misma y todos sus ancestros; el objeto toma todas las pertenencias de la clase y las usa.\n",
        "-**La composición proyecta una clase como contenedor** capaz de almacenar y usar otros objetos (derivados de otras clases) donde cada uno de los objetos implementa una parte del comportamiento de una clase.\n",
        "\n",
        "Permítenos ilustrar la diferencia usando los vehículos previamente definidos. El enfoque anterior nos condujo a una jerarquía de clases en la que la clase más alta conocía las reglas generales utilizadas para girar el vehículo, pero no sabía cómo controlar los componentes apropiados (ruedas o pistas).\n",
        "\n",
        "Las subclases implementaron esta capacidad mediante la introducción de mecanismos especializados. Hagamos (casi) lo mismo, pero usando composición. La clase, como en el ejemplo anterior, sabe cómo girar el vehículo, pero el giro real lo realiza un objeto especializado almacenado en una propiedad llamada `controlador`. El `controlador` es capaz de controlar el vehículo manipulando las partes relevantes del vehículo.\n",
        "\n",
        "Echa un vistazo al editor: así es como podría verse."
      ]
    },
    {
      "cell_type": "code",
      "metadata": {
        "id": "QwmbPRDyuPc-",
        "colab": {
          "base_uri": "https://localhost:8080/",
          "height": 85
        },
        "outputId": "ef995680-62da-4e78-a6b9-8667563a8a24"
      },
      "source": [
        "import time\n",
        "\n",
        "class Pistas:\n",
        "    def cambiardireccion(self, izquierda, on):\n",
        "        print(\"pistas: \", izquierda, on)\n",
        "\n",
        "class Ruedas:\n",
        "    def cambiardireccion(self, izquierda, on):\n",
        "        print(\"ruedas: \", izquierda, on)\n",
        "\n",
        "class Vehiculo:\n",
        "    def __init__(self, controlador):\n",
        "        self.controlador = controlador\n",
        "\n",
        "    def girar(self, izquierda):\n",
        "        self.controlador.cambiardireccion(izquierda, True)\n",
        "        time.sleep(0.25)\n",
        "        self.controlador.cambiardireccion(izquierda, False)\n",
        "\n",
        "conRuedas = Vehiculo(Ruedas())\n",
        "conPistas = Vehiculo(Pistas())\n",
        "\n",
        "conRuedas.girar(True)\n",
        "conPistas.girar(False)"
      ],
      "execution_count": null,
      "outputs": [
        {
          "output_type": "stream",
          "text": [
            "ruedas:  True True\n",
            "ruedas:  True False\n",
            "pistas:  False True\n",
            "pistas:  False False\n"
          ],
          "name": "stdout"
        }
      ]
    },
    {
      "cell_type": "markdown",
      "metadata": {
        "id": "G-KqPEHWvUMx"
      },
      "source": [
        "Existen dos clases llamadas `Pistas` y `Ruedas` - ellas saben cómo controlar la dirección del vehículo. También hay una clase llamada `Vehiculo` que puede usar cualquiera de los controladores disponibles (los dos ya definidos o cualquier otro definido en el futuro): el `controlador` se pasa a la clase durante la inicialización.\n",
        "\n",
        "De esta manera, la capacidad de giro del vehículo se compone de un objeto externo, no implementado dentro de la clase `Vehiculo`.\n",
        "\n",
        "En otras palabras, tenemos un vehículo universal y podemos instalar pistas o ruedas en él."
      ]
    },
    {
      "cell_type": "markdown",
      "metadata": {
        "id": "sQ61ECy2vqPa"
      },
      "source": [
        "### Herencia simple versus herencia múltiple"
      ]
    },
    {
      "cell_type": "markdown",
      "metadata": {
        "id": "YQ71-bczvrii"
      },
      "source": [
        "Como ya sabes, no hay obstáculos para usar la herencia múltiple en Python. Puedes derivar cualquier clase nueva de más de una clase definida previamente.\n",
        "\n",
        "Solo hay un \"pero\". El hecho de que puedas hacerlo no significa que tengas que hacerlo.\n",
        "\n",
        "No olvides que:\n",
        "\n",
        "- Una sola clase de herencia siempre es más simple, segura y fácil de entender y mantener.\n",
        "\n",
        "-La herencia múltiple siempre es arriesgada, ya que tienes muchas más oportunidades de cometer un error al identificar estas partes de las superclases que influirán efectivamente en la nueva clase.\n",
        "\n",
        "-La herencia múltiple puede hacer que la anulación sea extremadamente difícil; además, el emplear la función `super()` se vuelve ambiguo.\n",
        "\n",
        "-La herencia múltiple viola el **principio de responsabilidad única** (más detalles aquí: https://en.wikipedia.org/wiki/Single_responsibility_principle) ya que forma una nueva clase de dos (o más) clases que no saben nada una de la otra.\n",
        "\n",
        "-Sugerimos encarecidamente la herencia múltiple como la última de todas las posibles soluciones: si realmente necesitas las diferentes funcionalidades que ofrecen las diferentes clases, la composición puede ser una mejor alternativa."
      ]
    },
    {
      "cell_type": "markdown",
      "metadata": {
        "id": "bi9F0TuMvvSf"
      },
      "source": [
        "### Diamantes y porque no los quieres"
      ]
    },
    {
      "cell_type": "markdown",
      "metadata": {
        "id": "bFhCRQD4vxgn"
      },
      "source": [
        "El espectro de problemas que posiblemente provienen de la herencia múltiple se ilustra mediante un problema clásico denominado **problema de diamantes**. El nombre refleja la forma del diagrama de herencia: echa un vistazo a la imagen.\n",
        "\n",
        "- Existe la superclase superior nombrada A.\n",
        "-Aquí hay dos subclases derivadas de A - B y C.\n",
        "-Y también está la subclase inferior llamada D, derivada de B y C (o C y B, ya que estas dos variantes significan cosas diferentes en Python).\n",
        "\n",
        "¿Puedes ver el diamante allí?\n",
        "\n",
        "A Python, sin embargo, no le gustan los diamantes, y no te permitirá implementar algo como esto. Si intentas construir una jerarquía como esta:"
      ]
    },
    {
      "cell_type": "code",
      "metadata": {
        "id": "42OSCH3cv2cP",
        "colab": {
          "base_uri": "https://localhost:8080/",
          "height": 248
        },
        "outputId": "25b5d013-4d53-4697-d3e4-6e77634046ec"
      },
      "source": [
        "class A:\n",
        "    pass\n",
        "\n",
        "class B(A):\n",
        "    pass\n",
        "\n",
        "class C(A):\n",
        "    pass\n",
        "\n",
        "class D(A, B):\n",
        "    pass\n",
        "\n",
        "d = D()"
      ],
      "execution_count": null,
      "outputs": [
        {
          "output_type": "error",
          "ename": "TypeError",
          "evalue": "ignored",
          "traceback": [
            "\u001b[0;31m---------------------------------------------------------------------------\u001b[0m",
            "\u001b[0;31mTypeError\u001b[0m                                 Traceback (most recent call last)",
            "\u001b[0;32m<ipython-input-42-7824d4625e28>\u001b[0m in \u001b[0;36m<module>\u001b[0;34m()\u001b[0m\n\u001b[1;32m      8\u001b[0m     \u001b[0;32mpass\u001b[0m\u001b[0;34m\u001b[0m\u001b[0;34m\u001b[0m\u001b[0m\n\u001b[1;32m      9\u001b[0m \u001b[0;34m\u001b[0m\u001b[0m\n\u001b[0;32m---> 10\u001b[0;31m \u001b[0;32mclass\u001b[0m \u001b[0mD\u001b[0m\u001b[0;34m(\u001b[0m\u001b[0mA\u001b[0m\u001b[0;34m,\u001b[0m \u001b[0mB\u001b[0m\u001b[0;34m)\u001b[0m\u001b[0;34m:\u001b[0m\u001b[0;34m\u001b[0m\u001b[0;34m\u001b[0m\u001b[0m\n\u001b[0m\u001b[1;32m     11\u001b[0m     \u001b[0;32mpass\u001b[0m\u001b[0;34m\u001b[0m\u001b[0;34m\u001b[0m\u001b[0m\n\u001b[1;32m     12\u001b[0m \u001b[0;34m\u001b[0m\u001b[0m\n",
            "\u001b[0;31mTypeError\u001b[0m: Cannot create a consistent method resolution\norder (MRO) for bases A, B"
          ]
        }
      ]
    },
    {
      "cell_type": "markdown",
      "metadata": {
        "id": "znZUABCev4cr"
      },
      "source": [
        "Obtendrás una excepción `TypeError`, junto con el siguiente mensaje:...\n",
        "\n",
        "Donde `MRO` significa Method Resolution Order. Este es el algoritmo que Python utiliza para buscar el árbol de herencia y encontrar los métodos necesarios.\n",
        "\n",
        "Los diamantes son preciosos y valiosos ... pero no en la programación. Evítalos por tu propio bien."
      ]
    },
    {
      "cell_type": "markdown",
      "metadata": {
        "id": "0J22KuZul7iy"
      },
      "source": [
        "## 6.6 Excepciones una vez más"
      ]
    },
    {
      "cell_type": "markdown",
      "metadata": {
        "id": "jYvCKdH_mNEY"
      },
      "source": [
        "El discutir sobre la programación orientada a objetos ofrece una muy buena oportunidad para volver a las excepciones. La naturaleza orientada a objetos de las excepciones de Python las convierte en una herramienta muy flexible, capaz de adaptarse a necesidades específicas, incluso aquellas que aún no conoces.\n",
        "\n",
        "Antes de adentrarnos en el **lado orientado a objetos de las excepciones**, queremos mostrarte algunos aspectos sintácticos y semánticos de la forma en que Python trata el bloque try-except, ya que ofrece un poco más de lo que hemos presentado hasta ahora.\n",
        "\n",
        "La primera característica que queremos analizar aquí es una rama adicional posible que se puede colocar dentro (o más bien, directamente detrás) del bloque try-except: es la parte del código que comienza con `else` - justo como el ejemplo en el editor."
      ]
    },
    {
      "cell_type": "code",
      "metadata": {
        "id": "mN9Az_uixbQG",
        "colab": {
          "base_uri": "https://localhost:8080/",
          "height": 85
        },
        "outputId": "1eaa5f65-3954-4b54-d1b3-90ce8bfa8133"
      },
      "source": [
        "def reciproco(n):\n",
        "    try:\n",
        "        n = 1 / n\n",
        "    except ZeroDivisionError:\n",
        "        print(\"División fallida\")\n",
        "        return None\n",
        "    else:\n",
        "        print(\"Todo salió bien\")\n",
        "        return n\n",
        "\n",
        "print(reciproco(2))\n",
        "print(reciproco(0))"
      ],
      "execution_count": null,
      "outputs": [
        {
          "output_type": "stream",
          "text": [
            "Todo salió bien\n",
            "0.5\n",
            "División fallida\n",
            "None\n"
          ],
          "name": "stdout"
        }
      ]
    },
    {
      "cell_type": "markdown",
      "metadata": {
        "id": "WU5-eL29xb_9"
      },
      "source": [
        "Un código etiquetado de esta manera se ejecuta cuando (y solo cuando) no se ha generado ninguna excepción dentro de la parte del `try:`. Podemos decir que esta rama se ejecuta después del `try:` - ya sea el que comienza con `except` (no olvides que puede haber más de una rama de este tipo) o la que comienza con `else`.\n",
        "\n",
        "Nota: la rama `else:` debe ubicarse después de la última rama `except`.\n",
        "\n",
        "El bloque try-except se puede extender de una manera más: agregando una parte encabezada por la palabra clave reservada `finally` (debe ser la última rama del código diseñada para manejar excepciones).\n",
        "\n",
        "Nota: estas dos variantes (`else` y `finally`) no son dependientes entre si, y pueden coexistir u ocurrir de manera independiente.\n",
        "\n",
        "El bloque `finally` siempre se ejecuta (finaliza la ejecución del bloque try-except, de ahí su nombre), sin importar lo que sucedió antes, incluso cuando se genera o lanza una excepción, sin importar si esta se ha manejado o no."
      ]
    },
    {
      "cell_type": "code",
      "metadata": {
        "id": "7ZzEStIHyc64",
        "colab": {
          "base_uri": "https://localhost:8080/",
          "height": 119
        },
        "outputId": "c4e65ed5-8786-4134-8ab5-fa99fef4baba"
      },
      "source": [
        "def reciproco(n):\n",
        "    try:\n",
        "        n = 1 / n\n",
        "    except ZeroDivisionError:\n",
        "        print(\"División fallida\")\n",
        "        n = None\n",
        "    else:\n",
        "        print(\"Todo salió bien\")\n",
        "    finally:\n",
        "        print(\"Es el momento de decir adiós\")\n",
        "        return n\n",
        "\n",
        "print(reciproco(2))\n",
        "print(reciproco(0))"
      ],
      "execution_count": null,
      "outputs": [
        {
          "output_type": "stream",
          "text": [
            "Todo salió bien\n",
            "Es el momento de decir adiós\n",
            "0.5\n",
            "División fallida\n",
            "Es el momento de decir adiós\n",
            "None\n"
          ],
          "name": "stdout"
        }
      ]
    },
    {
      "cell_type": "markdown",
      "metadata": {
        "id": "m70YzlG_yimC"
      },
      "source": [
        "### Las excepciones son clases"
      ]
    },
    {
      "cell_type": "markdown",
      "metadata": {
        "id": "P_Fmi1I5yoIG"
      },
      "source": [
        "Los ejemplos anteriores se centraron en detectar un tipo específico de excepción y responder de manera apropiada. Ahora vamos a profundizar más y mirar dentro de la excepción misma.\n",
        "\n",
        "Probablemente no te sorprenderá saber que **las excepciones son clases**. Además, cuando se genera una excepción, se crea una instancia de un objeto de la clase y pasa por todos los niveles de ejecución del programa, buscando la rama \"except\" que está preparada para tratar con la excepción.\n",
        "\n",
        "Tal objeto lleva información útil que puede ayudarte a identificar con precisión todos los aspectos de la situación pendiente. Para lograr ese objetivo, Python ofrece una variante especial de la cláusula de excepción: puedes encontrarla en el editor.\n",
        "\n",
        "Como puedes ver, la sentencia `except` se extendió y contiene una frase adicional que comienza con la palabra clave reservada `as`, seguida por un identificador. El identificador está diseñado para capturar la excepción con el fin de analizar su naturaleza y sacar conclusiones adecuadas.\n",
        "\n",
        "Nota: el alcance del identificador solo es dentro del `except`, y no va más allá.\n",
        "\n"
      ]
    },
    {
      "cell_type": "code",
      "metadata": {
        "id": "zLguz77OzZz1",
        "colab": {
          "base_uri": "https://localhost:8080/",
          "height": 51
        },
        "outputId": "d6b22ab4-99ac-4108-cdb3-df35c6650358"
      },
      "source": [
        "try:\n",
        "    i = int(\"Hola!\")\n",
        "except Exception as e:\n",
        "    print(e)\n",
        "    print(e.__str__())"
      ],
      "execution_count": null,
      "outputs": [
        {
          "output_type": "stream",
          "text": [
            "invalid literal for int() with base 10: 'Hola!'\n",
            "invalid literal for int() with base 10: 'Hola!'\n"
          ],
          "name": "stdout"
        }
      ]
    },
    {
      "cell_type": "markdown",
      "metadata": {
        "id": "-gttakFBzafS"
      },
      "source": [
        "El ejemplo presenta una forma muy simple de utilizar el objeto recibido: simplemente imprímelo (como puedes ver, la salida es producida por el método del objeto `__str__()`) y contiene un breve mensaje que describe la razón.\n",
        "\n",
        "Se imprimirá el mismo mensaje si no hay un bloque `except` en el código, y Python se verá obligado a manejarlo por si mismo."
      ]
    },
    {
      "cell_type": "code",
      "metadata": {
        "id": "8bOahv8-z4zM",
        "colab": {
          "base_uri": "https://localhost:8080/",
          "height": 163
        },
        "outputId": "ff88899a-8970-454f-d006-6431ee8d2020"
      },
      "source": [
        "i = int(\"Hola!\")"
      ],
      "execution_count": null,
      "outputs": [
        {
          "output_type": "error",
          "ename": "ValueError",
          "evalue": "ignored",
          "traceback": [
            "\u001b[0;31m---------------------------------------------------------------------------\u001b[0m",
            "\u001b[0;31mValueError\u001b[0m                                Traceback (most recent call last)",
            "\u001b[0;32m<ipython-input-46-6394f933b094>\u001b[0m in \u001b[0;36m<module>\u001b[0;34m()\u001b[0m\n\u001b[0;32m----> 1\u001b[0;31m \u001b[0mi\u001b[0m \u001b[0;34m=\u001b[0m \u001b[0mint\u001b[0m\u001b[0;34m(\u001b[0m\u001b[0;34m\"Hola!\"\u001b[0m\u001b[0;34m)\u001b[0m\u001b[0;34m\u001b[0m\u001b[0;34m\u001b[0m\u001b[0m\n\u001b[0m",
            "\u001b[0;31mValueError\u001b[0m: invalid literal for int() with base 10: 'Hola!'"
          ]
        }
      ]
    },
    {
      "cell_type": "markdown",
      "metadata": {
        "id": "l8bUywxT0CtU"
      },
      "source": [
        "Todas las excepciones integradas de Python forman una jerarquía de clases.\n",
        "\n",
        "Analiza el código en el editor."
      ]
    },
    {
      "cell_type": "code",
      "metadata": {
        "id": "7oauWUQW0DTF",
        "colab": {
          "base_uri": "https://localhost:8080/",
          "height": 1000
        },
        "outputId": "9211310e-5d87-4830-ee70-2b2cf4f22dd2"
      },
      "source": [
        "def printExcTree(thisclass, nest = 0):\n",
        "    if nest > 1:\n",
        "        print(\"   |\" * (nest - 1), end=\"\")\n",
        "    if nest > 0:\n",
        "        print(\"   +---\", end=\"\")\n",
        "\n",
        "    print(thisclass.__name__)\n",
        "\n",
        "    for subclass in thisclass.__subclasses__():\n",
        "        printExcTree(subclass, nest + 1)\n",
        "\n",
        "printExcTree(BaseException)"
      ],
      "execution_count": null,
      "outputs": [
        {
          "output_type": "stream",
          "text": [
            "BaseException\n",
            "   +---Exception\n",
            "   |   +---TypeError\n",
            "   |   |   +---MultipartConversionError\n",
            "   |   |   +---FloatOperation\n",
            "   |   |   +---UFuncTypeError\n",
            "   |   |   |   +---UFuncTypeError\n",
            "   |   |   |   +---UFuncTypeError\n",
            "   |   |   |   +---UFuncTypeError\n",
            "   |   |   |   |   +---UFuncTypeError\n",
            "   |   |   |   |   +---UFuncTypeError\n",
            "   |   |   +---ApplyTypeError\n",
            "   |   |   +---ConversionError\n",
            "   |   +---StopAsyncIteration\n",
            "   |   +---StopIteration\n",
            "   |   +---ImportError\n",
            "   |   |   +---ModuleNotFoundError\n",
            "   |   |   +---ZipImportError\n",
            "   |   |   +---SQLAlchemyRequired\n",
            "   |   +---OSError\n",
            "   |   |   +---ConnectionError\n",
            "   |   |   |   +---BrokenPipeError\n",
            "   |   |   |   +---ConnectionAbortedError\n",
            "   |   |   |   +---ConnectionRefusedError\n",
            "   |   |   |   +---ConnectionResetError\n",
            "   |   |   |   |   +---RemoteDisconnected\n",
            "   |   |   +---BlockingIOError\n",
            "   |   |   +---ChildProcessError\n",
            "   |   |   +---FileExistsError\n",
            "   |   |   +---FileNotFoundError\n",
            "   |   |   |   +---ExecutableNotFoundError\n",
            "   |   |   +---IsADirectoryError\n",
            "   |   |   +---NotADirectoryError\n",
            "   |   |   +---InterruptedError\n",
            "   |   |   |   +---InterruptedSystemCall\n",
            "   |   |   +---PermissionError\n",
            "   |   |   +---ProcessLookupError\n",
            "   |   |   +---TimeoutError\n",
            "   |   |   +---UnsupportedOperation\n",
            "   |   |   +---ItimerError\n",
            "   |   |   +---Error\n",
            "   |   |   |   +---SameFileError\n",
            "   |   |   +---SpecialFileError\n",
            "   |   |   +---ExecError\n",
            "   |   |   +---ReadError\n",
            "   |   |   +---herror\n",
            "   |   |   +---gaierror\n",
            "   |   |   +---timeout\n",
            "   |   |   +---SSLError\n",
            "   |   |   |   +---SSLZeroReturnError\n",
            "   |   |   |   +---SSLWantReadError\n",
            "   |   |   |   +---SSLWantWriteError\n",
            "   |   |   |   +---SSLSyscallError\n",
            "   |   |   |   +---SSLEOFError\n",
            "   |   |   +---DatabaseError\n",
            "   |   |   +---UnidentifiedImageError\n",
            "   |   +---EOFError\n",
            "   |   |   +---IncompleteReadError\n",
            "   |   +---RuntimeError\n",
            "   |   |   +---RecursionError\n",
            "   |   |   +---NotImplementedError\n",
            "   |   |   |   +---StdinNotImplementedError\n",
            "   |   |   |   +---ZMQVersionError\n",
            "   |   |   |   +---AbstractMethodError\n",
            "   |   |   +---_DeadlockError\n",
            "   |   |   +---BrokenBarrierError\n",
            "   |   |   +---ExtractionError\n",
            "   |   |   +---BrokenProcessPool\n",
            "   |   |   +---TooHardError\n",
            "   |   +---NameError\n",
            "   |   |   +---UnboundLocalError\n",
            "   |   |   +---NameResolutionError\n",
            "   |   |   +---UndefinedVariableError\n",
            "   |   |   +---NumExprClobberingError\n",
            "   |   +---AttributeError\n",
            "   |   |   +---OptionError\n",
            "   |   +---SyntaxError\n",
            "   |   |   +---IndentationError\n",
            "   |   |   |   +---TabError\n",
            "   |   +---LookupError\n",
            "   |   |   +---IndexError\n",
            "   |   |   |   +---AxisError\n",
            "   |   |   |   +---OutOfBounds\n",
            "   |   |   +---KeyError\n",
            "   |   |   |   +---UnknownBackend\n",
            "   |   |   |   +---NoSuchKernel\n",
            "   |   |   |   +---UnknownTimeZoneError\n",
            "   |   |   |   +---OptionError\n",
            "   |   |   |   +---UnsortedIndexError\n",
            "   |   |   +---CodecRegistryError\n",
            "   |   +---ValueError\n",
            "   |   |   +---UnicodeError\n",
            "   |   |   |   +---UnicodeEncodeError\n",
            "   |   |   |   +---UnicodeDecodeError\n",
            "   |   |   |   +---UnicodeTranslateError\n",
            "   |   |   +---UnsupportedOperation\n",
            "   |   |   +---JSONDecodeError\n",
            "   |   |   +---ClassNotFound\n",
            "   |   |   +---Error\n",
            "   |   |   +---InvalidFileException\n",
            "   |   |   +---MessageDefect\n",
            "   |   |   |   +---NoBoundaryInMultipartDefect\n",
            "   |   |   |   +---StartBoundaryNotFoundDefect\n",
            "   |   |   |   +---CloseBoundaryNotFoundDefect\n",
            "   |   |   |   +---FirstHeaderLineIsContinuationDefect\n",
            "   |   |   |   +---MisplacedEnvelopeHeaderDefect\n",
            "   |   |   |   +---MissingHeaderBodySeparatorDefect\n",
            "   |   |   |   +---MultipartInvariantViolationDefect\n",
            "   |   |   |   +---InvalidMultipartContentTransferEncodingDefect\n",
            "   |   |   |   +---UndecodableBytesDefect\n",
            "   |   |   |   +---InvalidBase64PaddingDefect\n",
            "   |   |   |   +---InvalidBase64CharactersDefect\n",
            "   |   |   |   +---InvalidBase64LengthDefect\n",
            "   |   |   |   +---HeaderDefect\n",
            "   |   |   |   |   +---InvalidHeaderDefect\n",
            "   |   |   |   |   +---HeaderMissingRequiredValue\n",
            "   |   |   |   |   +---NonPrintableDefect\n",
            "   |   |   |   |   +---ObsoleteHeaderDefect\n",
            "   |   |   |   |   +---NonASCIILocalPartDefect\n",
            "   |   |   +---IllegalMonthError\n",
            "   |   |   +---IllegalWeekdayError\n",
            "   |   |   +---InvalidVersion\n",
            "   |   |   +---InvalidSpecifier\n",
            "   |   |   +---InvalidMarker\n",
            "   |   |   +---UndefinedComparison\n",
            "   |   |   +---UndefinedEnvironmentName\n",
            "   |   |   +---InvalidRequirement\n",
            "   |   |   |   +---RequirementParseError\n",
            "   |   |   +---ClipboardEmpty\n",
            "   |   |   +---MacroToEdit\n",
            "   |   |   +---AddressValueError\n",
            "   |   |   +---NetmaskValueError\n",
            "   |   |   +---CertificateError\n",
            "   |   |   +---ParserError\n",
            "   |   |   +---DisabledFunctionError\n",
            "   |   |   +---AxisError\n",
            "   |   |   +---OutOfBoundsDatetime\n",
            "   |   |   +---NullFrequencyError\n",
            "   |   |   +---DateParseError\n",
            "   |   |   +---IncompatibleFrequency\n",
            "   |   |   +---UnsupportedFunctionCall\n",
            "   |   |   +---ParserError\n",
            "   |   |   +---EmptyDataError\n",
            "   |   |   +---MergeError\n",
            "   |   |   +---SettingWithCopyError\n",
            "   |   |   +---NonIntersectingPathException\n",
            "   |   +---AssertionError\n",
            "   |   +---ArithmeticError\n",
            "   |   |   +---FloatingPointError\n",
            "   |   |   +---OverflowError\n",
            "   |   |   +---ZeroDivisionError\n",
            "   |   |   |   +---DivisionByZero\n",
            "   |   |   |   +---DivisionUndefined\n",
            "   |   |   +---DecimalException\n",
            "   |   |   |   +---Clamped\n",
            "   |   |   |   +---Rounded\n",
            "   |   |   |   |   +---Underflow\n",
            "   |   |   |   |   +---Overflow\n",
            "   |   |   |   +---Inexact\n",
            "   |   |   |   |   +---Underflow\n",
            "   |   |   |   |   +---Overflow\n",
            "   |   |   |   +---Subnormal\n",
            "   |   |   |   |   +---Underflow\n",
            "   |   |   |   +---DivisionByZero\n",
            "   |   |   |   +---FloatOperation\n",
            "   |   |   |   +---InvalidOperation\n",
            "   |   |   |   |   +---ConversionSyntax\n",
            "   |   |   |   |   +---DivisionImpossible\n",
            "   |   |   |   |   +---DivisionUndefined\n",
            "   |   |   |   |   +---InvalidContext\n",
            "   |   +---SystemError\n",
            "   |   |   +---CodecRegistryError\n",
            "   |   +---ReferenceError\n",
            "   |   +---BufferError\n",
            "   |   +---MemoryError\n",
            "   |   |   +---MemoryError\n",
            "   |   +---Warning\n",
            "   |   |   +---UserWarning\n",
            "   |   |   |   +---GetPassWarning\n",
            "   |   |   |   +---FormatterWarning\n",
            "   |   |   |   +---VisibleDeprecationWarning\n",
            "   |   |   |   +---RankWarning\n",
            "   |   |   |   +---ConversionWarning\n",
            "   |   |   |   +---RankWarning\n",
            "   |   |   |   +---MatplotlibDeprecationWarning\n",
            "   |   |   |   +---IgnoredKeywordWarning\n",
            "   |   |   +---DeprecationWarning\n",
            "   |   |   |   +---ProvisionalWarning\n",
            "   |   |   |   +---ModuleDeprecationWarning\n",
            "   |   |   +---PendingDeprecationWarning\n",
            "   |   |   +---SyntaxWarning\n",
            "   |   |   +---RuntimeWarning\n",
            "   |   |   |   +---PEP440Warning\n",
            "   |   |   |   +---UnknownTimezoneWarning\n",
            "   |   |   |   +---ComplexWarning\n",
            "   |   |   |   +---DecompressionBombWarning\n",
            "   |   |   +---FutureWarning\n",
            "   |   |   |   +---MaskedArrayFutureWarning\n",
            "   |   |   +---ImportWarning\n",
            "   |   |   +---UnicodeWarning\n",
            "   |   |   +---BytesWarning\n",
            "   |   |   +---ResourceWarning\n",
            "   |   |   +---PkgResourcesDeprecationWarning\n",
            "   |   |   +---DeprecatedTzFormatWarning\n",
            "   |   |   +---PerformanceWarning\n",
            "   |   |   +---DtypeWarning\n",
            "   |   |   +---ParserWarning\n",
            "   |   |   +---AccessorRegistrationWarning\n",
            "   |   |   +---SettingWithCopyWarning\n",
            "   |   |   +---IncompatibilityWarning\n",
            "   |   |   +---AttributeConflictWarning\n",
            "   |   |   +---DuplicateWarning\n",
            "   |   |   +---PossiblePrecisionLoss\n",
            "   |   |   +---ValueLabelTypeMismatch\n",
            "   |   |   +---InvalidColumnName\n",
            "   |   |   +---MathTextWarning\n",
            "   |   +---Error\n",
            "   |   +---_OptionError\n",
            "   |   +---error\n",
            "   |   +---Verbose\n",
            "   |   +---_Error\n",
            "   |   +---SubprocessError\n",
            "   |   |   +---CalledProcessError\n",
            "   |   |   +---TimeoutExpired\n",
            "   |   +---TokenError\n",
            "   |   +---StopTokenizing\n",
            "   |   +---Error\n",
            "   |   +---error\n",
            "   |   +---LZMAError\n",
            "   |   +---RegistryError\n",
            "   |   +---EndOfBlock\n",
            "   |   +---error\n",
            "   |   +---TraitError\n",
            "   |   +---ArgumentError\n",
            "   |   +---ArgumentTypeError\n",
            "   |   +---ConfigError\n",
            "   |   |   +---ConfigLoaderError\n",
            "   |   |   |   +---ArgumentError\n",
            "   |   |   +---ConfigFileNotFound\n",
            "   |   +---ConfigurableError\n",
            "   |   |   +---MultipleInstanceError\n",
            "   |   +---ApplicationError\n",
            "   |   +---ErrorDuringImport\n",
            "   |   +---BdbQuit\n",
            "   |   +---OptionError\n",
            "   |   +---Restart\n",
            "   |   +---ExceptionPexpect\n",
            "   |   |   +---EOF\n",
            "   |   |   +---TIMEOUT\n",
            "   |   +---error\n",
            "   |   +---PtyProcessError\n",
            "   |   +---FindCmdError\n",
            "   |   +---HomeDirError\n",
            "   |   +---ProfileDirError\n",
            "   |   +---IPythonCoreError\n",
            "   |   |   +---TryNext\n",
            "   |   |   +---UsageError\n",
            "   |   |   +---StdinNotImplementedError\n",
            "   |   +---InputRejected\n",
            "   |   +---GetoptError\n",
            "   |   +---Incomplete\n",
            "   |   +---BadZipFile\n",
            "   |   +---LargeZipFile\n",
            "   |   +---ExpatError\n",
            "   |   +---MessageError\n",
            "   |   |   +---MessageParseError\n",
            "   |   |   |   +---HeaderParseError\n",
            "   |   |   |   +---BoundaryError\n",
            "   |   |   +---MultipartConversionError\n",
            "   |   |   +---CharsetError\n",
            "   |   +---_GiveupOnSendfile\n",
            "   |   +---ParseBaseException\n",
            "   |   |   +---ParseException\n",
            "   |   |   +---ParseFatalException\n",
            "   |   |   |   +---ParseSyntaxException\n",
            "   |   +---RecursiveGrammarException\n",
            "   |   +---ResolutionError\n",
            "   |   |   +---VersionConflict\n",
            "   |   |   |   +---ContextualVersionConflict\n",
            "   |   |   +---DistributionNotFound\n",
            "   |   |   +---UnknownExtra\n",
            "   |   +---ErrorToken\n",
            "   |   +---TokenError\n",
            "   |   +---StopTokenizing\n",
            "   |   +---_Stop\n",
            "   |   +---PickleError\n",
            "   |   |   +---PicklingError\n",
            "   |   |   +---UnpicklingError\n",
            "   |   +---PrefilterError\n",
            "   |   +---AliasError\n",
            "   |   |   +---InvalidAliasError\n",
            "   |   +---Error\n",
            "   |   |   +---InterfaceError\n",
            "   |   |   +---DatabaseError\n",
            "   |   |   |   +---InternalError\n",
            "   |   |   |   +---OperationalError\n",
            "   |   |   |   +---ProgrammingError\n",
            "   |   |   |   +---IntegrityError\n",
            "   |   |   |   +---DataError\n",
            "   |   |   |   +---NotSupportedError\n",
            "   |   +---Warning\n",
            "   |   +---SpaceInInput\n",
            "   |   +---ValidationError\n",
            "   |   +---EditReadOnlyBuffer\n",
            "   |   +---HeightIsUnknownError\n",
            "   |   +---InteractivelyDefined\n",
            "   |   +---OptParseError\n",
            "   |   |   +---OptionError\n",
            "   |   |   |   +---OptionConflictError\n",
            "   |   |   +---OptionValueError\n",
            "   |   |   +---BadOptionError\n",
            "   |   |   |   +---AmbiguousOptionError\n",
            "   |   +---KillEmbeded\n",
            "   |   +---ArgumentError\n",
            "   |   +---ZMQBaseError\n",
            "   |   |   +---ZMQError\n",
            "   |   |   |   +---ContextTerminated\n",
            "   |   |   |   +---Again\n",
            "   |   |   |   +---InterruptedSystemCall\n",
            "   |   |   +---ZMQBindError\n",
            "   |   |   +---NotDone\n",
            "   |   +---NoIPAddresses\n",
            "   |   +---DistutilsError\n",
            "   |   |   +---DistutilsModuleError\n",
            "   |   |   +---DistutilsClassError\n",
            "   |   |   +---DistutilsGetoptError\n",
            "   |   |   +---DistutilsArgError\n",
            "   |   |   +---DistutilsFileError\n",
            "   |   |   +---DistutilsOptionError\n",
            "   |   |   +---DistutilsSetupError\n",
            "   |   |   +---DistutilsPlatformError\n",
            "   |   |   +---DistutilsExecError\n",
            "   |   |   +---DistutilsInternalError\n",
            "   |   |   +---DistutilsTemplateError\n",
            "   |   |   +---DistutilsByteCompileError\n",
            "   |   +---CCompilerError\n",
            "   |   |   +---PreprocessError\n",
            "   |   |   +---CompileError\n",
            "   |   |   +---LibError\n",
            "   |   |   +---LinkError\n",
            "   |   |   +---UnknownFileError\n",
            "   |   +---InvalidPortNumber\n",
            "   |   +---Empty\n",
            "   |   +---Full\n",
            "   |   +---DuplicateKernelError\n",
            "   |   +---TimeoutError\n",
            "   |   +---error\n",
            "   |   +---StackContextInconsistentError\n",
            "   |   +---Error\n",
            "   |   |   +---CancelledError\n",
            "   |   |   +---TimeoutError\n",
            "   |   |   +---InvalidStateError\n",
            "   |   +---ProcessError\n",
            "   |   |   +---BufferTooShort\n",
            "   |   |   +---TimeoutError\n",
            "   |   |   +---AuthenticationError\n",
            "   |   +---_RemoteTraceback\n",
            "   |   +---QueueEmpty\n",
            "   |   +---QueueFull\n",
            "   |   +---LimitOverrunError\n",
            "   |   +---ReturnValueIgnoredError\n",
            "   |   +---KeyReuseError\n",
            "   |   +---UnknownKeyError\n",
            "   |   +---LeakedCallbackError\n",
            "   |   +---BadYieldError\n",
            "   |   +---ReturnValueIgnoredError\n",
            "   |   +---Return\n",
            "   |   +---FormattedTracebackError\n",
            "   |   +---Error\n",
            "   |   |   +---AuthorizationError\n",
            "   |   |   +---MessageError\n",
            "   |   +---WidgetException\n",
            "   |   +---JsException\n",
            "   |   +---LapackError\n",
            "   |   +---LinAlgError\n",
            "   |   +---ConverterError\n",
            "   |   |   +---ConverterLockError\n",
            "   |   +---PolyError\n",
            "   |   |   +---PolyDomainError\n",
            "   |   +---MAError\n",
            "   |   |   +---MaskError\n",
            "   |   +---SkipTest\n",
            "   |   +---_ShouldStop\n",
            "   |   +---_UnexpectedSuccess\n",
            "   |   +---KnownFailureException\n",
            "   |   +---IgnoreException\n",
            "   |   +---InvalidTimeError\n",
            "   |   |   +---AmbiguousTimeError\n",
            "   |   |   +---NonExistentTimeError\n",
            "   |   +---GroupByError\n",
            "   |   |   +---DataError\n",
            "   |   |   +---SpecificationError\n",
            "   |   +---InvalidIndexError\n",
            "   |   +---IndexingError\n",
            "   |   +---InvalidApply\n",
            "   |   +---Error\n",
            "   |   +---PossibleDataLossError\n",
            "   |   +---ClosedFileError\n",
            "   |   +---Error\n",
            "   |   +---HTTPException\n",
            "   |   |   +---NotConnected\n",
            "   |   |   +---InvalidURL\n",
            "   |   |   +---UnknownProtocol\n",
            "   |   |   +---UnknownTransferEncoding\n",
            "   |   |   +---UnimplementedFileMode\n",
            "   |   |   +---IncompleteRead\n",
            "   |   |   +---ImproperConnectionState\n",
            "   |   |   |   +---CannotSendRequest\n",
            "   |   |   |   +---CannotSendHeader\n",
            "   |   |   |   +---ResponseNotReady\n",
            "   |   |   +---BadStatusLine\n",
            "   |   |   |   +---RemoteDisconnected\n",
            "   |   |   +---LineTooLong\n",
            "   |   +---ParseBaseException\n",
            "   |   |   +---ParseException\n",
            "   |   |   +---ParseFatalException\n",
            "   |   |   |   +---ParseSyntaxException\n",
            "   |   +---RecursiveGrammarException\n",
            "   |   +---DuplicateConstraint\n",
            "   |   +---UnsatisfiableConstraint\n",
            "   |   +---UnknownConstraint\n",
            "   |   +---DuplicateEditVariable\n",
            "   |   +---UnknownEditVariable\n",
            "   |   +---BadRequiredStrength\n",
            "   |   +---NonGuiException\n",
            "   |   +---InvalidIndexError\n",
            "   |   +---TerminateTrajectory\n",
            "   |   +---DecompressionBombError\n",
            "   |   +---FFIError\n",
            "   |   +---CDefError\n",
            "   |   +---VerificationError\n",
            "   |   +---VerificationMissing\n",
            "   |   +---PkgConfigError\n",
            "   +---GeneratorExit\n",
            "   +---SystemExit\n",
            "   +---KeyboardInterrupt\n"
          ],
          "name": "stdout"
        }
      ]
    },
    {
      "cell_type": "markdown",
      "metadata": {
        "id": "ptsbZXKY0EvA"
      },
      "source": [
        "Este programa muestra todas las clases de las excepciónes predefinidas en forma de árbol.\n",
        "\n",
        "Como **un árbol es un ejemplo perfecto de una estructura de datos recursiva**, la recursión parece ser la mejor manera de recorrerlo. La función `printExcTree()` toma dos argumentos:\n",
        "\n",
        "- Un punto dentro del árbol desde el cual comenzamos a recorrerlo.\n",
        "-Un nivel de anidación (lo usaremos para construir un dibujo simplificado de las ramas del árbol).\n",
        "\n",
        "Comencemos desde la raíz del árbol: la raíz de las clases de excepciónes de Python es la clase `BaseException` (es una superclase de todas las demás excepciones).\n",
        "\n",
        "Para cada una de las clases encontradas, se realiza el mismo conjunto de operaciones:\n",
        "\n",
        "- Imprimir su nombre, tomado de la propiedad `__name__`.\n",
        "-Iterar a través de la lista de subclases provistas por el método `__subclasses__()`, e invocar recursivamente la función `printExcTree()`, incrementando el nivel de anidación respectivamente.\n",
        "\n",
        "Ten en cuenta cómo hemos dibujado las ramas. La impresión no está ordenada de alguna manera: si deseas un desafío, puedes intentar ordenarla tu mismo. Además, hay algunas imprecisiones sutiles en la forma en que se presentan algunas ramas. Eso también se puede arreglar, si lo deseas."
      ]
    },
    {
      "cell_type": "markdown",
      "metadata": {
        "id": "fkX5bNrD28-o"
      },
      "source": [
        "### Anatomía detallada de las excepciones"
      ]
    },
    {
      "cell_type": "markdown",
      "metadata": {
        "id": "o8A7OcOS2-Mq"
      },
      "source": [
        "Echemos un vistazo más de cerca al objeto de la excepción, ya que hay algunos elementos realmente interesantes aquí (volveremos al tema pronto cuando consideremos las técnicas base de entrada y salida de Python, ya que su subsistema de excepción extiende un poco estos objetos).\n",
        "\n",
        "La clase `BaseException` introduce una propiedad llamada `args`. Es una **tupla diseñada para reunir todos los argumentos pasados al constructor de la clase**. Está vacío si la construcción se ha invocado sin ningún argumento, o solo contiene un elemento cuando el constructor recibe un argumento (no se considera el argumento `self` aquí), y así sucesivamente.\n",
        "\n",
        "Hemos preparado una función simple para imprimir la propiedad `args` de una manera elegante, puedes ver la función en el editor."
      ]
    },
    {
      "cell_type": "code",
      "metadata": {
        "id": "M_xROutr3Btk",
        "colab": {
          "base_uri": "https://localhost:8080/"
        },
        "outputId": "1ce91f79-14ef-4500-a84c-263b824dc2b4"
      },
      "source": [
        "def printargs(args):\n",
        "\tlng = len(args)\n",
        "\tif lng == 0:\n",
        "\t\tprint(\"\")\n",
        "\telif lng == 1:\n",
        "\t\tprint(args[0])\n",
        "\telse:\n",
        "\t\tprint(str(args))\n",
        "\n",
        "try:\n",
        "\traise Exception\n",
        "except Exception as e:\n",
        "\tprint(e, e.__str__(), sep=' : ' ,end=' : ')\n",
        "\tprintargs(e.args)\n",
        "\n",
        "try:\n",
        "\traise Exception(\"mi excepción\")\n",
        "except Exception as e:\n",
        "\tprint(e, e.__str__(), sep=' : ', end=' : ')\n",
        "\tprintargs(e.args)\n",
        "\n",
        "try:\n",
        "\traise Exception(\"mi\", \"excepción\")\n",
        "except Exception as e:\n",
        "\tprint(e, e.__str__(), sep=' : ', end=' : ')\n",
        "\tprintargs(e.args)"
      ],
      "execution_count": null,
      "outputs": [
        {
          "output_type": "stream",
          "text": [
            " :  : \n",
            "mi excepción : mi excepción : mi excepción\n",
            "('mi', 'excepción') : ('mi', 'excepción') : ('mi', 'excepción')\n"
          ],
          "name": "stdout"
        }
      ]
    },
    {
      "cell_type": "markdown",
      "metadata": {
        "id": "pniYDHHA3DSC"
      },
      "source": [
        "Hemos utilizado la función para imprimir el contenido de la propiedad `args` en tres casos diferentes, donde la excepción de la clase `Exception` es lanzada de tres maneras distintas. Para hacerlo más espectacular, también hemos impreso el objeto en sí, junto con el resultado de la invocación `__str__()`.\n",
        "\n",
        "El primer caso parece de rutina, solo hay el nombre `Exception` despues de la palabra clave reservada `raise`. Esto significa que el objeto de esta clase se ha creado de la manera más rutinaria.\n",
        "\n",
        "El segundo y el tercer caso pueden parecer un poco extraños a primera vista, pero no hay nada extraño, son solo las invocaciones del constructor. En la segunda sentencia `raise`, el constructor se invoca con un argumento, y en el tercero, con dos."
      ]
    },
    {
      "cell_type": "markdown",
      "metadata": {
        "id": "7KYFWB-p4sht"
      },
      "source": [
        "### Cómo crear tu propia excepción"
      ]
    },
    {
      "cell_type": "markdown",
      "metadata": {
        "id": "QdFoJ1UU4t1p"
      },
      "source": [
        "La jerarquía de excepciones no está cerrada ni terminada, y siempre puedes ampliarla si deseas o necesitas crear tu propio mundo poblado con tus propias excepciones.\n",
        "\n",
        "Puede ser útil cuando se crea un módulo complejo que detecta errores y genera excepciones, y deseas que las excepciones se distingan fácilmente de cualquier otra de Python.\n",
        "\n",
        "Esto se puede hacer al **definir tus propias excepciones como subclases derivadas de las predefinidas**.\n",
        "\n",
        "Nota: si deseas crear una excepción que se utilizará como un caso especializado de cualquier excepción incorporada, derivala solo de esta. Si deseas construir tu propia jerarquía, y no quieres que esté estrechamente conectada al árbol de excepciones de Python, derivala de cualquiera de las clases de excepción principales, tal como: Exception.\n",
        "\n",
        "Imagina que has creado una aritmética completamente nueva, regida por sus propias leyes y teoremas. Está claro que la división también se ha redefinido, y tiene que comportarse de una manera diferente a la división de rutina. También está claro que esta nueva división debería plantear su propia excepción, diferente de la incorporada `ZeroDivisionError`, pero es razonable suponer que, en algunas circunstancias, tu (o el usuario de tu aritmética) pueden tratar todas las divisiones entre cero de la misma manera.\n",
        "\n",
        "Demandas como estas pueden cumplirse en la forma presentada en el editor."
      ]
    },
    {
      "cell_type": "code",
      "metadata": {
        "id": "7Tv_81do4ztH",
        "colab": {
          "base_uri": "https://localhost:8080/",
          "height": 85
        },
        "outputId": "e8927798-d770-46c0-c381-748bda19f77c"
      },
      "source": [
        "class MyZeroDivisionError(ZeroDivisionError):\t\n",
        "\tpass\n",
        "\n",
        "def doTheDivision(mine):\n",
        "\tif mine:\n",
        "\t\traise MyZeroDivisionError(\"peores noticias\")\n",
        "\telse:\t\t\n",
        "\t\traise ZeroDivisionError(\"malas noticias\")\n",
        "\n",
        "for mode in [False, True]:\n",
        "\ttry:\n",
        "\t\tdoTheDivision(mode)\n",
        "\texcept ZeroDivisionError:\n",
        "\t\tprint('División entre cero')\n",
        "\n",
        "\n",
        "for mode in [False, True]:\n",
        "\ttry:\n",
        "\t\tdoTheDivision(mode)\n",
        "\texcept MyZeroDivisionError:\n",
        "\t\tprint('Mi división entre cero')\n",
        "\texcept ZeroDivisionError:\n",
        "\t\tprint('División entre cero original')"
      ],
      "execution_count": null,
      "outputs": [
        {
          "output_type": "stream",
          "text": [
            "División entre cero\n",
            "División entre cero\n",
            "División entre cero original\n",
            "Mi división entre cero\n"
          ],
          "name": "stdout"
        }
      ]
    },
    {
      "cell_type": "markdown",
      "metadata": {
        "id": "s8kD9foP41LH"
      },
      "source": [
        "Analicemos:\n",
        "\n",
        "- Hemos definido nuestra propia excepción, llamada `MyZeroDivisionError`, derivada de la incorporada `ZeroDivisionError`. Como puedes ver, hemos decidido no agregar ningún componente nuevo a la clase.\n",
        "En efecto, una excepción de esta clase puede ser, dependiendo del punto de vista deseado, tratada como una simple excepción `ZeroDivisionError`, o puede ser considerada por separado.\n",
        "\n",
        "- La función `doTheDivision()` lanza una excepción `MyZeroDivisionError` o `ZeroDivisionError`, dependiendo del valor del argumento.\n",
        "La función se invoca cuatro veces en total, mientras que las dos primeras invocaciones se manejan utilizando solo una rama `except` (la más general), las dos últimas invocan dos ramas diferentes, capaces de distinguir las excepciones (no lo olvides: el orden de las ramas hace una diferencia fundamental).\n",
        "\n",
        "Cuando vas a construir un universo completamente nuevo lleno de criaturas completamente nuevas que no tienen nada en común con todas las cosas familiares, es posible que desees **construir tu propia estructura de excepciones**.\n",
        "\n",
        "Por ejemplo, si trabajas en un gran sistema de simulación destinado a modelar las actividades de un restaurante de pizza, puede ser conveniente formar una jerarquía de excepciones por separado.\n",
        "\n",
        "Puedes comenzar a construirla **definiendo una excepción general como una nueva clase base** para cualquier otra excepción especializada. Lo hemos hecho de la siguiente manera:"
      ]
    },
    {
      "cell_type": "code",
      "metadata": {
        "id": "7x6caw_y7BxS"
      },
      "source": [
        "class PizzaError(Exception):\n",
        "    def __init__(self, pizza, mensaje):\n",
        "        Exception.__init__(self,mensaje)\n",
        "        self.pizza = pizza"
      ],
      "execution_count": null,
      "outputs": []
    },
    {
      "cell_type": "markdown",
      "metadata": {
        "id": "WmnWnF0l7EmJ"
      },
      "source": [
        "Nota: vamos a recopilar más información específica aquí de lo que recopila una Excepción regular, entonces nuestro constructor tomará dos argumentos:\n",
        "\n",
        "- Uno que especifica una pizza como tema del proceso.\n",
        "-Otro que contiene una descripción más o menos precisa del problema.\n",
        "Como puedes ver, pasamos el segundo parámetro al constructor de la superclase y guardamos el primero dentro de nuestra propiedad.\n",
        "\n",
        "Un problema más específico (como un exceso de queso) puede requerir una excepción más específica. Es posible derivar la nueva clase de la ya definida `PizzaError`, como hemos hecho aquí:"
      ]
    },
    {
      "cell_type": "code",
      "metadata": {
        "id": "naI4FmFH7aYk"
      },
      "source": [
        "class DemasiadoQuesoError(PizzaError):\n",
        "    def __init__(self, pizza, queso, mensaje):\n",
        "        PizzaError._init__(self, pizza, mensaje)\n",
        "        self.queso = queso"
      ],
      "execution_count": null,
      "outputs": []
    },
    {
      "cell_type": "markdown",
      "metadata": {
        "id": "SnPMlpyb7err"
      },
      "source": [
        "La excepción `DemasiadoQuesoError` necesita más información que la excepción regular `PizzaError`, así que lo agregamos al constructor, el nombre `queso` es entonces almacenado para su posterior procesamiento.\n",
        "\n",
        "Mira el código en el editor. Combinamos las dos excepciones previamente definidas y las aprovechamos para que funcionen en un pequeño ejemplo."
      ]
    },
    {
      "cell_type": "code",
      "metadata": {
        "id": "_Ef3Rg0E7vo2",
        "colab": {
          "base_uri": "https://localhost:8080/"
        },
        "outputId": "55e57e3a-ca95-4f4d-b39a-4cd2db18c7db"
      },
      "source": [
        "class PizzaError(Exception):\n",
        "    def __init__(self, pizza, mensaje):\n",
        "        Exception.__init__(self, mensaje)\n",
        "        self.pizza = pizza\n",
        "\n",
        "class DemasiadoQuesoError(PizzaError):\n",
        "    def __init__(self, pizza, queso, mensaje):\n",
        "        PizzaError.__init__(self, pizza, mensaje)\n",
        "        #super().__init__(pizza, mensaje)\n",
        "        self.queso = queso\n",
        "\n",
        "def makePizza(pizza, queso):\n",
        "\tif pizza not in ['margherita', 'capricciosa', 'calzone']:\n",
        "\t\traise PizzaError(pizza, \"no hay tal pizza en el menú\")\n",
        "\tif queso > 100:\n",
        "\t\traise DemasiadoQuesoError(pizza, queso, \"demasiado queso\")\n",
        "\tprint(\"¡Pizza lista!\")\n",
        "\n",
        "for (pz, ch) in [('calzone', 0), ('margherita', 110), ('mafia', 20)]:\n",
        "\ttry:\n",
        "\t\tmakePizza(pz, ch)\n",
        "\texcept DemasiadoQuesoError as tmce:\n",
        "\t\tprint(tmce, ':', tmce.queso, '   pizza : ', tmce.pizza)\n",
        "\texcept PizzaError as pe:\n",
        "\t\tprint(pe, ':', pe.pizza)"
      ],
      "execution_count": null,
      "outputs": [
        {
          "output_type": "stream",
          "text": [
            "¡Pizza lista!\n",
            "demasiado queso : 110    pizza :  margherita\n",
            "no hay tal pizza en el menú : mafia\n"
          ],
          "name": "stdout"
        }
      ]
    },
    {
      "cell_type": "markdown",
      "metadata": {
        "id": "4LbrQk4C7wUp"
      },
      "source": [
        "Una de ellas es lanzada dentro de la función `hacerPizza()` cuando ocurra cualquiera de estas dos situaciones erróneas: una solicitud de pizza incorrecta o una solicitud de una pizza con demasiado queso.\n",
        "\n",
        "Nota:\n",
        "\n",
        "- El remover la rama que comienza con `except DemasiadoQuesoError` hará que todas las excepciones que aparecen se clasifiquen como `PizzaError`.\n",
        "-El remover la rama que comienza con `except PizzaError` provocará que la excepción `DemasiadoQuesoError` no pueda ser manejada, y hará que el programa finalice.\n",
        "\n",
        "La solución anterior, aunque elegante y eficiente, tiene una debilidad importante. Debido a la manera algo fácil de declarar los constructores, las nuevas excepciones no se pueden usar tal cual, sin una lista completa de los argumentos requeridos.\n",
        "\n",
        "Eliminaremos esta debilidad **estableciendo valores predeterminados para todos los parámetros del constructor**. Observa:"
      ]
    },
    {
      "cell_type": "code",
      "metadata": {
        "id": "I4HeLPiC9HzP",
        "colab": {
          "base_uri": "https://localhost:8080/"
        },
        "outputId": "f49a05cc-e2be-4f85-d3c8-f8728c22aa0c"
      },
      "source": [
        "class PizzaError(Exception):\n",
        "    def __init__(self, pizza='desconocida', mensaje=''):\n",
        "        Exception.__init__(self, mensaje)\n",
        "        self.pizza = pizza\n",
        "\n",
        "\n",
        "class DemasiadoQuesoError(PizzaError):\n",
        "    def __init__(self, pizza='desconocida', queso='>100', mensaje=''):\n",
        "        PizzaError.__init__(self, pizza, mensaje)\n",
        "        self.queso = queso\n",
        "\n",
        "\n",
        "def hacerPizza(pizza, queso):\n",
        "\tif pizza not in ['margherita', 'capricciosa', 'calzone']:\n",
        "\t\traise PizzaError\n",
        "\tif queso > 100:\n",
        "\t\traise DemasiadoQuesoError\n",
        "\tprint(\"¡Pizza lista!\")\n",
        "\n",
        "\n",
        "for (pz, ch) in [('calzone', 0), ('margherita', 110), ('mafia', 20)]:\n",
        "\ttry:\n",
        "\t\thacerPizza(pz, ch)\n",
        "\texcept DemasiadoQuesoError as tmce:\n",
        "\t\tprint(tmce, ':', tmce.queso)\n",
        "\texcept PizzaError as pe:\n",
        "\t\tprint(pe, ':', pe.pizza)"
      ],
      "execution_count": null,
      "outputs": [
        {
          "output_type": "stream",
          "text": [
            "¡Pizza lista!\n",
            " : >100\n",
            " : desconocida\n"
          ],
          "name": "stdout"
        }
      ]
    },
    {
      "cell_type": "markdown",
      "metadata": {
        "id": "1kreQa-69P3A"
      },
      "source": [
        "Ahora, si las circunstancias lo permiten, es posible usar unicamente los nombres de clase."
      ]
    },
    {
      "cell_type": "markdown",
      "metadata": {
        "id": "nzv85kp7mNkR"
      },
      "source": [
        "## 6.7 Generadores y cierres"
      ]
    },
    {
      "cell_type": "markdown",
      "metadata": {
        "id": "mP4tWxLrmaIN"
      },
      "source": [
        "### Generadores, dónde encontrarlos"
      ]
    },
    {
      "cell_type": "markdown",
      "metadata": {
        "id": "HdnxMykSY5NC"
      },
      "source": [
        "**Generador** - ¿Con qué asocias esta palabra? Quizás se refiere a algún dispositivo electrónico. O tal vez se refiere a una máquina pesada diseñada para producir energía eléctrica u otra cosa.\n",
        "\n",
        "Un generador de Python es un **fragmento de código especializado capaz de producir una serie de valores y controlar el proceso de iteración**. Esta es la razón por la cual los generadores a menudo se llaman **iteradores**, y aunque hay quienes pueden encontrar una diferencia entre estos dos, aquí los trataremos como uno mismo.\n",
        "\n",
        "Puede que no te hayas dado cuenta, pero te has topado con generadores muchas, muchas veces antes. Echa un vistazo al fragmento de código:"
      ]
    },
    {
      "cell_type": "code",
      "metadata": {
        "id": "5pMC1qH8-nYQ",
        "colab": {
          "base_uri": "https://localhost:8080/",
          "height": 102
        },
        "outputId": "c621be8e-d2ed-4c93-d374-d35f7bbed431"
      },
      "source": [
        "for i in range(5):\n",
        "    print(i)"
      ],
      "execution_count": null,
      "outputs": [
        {
          "output_type": "stream",
          "text": [
            "0\n",
            "1\n",
            "2\n",
            "3\n",
            "4\n"
          ],
          "name": "stdout"
        }
      ]
    },
    {
      "cell_type": "markdown",
      "metadata": {
        "id": "FfGySlp2ZO4q"
      },
      "source": [
        "La función `range()` es un generador, la cual también es un iterador.\n",
        "\n",
        "¿Cuál es la diferencia?\n",
        "\n",
        "Una función devuelve un valor bien definido, el cual, puede ser el resultado de una evaluación compleja, por ejemplo, de un polinomio, y se invoca una vez, solo una vez.\n",
        "\n",
        "Un generador **devuelve una serie de valores**, y en general, se invoca (implícitamente) más de una vez.\n",
        "\n",
        "En el ejemplo, el generador `range()` se invoca seis veces, proporcionando cinco valores de cero a cuatro.\n",
        "\n",
        "El proceso anterior es completamente transparente. Vamos a arrojar algo de luz sobre el. Vamos a mostrarte el **protocolo iterador**.\n",
        "\n",
        "El **protocolo iterador es una forma en que un objeto debe comportarse para ajustarse a las reglas impuestas por el contexto de las sentencias** `for` e `in`. Un objeto conforme al protocolo iterador se llama **iterador**.\n",
        "\n",
        "Un iterador debe proporcionar dos métodos:\n",
        "\n",
        "- `__iter__()` el cual debe **devolver el objeto en sí** y que se invoca una vez (es necesario para que Python inicie con éxito la iteración).\n",
        "- `__next__()` el cual debe **devolver el siguiente valor** (primero, segundo, etc.) de la serie deseada: será invocado por las sentencias `for`/`in` para pasar a la siguiente iteración; si no hay más valores a proporcionar, el método deberá **lanzar la excepción** `StopIteration`.\n",
        "\n",
        "¿Suena extraño? De ningúna manera. Mira el ejemplo en el editor."
      ]
    },
    {
      "cell_type": "code",
      "metadata": {
        "id": "TuC7N5xc-q9R",
        "colab": {
          "base_uri": "https://localhost:8080/",
          "height": 408
        },
        "outputId": "a3bcbcd3-f5bf-4d04-a1ad-7d3eab6e0543"
      },
      "source": [
        "class Fib:\n",
        "\tdef __init__(self, nn):\n",
        "\t\tprint(\"__init__\")\n",
        "\t\tself.__n = nn\n",
        "\t\tself.__i = 0\n",
        "\t\tself.__p1 = self.__p2 = 1\n",
        "\n",
        "\tdef __iter__(self):\n",
        "\t\tprint(\"__iter__\")\t\t\n",
        "\t\treturn self\n",
        "\n",
        "\tdef __next__(self):\n",
        "\t\tprint(\"__next__\")\t\t\t\t\n",
        "\t\tself.__i += 1\n",
        "\t\tif self.__i > self.__n:\n",
        "\t\t\traise StopIteration\n",
        "\t\tif self.__i in [1, 2]:\n",
        "\t\t\treturn 1\n",
        "\t\tret = self.__p1 + self.__p2\n",
        "\t\tself.__p1, self.__p2 = self.__p2, ret\n",
        "\t\treturn ret\n",
        "\n",
        "for i in Fib(10):\n",
        "\tprint(i)"
      ],
      "execution_count": null,
      "outputs": [
        {
          "output_type": "stream",
          "text": [
            "__init__\n",
            "__iter__\n",
            "__next__\n",
            "1\n",
            "__next__\n",
            "1\n",
            "__next__\n",
            "2\n",
            "__next__\n",
            "3\n",
            "__next__\n",
            "5\n",
            "__next__\n",
            "8\n",
            "__next__\n",
            "13\n",
            "__next__\n",
            "21\n",
            "__next__\n",
            "34\n",
            "__next__\n",
            "55\n",
            "__next__\n"
          ],
          "name": "stdout"
        }
      ]
    },
    {
      "cell_type": "markdown",
      "metadata": {
        "id": "7VoiuAgSazW9"
      },
      "source": [
        "El ejemplo muestra una solución donde **el objeto iterador es parte de una clase más compleja**.\n",
        "\n",
        "El código no es sofisticado, pero presenta el concepto de una manera clara.\n",
        "\n",
        "Echa un vistazo al código en el editor.\n",
        "\n",
        "Hemos puesto el iterador `Fib` dentro de otra clase (podemos decir que lo hemos compuesto dentro de la clase `Class`). Se instancia junto con el objeto de `Class`.\n",
        "\n",
        "El objeto de la clase se puede usar como un iterador cuando (y solo cuando) responde positivamente a la invocación `__iter__` - esta clase puede hacerlo, y si se invoca de esta manera, proporciona un objeto capaz de obedecer el protocolo de iteración.\n",
        "\n",
        "Es por eso que la salida del código es la misma que anteriormente, aunque el objeto de la clase `Fib` no se usa explícitamente dentro del contexto del bucle `for`."
      ]
    },
    {
      "cell_type": "code",
      "metadata": {
        "id": "QqUs8Lwm_4eH",
        "colab": {
          "base_uri": "https://localhost:8080/",
          "height": 170
        },
        "outputId": "833e1d24-ac84-4a2a-e0c9-159b05e00e3d"
      },
      "source": [
        "class Fib:\n",
        "\tdef __init__(self, nn):\n",
        "\t\tself.__n = nn\n",
        "\t\tself.__i = 0\n",
        "\t\tself.__p1 = self.__p2 = 1\n",
        "\n",
        "\tdef __iter__(self):\n",
        "\t\tprint(\"Fib iter\")\n",
        "\t\treturn self\n",
        "\n",
        "\tdef __next__(self):\n",
        "\t\tself.__i += 1\n",
        "\t\tif self.__i > self.__n:\n",
        "\t\t\traise StopIteration\n",
        "\t\tif self.__i in [1, 2]:\n",
        "\t\t\treturn 1\n",
        "\t\tret = self.__p1 + self.__p2\n",
        "\t\tself.__p1, self.__p2 = self.__p2, ret\n",
        "\t\treturn ret\n",
        "\n",
        "class Class:\n",
        "\tdef __init__(self, n):\n",
        "\t\tself.__iter = Fib(n)\n",
        "\n",
        "\tdef __iter__(self):\n",
        "\t\tprint(\"Class iter\")\n",
        "\t\treturn self.__iter;\n",
        "\n",
        "object = Class(8)\n",
        "\n",
        "for i in object:\n",
        "\tprint(i)"
      ],
      "execution_count": null,
      "outputs": [
        {
          "output_type": "stream",
          "text": [
            "Class iter\n",
            "1\n",
            "1\n",
            "2\n",
            "3\n",
            "5\n",
            "8\n",
            "13\n",
            "21\n"
          ],
          "name": "stdout"
        }
      ]
    },
    {
      "cell_type": "markdown",
      "metadata": {
        "id": "CRVxyM-YbUAZ"
      },
      "source": [
        "### La sentencia `yield`"
      ]
    },
    {
      "cell_type": "markdown",
      "metadata": {
        "id": "M-CK1-qJbX0o"
      },
      "source": [
        "El protocolo iterador no es difícil de entender y usar, pero también es indiscutible que **el protocolo es bastante inconveniente**.\n",
        "\n",
        "La principal molestia que tiene es que **necesita guardar el estado de la iteración en las invocaciones subsequentes de** `__iter__`.\n",
        "\n",
        "Por ejemplo, el iterador `Fib` se ve obligado a almacenar con precisión el lugar en el que se detuvo la última invocación (es decir, el número evaluado y los valores de los dos elementos anteriores). Esto hace que el código sea más grande y menos comprensible.\n",
        "\n",
        "Es por eso que Python ofrece una forma mucho más efectiva, conveniente y elegante de escribir iteradores.\n",
        "\n",
        "El concepto se basa fundamentalmente en un mecanismo muy específico proporcionado por la palabra clave reservada `yield`.\n",
        "\n",
        "Se puede ver a la palabra clave reservada `yield` como un hermano más inteligente de la sentencia `return`, con una diferencia esencial.\n",
        "\n",
        "Echa un vistazo a esta función:"
      ]
    },
    {
      "cell_type": "code",
      "metadata": {
        "id": "1KmRKjUiBLlB",
        "colab": {
          "base_uri": "https://localhost:8080/"
        },
        "outputId": "8c28ade8-6c89-4379-fce8-e983ee0f46b7"
      },
      "source": [
        "def fun(n):\n",
        "    for i in range(n):\n",
        "        return i\n",
        "fun(3)"
      ],
      "execution_count": null,
      "outputs": [
        {
          "output_type": "execute_result",
          "data": {
            "text/plain": [
              "0"
            ]
          },
          "metadata": {
            "tags": []
          },
          "execution_count": 5
        }
      ]
    },
    {
      "cell_type": "markdown",
      "metadata": {
        "id": "d9WOGfyEcAYh"
      },
      "source": [
        "Se ve extraño, ¿no? Está claro que el bucle `for` no tiene posibilidad de terminar su primera ejecución, ya que el `return` lo romperá irrevocablemente. Además, invocar la función no cambiará nada: el bucle `for` comenzará desde cero y se romperá inmediatamente.\n",
        "\n",
        "Podemos decir que dicha función no puede guardar y restaurar su estado en invocaciones posteriores. Esto también significa que una función como esta no se puede usar como generador. Hemos reemplazado exactamente una palabra en el código, ¿puedes verla?"
      ]
    },
    {
      "cell_type": "code",
      "metadata": {
        "id": "90RVX8UM_2ww",
        "colab": {
          "base_uri": "https://localhost:8080/"
        },
        "outputId": "e4b0ec52-9374-4e48-9a81-23be6341af3d"
      },
      "source": [
        "def fun(n):\n",
        "    for i in range(n):\n",
        "        yield i\n",
        "fun(3)"
      ],
      "execution_count": null,
      "outputs": [
        {
          "output_type": "execute_result",
          "data": {
            "text/plain": [
              "<generator object fun at 0x7f5a24cee570>"
            ]
          },
          "metadata": {
            "tags": []
          },
          "execution_count": 6
        }
      ]
    },
    {
      "cell_type": "markdown",
      "metadata": {
        "id": "XxjmEGt7ceMc"
      },
      "source": [
        "Hemos puesto `yield` en lugar de `return`. Esta pequeña enmienda **convierte la función en un generador**, y el ejecutar la sentencia `yield` tiene algunos efectos muy interesantes.\n",
        "\n",
        "En primer lugar, proporciona el valor de la expresión especificada después de la palabra clave reservada `yield`, al igual que `return`, pero no pierde el estado de la función.\n",
        "\n",
        "Todos los valores de las variables están congelados y esperan la próxima invocación, cuando se reanuda la ejecución (no desde cero, como ocurre después de un `return`).\n",
        "\n",
        "Hay una limitación importante: **dicha función no debe invocarse explícitamente** ya que no es una función; **es un objeto generador**. **La invocación devolverá el identificador del objeto**, no la serie que esperamos del generador.\n",
        "\n",
        "Debido a las mismas razones, la función anterior (la que tiene el `return`) solo se puede invocar explícitamente y no se debe usar como generador."
      ]
    },
    {
      "cell_type": "markdown",
      "metadata": {
        "id": "vn7K5ekCdKPN"
      },
      "source": [
        "### Construcción de un generador"
      ]
    },
    {
      "cell_type": "markdown",
      "metadata": {
        "id": "FMd1XyZqdNvm"
      },
      "source": [
        "Permítenos mostrarte el nuevo generador en acción. Así es como podemos usarlo:"
      ]
    },
    {
      "cell_type": "code",
      "metadata": {
        "id": "v_we_w01BbD5",
        "colab": {
          "base_uri": "https://localhost:8080/",
          "height": 102
        },
        "outputId": "3da6df09-1b47-4d84-e6a6-c8709e759f30"
      },
      "source": [
        "def fun(n):\n",
        "    for i in range(n):\n",
        "        yield i\n",
        "\n",
        "for v in fun(5):\n",
        "    print(v)"
      ],
      "execution_count": null,
      "outputs": [
        {
          "output_type": "stream",
          "text": [
            "0\n",
            "1\n",
            "2\n",
            "3\n",
            "4\n"
          ],
          "name": "stdout"
        }
      ]
    },
    {
      "cell_type": "markdown",
      "metadata": {
        "id": "E4tvrS_KdYDf"
      },
      "source": [
        "¿Qué pasa si necesitas un generador para producir las primeras n potencias de 2?"
      ]
    },
    {
      "cell_type": "code",
      "metadata": {
        "id": "yGWWFAMLBlxA",
        "colab": {
          "base_uri": "https://localhost:8080/",
          "height": 119
        },
        "outputId": "9fee1c3f-236b-4631-89b3-009df4fba96c"
      },
      "source": [
        "def potenciasDe2(n):\n",
        "    potencia = 1\n",
        "    for i in range(n):\n",
        "        print(i,\" potencia:\",potencia)\n",
        "        yield potencia\n",
        "        potencia *= 2\n",
        "\n",
        "for v in potenciasDe2(3):\n",
        "    print(v)"
      ],
      "execution_count": null,
      "outputs": [
        {
          "output_type": "stream",
          "text": [
            "0  potencia: 1\n",
            "1\n",
            "1  potencia: 2\n",
            "2\n",
            "2  potencia: 4\n",
            "4\n"
          ],
          "name": "stdout"
        }
      ]
    },
    {
      "cell_type": "markdown",
      "metadata": {
        "id": "-AjtLgwOCmhi"
      },
      "source": [
        "listaUno = []\n",
        "\n",
        "for ex in range(6):\n",
        "    listaUno.append(10 ** ex)\n",
        "\n",
        "\n",
        "listaDos = [10 ** ex for ex in range(6)]\n",
        "\n",
        "print(listaUno)\n",
        "print(listaDos)"
      ]
    },
    {
      "cell_type": "code",
      "metadata": {
        "id": "xsT38JPwCnIj",
        "colab": {
          "base_uri": "https://localhost:8080/",
          "height": 34
        },
        "outputId": "9ea225ff-0f3f-4fd2-f600-a5624b2f293a"
      },
      "source": [
        "lst = []\n",
        "\n",
        "for x in range(10):\n",
        "    lst.append(1 if x % 2 == 0 else 0)\n",
        "\n",
        "print(lst)"
      ],
      "execution_count": null,
      "outputs": [
        {
          "output_type": "stream",
          "text": [
            "[1, 0, 1, 0, 1, 0, 1, 0, 1, 0]\n"
          ],
          "name": "stdout"
        }
      ]
    },
    {
      "cell_type": "code",
      "metadata": {
        "id": "U6hiAOHtDB1_",
        "colab": {
          "base_uri": "https://localhost:8080/",
          "height": 34
        },
        "outputId": "c88424e1-cb53-4c41-bb1d-24c63f6837af"
      },
      "source": [
        "lst = [1 if x % 2 == 0 else 0 for x in range(10)]\n",
        "\n",
        "print(lst)"
      ],
      "execution_count": null,
      "outputs": [
        {
          "output_type": "stream",
          "text": [
            "[1, 0, 1, 0, 1, 0, 1, 0, 1, 0]\n"
          ],
          "name": "stdout"
        }
      ]
    },
    {
      "cell_type": "code",
      "metadata": {
        "id": "kbsDQwQxCnZx",
        "colab": {
          "base_uri": "https://localhost:8080/",
          "height": 102
        },
        "outputId": "d55ff4f8-d868-459b-d71e-b46008df6507"
      },
      "source": [
        "dos = lambda : 2\n",
        "cuadrado = lambda x : x * x\n",
        "potencia = lambda x, y : x ** y\n",
        "\n",
        "for a in range(-2, 3):\n",
        "    print(cuadrado(a), end=\" \")\n",
        "    print(potencia(a, dos()))"
      ],
      "execution_count": null,
      "outputs": [
        {
          "output_type": "stream",
          "text": [
            "4 4\n",
            "1 1\n",
            "0 0\n",
            "1 1\n",
            "4 4\n"
          ],
          "name": "stdout"
        }
      ]
    },
    {
      "cell_type": "code",
      "metadata": {
        "id": "9dp0flCVCni2",
        "colab": {
          "base_uri": "https://localhost:8080/",
          "height": 102
        },
        "outputId": "be5a565a-6dc2-42d8-9ad0-641245ac9ce7"
      },
      "source": [
        "def imprimirfuncion(args, fun):\n",
        "\tfor x in args:\n",
        "\t\tprint('f(', x,')=', fun(x), sep='')\n",
        "\n",
        "def poli(x):\n",
        "\treturn 2 * x**2 - 4 * x + 2\n",
        "\n",
        "imprimirfuncion([x for x in range(-2, 3)], poli)"
      ],
      "execution_count": null,
      "outputs": [
        {
          "output_type": "stream",
          "text": [
            "f(-2)=18\n",
            "f(-1)=8\n",
            "f(0)=2\n",
            "f(1)=0\n",
            "f(2)=2\n"
          ],
          "name": "stdout"
        }
      ]
    },
    {
      "cell_type": "markdown",
      "metadata": {
        "id": "eLjLivTUFDif"
      },
      "source": [
        "La función `map()` **aplica la función pasada por su primer argumento a todos los elementos de su segundo argumento y devuelve un iterador que entrega todos los resultados de funciones posteriores**. Puedes usar el iterador resultante en un bucle o convertirlo en una lista usando la función `list()`."
      ]
    },
    {
      "cell_type": "code",
      "metadata": {
        "id": "rPGeXxISBqL3",
        "colab": {
          "base_uri": "https://localhost:8080/",
          "height": 51
        },
        "outputId": "e77cff7f-7878-4910-afe2-e0f81c5334ee"
      },
      "source": [
        "lista1 = [x for x in range(5)]\n",
        "lista2 = list(map(lambda x: 2 ** x, lista1))\n",
        "print(lista2)\n",
        "for x in map(lambda x: x * x, lista2):\n",
        "\tprint(x, end=' ')\n",
        "print()"
      ],
      "execution_count": null,
      "outputs": [
        {
          "output_type": "stream",
          "text": [
            "[1, 2, 4, 8, 16]\n",
            "1 4 16 64 256 \n"
          ],
          "name": "stdout"
        }
      ]
    },
    {
      "cell_type": "code",
      "metadata": {
        "id": "iQlha3wzEQFR",
        "colab": {
          "base_uri": "https://localhost:8080/",
          "height": 51
        },
        "outputId": "eea8f628-4c01-4e01-a7a1-1e1e5c9d7668"
      },
      "source": [
        "from random import seed, randint\n",
        "\n",
        "seed()\n",
        "data = [ randint(-10,10) for x in range(5) ]\n",
        "filtered = list(filter(lambda x: x > 0 and x % 2 == 0, data))\n",
        "print(data)\n",
        "print(filtered)"
      ],
      "execution_count": null,
      "outputs": [
        {
          "output_type": "stream",
          "text": [
            "[4, 5, 1, -2, 6]\n",
            "[4, 6]\n"
          ],
          "name": "stdout"
        }
      ]
    },
    {
      "cell_type": "markdown",
      "metadata": {
        "id": "SJN1OH1CFr9h"
      },
      "source": [
        "Comencemos con una definición: **cierres es una técnica que permite almacenar valores a pesar de que el contexto en el que se crearon ya no existe**... ¿Complicado? Un poco."
      ]
    },
    {
      "cell_type": "code",
      "metadata": {
        "id": "JT3-hb-wGbUj",
        "colab": {
          "base_uri": "https://localhost:8080/",
          "height": 214
        },
        "outputId": "bcaf9147-a4c0-462b-bd71-a7c48cbbea47"
      },
      "source": [
        "def exterior(par):\n",
        "    loc = par\n",
        "\n",
        "var = 1\n",
        "exterior(var)\n",
        "\n",
        "print(var)\n",
        "print(loc)"
      ],
      "execution_count": null,
      "outputs": [
        {
          "output_type": "stream",
          "text": [
            "1\n"
          ],
          "name": "stdout"
        },
        {
          "output_type": "error",
          "ename": "NameError",
          "evalue": "ignored",
          "traceback": [
            "\u001b[0;31m---------------------------------------------------------------------------\u001b[0m",
            "\u001b[0;31mNameError\u001b[0m                                 Traceback (most recent call last)",
            "\u001b[0;32m<ipython-input-75-04d3ee83553b>\u001b[0m in \u001b[0;36m<module>\u001b[0;34m()\u001b[0m\n\u001b[1;32m      6\u001b[0m \u001b[0;34m\u001b[0m\u001b[0m\n\u001b[1;32m      7\u001b[0m \u001b[0mprint\u001b[0m\u001b[0;34m(\u001b[0m\u001b[0mvar\u001b[0m\u001b[0;34m)\u001b[0m\u001b[0;34m\u001b[0m\u001b[0;34m\u001b[0m\u001b[0m\n\u001b[0;32m----> 8\u001b[0;31m \u001b[0mprint\u001b[0m\u001b[0;34m(\u001b[0m\u001b[0mloc\u001b[0m\u001b[0;34m)\u001b[0m\u001b[0;34m\u001b[0m\u001b[0;34m\u001b[0m\u001b[0m\n\u001b[0m",
            "\u001b[0;31mNameError\u001b[0m: name 'loc' is not defined"
          ]
        }
      ]
    },
    {
      "cell_type": "code",
      "metadata": {
        "id": "boLXVzkmDKcO",
        "colab": {
          "base_uri": "https://localhost:8080/",
          "height": 34
        },
        "outputId": "24a72e38-f813-4340-9d47-2eeeac1474c6"
      },
      "source": [
        "def exterior(par):\n",
        "\tloc = par\n",
        "\tdef interior():\n",
        "\t\treturn loc\n",
        "\treturn interior\n",
        "\n",
        "var = 1\n",
        "fun = exterior(var)\n",
        "print(fun())"
      ],
      "execution_count": null,
      "outputs": [
        {
          "output_type": "stream",
          "text": [
            "1\n"
          ],
          "name": "stdout"
        }
      ]
    },
    {
      "cell_type": "markdown",
      "metadata": {
        "id": "juj3-IhwHE2b"
      },
      "source": [
        "Observa cuidadosamente:\n",
        "\n",
        "- La función `interior()` devuelve el valor de la variable accesible dentro de su alcance, ya que `interior()` puede utilizar cualquiera de las entidades a disposición de `exterior()`.\n",
        "-La función `exterior()` devuelve la función `interior()` por si misma; mejor dicho, devuelve una copia de la función `interior()` al momento de la invocación de la función `exterior()`; la función congelada contiene su entorno completo, incluido el estado de todas las variables locales, lo que también significa que el valor de `loc` se retiene con éxito, aunque `exterior()` ya ha dejado de existir.\n",
        "\n",
        "La función devuelta durante la invocación de `exterior()` es un **cierre**.\n",
        "\n",
        "**Un cierre se debe invocar exactamente de la misma manera en que se ha declarado**."
      ]
    },
    {
      "cell_type": "code",
      "metadata": {
        "id": "0LtyGRhJF0lB",
        "colab": {
          "base_uri": "https://localhost:8080/",
          "height": 102
        },
        "outputId": "df50525d-2624-45e9-b967-0171e2baa5a4"
      },
      "source": [
        "def crearcierre(par):\n",
        "\tloc = par\n",
        "\tdef potencia(p):\n",
        "\t\treturn p ** loc\n",
        "\treturn potencia\n",
        "\n",
        "fsqr = crearcierre(2)\n",
        "fcub = crearcierre(3)\n",
        "for i in range(5):\n",
        "\tprint(i, fsqr(i), fcub(i))"
      ],
      "execution_count": null,
      "outputs": [
        {
          "output_type": "stream",
          "text": [
            "0 0 0\n",
            "1 1 1\n",
            "2 4 8\n",
            "3 9 27\n",
            "4 16 64\n"
          ],
          "name": "stdout"
        }
      ]
    }
  ]
}