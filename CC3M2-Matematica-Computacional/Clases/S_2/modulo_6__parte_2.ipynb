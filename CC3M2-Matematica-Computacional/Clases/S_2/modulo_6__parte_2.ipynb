{
  "nbformat": 4,
  "nbformat_minor": 0,
  "metadata": {
    "colab": {
      "name": "modulo_6__parte-2.ipynb",
      "provenance": [],
      "collapsed_sections": [
        "1l1TG-vumale",
        "RHrzKPgomlsa",
        "ahLFYHd2YJay"
      ],
      "toc_visible": true
    },
    "kernelspec": {
      "name": "python3",
      "display_name": "Python 3"
    }
  },
  "cells": [
    {
      "cell_type": "markdown",
      "metadata": {
        "id": "Coulln9fwng3"
      },
      "source": [
        "# Módulo 6:\n",
        "## El Enfoque Orientado a Objetos: clases, métodos, objetos y sus características estándar: manejo de excepciones y trabajando con archivos."
      ]
    },
    {
      "cell_type": "markdown",
      "metadata": {
        "id": "1l1TG-vumale"
      },
      "source": [
        "## 6.8 Procesando archivos"
      ]
    },
    {
      "cell_type": "markdown",
      "metadata": {
        "id": "bJxpMGaAngI9"
      },
      "source": [
        "### Accediendo a archivos desde el código en Python"
      ]
    },
    {
      "cell_type": "markdown",
      "metadata": {
        "id": "21tGkmW-nlKR"
      },
      "source": [
        "Uno de los problemas más comunes en el trabajo del desarrollador es **procesar datos almacenados en archivos** que generalmente se almacenan físicamente utilizando dispositivos de almacenamiento: discos duros, ópticos, de red o de estado sólido.\n",
        "\n",
        "Es fácil imaginar un programa que clasifique 20 números, y es igualmente fácil imaginar que el usuario de este programa ingrese estos veinte números directamente desde el teclado. Es mucho más difícil imaginar la misma tarea cuando hay 20,000 números para ordenar, y no existe un solo usuario que pueda ingresar estos números sin cometer un error.\n",
        "\n",
        "Es mucho más fácil imaginar que estos números se almacenan en el archivo que lee el programa. El programa clasifica los números y no los envía a la pantalla, sino que crea un nuevo archivo y guarda la secuencia ordenada de números allí.\n",
        "\n",
        "Si queremos implementar una base de datos simple, la única forma de almacenar la información entre ejecuciones del programa es guardarla en un archivo (o archivos si tu base de datos es más compleja).\n",
        "\n",
        "Es un principio que cualquier problema de programación no simple se basa en el uso de archivos, ya sea que procese imágenes (almacenadas en archivos), multiplique matrices (almacenadas en archivos) o calcule salarios e impuestos (lectura de datos almacenados en archivos).\n",
        "\n",
        "Puedes preguntarte por qué hemos esperado hasta ahora para mostrarte esto. La respuesta es muy simple: la forma en que Python accede y procesa los archivos se implementa utilizando un conjunto consistente de objetos. No hay mejor momento para hablar de esto.\n"
      ]
    },
    {
      "cell_type": "markdown",
      "metadata": {
        "id": "jdOTXcbCn7WT"
      },
      "source": [
        "### Nombres de archivos"
      ]
    },
    {
      "cell_type": "markdown",
      "metadata": {
        "id": "q0DJl8wmn9XU"
      },
      "source": [
        "Los diferentes sistemas operativos pueden tratar a los archivos de diferentes maneras. Por ejemplo, Windows usa una convención de nomenclatura diferente a la adoptada en los sistemas Unix/Linux.\n",
        "\n",
        "Si utilizamos la noción de un nombre de archivo canónico (un nombre que define de forma exclusiva la ubicación del archivo, independientemente de su nivel en el árbol de directorios), podemos darnos cuenta de que estos nombres se ven diferentes en Windows y en Unix/Linux:\n",
        "\n",
        "Windows: \n",
        "`C:\\directory\\files`\n",
        "\n",
        "Linux:\n",
        "`/directoryfiles`\n",
        "\n",
        "Como puedes ver, los sistemas derivados de Unix/Linux no usan la letra de la unidad de disco, e.g., `C:` y todos los directorios crecen desde un directorio raíz llamado `/`, mientras que los sistemas Windows reconocen el directorio raíz como `\\`.\n",
        "\n",
        "Además, los nombres de archivo de sistemas Unix/Linux distinguen entre mayúsculas y minúsculas. Los sistemas Windows almacenan mayúsculas y minúsculas en el nombre del archivo, pero no distinguen entre ellas. Esto significa que estas dos cadenas:\n",
        "\n",
        "`EsteEsElNombreDelArchivo` y `esteeselnombredelarchivo`\n",
        "\n",
        "describen dos archivos diferentes en sistemas Unix/Linux, pero tienen el mismo nombre para un solo archivo en sistemas Windows.\n",
        "\n",
        "La diferencia principal y más llamativa es que debes usar **dos separadores diferentes para los nombres de directorio**: `\\` en Windows y `/` en Unix/Linux. Esta diferencia no **es muy importante para el usuario normal, pero es muy importante al escribir programas en Python**. Para entender por qué, intenta recordar el papel muy específico que desempeña `\\` dentro de las cadenas en Python.\n",
        "\n",
        "Supongamos que estás interesado en un archivo en particular ubicado en el directorio `dir`, y con el nombre de `archivo`. Supongamos también que deseas asignar a una cadena el nombre del archivo. \n",
        "\n",
        "En sistemas Unix/Linux, se ve de la siguiente manera:\n",
        "\n",
        "`nombre = \"/dir/archivo\"`\n",
        "\n",
        "Pero si intentas codificarlo para el sistema Windows:\n",
        "\n",
        "`nombre = \"\\dir\\archivo\"`\n",
        "\n",
        "obtendrás una sorpresa desagradable: Python generará un error o la ejecución del programa se comportará de manera extraña, como si el nombre del archivo se hubiera distorsionado de alguna manera.\n",
        "\n",
        "De hecho, no es extraño en lo absoluto, pero es bastante obvio y natural. Python usa la `\\` como un caracter de escape (como `\\n`). Esto significa que los nombres de archivo de Windows deben escribirse de la siguiente manera:\n",
        "\n",
        "`nombre = \"\\\\dir\\\\archivo\"`\n",
        "\n",
        "Afortunadamente, también hay una solución más. Python es lo suficientemente inteligente como para poder convertir diagonales en diagonales invertidas cada vez que descubre que el sistema operativo lo requiere. Esto significa que cualquiera de las siguientes asignaciones:\n",
        "\n",
        "`nombre = \"/dir/archivo\"\n",
        "nombre = \"c:/dir/archivo\"`\n",
        "\n",
        "funcionará también con Windows. Cualquier programa escrito en Python (y no solo en Python, porque esa convención se aplica a prácticamente todos los lenguajes de programación) no se comunica con los archivos directamente, sino a través de algunas entidades abstractas que se nombran de manera diferente en los distintos lenguajes o entornos, los términos más utilizados son **handles (un tipo de puntero inteligente) o streams (una especie de canal)** (los usaremos como sinónimos aquí).\n",
        "\n",
        "El programador, que tiene un conjunto de funciones y métodos, puede realizar ciertas operaciones en el stream, que afectan los archivos reales utilizando mecanismos contenidos en el núcleo del sistema operativo. De esta forma, puedes implementar el proceso de acceso a cualquier archivo, incluso cuando el nombre del archivo es desconocido al momento de escribir el programa.\n",
        "\n",
        "Las operaciones realizadas con el stream abstracto reflejan las actividades relacionadas con el archivo físico. Para conectar (vincular) el stream con el archivo, es necesario realizar una operación explícita. La operación de conectar un stream con un archivo es llamada **abrir el archivo**, mientras que desconectar el enlace se denomina **cerrar el archivo**.\n",
        "\n",
        "Por lo tanto, la conclusión es que la primera operación realizada en el stream es siempre `open` y la ultima es `close`. El programa, en efecto, es libre de manipular el stream entre estos dos eventos y manejar el archivo asociado.\n",
        "\n",
        "Esta libertad está limitada por las características físicas del archivo y la forma en que se abrió el archivo. Digamos nuevamente que la apertura del stream puede fallar, y puede ocurrir debido a varias razones: la más común es la falta de un archivo con un nombre específico.\n",
        "\n",
        "También puede suceder que el archivo físico exista, pero el programa no puede abrirlo. También existe el riesgo de que el programa haya abierto demasiados streams, y el sistema operativo específico puede no permitir la apertura simultánea de más de `n` archivos (por ejemplo, 200). Un programa bien escrito debe detectar estas aperturas fallidas y reaccionar en consecuencia."
      ]
    },
    {
      "cell_type": "markdown",
      "metadata": {
        "id": "jELsro9etDkf"
      },
      "source": [
        "### Streams para Archivos"
      ]
    },
    {
      "cell_type": "markdown",
      "metadata": {
        "id": "ADtEkPEDtFmV"
      },
      "source": [
        "La apertura del stream no solo está asociada con el archivo, sino que también se debe declarar la manera en que se procesará el stream. Esta declaración se llama un **open mode** (modo abierto).\n",
        "\n",
        "Si la apertura es exitosa, **el programa solo podrá realizar las operaciones que sean consistentes con el modo abierto declarado**. Hay dos operaciones básicas a realizar con el stream:\n",
        "\n",
        "- **Lectura** del stream: las porciones de los datos se recuperan del archivo y se colocan en un área de memoria administrada por el programa (por ejemplo, una variable).\n",
        "- **Escritura** del stream: Las porciones de los datos de la memoria (por ejemplo, una variable) se transfieren al archivo.\n",
        "\n",
        "Hay tres modos básicos utilizados para abrir un stream:\n",
        "\n",
        "- **Modo Lectura**: un stream abierto en este modo permite **solo operaciones de lectura**; intentar escribir en la transmisión provocará una excepción (la excepción se llama `UnsupportedOperation`, la cual hereda el `OSError` y el `ValueError`, y proviene del módulo `io`).\n",
        "- **Modo Escritura**: un stream abierto en este modo permite **solo operaciones de escritura**; intentar leer el stream provocará la excepción mencionada anteriormente.\n",
        "- **Modo Actualizar**: un stream abierto en este modo permite **tanto lectura como escritura**.\n",
        "\n",
        "Antes de discutir cómo manipular los streams, te debemos una explicación. **El stream se comporta casi como una grabadora**. Cuando lees algo de un stream, un cabezal virtual se mueve sobre la transmisión de acuerdo con el número de bytes transferidos desde el stream. Cuando escribes algo en el stream el mismo cabezal se mueve a lo largo del stream registrando los datos de la memoria.\n",
        "\n",
        "Siempre que hablemos de leer y escribir en el stream, trata de imaginar esta analogía. Los libros de programación se refieren a este mecanismo como la **posición actual del archivo**, aquí también usaremos este término.\n",
        "\n",
        "Ahora es necesario mostrarte el objeto responsable de representar los streams en los programas."
      ]
    },
    {
      "cell_type": "markdown",
      "metadata": {
        "id": "b2ZM3i8Oubx0"
      },
      "source": [
        "### Manejo de Archivos"
      ]
    },
    {
      "cell_type": "markdown",
      "metadata": {
        "id": "1n0hxjtr68_0"
      },
      "source": [
        "Python supone que **cada archivo está oculto detrás de un objeto de una clase adecuada**. Por supuesto, es difícil no preguntar cómo interpretar la palabra *adecuada*.\n",
        "\n",
        "Los archivos se pueden procesar de muchas maneras diferentes: algunos dependen del contenido del archivo, otros de las intenciones del programador.\n",
        "\n",
        "En cualquier caso, diferentes archivos pueden requerir diferentes conjuntos de operaciones y comportarse de diferentes maneras. Un objeto de una clase adecuada es **creado cuando abres el archivo y lo aniquilas al momento de cerrarlo**.\n",
        "\n",
        "Entre estos dos eventos, puedes usar el objeto para especificar qué operaciones se deben realizar en un stream en particular. Las operaciones que puedes usar están impuestas por **la forma en que abriste el archivo**.\n",
        "\n",
        "En general, el objeto proviene de una de las clases que se muestran aquí:"
      ]
    },
    {
      "cell_type": "markdown",
      "metadata": {
        "id": "QoxmWiAtueFd"
      },
      "source": [
        "![IOBase.png](data:image/png;base64,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)\n"
      ]
    },
    {
      "cell_type": "markdown",
      "metadata": {
        "id": "jxmR0eW-vzxO"
      },
      "source": [
        "N.B.: nunca se utiliza el constructor para dar vida a estos objetos. La unica forma de **obtenerlos es invocar la función llamada** `open()`. La función analiza los argumentos proporcionados y crea automáticamente el objeto requerido. Si deseas **deshacerte del objeto, invoca el método denominado** `close()`.\n",
        "\n",
        "La invocación cortará la conexión con el objeto y el archivo, y eliminará el objeto. Para nuestros propósitos, solo nos ocuparemos de los streams representados por los objetos `BufferIOBase` y `TextIOBase`. Entenderás por qué pronto.\n",
        "\n",
        "Debido al tipo de contenido de los streams, **todos se dividen en tipo texto y binario**.\n",
        "\n",
        "Los streams de texto están estructurados en líneas; es decir, contienen caracteres tipográficos (letras, dígitos, signos de puntuación, etc.) dispuestos en filas (líneas), como se ve a simple vista cuando se mira el contenido del archivo en el editor. Este tipo de archivo es escrito (o leído) principalmente carácter por carácter, o línea por línea.\n",
        "\n",
        "Los streams binarios no contienen texto, sino una secuencia de bytes de cualquier valor. Esta secuencia puede ser, por ejemplo, un programa ejecutable, una imagen, un audio o un videoclip, un archivo de base de datos, etc.\n",
        "\n",
        "Debido a que estos archivos no contienen líneas, las lecturas y escrituras se relacionan con porciones de datos de cualquier tamaño. Por lo tanto, los datos se leen y escriben byte a byte, o bloque a bloque, donde el tamaño del bloque generalmente varía de uno a un valor elegido arbitrariamente.\n",
        "\n",
        "Ahora viene un problema pequeño. En los sistemas Unix/Linux, los extremos de la línea están marcados por un solo carácter llamado `LF` (código ASCII 10) designado en los programas de Python como `\\n`. Otros sistemas operativos, especialmente los derivados del sistema prehistórico CP/M (que también aplica a los sistemas de la familia Windows) utilizan una convención diferente: el final de la línea está marcada por un par de caracteres, `CR` y `LF` (códigos ASCII 13 y 10) los cuales se puede codificar como `\\r\\n`.\n",
        "\n",
        "Esta ambigüedad puede causar varias consecuencias desagradables. Si creas un programa responsable de procesar un archivo de texto y está escrito para Windows, puedes reconocer los extremos de las líneas al encontrar los caracteres `\\r\\n`, pero si el mismo programa se ejecuta en un entorno Unix/Linux será completamente inútil, y viceversa: el programa escrito para sistemas Unix/Linux podría ser inútil en Windows.\n",
        "\n",
        "Estas características indeseables del programa, que impiden o dificultan el uso del programa en diferentes entornos, se denomina **falta de portabilidad**. Del mismo modo, el rasgo del programa que permite la ejecución en diferentes entornos se llama **portabilidad**. Un programa dotado de tal rasgo se llama **programa portable**.\n",
        "\n",
        "Dado que los problemas de portabilidad eran (y siguen siendo) muy graves, se tomó la decisión de resolver definitivamente el problema de una manera que no atraiga mucho la atención del desarrollador.\n",
        "\n",
        "Se realizó a nivel de clases, que son responsables de leer y escribir caracteres hacia y desde el stream. Funciona de la siguiente manera:\n",
        "\n",
        "- Cuando el stream está abierto y se recomienda que los datos en el archivo asociado se procesen como texto (o no existe tal aviso), se **cambia al modo texto**.\n",
        "\n",
        "- Durante la lectura y escritura de líneas desde y hacia el archivo asociado, no ocurre nada especial en el entorno Unix, pero cuando se realizan las mismas operaciones en el entorno Windows, un proceso llamado **traducción de caracteres de nueva línea** ocurre: cuando lees una línea del archivo, cada par de caracteres `\\r\\n` se reemplaza con un solo caracter `\\n`, y viceversa; durante las operaciones de escritura, cada caracter `\\n` se reemplaza con un par de caracteres `\\r\\n`.\n",
        "\n",
        "- El mecanismo es completamente **transparente** para el programa, el cual puede escribirse como si estuviera destinado a procesar archivos de texto Unix/Linux solamente; el código fuente ejecutado en un entorno Windows también funcionará correctamente.\n",
        "\n",
        "- Cuando el stream está abierto, su contenido se toma tal cual es, **sin ninguna conversión** - no se agregan, ni se omiten bytes.\n"
      ]
    },
    {
      "cell_type": "markdown",
      "metadata": {
        "id": "vLUWRe47C8lJ"
      },
      "source": [
        "### Abriendo los streams"
      ]
    },
    {
      "cell_type": "markdown",
      "metadata": {
        "id": "tCrQNVdpC_qs"
      },
      "source": [
        "El **abrir un stream** se realiza mediante una función que se puede invocar de la siguiente manera:\n",
        "\n",
        "`stream = open(file, mode = 'r', encoding = None)`\n",
        "\n",
        "Vamos a analizarlo:\n",
        "\n",
        "- El nombre de la función (`open`) habla por si mismo; si la apertura es exitosa, la función devuelve un objeto stream; de lo contrario, se genera una excepción (por ejemplo, `FileNotFoundError` **si el archivo que vas a leer no existe**).\n",
        "- El primer parámetro de la función (`file`) especifica el nombre del archivo que se asociará al stream.\n",
        "- El segundo parámetro (`mode`) especifica el modo de apertura utilizado para el stream; es una cadena llena de una secuencia de caracteres, y cada uno de ellos tiene su propio significado especial (más detalles pronto).\n",
        "- El tercer parámetro (`encoding`) especifica el tipo de codificación (por ejemplo, UTF-8 cuando se trabaja con archivos de texto).\n",
        "- La apertura debe ser la primera operación realizada en el stream.\n",
        "\n",
        "N.B.: el modo y los argumentos de codificación pueden omitirse; en dado caso, se tomarán sus valores predeterminados. El modo de apertura predeterminado es leer en modo de texto, mientras que la codificación predeterminada depende de la plataforma utilizada.\n",
        "\n",
        "Permítenos ahora presentarte los modos de apertura más importantes y útiles. ¿Listo?"
      ]
    },
    {
      "cell_type": "markdown",
      "metadata": {
        "id": "rFOO1LCzLzr6"
      },
      "source": [
        "### Abriendo los streams: modos"
      ]
    },
    {
      "cell_type": "markdown",
      "metadata": {
        "id": "RXpvEoIOL6gW"
      },
      "source": [
        "Modo de apertura `r`: lectura\n",
        "\n",
        "- El stream será abierto en **modo lectura**.\n",
        "- El archivo asociado con el stream **debe existir** y tiene que ser legible, de lo contrario la función `open()` lanzará una excepción.\n",
        "\n",
        "Modo de apertura `w`: escritura\n",
        "\n",
        "- El stream será abierto en **modo escritura**.\n",
        "- El archivo asociado con el stream **no necesita existir**. Si no existe, se creará; si existe, se truncará a la longitud de cero (se borrá); si la creación no es posible (por ejemplo, debido a los permisos del sistema) la función `open()` lanzará una excepción.\n",
        "\n",
        "Modo de apertura `a`: adjuntar\n",
        "\n",
        "- El stream será abierto en **modo adjuntar**.\n",
        "- El archivo asociado con el stream **no necesita existir**; si no existe, se creará; si existe, el cabezal de grabación virtual se establecerá al final del archivo (el contenido anterior del archivo permanece intacto).\n",
        "\n",
        "Modo de apertura `r+`: leer y actualizar\n",
        "\n",
        "- El stream será abierto en **modo leer y actualizar**.\n",
        "- El archivo asociado con el stream **debe existir y tiene que ser escribible**, de lo contrario la función `open()` lanzará una excepción.\n",
        "- Se permiten operaciones de lectura y escritura en el stream.\n",
        "\n",
        "Modo de apertura `w+`: escribir y actualizar\n",
        "\n",
        "- El stream será abierto en **modo escribir y actualizar**.\n",
        "- El archivo asociado con el stream **no necesita existir**; si no existe, se creará; el contenido anterior del archivo permanece intacto.\n",
        "- Se permiten operaciones de lectura y escritura en el stream."
      ]
    },
    {
      "cell_type": "markdown",
      "metadata": {
        "id": "PKB93C56KNYp"
      },
      "source": [
        "### Seleccionando modo de texto y modo binario"
      ]
    },
    {
      "cell_type": "markdown",
      "metadata": {
        "id": "PmjZ4hrQKPRT"
      },
      "source": [
        "Si hay una letra `b` al final de la cadena del modo significa que el stream se debe abrir en el **modo binario**. Si la cadena del modo termina con una letra `t` el stream es abierto en **modo texto**. El modo texto es el comportamiento predeterminado que se utiliza cuando no se especifica ya sea modo binario o texto.\n",
        "\n",
        "Finalmente, la apertura exitosa del archivo establecerá la posición actual del archivo (el cabezal virtual de lectura/escritura) antes del primer byte del archivo **si el modo no es** `a` y después del último byte del archivo **si el modo es** `a`.\n",
        "\n"
      ]
    },
    {
      "cell_type": "markdown",
      "metadata": {
        "id": "926DnXx1LD61"
      },
      "source": [
        "![Mode.png](data:image/png;base64,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)"
      ]
    },
    {
      "cell_type": "markdown",
      "metadata": {
        "id": "4goBEWacLHA1"
      },
      "source": [
        "También puedes abrir un archivo para su creación exclusiva. Puedes hacer esto usando el modo de apertura `x`. Si el archivo ya existe, la función `open()` lanzará una excepción."
      ]
    },
    {
      "cell_type": "markdown",
      "metadata": {
        "id": "_d9uFQsCNEC0"
      },
      "source": [
        "### Abriendo el stream por primera vez"
      ]
    },
    {
      "cell_type": "markdown",
      "metadata": {
        "id": "vSkxyl3mNG5W"
      },
      "source": [
        "Imagina que queremos desarrollar un programa que lea el contenido del archivo de texto llamado: `file.txt`. ¿Cómo abrir ese archivo para leerlo? Aquí está el fragmento del código:\n",
        "\n"
      ]
    },
    {
      "cell_type": "code",
      "metadata": {
        "id": "bnE2VgqLNvCC",
        "colab": {
          "base_uri": "https://localhost:8080/"
        },
        "outputId": "fe876f6c-446e-44f2-8fd4-da421aa184d3"
      },
      "source": [
        "try:\n",
        "    stream = open(\"file.txt\", \"rt\")\n",
        "    # aqui se procesa el archivo\n",
        "    stream.close()\n",
        "except Exception as exc:\n",
        "    print(\"No se puede abrir el archivo:\", exc)"
      ],
      "execution_count": null,
      "outputs": [
        {
          "output_type": "stream",
          "text": [
            "No se puede abrir el archivo: [Errno 2] No such file or directory: 'c.cpp'\n"
          ],
          "name": "stdout"
        }
      ]
    },
    {
      "cell_type": "markdown",
      "metadata": {
        "id": "kvRNxta2YhPO"
      },
      "source": [
        "¿Que está pasando aqui?\n",
        "\n",
        "- Hemos abierto el bloque try-except ya que queremos manejar los errores de tiempo de ejecución suavemente.\n",
        "- Se emplea la función `open()` para intentar abrir el archivo especificado (ten en cuenta la forma en que hemos especificado el nombre del archivo).\n",
        "- El modo de apertura se define como texto para leer (como **texto es la configuración predeterminada**, podemos omitir la `t` en la cadena de modo).\n",
        "- En caso de éxito obtenemos un objeto de la función `open()` y lo asignamos a la variable del stream.\n",
        "- Si `open()` falla, manejamos la excepción imprimiendo la información completa del error (es bueno saber qué sucedió exactamente)."
      ]
    },
    {
      "cell_type": "markdown",
      "metadata": {
        "id": "C8OBxaUNOBn4"
      },
      "source": [
        "### Streams pre-abiertos"
      ]
    },
    {
      "cell_type": "markdown",
      "metadata": {
        "id": "AWj3UPEKOCy1"
      },
      "source": [
        "Dijimos anteriormente que cualquier operación del stream debe estar precedida por la invocación de la función `open()`. Hay tres excepciones bien definidas a esta regla.\n",
        "\n",
        "Cuando comienza nuestro programa, los tres streams ya están abiertos y no requieren ninguna preparación adicional. Además, tu programa puede usar estos streams explícitamente si tienes cuidado de importar el módulo `sys`: `import sys`\n",
        "\n",
        "Porque ahí es donde se coloca la declaración de estos streams. Vamos a analizarlos:\n",
        "\n",
        "- `sys.stdin`\n",
        " - `stdin` (significa entrada estándar).\n",
        " -El stream `stdin` normalmente se asocia con el teclado, se abre previamente para la lectura y se considera como la fuente de datos principal para los programas en ejecución.\n",
        " -La función bien conocida `input()` lee datos de stdin por defecto.\n",
        "\n",
        "- `sys.stdout`\n",
        " - stdout (significa salida estándar).\n",
        " -El stream stdout normalmente está asociado con la pantalla, preabierta para escritura, considerada como el objetivo principal para la salida de datos por el programa en ejecución.\n",
        " -La función bien conocida `print()` envía los datos al stream stdout.\n",
        "\n",
        "- `sys.stderr`\n",
        " - `stderr` (significa salida de error estándar).\n",
        " - El stream `stderr` normalmente está asociado con la pantalla, preabierta para escribir, considerada como el lugar principal donde el programa en ejecución debe enviar información sobre los errores encontrados durante su trabajo.\n",
        " -No hemos presentado ningún método para enviar datos a este stream (lo haremos pronto, lo prometemos).\n",
        " -La separación de `stdout` (resultados útiles producidos por el programa) de `stderr` (mensajes de error, indudablemente útiles pero no proporcionan resultados) ofrece la posibilidad de redirigir estos dos tipos de información a los diferentes objetivos. Una discusión más extensa sobre este tema está más allá del alcance de nuestro curso. El manual del sistema operativo proporcionará más información sobre estos temas.\n",
        "\n",
        "\n"
      ]
    },
    {
      "cell_type": "markdown",
      "metadata": {
        "id": "MYNEY0y6PIl9"
      },
      "source": [
        "### Cerrando streams"
      ]
    },
    {
      "cell_type": "markdown",
      "metadata": {
        "id": "kx_i6HLeZtfz"
      },
      "source": [
        "La última operación realizada en un stream (esto no incluye a los streams `stdin`, `stdout`, y `stderr` pues no lo requieren) debe ser **cerrarlo**.\n",
        "\n",
        "Esa acción se realiza mediante un método invocado desde dentro del objeto del stream: `stream.close()`.\n",
        "\n",
        "- El nombre de la función es fácil de entender `close()`, es decir cerrar.\n",
        "- La función no espera argumentos; el stream no necesita estar abierto.\n",
        "- La función no devuelve nada pero lanza una excepción `IOError` en caso de un error.\n",
        "- La mayoría de los desarrolladores creen que la función `close()` siempre tiene éxito y, por lo tanto, no hay necesidad de verificar si ha realizado su tarea correctamente. Esta creencia está solo parcialmente justificada. Si el stream se abrió para escribir y luego se realizó una serie de operaciones de escritura, puede ocurrir que los datos enviados al stream aún no se hayan transferido al dispositivo físico (debido a los mecanismos de **cache** o **buffer**). Dado que el cierre del stream obliga a los búferes a descargarse, es posible que dichas descargas fallen y, por lo tanto, `close()` falle también.\n",
        "\n",
        "Ya hemos mencionado fallas causadas por funciones que operan con los streams, pero no mencionamos nada sobre cómo podemos identificar exactamente la causa de la falla. La posibilidad de hacer un diagnóstico existe y es proporcionada por uno de los componentes de excepción de los streams."
      ]
    },
    {
      "cell_type": "markdown",
      "metadata": {
        "id": "dN1Wi3V-aY3h"
      },
      "source": [
        "### Diagnosticando problemas con los streams"
      ]
    },
    {
      "cell_type": "markdown",
      "metadata": {
        "id": "P9U-Wp4Dadse"
      },
      "source": [
        "El objeto `IOError` está equipado con una propiedad llamada `errno` (el nombre viene de la frase *error number*, número de error) y puedes accederla de la siguiente manera:\n",
        "\n"
      ]
    },
    {
      "cell_type": "code",
      "metadata": {
        "id": "VSewCJCvPUSm",
        "colab": {
          "base_uri": "https://localhost:8080/",
          "height": 129
        },
        "outputId": "54251015-c88a-4534-fca2-ab17f3edb648"
      },
      "source": [
        "try:\n",
        "    # operaciones con streams\n",
        "except IOError as exc:\n",
        "    print(exc.errno)"
      ],
      "execution_count": null,
      "outputs": [
        {
          "output_type": "error",
          "ename": "IndentationError",
          "evalue": "ignored",
          "traceback": [
            "\u001b[0;36m  File \u001b[0;32m\"<ipython-input-78-1faffc9988a9>\"\u001b[0;36m, line \u001b[0;32m3\u001b[0m\n\u001b[0;31m    except IOError as exc:\u001b[0m\n\u001b[0m         ^\u001b[0m\n\u001b[0;31mIndentationError\u001b[0m\u001b[0;31m:\u001b[0m expected an indented block\n"
          ]
        }
      ]
    },
    {
      "cell_type": "markdown",
      "metadata": {
        "id": "qekxVfveaszS"
      },
      "source": [
        "El valor del atributo `errno` se puede comparar con una de las constantes simbólicas predefinidas en módulo `errno`. Echemos un vistazo a algunas **constantes seleccionadas útiles para detectar errores de flujo**:\n",
        "\n",
        "- `errno.EACCES` → Permiso denegado\n",
        "\n",
        " El error se produce cuando intentas, por ejemplo, abrir un archivo con atributos de solo lectura para abrirlo.\n",
        "\n",
        "- `errno.EBADF` → Número de archivo incorrecto\n",
        "\n",
        " El error se produce cuando intentas, por ejemplo, operar un stream sin abrirlo.\n",
        "\n",
        "- `errno.EEXIST` → Archivo existente\n",
        "\n",
        " El error se produce cuando intentas, por ejemplo, cambiar el nombre de un archivo con su nombre anterior.\n",
        "\n",
        "- `errno.EFBIG` → Archivo demasiado grande\n",
        "\n",
        " El error ocurre cuando intentas crear un archivo que es más grande que el máximo permitido por el sistema operativo.\n",
        "\n",
        "- `errno.EISDIR` → Es un directorio\n",
        "\n",
        " El error se produce cuando intentas tratar un nombre de directorio como el nombre de un archivo ordinario.\n",
        "\n",
        "- `errno.EMFILE` → Demasiados archivos abiertos\n",
        "\n",
        " El error se produce cuando intentas abrir simultáneamente más streams de los aceptables para el sistema operativo.\n",
        "\n",
        "- `errno.ENOENT` → El archivo o directorio no existe\n",
        "\n",
        " El error se produce cuando intentas acceder a un archivo o directorio inexistente.\n",
        "\n",
        "- `errno.ENOSPC` → no queda espacio en el dispositivo\n",
        "\n",
        " El error ocurre cuando no hay espacio libre en el dispositivo. \n",
        "\n",
        "La lista completa es mucho más larga (incluye también algunos códigos de error no relacionados con el procesamiento del stream). Si eres un programador muy cuidadoso, puedes sentir la necesidad de usar una secuencia de sentencias similar a la que se presenta a continuación:"
      ]
    },
    {
      "cell_type": "code",
      "metadata": {
        "id": "-72yec7RPcBF",
        "colab": {
          "base_uri": "https://localhost:8080/",
          "height": 34
        },
        "outputId": "6a77805d-2678-4b56-8dfa-a900eb9bd913"
      },
      "source": [
        "import errno\n",
        "try:\n",
        "    s = open(\"file.txt\", \"rt\")\n",
        "    # el procesamiento va aquí\n",
        "    s.close()\n",
        "except Exception as exc:\n",
        "    if exc.errno == errno.ENOENT:\n",
        "        print(\"El archivo no existe.\")\n",
        "    elif exc.errno == errno.EMFILE:\n",
        "        print(\"Has abierto demasiados archivos.\")\n",
        "    else:\n",
        "        printf(\"El número de error es:\", exc.errno)"
      ],
      "execution_count": null,
      "outputs": [
        {
          "output_type": "stream",
          "text": [
            "El archivo no existe.\n"
          ],
          "name": "stdout"
        }
      ]
    },
    {
      "cell_type": "markdown",
      "metadata": {
        "id": "XirzgWBabuf8"
      },
      "source": [
        "Afortunadamente, existe una función que puede **simplificar el código de manejo de errores**. Su nombre es `strerror()`, y proviene del módulo `os` y **espera solo un argumento: un número de error**. Su función es simple: proporciona un número de error y una cadena que describe el significado del error.\n",
        "\n",
        "N.B.: Si pasas un código de error inexistente (un número que no está vinculado a ningún error real), la función lanzará una excepción `ValueError`. Ahora podemos simplificar nuestro código de la siguiente manera:"
      ]
    },
    {
      "cell_type": "code",
      "metadata": {
        "id": "K3pwL6UcPrmB",
        "colab": {
          "base_uri": "https://localhost:8080/",
          "height": 34
        },
        "outputId": "22ae8264-0194-4517-f23b-701007252597"
      },
      "source": [
        "from os import strerror\n",
        "try:\n",
        "    s = open(\"file.txt\", \"rt\")\n",
        "    # el procesamiento va aquí\n",
        "    s.close()\n",
        "except Exception as exc:\n",
        "    print(\"El archivo no se pudo abrir:\", strerror(exc.errno));"
      ],
      "execution_count": null,
      "outputs": [
        {
          "output_type": "stream",
          "text": [
            "El archivo no se pudo abrir: No such file or directory\n"
          ],
          "name": "stdout"
        }
      ]
    },
    {
      "cell_type": "markdown",
      "metadata": {
        "id": "fFZPDalrcG93"
      },
      "source": [
        "Ahora es el momento de tratar con archivos de texto y familiarizarse con algunas técnicas básicas que puedes utilizar para procesarlos.\n",
        "\n"
      ]
    },
    {
      "cell_type": "markdown",
      "metadata": {
        "id": "RHrzKPgomlsa"
      },
      "source": [
        "## 6.9 Trabajando con archivos reales"
      ]
    },
    {
      "cell_type": "markdown",
      "metadata": {
        "id": "9zJVWOX-dqud"
      },
      "source": [
        "### Procesamiento de archivos de texto"
      ]
    },
    {
      "cell_type": "markdown",
      "metadata": {
        "id": "L1IrtsNudLD5"
      },
      "source": [
        "En esta lección vamos a preparar un archivo de texto simple con contenido breve y simple. Te mostraremos algunas técnicas básicas que puedes utilizar para leer el contenido del archivo para poder procesarlo.\n",
        "\n",
        "El procesamiento será muy simple: vas a copiar el contenido del archivo a la consola y contarás todos los caracteres que el programa ha leído.\n",
        "\n",
        "Pero recuerda: nuestra comprensión de un archivo de texto es muy estricta. Es un archivo de texto sin formato: puede contener solo texto, sin decoraciones adicionales (formato, diferentes fuentes, etc.)\n",
        "\n",
        "Es por eso que debes evitar crear el archivo utilizando un procesador de texto avanzado como MS Word, LibreOffice Writer o algo así. Utiliza los conceptos básicos que ofrece tu sistema operativo: Bloc de notas, vim, gedit, etc.\n",
        "\n",
        "Si tus archivos de texto contienen algunos caracteres nacionales no cubiertos por el juego de caracteres ASCII estándar, es posible que necesites un paso adicional. La invocación de tu función `open()` puede requerir un argumento que denote una codificación específica del texto.\n",
        "\n",
        "Por ejemplo, si estás utilizando un sistema operativo Unix/Linux configurado para usar UTF-8 como una configuración de todo el sistema, la función `open()` puede verse de la siguiente manera:"
      ]
    },
    {
      "cell_type": "code",
      "metadata": {
        "id": "JhOxglfZQCb7",
        "colab": {
          "base_uri": "https://localhost:8080/",
          "height": 197
        },
        "outputId": "36378145-48a2-4c79-c480-4551027c333d"
      },
      "source": [
        "stream = open(\"c.cpp\", \"rt\", encoding = \"utf-8\") # se abre el archivo tzop.txt en modo lectura, devolviéndolo como un objeto de archivo\n",
        "print(stream.read()) # se imprime el contenido del archivo"
      ],
      "execution_count": null,
      "outputs": [
        {
          "output_type": "error",
          "ename": "FileNotFoundError",
          "evalue": "ignored",
          "traceback": [
            "\u001b[0;31m---------------------------------------------------------------------------\u001b[0m",
            "\u001b[0;31mFileNotFoundError\u001b[0m                         Traceback (most recent call last)",
            "\u001b[0;32m<ipython-input-81-0005ced0008d>\u001b[0m in \u001b[0;36m<module>\u001b[0;34m()\u001b[0m\n\u001b[0;32m----> 1\u001b[0;31m \u001b[0mstream\u001b[0m \u001b[0;34m=\u001b[0m \u001b[0mopen\u001b[0m\u001b[0;34m(\u001b[0m\u001b[0;34m\"tzop.txt\"\u001b[0m\u001b[0;34m,\u001b[0m \u001b[0;34m\"rt\"\u001b[0m\u001b[0;34m,\u001b[0m \u001b[0mencoding\u001b[0m \u001b[0;34m=\u001b[0m \u001b[0;34m\"utf-8\"\u001b[0m\u001b[0;34m)\u001b[0m \u001b[0;31m# se abre el archivo tzop.txt en modo lectura, devolviéndolo como un objeto de archivo\u001b[0m\u001b[0;34m\u001b[0m\u001b[0;34m\u001b[0m\u001b[0m\n\u001b[0m\u001b[1;32m      2\u001b[0m \u001b[0mprint\u001b[0m\u001b[0;34m(\u001b[0m\u001b[0mstream\u001b[0m\u001b[0;34m.\u001b[0m\u001b[0mread\u001b[0m\u001b[0;34m(\u001b[0m\u001b[0;34m)\u001b[0m\u001b[0;34m)\u001b[0m \u001b[0;31m# se imprime el contenido del archivo\u001b[0m\u001b[0;34m\u001b[0m\u001b[0;34m\u001b[0m\u001b[0m\n",
            "\u001b[0;31mFileNotFoundError\u001b[0m: [Errno 2] No such file or directory: 'tzop.txt'"
          ]
        }
      ]
    },
    {
      "cell_type": "markdown",
      "metadata": {
        "id": "w4XYYImqd7lw"
      },
      "source": [
        "Donde el argumento de codificación debe establecerse en un valor dentro de una cadena que representa la codificación de texto adecuada (UTF-8, en este caso). Consulta la documentación de tu sistema operativo para encontrar el nombre de codificación adecuado para tu entorno.\n",
        "\n",
        "La lectura del contenido de un archivo de texto se puede realizar utilizando diferentes métodos; ninguno de ellos es mejor o peor que otro. Depende de ti cuál de ellos prefieres y te gusta. Algunos de ellos serán a veces más prácticos y otros más problemáticos. Sé flexible. No tengas miedo de cambiar tus preferencias.\n"
      ]
    },
    {
      "cell_type": "markdown",
      "metadata": {
        "id": "9VepWD8gXPtT"
      },
      "source": [
        "####`read()`"
      ]
    },
    {
      "cell_type": "markdown",
      "metadata": {
        "id": "L3pjc-5Sert3"
      },
      "source": [
        "\n",
        "El más básico de estos métodos es el que ofrece la función `read()`, la cual pudiste ver en acción en la lección anterior. Si se aplica a un archivo de texto, la función es capaz de:\n",
        "\n",
        "- Leer un número determinado de caracteres (incluso solo uno) del archivo y devolverlos como una cadena.\n",
        "- Leer todo el contenido del archivo y devolverlo como una cadena.\n",
        "- Si no hay nada más que leer (el cabezal de lectura virtual llega al final del archivo), la función devuelve una cadena vacía.\n",
        "\n",
        "Comenzaremos con la variante más simple y usaremos un archivo llamado `text.txt`. El archivo contiene lo siguiente:\n",
        "\n",
        "`Amar es la confianza plena de que pase lo que pase vas a estar, no porque me debas nada, no con posesión egoísta, sino estar, en silenciosa compañía.\n",
        "Amar es saber que no te cambia el tiempo, ni las tempestades, ni mis inviernos.\n",
        "Amar es darte un lugar en mi corazón para que te quedes como padre, madre, hermano, hijo, amigo y saber que en el tuyo hay un lugar para mí.`\n",
        "\n",
        "Ahora observa el siguiente código y analicémoslo."
      ]
    },
    {
      "cell_type": "code",
      "metadata": {
        "id": "af0zoKV_l0_0"
      },
      "source": [
        "from os import strerror\n",
        "\n",
        "try:\n",
        "    cnt = 0\n",
        "    s = open('text.txt', \"rt\")\n",
        "    ch = s.read(1)\n",
        "    while ch != '':\n",
        "        print(ch, end='')\n",
        "        cnt += 1\n",
        "        ch = s.read(1)\n",
        "    s.close()\n",
        "    print(\"\\n\\nCaracteres en el archivo: \", cnt)\n",
        "except IOError as e:\n",
        "    print(\"Se produjo un error de E/S: \", strerr(e.errno))"
      ],
      "execution_count": null,
      "outputs": []
    },
    {
      "cell_type": "markdown",
      "metadata": {
        "id": "JlPp0l1MQJ2Z"
      },
      "source": [
        "La rutina es bastante simple:\n",
        "\n",
        "- Se usa el mecanismo try-except y se abre el archivo con el nombre (`text.txt` en este caso).\n",
        "- Intenta leer el primer caracter del archivo (`ch = s.read(1)`).\n",
        "Si tienes éxito (esto se demuestra por el resultado positivo de la condición `while`), se muestra el caracter (nota el argumento `end=`,¡es importante! ¡No querrás saltar a una nueva línea después de cada caracter!).\n",
        "- Se actualiza el contador (`cnt`).\n",
        "- Intenta leer el siguiente carácter y el proceso se repite."
      ]
    },
    {
      "cell_type": "markdown",
      "metadata": {
        "id": "ukA4aNYMnwB8"
      },
      "source": [
        "Si estás absolutamente seguro de que la longitud del archivo es segura y puedes leer todo el archivo en la memoria de una vez, puedes hacerlo: la función `read()`, invocada sin ningún argumento o con un argumento que se evalúa a `None`, hará el trabajo por ti.\n",
        "\n",
        "Recuerda - **el leer un archivo muy grande (en terabytes) usando este método puede dañar tu sistema operativo**. No esperes milagros: la memoria de la computadora no se puede extender. \n",
        "\n",
        "Observa el siguiente código:"
      ]
    },
    {
      "cell_type": "code",
      "metadata": {
        "id": "cREVQreKL3on"
      },
      "source": [
        "from os import strerror\n",
        "\n",
        "try:\n",
        "    cnt = 0\n",
        "    s = open('text.txt', \"rt\")\n",
        "    content = s.read()\n",
        "    for ch in content:\n",
        "        print(ch, end='')\n",
        "        cnt += 1\n",
        "        ch = s.read(1)\n",
        "    s.close()\n",
        "    print(\"\\n\\nCaracteres en el archivo: \", cnt)\n",
        "except IOError as e:\n",
        "    print(\"Se produjo un error de E/S: \", strerr(e.errno))"
      ],
      "execution_count": null,
      "outputs": []
    },
    {
      "cell_type": "markdown",
      "metadata": {
        "id": "56i1l_5SL9na"
      },
      "source": [
        "Vamos a analizarlo:\n",
        "\n",
        "- Abre el archivo, como anteriormente se hizo.\n",
        "- Lee el contenido mediante una invocación de la función `read()`.\n",
        "- Despues, se procesa el texto, iterando con un bucle `for` su contenido, y se actualiza el valor del contador en cada vuelta del bucle.\n",
        "- El resultado será exactamente el mismo que en el ejemplo anterior."
      ]
    },
    {
      "cell_type": "markdown",
      "metadata": {
        "id": "gxA5Wz-PVvVN"
      },
      "source": [
        "#### `readline()`"
      ]
    },
    {
      "cell_type": "markdown",
      "metadata": {
        "id": "vcwxCw22MJSg"
      },
      "source": [
        "Si deseas manejar el contenido del archivo **como un conjunto de líneas**, no como un montón de caracteres, el método `readline()` te ayudará con eso.\n",
        "\n",
        "El método intenta **leer una línea completa de texto del archivo**, y la devuelve como una cadena en caso de éxito. De lo contrario, devuelve una cadena vacía.\n",
        "\n",
        "Esto abre nuevas oportunidades: ahora también puedes contar líneas fácilmente, no solo caracteres. Hagámos uso de ello. Observa el siguiente código:"
      ]
    },
    {
      "cell_type": "code",
      "metadata": {
        "id": "MJ4kH6GFSREn"
      },
      "source": [
        "from os import strerror\n",
        "\n",
        "try:\n",
        "    ccnt = lcnt = 0\n",
        "    s = open('text.txt', 'rt')\n",
        "    line = s.readline()\n",
        "    while line != '':\n",
        "        lcnt += 1\n",
        "        for ch in line:\n",
        "            print(ch, end='')\n",
        "            ccnt += 1\n",
        "        line = s.readline()\n",
        "    s.close()\n",
        "    print(\"\\n\\nCaracteres en el archivo: \", ccnt)\n",
        "    print(\"Lineas en el archivo:     \", lcnt)\n",
        "except IOError as e:\n",
        "    print(\"Se produjo un error de E/S: \", strerr(e.errno))"
      ],
      "execution_count": null,
      "outputs": []
    },
    {
      "cell_type": "markdown",
      "metadata": {
        "id": "PyOrTtLWRRqX"
      },
      "source": [
        "Como puedes ver, la idea general es exactamente la misma que en los dos ejemplos anteriores."
      ]
    },
    {
      "cell_type": "markdown",
      "metadata": {
        "id": "nOvOa_8MRXVD"
      },
      "source": [
        "#### `readlines()`"
      ]
    },
    {
      "cell_type": "markdown",
      "metadata": {
        "id": "LYVhXq0ySyFd"
      },
      "source": [
        "Otro método, que maneja el archivo de texto como un conjunto de líneas, no como caracteres, es `readlines()`. Cuando el método `readlines()`, se invoca sin argumentos, intenta **leer todo el contenido del archivo y devuelve una lista de cadenas, un elemento por línea del archivo**.\n",
        "\n",
        "Si no estás seguro de si el tamaño del archivo es lo suficientemente pequeño y no deseas probar el sistema operativo, puedes convencer al método `readlines()` de leer no más de un número especificado de bytes a la vez (el valor de retorno sigue siendo el mismo, es una lista de una cadena).\n",
        "\n",
        "Experimenta con el siguiente código para entender cómo funciona este método. **El tamaño máximo del búfer de entrada aceptado se pasa al método como argumento**."
      ]
    },
    {
      "cell_type": "code",
      "metadata": {
        "id": "WY4DmAXHSiGn"
      },
      "source": [
        "from os import strerror\n",
        "\n",
        "try:\n",
        "    ccnt = lcnt = 0\n",
        "    s = open('text.txt', 'rt')\n",
        "    lines = s.readlines(20)\n",
        "    while len(lines) != 0:\n",
        "        for line in lines:\n",
        "            lcnt += 1\n",
        "            for ch in line:\n",
        "                print(ch, end='')\n",
        "                ccnt += 1\n",
        "        lines = s.readlines(10)\n",
        "    s.close()\n",
        "    print(\"\\n\\nCaracteres en el archivo: \", ccnt)\n",
        "    print(\"Lineas en el archivo:     \", lcnt)\n",
        "except IOError as e:\n",
        "    print(\"Se produjo un error de E/S: \", strerr(e.errno))"
      ],
      "execution_count": null,
      "outputs": []
    },
    {
      "cell_type": "markdown",
      "metadata": {
        "id": "hXH-an2aTlu0"
      },
      "source": [
        "Puedes esperar que `readlines()` procese el contenido del archivo de manera más efectiva que `readline()`, ya que puede ser invocado menos veces. Puedes esperar que al aumentar el tamaño del búfer mejore el rendimiento de entrada, pero no hay una regla de oro para ello: intenta encontrar los valores óptimos por ti mismo.\n",
        "\n",
        "N.B.: cuando no hay nada que leer del archivo, el método devuelve una lista vacía. Úsalo para detectar el final del archivo.\n",
        "\n",
        "Hemos decidido usar un búfer de 15 bytes de longitud. No pienses que es una recomendación. Hemos utilizado ese valor para evitar la situación en la que la primera invocación de `readlines()` consuma todo el archivo.\n",
        "\n",
        "Queremos que el método se vea obligado a trabajar más duro y que demuestre sus capacidades. Existen **dos bucles anidados en el código**: el exterior emplea el resultado de `readlines()` para iterar a través de él, mientras que el interno imprime las líneas carácter por carácter."
      ]
    },
    {
      "cell_type": "markdown",
      "metadata": {
        "id": "ynbmNYoaX_ze"
      },
      "source": [
        "El último ejemplo que queremos presentar muestra un rasgo muy interesante del objeto devuelto por la función `open()` en modo de texto. Creemos que puede sorprenderte - **el objeto es una instancia de la clase iterable**.\n",
        "\n",
        "¿Extraño? De ningúna manera. ¿Usable? Sí, por supuesto. El **protocolo de iteración definido para el objeto del archivo** es muy simple: su método `__next__` solo **devuelve la siguiente línea leída del archivo**.\n",
        "\n",
        "Además, puedes esperar que el objeto invoque automáticamente a `close()` cuando cualquiera de las lecturas del archivo lleguen al final del archivo. Mira el siguiente código y ve cuán simple y claro se ha vuelto el código."
      ]
    },
    {
      "cell_type": "code",
      "metadata": {
        "id": "vy9uaU3yS8HX"
      },
      "source": [
        "from os import strerror\n",
        "\n",
        "try:\n",
        "\tccnt = lcnt = 0\n",
        "\tfor line in open('text.txt', 'rt'):\n",
        "\t\tlcnt += 1\n",
        "\t\tfor ch in line:\n",
        "\t\t\tprint(ch, end='')\n",
        "\t\t\tccnt += 1\n",
        "\tprint(\"\\n\\nCaracteres en el archivo: \", ccnt)\n",
        "\tprint(\"Lineas en el archivo:     \", lcnt)\n",
        "except IOError as e:\n",
        "\tprint(\"Se produjo un error de E/S: \", strerr(e.errno))"
      ],
      "execution_count": null,
      "outputs": []
    },
    {
      "cell_type": "markdown",
      "metadata": {
        "id": "5bFc6vzmZLu1"
      },
      "source": [
        "### Manejando archivos de texto\n"
      ]
    },
    {
      "cell_type": "markdown",
      "metadata": {
        "id": "A16MiAmwZN7B"
      },
      "source": [
        "Escribir archivos de texto parece ser más simple, ya que hay un método que puede usarse para realizar dicha tarea."
      ]
    },
    {
      "cell_type": "markdown",
      "metadata": {
        "id": "BjRRXEmtZSBz"
      },
      "source": [
        "#### `write()`"
      ]
    },
    {
      "cell_type": "markdown",
      "metadata": {
        "id": "jzmNRYelZZXU"
      },
      "source": [
        "El método se llama `write()` y espera solo un argumento: una cadena que se transferirá a un archivo abierto (no lo olvides), el modo de apertura debe reflejar la forma en que se transfieren los datos - **escribir en un archivo abierto en modo de lectura no tendrá éxito**.)\n",
        "\n",
        "No se agrega carácter de nueva línea al argumento de `write()`, por lo que debes agregarlo tú mismo si deseas que el archivo se complete con varias líneas.\n",
        "\n",
        "El siguiente ejemplo muestra un código muy simple que crea un archivo llamado `newtext.txt` (N.B.: el modo de apertura `w` asegura que **el archivo se creará desde cero**, incluso si existe y contiene datos) y luego pone diez líneas en él."
      ]
    },
    {
      "cell_type": "code",
      "metadata": {
        "id": "ZkuNh-DpTKWu"
      },
      "source": [
        "from os import strerror\n",
        "\n",
        "try:\n",
        "\tfo = open('newtext.txt', 'wt') #un nuevo archivo (newtext.txt) es creado\n",
        "\tfor i in range(10):\n",
        "\t\ts = \"línea #\" + str(i+1) + \"\\n\"\n",
        "\t\tfor ch in s:\n",
        "\t\t\tfo.write(ch)\n",
        "\tfo.close()\n",
        "except IOError as e:\n",
        "\tprint(\"Se produjo un error de E/S: \", strerr(e.errno))"
      ],
      "execution_count": null,
      "outputs": []
    },
    {
      "cell_type": "markdown",
      "metadata": {
        "id": "cB6AqVdFaE0m"
      },
      "source": [
        "La cadena que se grabará consta de la palabra línea, seguida del número de línea. Hemos decidido escribir el contenido de la cadena carácter por carácter (esto lo hace el bucle interno `for`) pero no estás obligado a hacerlo de esta manera. Solo queríamos mostrarte que `write()` puede operar con caracteres individuales.\n",
        "\n",
        "Mira, el siguiente ejemplo:"
      ]
    },
    {
      "cell_type": "code",
      "metadata": {
        "id": "djLEBgEwTcvj"
      },
      "source": [
        "from os import strerror\n",
        "\n",
        "try:\n",
        "\tfo = open('newtext.txt', 'wt')\n",
        "\tfor i in range(10):\n",
        "\t\tfo.write(\"line #\" + str(i+1) + \"\\n\")\n",
        "\tfo.close()\n",
        "except IOError as e:\n",
        "\tprint(\"Se produjo un error de E/S: \", strerr(e.errno))"
      ],
      "execution_count": null,
      "outputs": []
    },
    {
      "cell_type": "markdown",
      "metadata": {
        "id": "Rtp7Kl5EbtY9"
      },
      "source": [
        "Hemos modificado el código anterior para escribir líneas enteras en el archivo de texto. El contenido del archivo recién creado es el mismo.\n",
        "\n",
        "N.B.: puedes usar el mismo método para escribir en el stream `stderr`, pero no intentes abrirlo, ya que siempre está abierto implícitamente.\n",
        "\n",
        "Por ejemplo, si deseas enviar un mensaje de tipo cadena a `stderr` para distinguirlo de la salida normal del programa, puede verse así:\n",
        "\n"
      ]
    },
    {
      "cell_type": "code",
      "metadata": {
        "id": "lca8KnKRcDbz"
      },
      "source": [
        "import sys\n",
        "sys.stderr.write(\"Mensaje de Error\")"
      ],
      "execution_count": null,
      "outputs": []
    },
    {
      "cell_type": "markdown",
      "metadata": {
        "id": "S1fmqyuHP-HY"
      },
      "source": [
        "### La clase `bytearray`"
      ]
    },
    {
      "cell_type": "markdown",
      "metadata": {
        "id": "UhIKxU8JTznJ"
      },
      "source": [
        "Antes de comenzar a hablar sobre archivos binarios, tenemos que informarte sobre una de las **clases especializadas que Python usa para almacenar datos amorfos**.\n",
        "\n",
        "**Los datos amorfos son datos que no tienen forma específica** - son solo una serie de bytes. Esto no significa que estos bytes no puedan tener su propio significado o que no puedan representar ningún objeto útil, por ejemplo, gráficos de mapa de bits.\n",
        "\n",
        "Los datos amorfos no pueden almacenarse utilizando ninguno de los medios presentados anteriormente: no son cadenas ni listas. Debe haber un contenedor especial capaz de manejar dichos datos.\n",
        "\n",
        "**Python tiene más de un contenedor, uno de ellos es una clase especializada llamada bytearray** - como su nombre indica, es un **arreglo que contiene bytes (amorfos)**.\n",
        "\n",
        "Si deseas tener dicho contenedor, por ejemplo, para leer una imagen de mapa de bits y procesarla de alguna manera, debes crearlo explícitamente, utilizando uno de los constructores disponibles.\n",
        "\n",
        "Observa: `data = bytearray(10)`\n",
        "\n",
        "Tal invocación crea un objeto bytearray capaz de almacenar diez bytes.\n",
        "\n",
        "N.B.: dicho constructor **llena todo el arreglo con ceros**.\n",
        "\n",
        "Bytearrays se asemejan a listas en muchos aspectos. Por ejemplo, son **mutables**, son suceptibles a la función `len()`, y puedes acceder a cualquiera de sus elementos usando indexación convencional.\n",
        "\n",
        "Existe una limitación importante - **no debes establecer ningún elemento del arreglo de bytes con un valor que no sea un entero** (violar esta regla causará una excepción `TypeError`) y tampoco está permitido **asignar un valor fuera del rango de 0 a 255** (a menos que quieras provocar una excepción `ValueError`).\n",
        "\n",
        "Puedes **tratar cualquier elemento del arreglo de bytes como un valor entero** - al igual que en el siguiente ejemplo:"
      ]
    },
    {
      "cell_type": "code",
      "metadata": {
        "id": "pR7QcdsIUrmB",
        "colab": {
          "base_uri": "https://localhost:8080/",
          "height": 187
        },
        "outputId": "1b625ece-567e-48ea-b489-27103116a79a"
      },
      "source": [
        "data = bytearray(10)\n",
        "\n",
        "for i in range(len(data)):\n",
        "    data[i] = 10 - i\n",
        "\n",
        "for b in data:\n",
        "    print(hex(b))"
      ],
      "execution_count": null,
      "outputs": [
        {
          "output_type": "stream",
          "text": [
            "0xa\n",
            "0x9\n",
            "0x8\n",
            "0x7\n",
            "0x6\n",
            "0x5\n",
            "0x4\n",
            "0x3\n",
            "0x2\n",
            "0x1\n"
          ],
          "name": "stdout"
        }
      ]
    },
    {
      "cell_type": "markdown",
      "metadata": {
        "id": "btg3DhBEm2pg"
      },
      "source": [
        "N.B.: hemos utilizado dos métodos para iterar el arreglo de bytes, y hemos utilizado la función `hex()` para ver los elementos impresos como valores hexadecimales.\n",
        "\n",
        "Ahora te vamos a mostrar **cómo escribir un arreglo de bytes en un archivo binario**, como no queremos guardar su representación legible, queremos escribir una copia uno a uno del contenido de la memoria física, byte a byte. Observa el siguiente código:"
      ]
    },
    {
      "cell_type": "code",
      "metadata": {
        "id": "VIg8i3gYkM8L"
      },
      "source": [
        "from os import strerror\n",
        "\n",
        "data = bytearray(10)\n",
        "\n",
        "for i in range(len(data)):\n",
        "    data[i] = 10 + i\n",
        "\n",
        "try:\n",
        "    bf = open('file.bin', 'wb')\n",
        "    bf.write(data)\n",
        "    bf.close()\n",
        "except IOError as e:\n",
        "    print(\"Se produjo un error de E/S: \", strerr(e.errno))\n",
        "\n",
        "# ingresa aquí el código que lee los bytes del stream"
      ],
      "execution_count": null,
      "outputs": []
    },
    {
      "cell_type": "markdown",
      "metadata": {
        "id": "Ro2jFJkUdvB5"
      },
      "source": [
        "Analicémos:\n",
        "\n",
        "- Primero, inicializamos `bytearray` con valores a partir de `10`; si deseas que el contenido del archivo sea claramente legible, reemplaza el `10` con algo como `ord('a')`, esto producirá bytes que contienen valores correspondientes a la parte alfabética del código ASCII (no pienses que harás que el archivo sea un archivo de texto; sigue siendo binario, ya que se creó con un indicador - bandera `wb`).\n",
        "- Después, creamos el archivo usando la función `open()`, la única diferencia en comparación con las variantes anteriores es que el modo de apertura contiene el indicador `b`.\n",
        "- El método `write()` toma su argumento (`bytearray`) y lo envía (como un todo) al archivo.\n",
        "- El stream se cierra de forma rutinaria.\n",
        "\n",
        "El método `write()` devuelve la cantidad de bytes escritos correctamente. Si los valores difieren de la longitud de los argumentos del método, puede significar que hay algunos errores de escritura.\n",
        "\n",
        "En este caso, no hemos utilizado el resultado; esto puede no ser apropiado en todos los casos. Intenta ejecutar el código y analiza el contenido del archivo recién creado. Lo vas a usar en el siguiente paso."
      ]
    },
    {
      "cell_type": "markdown",
      "metadata": {
        "id": "vg0xli09fN1s"
      },
      "source": [
        "### Cómo leer bytes de un stream"
      ]
    },
    {
      "cell_type": "markdown",
      "metadata": {
        "id": "K_qHVg_efOvd"
      },
      "source": [
        "La lectura de un archivo binario requiere el uso de un método especializado llamado `readinto()`, ya que el método no crea un nuevo objeto del arreglo de bytes, sino que llena uno creado previamente con los valores tomados del archivo binario.\n",
        "\n",
        "N.B.:\n",
        "\n",
        "- El método devuelve el número de bytes leídos con éxito.\n",
        "- El método intenta llenar todo el espacio disponible dentro de su argumento; si existen más datos en el archivo que espacio en el argumento, la operación de lectura se detendrá antes del final del archivo; el resultado del método puede indicar que el arreglo de bytes solo se ha llenado de manera fragmentaria (el resultado también lo mostrará y la parte del arreglo que no está siendo utilizada por los contenidos recién leídos permanece intacta).\n",
        "\n",
        "Mira el código completo a continuación:"
      ]
    },
    {
      "cell_type": "code",
      "metadata": {
        "id": "BTyW-tatVs8u"
      },
      "source": [
        "from os import strerror\n",
        "\n",
        "data = bytearray(10)\n",
        "\n",
        "try:\n",
        "    bf = open('file.bin', 'rb')\n",
        "    bf.readinto(data)\n",
        "    bf.close()\n",
        "\n",
        "    for b in data:\n",
        "        print(hex(b), end=' ')\n",
        "except IOError as e:\n",
        "    print(\"Se produjo un error de E/S: \", strerr(e.errno))"
      ],
      "execution_count": null,
      "outputs": []
    },
    {
      "cell_type": "markdown",
      "metadata": {
        "id": "SsaTl7ycWeSw"
      },
      "source": [
        "Analicémos:\n",
        "\n",
        "- Primero, abrimos el archivo (el que se creó usando el código anterior) con el modo descrito como `rb`.\n",
        "- Luego, leemos su contenido en el arreglo de bytes llamado `data`, con un tamaño de diez bytes.\n",
        "- Finalmente, imprimimos el contenido del arreglo de bytes: ¿Son los mismos que esperabas?\n",
        "\n",
        "Se ofrece una forma alternativa de leer el contenido de un archivo binario mediante el método denominado `read()`.\n",
        "\n",
        "Invocado sin argumentos, **intenta leer todo el contenido del archivo en la memoria**, haciéndolo parte de un objeto recién creado de la clase bytes.\n",
        "\n",
        "Esta clase tiene algunas similitudes con `bytearray`, con la excepción de una diferencia significativa: es **immutable**.\n",
        "\n",
        "Afortunadamente, no hay obstáculos para crear un arreglo de bytes tomando su valor inicial directamente del objeto de bytes, como aquí:"
      ]
    },
    {
      "cell_type": "code",
      "metadata": {
        "id": "kGfnLAlvW42Y"
      },
      "source": [
        "from os import strerror\n",
        "\n",
        "try:\n",
        "    bf = open('file.bin', 'rb')\n",
        "    data = bytearray(bf.read())\n",
        "    bf.close()\n",
        "\n",
        "    for b in data:\n",
        "        print(hex(b), end=' ')\n",
        "\n",
        "except IOError as e:\n",
        "    print(\"Se produjo un error de E/S: \", strerr(e.errno))"
      ],
      "execution_count": null,
      "outputs": []
    },
    {
      "cell_type": "markdown",
      "metadata": {
        "id": "uc3NzOn_XFCw"
      },
      "source": [
        "Ten cuidado - **no utilices este tipo de lectura si no estás seguro de que el contenido del archivo se ajuste a la memoria disponible**.\n",
        "\n",
        "Si el método `read()` se invoca con un argumento, **se especifica el número máximo de bytes a leer**. El método intenta leer la cantidad deseada de bytes del archivo, y la longitud del objeto devuelto puede usarse para determinar la cantidad de bytes realmente leídos. Puedes usar el método como aquí:"
      ]
    },
    {
      "cell_type": "code",
      "metadata": {
        "id": "772BEx_wXXnA"
      },
      "source": [
        "try:\n",
        "    bf = open('file.bin', 'rb')\n",
        "    data = bytearray(bf.read(5))\n",
        "    bf.close()\n",
        "\n",
        "    for b in data:\n",
        "        print(hex(b), end=' ')\n",
        "\n",
        "except IOError as e:\n",
        "    print(\"Se produjo un error de E/S:\", strerr(e.errno))"
      ],
      "execution_count": null,
      "outputs": []
    },
    {
      "cell_type": "markdown",
      "metadata": {
        "id": "iKYjJq45YFdE"
      },
      "source": [
        "N.B.: los primeros cinco bytes del archivo han sido leídos por el código; los siguientes cinco todavía están esperando ser procesados."
      ]
    },
    {
      "cell_type": "markdown",
      "metadata": {
        "id": "ahLFYHd2YJay"
      },
      "source": [
        "### Copiando archivos: una herramienta simple y funcional"
      ]
    },
    {
      "cell_type": "markdown",
      "metadata": {
        "id": "bf4qk2ceYLHO"
      },
      "source": [
        "Ahora vas a juntar todo este nuevo conocimiento, agregarle algunos elementos nuevos y usarlo para escribir un código real que pueda copiar el contenido de un archivo.\n",
        "\n",
        "Por supuesto, el propósito no es crear un reemplazo para los comandos como copy de (MS Windows) o cp de (Unix/Linux) pero para ver una forma posible de crear una herramienta de trabajo, incluso si nadie quiere usarla.\n",
        "\n",
        "Observa el código en el editor. "
      ]
    },
    {
      "cell_type": "code",
      "metadata": {
        "id": "9FYwUbrnYSwT"
      },
      "source": [
        "from os import strerror\n",
        "\n",
        "srcname = input(\"¿Nombre del archivo fuente?: \")\n",
        "try:\n",
        "    src = open(srcname, 'rb')\n",
        "except IOError as e:\n",
        "    print(\"No se puede abrir archivo fuente: \", strerror(e.errno))\n",
        "    exit(e.errno)\t\n",
        "dstname = input(\"¿Nombre del archivo de destino?: \")\n",
        "try:\n",
        "    dst = open(dstname, 'wb')\n",
        "except Exception as e:\n",
        "    print(\"No se puede crear el archivo de destino: \", strerr(e.errno))\n",
        "    src.close()\n",
        "    exit(e.errno)\t\n",
        "\n",
        "buffer = bytearray(65536)\n",
        "total  = 0\n",
        "try:\n",
        "    readin = src.readinto(buffer)\n",
        "    while readin > 0:\n",
        "        written = dst.write(buffer[:readin])\n",
        "        total += written\n",
        "        readin = src.readinto(buffer)\n",
        "except IOError as e:\n",
        "    print(\"No se puede crear el archivo de destino: \", strerr(e.errno))\n",
        "    exit(e.errno)\t\n",
        "    \n",
        "print(total,'byte(s) escritos con éxito')\n",
        "src.close()\n",
        "dst.close()"
      ],
      "execution_count": null,
      "outputs": []
    },
    {
      "cell_type": "markdown",
      "metadata": {
        "id": "SktLAx5EYTZI"
      },
      "source": [
        "Analicemos:\n",
        "\n",
        "- Las líneas 3 a la 8: solicitan al usuario el nombre del archivo a copiar e intentan abrirlo para leerlo; se termina la ejecución del programa si falla la apertura; nota: emplea la función `exit()` para detener la ejecución del programa y pasar el código de finalización al sistema operativo; cualquier código de finalización que no sea `0` significa que el programa ha encontrado algunos problemas; se debe utilizar el valor `errno` para especificar la naturaleza del problema.\n",
        "-Las líneas 9 a la 15: repiten casi la misma acción, pero esta vez para el archivo de salida.\n",
        "-La línea 17: prepara una parte de memoria para transferir datos del archivo fuente al destino; Tal área de transferencia a menudo se llama un búfer, de ahí el nombre de la variable; el tamaño del búfer es arbitrario; en este caso, decidimos usar 64 kilobytes; técnicamente, un búfer más grande es más rápido al copiar elementos, ya que un búfer más grande significa menos operaciones de E/S; en realidad, siempre hay un límite, cuyo cruce no genera más ventajas; pruébalo tú mismo si quieres.\n",
        "-Línea 18: cuenta los bytes copiados: este es el contador y su valor inicial.\n",
        "-Línea 20: intenta llenar el búfer por primera vez.\n",
        "-Línea 21: mientras se obtenga un número de bytes distinto de cero, repite las mismas acciones.\n",
        "-Línea 22: escribe el contenido del búfer en el archivo de salida (nota: hemos usado un segmento para limitar la cantidad de bytes que se escriben, ya que `write()` siempre prefiero escribir todo el búfer).\n",
        "-Línea 23: actualiza el contador.\n",
        "-Línea 24: lee el siguiente fragmento de archivo.\n",
        "-Las líneas 29 a la 31: limpieza final: el trabajo está hecho."
      ]
    }
  ]
}