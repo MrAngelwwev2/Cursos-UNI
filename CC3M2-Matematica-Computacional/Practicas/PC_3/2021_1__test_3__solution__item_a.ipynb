{
  "nbformat": 4,
  "nbformat_minor": 0,
  "metadata": {
    "colab": {
      "name": "2021-1__test_3__solution__item_a.ipynb",
      "provenance": [],
      "collapsed_sections": []
    },
    "kernelspec": {
      "name": "python3",
      "display_name": "Python 3"
    },
    "language_info": {
      "name": "python"
    }
  },
  "cells": [
    {
      "cell_type": "markdown",
      "metadata": {
        "id": "85DoVKm8_T_0"
      },
      "source": [
        "# Test 3 - solution"
      ]
    },
    {
      "cell_type": "code",
      "metadata": {
        "id": "R-7UR7cNAVgV"
      },
      "source": [
        "import numpy as np\n",
        "import sympy as sym\n",
        "import matplotlib.pyplot as plt"
      ],
      "execution_count": null,
      "outputs": []
    },
    {
      "cell_type": "markdown",
      "metadata": {
        "id": "Qa4CkBL4KTSs"
      },
      "source": [
        "## Question 1 (b) (to be display in final exam)"
      ]
    },
    {
      "cell_type": "markdown",
      "metadata": {
        "id": "y7Iysclw_WLO"
      },
      "source": [
        "## Question 1 (c)"
      ]
    },
    {
      "cell_type": "code",
      "metadata": {
        "colab": {
          "base_uri": "https://localhost:8080/"
        },
        "id": "Eyg9mB15_aqT",
        "outputId": "ebefaee7-4dfe-4bf1-cf26-ff96a86569b6"
      },
      "source": [
        "import numpy as np\n",
        "from scipy.optimize import linprog\n",
        "\n",
        "A = np.array([[1,0],\n",
        "              [0,1],\n",
        "              [-1,0],\n",
        "              [0,-1],\n",
        "              [40,50]])\n",
        "b = np.array([15,10,-5,-5,1000])\n",
        "c = -np.array([160,345])\n",
        "\n",
        "res = linprog(c,A,b,bounds=(0,None),method='simplex')\n",
        "print(\"x = \",res.x)\n",
        "print(\"Max = \",-res.fun)"
      ],
      "execution_count": null,
      "outputs": [
        {
          "output_type": "stream",
          "text": [
            "x =  [12.5 10. ]\n",
            "Max =  5450.0\n"
          ],
          "name": "stdout"
        }
      ]
    },
    {
      "cell_type": "markdown",
      "metadata": {
        "id": "tzCu0rG2A1mo"
      },
      "source": [
        "## Question 2 (b) (to be display in final exam)"
      ]
    },
    {
      "cell_type": "markdown",
      "metadata": {
        "id": "cXiJB8H6YgI_"
      },
      "source": [
        "## Question 2 (c)"
      ]
    },
    {
      "cell_type": "code",
      "metadata": {
        "colab": {
          "base_uri": "https://localhost:8080/"
        },
        "id": "3MwYm-giYl3a",
        "outputId": "dbc1cd42-e5a7-48d3-989f-04857040b5b5"
      },
      "source": [
        "import numpy as np\n",
        "from scipy.optimize import linprog\n",
        "\n",
        "A = np.array([[1,1],\n",
        "              [0.04,0.18],\n",
        "              [0.1,0.32],\n",
        "              [0.22,0]])\n",
        "b = np.array([5000,1008,1008,1008])\n",
        "c = -np.array([17.5,32.5])\n",
        "\n",
        "res = linprog(c,A,b,bounds=(0,None),method='simplex')\n",
        "print(\"[w,d] = \",res.x)\n",
        "print(\"Max = \",-res.fun)"
      ],
      "execution_count": null,
      "outputs": [
        {
          "output_type": "stream",
          "text": [
            "[w,d] =  [2690.90909091 2309.09090909]\n",
            "Max =  122136.36363636363\n"
          ],
          "name": "stdout"
        }
      ]
    },
    {
      "cell_type": "markdown",
      "metadata": {
        "id": "fUOpwIY9Y1TQ"
      },
      "source": [
        "## Question 2 (d) and (e) (to be display in final exam)"
      ]
    }
  ]
}