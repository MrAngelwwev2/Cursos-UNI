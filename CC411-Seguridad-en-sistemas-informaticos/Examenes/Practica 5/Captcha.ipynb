{
 "cells": [
  {
   "cell_type": "markdown",
   "metadata": {},
   "source": [
    "**PRÁCTICA 5 - PROBLEMAS DE SEGURIDAD Y DISEÑO DE CAPTCHA**\n",
    "\n",
    "**NOMBRES Y APELLIDOS:** Angel Vidal Larreategui Castro\n",
    "\n",
    "**CÓDIGO:** 20171385I"
   ]
  },
  {
   "cell_type": "markdown",
   "metadata": {},
   "source": [
    "Vamos a instalar la librería captcha para poder generar tanto CAPTCHAS en imágenes como en audio."
   ]
  },
  {
   "cell_type": "code",
   "execution_count": 16,
   "metadata": {},
   "outputs": [
    {
     "name": "stdout",
     "output_type": "stream",
     "text": [
      "Requirement already satisfied: captcha in c:\\users\\usuario\\appdata\\local\\programs\\python\\python39\\lib\\site-packages (0.3)\n",
      "Requirement already satisfied: Pillow in c:\\users\\usuario\\appdata\\local\\programs\\python\\python39\\lib\\site-packages (from captcha) (8.4.0)\n"
     ]
    }
   ],
   "source": [
    "!pip install captcha"
   ]
  },
  {
   "cell_type": "markdown",
   "metadata": {},
   "source": [
    "**CAPTCHA EN IMÁGENES**"
   ]
  },
  {
   "cell_type": "markdown",
   "metadata": {},
   "source": [
    "Para poder haber realizado estos tipos de CAPTCHA lo que se hizo primero se importaron las librerías que se muestran abajo `from captcha.image import ImageCaptcha`. Luego se procedió a crear una instancia imagen que tenga las dimensiones que se muestran en la celda de abajo para que luego, en la instancia texto el usuario pueda generar el texto a volverlo una imagen CAPTCHA. En la variable `imagen_archivo` vamos a generar la imagen a partir del texto que se ingresó para luego guardar la imagen con la siguient estructura: `imagenTEXTO.png`."
   ]
  },
  {
   "cell_type": "code",
   "execution_count": 18,
   "metadata": {},
   "outputs": [],
   "source": [
    "from captcha.image import ImageCaptcha\n",
    "texto = input(\"Ingrese un texto para generar su imagen captcha: \")\n",
    "imagen = ImageCaptcha(width=280, height=90)\n",
    "data1 = imagen.generate(texto)\n",
    "imagen_archivo = \"imagen\"+texto+'.png'\n",
    "imagen.write(texto, imagen_archivo)"
   ]
  },
  {
   "cell_type": "markdown",
   "metadata": {},
   "source": [
    "**CAPTCHA EN AUDIO**"
   ]
  },
  {
   "cell_type": "markdown",
   "metadata": {},
   "source": [
    "Para la realización del siguiente código, se importaron los módulos `from captcha.audio import AudioCaptcha`. En la variable `audio` es la instancia de audio creada, mientras que en la instancia `captcha_texto` vamos a guardar el texto que queremos convertir a audio. Generamos el audio a partir del texto dado en `audio_data` y el audio generado se guardará siguiendo esta estructura: `audioCAPTCHA_TEXTO.wav` "
   ]
  },
  {
   "cell_type": "code",
   "execution_count": 19,
   "metadata": {},
   "outputs": [
    {
     "data": {
      "text/plain": [
       "95866"
      ]
     },
     "execution_count": 19,
     "metadata": {},
     "output_type": "execute_result"
    }
   ],
   "source": [
    "from captcha.audio import AudioCaptcha\n",
    "audio = AudioCaptcha() \n",
    "captcha_texto = \"2021\"\n",
    "audio_data = audio.generate(captcha_texto)\n",
    "audio_archivo = \"audio\"+captcha_texto+'.wav'\n",
    "audio.write(captcha_texto, audio_archivo)"
   ]
  }
 ],
 "metadata": {
  "interpreter": {
   "hash": "2e3c1e8da6e821b0193601da5a0e541c0efda9704da45b6b820f5f4c317f2def"
  },
  "kernelspec": {
   "display_name": "Python 3.9.6 64-bit",
   "language": "python",
   "name": "python3"
  },
  "language_info": {
   "codemirror_mode": {
    "name": "ipython",
    "version": 3
   },
   "file_extension": ".py",
   "mimetype": "text/x-python",
   "name": "python",
   "nbconvert_exporter": "python",
   "pygments_lexer": "ipython3",
   "version": "3.9.6"
  },
  "orig_nbformat": 4
 },
 "nbformat": 4,
 "nbformat_minor": 2
}
